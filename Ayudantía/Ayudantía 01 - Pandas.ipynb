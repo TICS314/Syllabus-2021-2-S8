{
  "nbformat": 4,
  "nbformat_minor": 0,
  "metadata": {
    "kernelspec": {
      "display_name": "Python 3",
      "language": "python",
      "name": "python3"
    },
    "language_info": {
      "codemirror_mode": {
        "name": "ipython",
        "version": 3
      },
      "file_extension": ".py",
      "mimetype": "text/x-python",
      "name": "python",
      "nbconvert_exporter": "python",
      "pygments_lexer": "ipython3",
      "version": "3.9.5"
    },
    "colab": {
      "name": "Ayudantía 01 - Pandas.ipynb",
      "provenance": []
    }
  },
  "cells": [
    {
      "cell_type": "markdown",
      "metadata": {
        "id": "dWTYI__r1SqE"
      },
      "source": [
        "# Ayudantía 01 - Pandas\n",
        "\n",
        "En esta primera ayudantía aprenderemos técnicas para limpiar, modificar y presentar datasets de mejor manera con pandas."
      ]
    },
    {
      "cell_type": "markdown",
      "metadata": {
        "id": "6PscoyQ21SqL"
      },
      "source": [
        "## Datos comunales: limpieza del _dataset_ de presupuesto\n",
        "\n",
        "El _dataset_ de presupuesto tiene valores \"no recepcionados\". Veamos estas filas:"
      ]
    },
    {
      "cell_type": "code",
      "metadata": {
        "colab": {
          "base_uri": "https://localhost:8080/",
          "height": 600
        },
        "id": "fE13QYxf1SqM",
        "outputId": "4b90349a-b4c6-49ad-8ea0-41cbdf69ab52"
      },
      "source": [
        "import pandas as pd\n",
        "\n",
        "df_presupuesto = pd.read_csv(\"presupuesto_2019.csv\", delimiter=';')\n",
        "df_presupuesto"
      ],
      "execution_count": 1,
      "outputs": [
        {
          "output_type": "execute_result",
          "data": {
            "text/html": [
              "<div>\n",
              "<style scoped>\n",
              "    .dataframe tbody tr th:only-of-type {\n",
              "        vertical-align: middle;\n",
              "    }\n",
              "\n",
              "    .dataframe tbody tr th {\n",
              "        vertical-align: top;\n",
              "    }\n",
              "\n",
              "    .dataframe thead th {\n",
              "        text-align: right;\n",
              "    }\n",
              "</style>\n",
              "<table border=\"1\" class=\"dataframe\">\n",
              "  <thead>\n",
              "    <tr style=\"text-align: right;\">\n",
              "      <th></th>\n",
              "      <th>CODIGO</th>\n",
              "      <th>MUNICIPIO</th>\n",
              "      <th>PRESUPUESTO</th>\n",
              "    </tr>\n",
              "  </thead>\n",
              "  <tbody>\n",
              "    <tr>\n",
              "      <th>0</th>\n",
              "      <td>1101</td>\n",
              "      <td>IQUIQUE</td>\n",
              "      <td>59072234</td>\n",
              "    </tr>\n",
              "    <tr>\n",
              "      <th>1</th>\n",
              "      <td>1107</td>\n",
              "      <td>ALTO HOSPICIO</td>\n",
              "      <td>13984411</td>\n",
              "    </tr>\n",
              "    <tr>\n",
              "      <th>2</th>\n",
              "      <td>1401</td>\n",
              "      <td>POZO ALMONTE</td>\n",
              "      <td>7613962</td>\n",
              "    </tr>\n",
              "    <tr>\n",
              "      <th>3</th>\n",
              "      <td>1402</td>\n",
              "      <td>CAMIÑA</td>\n",
              "      <td>1584008</td>\n",
              "    </tr>\n",
              "    <tr>\n",
              "      <th>4</th>\n",
              "      <td>1403</td>\n",
              "      <td>COLCHANE</td>\n",
              "      <td>2500000</td>\n",
              "    </tr>\n",
              "    <tr>\n",
              "      <th>...</th>\n",
              "      <td>...</td>\n",
              "      <td>...</td>\n",
              "      <td>...</td>\n",
              "    </tr>\n",
              "    <tr>\n",
              "      <th>340</th>\n",
              "      <td>16301</td>\n",
              "      <td>SAN CARLOS</td>\n",
              "      <td>10459691</td>\n",
              "    </tr>\n",
              "    <tr>\n",
              "      <th>341</th>\n",
              "      <td>16302</td>\n",
              "      <td>COIHUECO</td>\n",
              "      <td>5001190</td>\n",
              "    </tr>\n",
              "    <tr>\n",
              "      <th>342</th>\n",
              "      <td>16303</td>\n",
              "      <td>ÑIQUÉN</td>\n",
              "      <td>3386698</td>\n",
              "    </tr>\n",
              "    <tr>\n",
              "      <th>343</th>\n",
              "      <td>16304</td>\n",
              "      <td>SAN FABIÁN</td>\n",
              "      <td>1798500</td>\n",
              "    </tr>\n",
              "    <tr>\n",
              "      <th>344</th>\n",
              "      <td>16305</td>\n",
              "      <td>SAN NICOLÁS</td>\n",
              "      <td>3979700</td>\n",
              "    </tr>\n",
              "  </tbody>\n",
              "</table>\n",
              "<p>345 rows × 3 columns</p>\n",
              "</div>"
            ],
            "text/plain": [
              "     CODIGO      MUNICIPIO PRESUPUESTO\n",
              "0      1101        IQUIQUE    59072234\n",
              "1      1107  ALTO HOSPICIO    13984411\n",
              "2      1401   POZO ALMONTE     7613962\n",
              "3      1402         CAMIÑA     1584008\n",
              "4      1403       COLCHANE     2500000\n",
              "..      ...            ...         ...\n",
              "340   16301     SAN CARLOS    10459691\n",
              "341   16302       COIHUECO     5001190\n",
              "342   16303         ÑIQUÉN     3386698\n",
              "343   16304     SAN FABIÁN     1798500\n",
              "344   16305    SAN NICOLÁS     3979700\n",
              "\n",
              "[345 rows x 3 columns]"
            ]
          },
          "metadata": {
            "tags": []
          },
          "execution_count": 1
        }
      ]
    },
    {
      "cell_type": "code",
      "metadata": {
        "colab": {
          "base_uri": "https://localhost:8080/",
          "height": 166
        },
        "id": "Hpj0q5CkG8ev",
        "outputId": "4a0682d4-6743-44b9-8db5-a53eb4f6ded4"
      },
      "source": [
        "df_presupuesto[df_presupuesto['PRESUPUESTO'] == 'No Recepcionado']"
      ],
      "execution_count": 2,
      "outputs": [
        {
          "output_type": "execute_result",
          "data": {
            "text/html": [
              "<div>\n",
              "<style scoped>\n",
              "    .dataframe tbody tr th:only-of-type {\n",
              "        vertical-align: middle;\n",
              "    }\n",
              "\n",
              "    .dataframe tbody tr th {\n",
              "        vertical-align: top;\n",
              "    }\n",
              "\n",
              "    .dataframe thead th {\n",
              "        text-align: right;\n",
              "    }\n",
              "</style>\n",
              "<table border=\"1\" class=\"dataframe\">\n",
              "  <thead>\n",
              "    <tr style=\"text-align: right;\">\n",
              "      <th></th>\n",
              "      <th>CODIGO</th>\n",
              "      <th>MUNICIPIO</th>\n",
              "      <th>PRESUPUESTO</th>\n",
              "    </tr>\n",
              "  </thead>\n",
              "  <tbody>\n",
              "    <tr>\n",
              "      <th>63</th>\n",
              "      <td>5602</td>\n",
              "      <td>ALGARROBO</td>\n",
              "      <td>No Recepcionado</td>\n",
              "    </tr>\n",
              "    <tr>\n",
              "      <th>87</th>\n",
              "      <td>6110</td>\n",
              "      <td>MOSTAZAL</td>\n",
              "      <td>No Recepcionado</td>\n",
              "    </tr>\n",
              "  </tbody>\n",
              "</table>\n",
              "</div>"
            ],
            "text/plain": [
              "    CODIGO  MUNICIPIO      PRESUPUESTO\n",
              "63    5602  ALGARROBO  No Recepcionado\n",
              "87    6110   MOSTAZAL  No Recepcionado"
            ]
          },
          "metadata": {
            "tags": []
          },
          "execution_count": 2
        }
      ]
    },
    {
      "cell_type": "markdown",
      "metadata": {
        "id": "p_w4jo7r1SqW"
      },
      "source": [
        "¿Cómo sabemos que esta columna tiene un problema? El primer indicio en general es que al pedir el tipo de la columna, obtenemos `object` en vez de un tipo numérico."
      ]
    },
    {
      "cell_type": "code",
      "metadata": {
        "colab": {
          "base_uri": "https://localhost:8080/"
        },
        "id": "LzyGtl8g1SqY",
        "outputId": "b0ed8502-fec3-4568-9f1b-9f38024f5176"
      },
      "source": [
        "df_presupuesto.info()"
      ],
      "execution_count": 3,
      "outputs": [
        {
          "output_type": "stream",
          "text": [
            "<class 'pandas.core.frame.DataFrame'>\n",
            "RangeIndex: 345 entries, 0 to 344\n",
            "Data columns (total 3 columns):\n",
            " #   Column       Non-Null Count  Dtype \n",
            "---  ------       --------------  ----- \n",
            " 0   CODIGO       345 non-null    int64 \n",
            " 1   MUNICIPIO    345 non-null    object\n",
            " 2   PRESUPUESTO  345 non-null    object\n",
            "dtypes: int64(1), object(2)\n",
            "memory usage: 8.2+ KB\n"
          ],
          "name": "stdout"
        }
      ]
    },
    {
      "cell_type": "markdown",
      "metadata": {
        "id": "x11JP0MN1SqZ"
      },
      "source": [
        "Para limpiar esto usamos la función replace."
      ]
    },
    {
      "cell_type": "code",
      "metadata": {
        "id": "6J9h8ZOi1Sqa"
      },
      "source": [
        "# Reemplazamos todos los \"No Recepcionado\" por un 0\n",
        "df_presupuesto = df_presupuesto.replace('No Recepcionado', 0)"
      ],
      "execution_count": 4,
      "outputs": []
    },
    {
      "cell_type": "markdown",
      "metadata": {
        "id": "7VjHEkSx1Sqa"
      },
      "source": [
        "Sin embargo, veremos que Pandas sigue tratando la columna como `object`. Esto nos impide hacer operaciones numéricas."
      ]
    },
    {
      "cell_type": "code",
      "metadata": {
        "colab": {
          "base_uri": "https://localhost:8080/"
        },
        "id": "zOadZB-21Sqb",
        "outputId": "97c0e460-3612-48ef-af55-3e56f539335a"
      },
      "source": [
        "df_presupuesto.info()"
      ],
      "execution_count": 5,
      "outputs": [
        {
          "output_type": "stream",
          "text": [
            "<class 'pandas.core.frame.DataFrame'>\n",
            "RangeIndex: 345 entries, 0 to 344\n",
            "Data columns (total 3 columns):\n",
            " #   Column       Non-Null Count  Dtype \n",
            "---  ------       --------------  ----- \n",
            " 0   CODIGO       345 non-null    int64 \n",
            " 1   MUNICIPIO    345 non-null    object\n",
            " 2   PRESUPUESTO  345 non-null    object\n",
            "dtypes: int64(1), object(2)\n",
            "memory usage: 8.2+ KB\n"
          ],
          "name": "stdout"
        }
      ]
    },
    {
      "cell_type": "markdown",
      "metadata": {
        "id": "7B5rZJva1Sqc"
      },
      "source": [
        "Así que le señalamos a Pandas que queremos que trate a la columna como valores de tipo entero."
      ]
    },
    {
      "cell_type": "code",
      "metadata": {
        "colab": {
          "base_uri": "https://localhost:8080/"
        },
        "id": "LLO9Qga11Sqd",
        "outputId": "6cab7539-6bdc-4483-dae2-7dde8ac306c8"
      },
      "source": [
        "# Estamos sobreescribiendo la columna, diciendo que trate el tipo como entero\n",
        "df_presupuesto['PRESUPUESTO'] = df_presupuesto['PRESUPUESTO'].astype(int)\n",
        "df_presupuesto.info()"
      ],
      "execution_count": 6,
      "outputs": [
        {
          "output_type": "stream",
          "text": [
            "<class 'pandas.core.frame.DataFrame'>\n",
            "RangeIndex: 345 entries, 0 to 344\n",
            "Data columns (total 3 columns):\n",
            " #   Column       Non-Null Count  Dtype \n",
            "---  ------       --------------  ----- \n",
            " 0   CODIGO       345 non-null    int64 \n",
            " 1   MUNICIPIO    345 non-null    object\n",
            " 2   PRESUPUESTO  345 non-null    int64 \n",
            "dtypes: int64(2), object(1)\n",
            "memory usage: 8.2+ KB\n"
          ],
          "name": "stdout"
        }
      ]
    },
    {
      "cell_type": "markdown",
      "metadata": {
        "id": "s54u1nS31Sqe"
      },
      "source": [
        "## Datos comunales: orden y límite de resultados\n",
        "\n",
        "Podemos ordenar las comunas según su presupuesto, de menor a mayor."
      ]
    },
    {
      "cell_type": "code",
      "metadata": {
        "colab": {
          "base_uri": "https://localhost:8080/",
          "height": 530
        },
        "id": "E0_wjP3F1Sql",
        "outputId": "8b79fb84-34cc-472f-bd13-57e4612f0110"
      },
      "source": [
        "df_presupuesto.sort_values(['PRESUPUESTO'])"
      ],
      "execution_count": 7,
      "outputs": [
        {
          "output_type": "execute_result",
          "data": {
            "text/html": [
              "<div>\n",
              "<style scoped>\n",
              "    .dataframe tbody tr th:only-of-type {\n",
              "        vertical-align: middle;\n",
              "    }\n",
              "\n",
              "    .dataframe tbody tr th {\n",
              "        vertical-align: top;\n",
              "    }\n",
              "\n",
              "    .dataframe thead th {\n",
              "        text-align: right;\n",
              "    }\n",
              "</style>\n",
              "<table border=\"1\" class=\"dataframe\">\n",
              "  <thead>\n",
              "    <tr style=\"text-align: right;\">\n",
              "      <th></th>\n",
              "      <th>CODIGO</th>\n",
              "      <th>MUNICIPIO</th>\n",
              "      <th>PRESUPUESTO</th>\n",
              "    </tr>\n",
              "  </thead>\n",
              "  <tbody>\n",
              "    <tr>\n",
              "      <th>63</th>\n",
              "      <td>5602</td>\n",
              "      <td>ALGARROBO</td>\n",
              "      <td>0</td>\n",
              "    </tr>\n",
              "    <tr>\n",
              "      <th>87</th>\n",
              "      <td>6110</td>\n",
              "      <td>MOSTAZAL</td>\n",
              "      <td>0</td>\n",
              "    </tr>\n",
              "    <tr>\n",
              "      <th>253</th>\n",
              "      <td>12303</td>\n",
              "      <td>TIMAUKEL</td>\n",
              "      <td>1323606</td>\n",
              "    </tr>\n",
              "    <tr>\n",
              "      <th>323</th>\n",
              "      <td>15202</td>\n",
              "      <td>GENERAL LAGOS</td>\n",
              "      <td>1438262</td>\n",
              "    </tr>\n",
              "    <tr>\n",
              "      <th>243</th>\n",
              "      <td>11303</td>\n",
              "      <td>TORTEL</td>\n",
              "      <td>1462180</td>\n",
              "    </tr>\n",
              "    <tr>\n",
              "      <th>...</th>\n",
              "      <td>...</td>\n",
              "      <td>...</td>\n",
              "      <td>...</td>\n",
              "    </tr>\n",
              "    <tr>\n",
              "      <th>7</th>\n",
              "      <td>2101</td>\n",
              "      <td>ANTOFAGASTA</td>\n",
              "      <td>100635302</td>\n",
              "    </tr>\n",
              "    <tr>\n",
              "      <th>274</th>\n",
              "      <td>13119</td>\n",
              "      <td>MAIPÚ</td>\n",
              "      <td>119318265</td>\n",
              "    </tr>\n",
              "    <tr>\n",
              "      <th>278</th>\n",
              "      <td>13123</td>\n",
              "      <td>PROVIDENCIA</td>\n",
              "      <td>125041538</td>\n",
              "    </tr>\n",
              "    <tr>\n",
              "      <th>256</th>\n",
              "      <td>13101</td>\n",
              "      <td>SANTIAGO</td>\n",
              "      <td>163383547</td>\n",
              "    </tr>\n",
              "    <tr>\n",
              "      <th>269</th>\n",
              "      <td>13114</td>\n",
              "      <td>LAS CONDES</td>\n",
              "      <td>339980450</td>\n",
              "    </tr>\n",
              "  </tbody>\n",
              "</table>\n",
              "<p>345 rows × 3 columns</p>\n",
              "</div>"
            ],
            "text/plain": [
              "     CODIGO      MUNICIPIO  PRESUPUESTO\n",
              "63     5602      ALGARROBO            0\n",
              "87     6110       MOSTAZAL            0\n",
              "253   12303       TIMAUKEL      1323606\n",
              "323   15202  GENERAL LAGOS      1438262\n",
              "243   11303         TORTEL      1462180\n",
              "..      ...            ...          ...\n",
              "7      2101    ANTOFAGASTA    100635302\n",
              "274   13119          MAIPÚ    119318265\n",
              "278   13123    PROVIDENCIA    125041538\n",
              "256   13101       SANTIAGO    163383547\n",
              "269   13114     LAS CONDES    339980450\n",
              "\n",
              "[345 rows x 3 columns]"
            ]
          },
          "metadata": {
            "tags": []
          },
          "execution_count": 7
        }
      ]
    },
    {
      "cell_type": "code",
      "metadata": {
        "colab": {
          "base_uri": "https://localhost:8080/",
          "height": 530
        },
        "id": "hd0lKQ3c1Sqp",
        "outputId": "a5a3d9f9-48b0-4cbd-9250-390120366157"
      },
      "source": [
        "# Orden inverso\n",
        "df_presupuesto.sort_values(['PRESUPUESTO'], ascending=False)\n"
      ],
      "execution_count": 8,
      "outputs": [
        {
          "output_type": "execute_result",
          "data": {
            "text/html": [
              "<div>\n",
              "<style scoped>\n",
              "    .dataframe tbody tr th:only-of-type {\n",
              "        vertical-align: middle;\n",
              "    }\n",
              "\n",
              "    .dataframe tbody tr th {\n",
              "        vertical-align: top;\n",
              "    }\n",
              "\n",
              "    .dataframe thead th {\n",
              "        text-align: right;\n",
              "    }\n",
              "</style>\n",
              "<table border=\"1\" class=\"dataframe\">\n",
              "  <thead>\n",
              "    <tr style=\"text-align: right;\">\n",
              "      <th></th>\n",
              "      <th>CODIGO</th>\n",
              "      <th>MUNICIPIO</th>\n",
              "      <th>PRESUPUESTO</th>\n",
              "    </tr>\n",
              "  </thead>\n",
              "  <tbody>\n",
              "    <tr>\n",
              "      <th>269</th>\n",
              "      <td>13114</td>\n",
              "      <td>LAS CONDES</td>\n",
              "      <td>339980450</td>\n",
              "    </tr>\n",
              "    <tr>\n",
              "      <th>256</th>\n",
              "      <td>13101</td>\n",
              "      <td>SANTIAGO</td>\n",
              "      <td>163383547</td>\n",
              "    </tr>\n",
              "    <tr>\n",
              "      <th>278</th>\n",
              "      <td>13123</td>\n",
              "      <td>PROVIDENCIA</td>\n",
              "      <td>125041538</td>\n",
              "    </tr>\n",
              "    <tr>\n",
              "      <th>274</th>\n",
              "      <td>13119</td>\n",
              "      <td>MAIPÚ</td>\n",
              "      <td>119318265</td>\n",
              "    </tr>\n",
              "    <tr>\n",
              "      <th>7</th>\n",
              "      <td>2101</td>\n",
              "      <td>ANTOFAGASTA</td>\n",
              "      <td>100635302</td>\n",
              "    </tr>\n",
              "    <tr>\n",
              "      <th>...</th>\n",
              "      <td>...</td>\n",
              "      <td>...</td>\n",
              "      <td>...</td>\n",
              "    </tr>\n",
              "    <tr>\n",
              "      <th>243</th>\n",
              "      <td>11303</td>\n",
              "      <td>TORTEL</td>\n",
              "      <td>1462180</td>\n",
              "    </tr>\n",
              "    <tr>\n",
              "      <th>323</th>\n",
              "      <td>15202</td>\n",
              "      <td>GENERAL LAGOS</td>\n",
              "      <td>1438262</td>\n",
              "    </tr>\n",
              "    <tr>\n",
              "      <th>253</th>\n",
              "      <td>12303</td>\n",
              "      <td>TIMAUKEL</td>\n",
              "      <td>1323606</td>\n",
              "    </tr>\n",
              "    <tr>\n",
              "      <th>87</th>\n",
              "      <td>6110</td>\n",
              "      <td>MOSTAZAL</td>\n",
              "      <td>0</td>\n",
              "    </tr>\n",
              "    <tr>\n",
              "      <th>63</th>\n",
              "      <td>5602</td>\n",
              "      <td>ALGARROBO</td>\n",
              "      <td>0</td>\n",
              "    </tr>\n",
              "  </tbody>\n",
              "</table>\n",
              "<p>345 rows × 3 columns</p>\n",
              "</div>"
            ],
            "text/plain": [
              "     CODIGO      MUNICIPIO  PRESUPUESTO\n",
              "269   13114     LAS CONDES    339980450\n",
              "256   13101       SANTIAGO    163383547\n",
              "278   13123    PROVIDENCIA    125041538\n",
              "274   13119          MAIPÚ    119318265\n",
              "7      2101    ANTOFAGASTA    100635302\n",
              "..      ...            ...          ...\n",
              "243   11303         TORTEL      1462180\n",
              "323   15202  GENERAL LAGOS      1438262\n",
              "253   12303       TIMAUKEL      1323606\n",
              "87     6110       MOSTAZAL            0\n",
              "63     5602      ALGARROBO            0\n",
              "\n",
              "[345 rows x 3 columns]"
            ]
          },
          "metadata": {
            "tags": []
          },
          "execution_count": 8
        }
      ]
    },
    {
      "cell_type": "markdown",
      "metadata": {
        "id": "5yjdhsRS1Sqs"
      },
      "source": [
        "Ahora si queremos un número determinado de resultados."
      ]
    },
    {
      "cell_type": "code",
      "metadata": {
        "colab": {
          "base_uri": "https://localhost:8080/",
          "height": 400
        },
        "id": "JR4meXtK1Squ",
        "outputId": "fb10d0d2-7d3f-4cc4-aeda-b5495272f2a7"
      },
      "source": [
        "df_presupuesto.sort_values(['PRESUPUESTO'], ascending=False).head(10)"
      ],
      "execution_count": 9,
      "outputs": [
        {
          "output_type": "execute_result",
          "data": {
            "text/html": [
              "<div>\n",
              "<style scoped>\n",
              "    .dataframe tbody tr th:only-of-type {\n",
              "        vertical-align: middle;\n",
              "    }\n",
              "\n",
              "    .dataframe tbody tr th {\n",
              "        vertical-align: top;\n",
              "    }\n",
              "\n",
              "    .dataframe thead th {\n",
              "        text-align: right;\n",
              "    }\n",
              "</style>\n",
              "<table border=\"1\" class=\"dataframe\">\n",
              "  <thead>\n",
              "    <tr style=\"text-align: right;\">\n",
              "      <th></th>\n",
              "      <th>CODIGO</th>\n",
              "      <th>MUNICIPIO</th>\n",
              "      <th>PRESUPUESTO</th>\n",
              "    </tr>\n",
              "  </thead>\n",
              "  <tbody>\n",
              "    <tr>\n",
              "      <th>269</th>\n",
              "      <td>13114</td>\n",
              "      <td>LAS CONDES</td>\n",
              "      <td>339980450</td>\n",
              "    </tr>\n",
              "    <tr>\n",
              "      <th>256</th>\n",
              "      <td>13101</td>\n",
              "      <td>SANTIAGO</td>\n",
              "      <td>163383547</td>\n",
              "    </tr>\n",
              "    <tr>\n",
              "      <th>278</th>\n",
              "      <td>13123</td>\n",
              "      <td>PROVIDENCIA</td>\n",
              "      <td>125041538</td>\n",
              "    </tr>\n",
              "    <tr>\n",
              "      <th>274</th>\n",
              "      <td>13119</td>\n",
              "      <td>MAIPÚ</td>\n",
              "      <td>119318265</td>\n",
              "    </tr>\n",
              "    <tr>\n",
              "      <th>7</th>\n",
              "      <td>2101</td>\n",
              "      <td>ANTOFAGASTA</td>\n",
              "      <td>100635302</td>\n",
              "    </tr>\n",
              "    <tr>\n",
              "      <th>46</th>\n",
              "      <td>5109</td>\n",
              "      <td>VIÑA DEL MAR</td>\n",
              "      <td>100482380</td>\n",
              "    </tr>\n",
              "    <tr>\n",
              "      <th>287</th>\n",
              "      <td>13132</td>\n",
              "      <td>VITACURA</td>\n",
              "      <td>97000000</td>\n",
              "    </tr>\n",
              "    <tr>\n",
              "      <th>265</th>\n",
              "      <td>13110</td>\n",
              "      <td>LA FLORIDA</td>\n",
              "      <td>95609849</td>\n",
              "    </tr>\n",
              "    <tr>\n",
              "      <th>270</th>\n",
              "      <td>13115</td>\n",
              "      <td>LO BARNECHEA</td>\n",
              "      <td>92819385</td>\n",
              "    </tr>\n",
              "    <tr>\n",
              "      <th>279</th>\n",
              "      <td>13124</td>\n",
              "      <td>PUDAHUEL</td>\n",
              "      <td>87884438</td>\n",
              "    </tr>\n",
              "  </tbody>\n",
              "</table>\n",
              "</div>"
            ],
            "text/plain": [
              "     CODIGO     MUNICIPIO  PRESUPUESTO\n",
              "269   13114    LAS CONDES    339980450\n",
              "256   13101      SANTIAGO    163383547\n",
              "278   13123   PROVIDENCIA    125041538\n",
              "274   13119         MAIPÚ    119318265\n",
              "7      2101   ANTOFAGASTA    100635302\n",
              "46     5109  VIÑA DEL MAR    100482380\n",
              "287   13132      VITACURA     97000000\n",
              "265   13110    LA FLORIDA     95609849\n",
              "270   13115  LO BARNECHEA     92819385\n",
              "279   13124      PUDAHUEL     87884438"
            ]
          },
          "metadata": {
            "tags": []
          },
          "execution_count": 9
        }
      ]
    },
    {
      "cell_type": "markdown",
      "metadata": {
        "id": "ytW1wYK61Sq9"
      },
      "source": [
        "## Datos comunales: merge de tres dataframes\n",
        "\n",
        "En este ejemplo vamos a cargar el DataFrame de códigos y haremos un _merge_ con el DataFrame de población."
      ]
    },
    {
      "cell_type": "code",
      "metadata": {
        "colab": {
          "base_uri": "https://localhost:8080/"
        },
        "id": "0fVThLbo1SrB",
        "outputId": "e5933e7f-5a1e-4bee-de79-5c9c04cfb5c5"
      },
      "source": [
        "import pandas as pd\n",
        "\n",
        "df_codigos = pd.read_csv(\"codigos.csv\", delimiter=';')\n",
        "df_codigos.info()"
      ],
      "execution_count": 10,
      "outputs": [
        {
          "output_type": "stream",
          "text": [
            "<class 'pandas.core.frame.DataFrame'>\n",
            "RangeIndex: 346 entries, 0 to 345\n",
            "Data columns (total 7 columns):\n",
            " #   Column              Non-Null Count  Dtype \n",
            "---  ------              --------------  ----- \n",
            " 0   Código Región       346 non-null    int64 \n",
            " 1   Nombre Región       346 non-null    object\n",
            " 2   Abreviatura Región  346 non-null    object\n",
            " 3   Código Provincia    346 non-null    int64 \n",
            " 4   Nombre Provincia    346 non-null    object\n",
            " 5   Código Comuna 2018  346 non-null    int64 \n",
            " 6   Nombre Comuna       346 non-null    object\n",
            "dtypes: int64(3), object(4)\n",
            "memory usage: 19.0+ KB\n"
          ],
          "name": "stdout"
        }
      ]
    },
    {
      "cell_type": "code",
      "metadata": {
        "colab": {
          "base_uri": "https://localhost:8080/",
          "height": 424
        },
        "id": "fHK31uyeH0_L",
        "outputId": "f3834117-95bd-473b-c78c-e2c21bd6270d"
      },
      "source": [
        "df_codigos"
      ],
      "execution_count": 11,
      "outputs": [
        {
          "output_type": "execute_result",
          "data": {
            "text/html": [
              "<div>\n",
              "<style scoped>\n",
              "    .dataframe tbody tr th:only-of-type {\n",
              "        vertical-align: middle;\n",
              "    }\n",
              "\n",
              "    .dataframe tbody tr th {\n",
              "        vertical-align: top;\n",
              "    }\n",
              "\n",
              "    .dataframe thead th {\n",
              "        text-align: right;\n",
              "    }\n",
              "</style>\n",
              "<table border=\"1\" class=\"dataframe\">\n",
              "  <thead>\n",
              "    <tr style=\"text-align: right;\">\n",
              "      <th></th>\n",
              "      <th>Código Región</th>\n",
              "      <th>Nombre Región</th>\n",
              "      <th>Abreviatura Región</th>\n",
              "      <th>Código Provincia</th>\n",
              "      <th>Nombre Provincia</th>\n",
              "      <th>Código Comuna 2018</th>\n",
              "      <th>Nombre Comuna</th>\n",
              "    </tr>\n",
              "  </thead>\n",
              "  <tbody>\n",
              "    <tr>\n",
              "      <th>0</th>\n",
              "      <td>1</td>\n",
              "      <td>Tarapacá</td>\n",
              "      <td>TPCA</td>\n",
              "      <td>11</td>\n",
              "      <td>Iquique</td>\n",
              "      <td>1101</td>\n",
              "      <td>Iquique</td>\n",
              "    </tr>\n",
              "    <tr>\n",
              "      <th>1</th>\n",
              "      <td>1</td>\n",
              "      <td>Tarapacá</td>\n",
              "      <td>TPCA</td>\n",
              "      <td>11</td>\n",
              "      <td>Iquique</td>\n",
              "      <td>1107</td>\n",
              "      <td>Alto Hospicio</td>\n",
              "    </tr>\n",
              "    <tr>\n",
              "      <th>2</th>\n",
              "      <td>1</td>\n",
              "      <td>Tarapacá</td>\n",
              "      <td>TPCA</td>\n",
              "      <td>14</td>\n",
              "      <td>Tamarugal</td>\n",
              "      <td>1401</td>\n",
              "      <td>Pozo Almonte</td>\n",
              "    </tr>\n",
              "    <tr>\n",
              "      <th>3</th>\n",
              "      <td>1</td>\n",
              "      <td>Tarapacá</td>\n",
              "      <td>TPCA</td>\n",
              "      <td>14</td>\n",
              "      <td>Tamarugal</td>\n",
              "      <td>1402</td>\n",
              "      <td>Camiña</td>\n",
              "    </tr>\n",
              "    <tr>\n",
              "      <th>4</th>\n",
              "      <td>1</td>\n",
              "      <td>Tarapacá</td>\n",
              "      <td>TPCA</td>\n",
              "      <td>14</td>\n",
              "      <td>Tamarugal</td>\n",
              "      <td>1403</td>\n",
              "      <td>Colchane</td>\n",
              "    </tr>\n",
              "    <tr>\n",
              "      <th>...</th>\n",
              "      <td>...</td>\n",
              "      <td>...</td>\n",
              "      <td>...</td>\n",
              "      <td>...</td>\n",
              "      <td>...</td>\n",
              "      <td>...</td>\n",
              "      <td>...</td>\n",
              "    </tr>\n",
              "    <tr>\n",
              "      <th>341</th>\n",
              "      <td>16</td>\n",
              "      <td>Ñuble</td>\n",
              "      <td>NUBLE</td>\n",
              "      <td>163</td>\n",
              "      <td>Punilla</td>\n",
              "      <td>16301</td>\n",
              "      <td>San Carlos</td>\n",
              "    </tr>\n",
              "    <tr>\n",
              "      <th>342</th>\n",
              "      <td>16</td>\n",
              "      <td>Ñuble</td>\n",
              "      <td>NUBLE</td>\n",
              "      <td>163</td>\n",
              "      <td>Punilla</td>\n",
              "      <td>16302</td>\n",
              "      <td>Coihueco</td>\n",
              "    </tr>\n",
              "    <tr>\n",
              "      <th>343</th>\n",
              "      <td>16</td>\n",
              "      <td>Ñuble</td>\n",
              "      <td>NUBLE</td>\n",
              "      <td>163</td>\n",
              "      <td>Punilla</td>\n",
              "      <td>16303</td>\n",
              "      <td>Ñiquén</td>\n",
              "    </tr>\n",
              "    <tr>\n",
              "      <th>344</th>\n",
              "      <td>16</td>\n",
              "      <td>Ñuble</td>\n",
              "      <td>NUBLE</td>\n",
              "      <td>163</td>\n",
              "      <td>Punilla</td>\n",
              "      <td>16304</td>\n",
              "      <td>San Fabián</td>\n",
              "    </tr>\n",
              "    <tr>\n",
              "      <th>345</th>\n",
              "      <td>16</td>\n",
              "      <td>Ñuble</td>\n",
              "      <td>NUBLE</td>\n",
              "      <td>163</td>\n",
              "      <td>Punilla</td>\n",
              "      <td>16305</td>\n",
              "      <td>San Nicolás</td>\n",
              "    </tr>\n",
              "  </tbody>\n",
              "</table>\n",
              "<p>346 rows × 7 columns</p>\n",
              "</div>"
            ],
            "text/plain": [
              "     Código Región Nombre Región  ... Código Comuna 2018  Nombre Comuna\n",
              "0                1      Tarapacá  ...               1101        Iquique\n",
              "1                1      Tarapacá  ...               1107  Alto Hospicio\n",
              "2                1      Tarapacá  ...               1401   Pozo Almonte\n",
              "3                1      Tarapacá  ...               1402         Camiña\n",
              "4                1      Tarapacá  ...               1403       Colchane\n",
              "..             ...           ...  ...                ...            ...\n",
              "341             16         Ñuble  ...              16301     San Carlos\n",
              "342             16         Ñuble  ...              16302       Coihueco\n",
              "343             16         Ñuble  ...              16303         Ñiquén\n",
              "344             16         Ñuble  ...              16304     San Fabián\n",
              "345             16         Ñuble  ...              16305    San Nicolás\n",
              "\n",
              "[346 rows x 7 columns]"
            ]
          },
          "metadata": {
            "tags": []
          },
          "execution_count": 11
        }
      ]
    },
    {
      "cell_type": "code",
      "metadata": {
        "colab": {
          "base_uri": "https://localhost:8080/"
        },
        "id": "RDkHGRyx1SrI",
        "outputId": "6698599e-65e7-4c7e-df3e-df297306f825"
      },
      "source": [
        "df_poblacion = pd.read_csv(\"poblacion.csv\", delimiter=';')\n",
        "df_poblacion.info()"
      ],
      "execution_count": 12,
      "outputs": [
        {
          "output_type": "stream",
          "text": [
            "<class 'pandas.core.frame.DataFrame'>\n",
            "RangeIndex: 345 entries, 0 to 344\n",
            "Data columns (total 3 columns):\n",
            " #   Column     Non-Null Count  Dtype \n",
            "---  ------     --------------  ----- \n",
            " 0   CODIGO     345 non-null    int64 \n",
            " 1   MUNICIPIO  345 non-null    object\n",
            " 2   POBLACIÓN  345 non-null    int64 \n",
            "dtypes: int64(2), object(1)\n",
            "memory usage: 8.2+ KB\n"
          ],
          "name": "stdout"
        }
      ]
    },
    {
      "cell_type": "code",
      "metadata": {
        "colab": {
          "base_uri": "https://localhost:8080/",
          "height": 424
        },
        "id": "a5lbNntaIGYo",
        "outputId": "d51147a5-4e57-4eb2-c75b-adf143439250"
      },
      "source": [
        "df_poblacion"
      ],
      "execution_count": 13,
      "outputs": [
        {
          "output_type": "execute_result",
          "data": {
            "text/html": [
              "<div>\n",
              "<style scoped>\n",
              "    .dataframe tbody tr th:only-of-type {\n",
              "        vertical-align: middle;\n",
              "    }\n",
              "\n",
              "    .dataframe tbody tr th {\n",
              "        vertical-align: top;\n",
              "    }\n",
              "\n",
              "    .dataframe thead th {\n",
              "        text-align: right;\n",
              "    }\n",
              "</style>\n",
              "<table border=\"1\" class=\"dataframe\">\n",
              "  <thead>\n",
              "    <tr style=\"text-align: right;\">\n",
              "      <th></th>\n",
              "      <th>CODIGO</th>\n",
              "      <th>MUNICIPIO</th>\n",
              "      <th>POBLACIÓN</th>\n",
              "    </tr>\n",
              "  </thead>\n",
              "  <tbody>\n",
              "    <tr>\n",
              "      <th>0</th>\n",
              "      <td>1101</td>\n",
              "      <td>IQUIQUE</td>\n",
              "      <td>216514</td>\n",
              "    </tr>\n",
              "    <tr>\n",
              "      <th>1</th>\n",
              "      <td>1107</td>\n",
              "      <td>ALTO HOSPICIO</td>\n",
              "      <td>124150</td>\n",
              "    </tr>\n",
              "    <tr>\n",
              "      <th>2</th>\n",
              "      <td>1401</td>\n",
              "      <td>POZO ALMONTE</td>\n",
              "      <td>16683</td>\n",
              "    </tr>\n",
              "    <tr>\n",
              "      <th>3</th>\n",
              "      <td>1402</td>\n",
              "      <td>CAMIÑA</td>\n",
              "      <td>1345</td>\n",
              "    </tr>\n",
              "    <tr>\n",
              "      <th>4</th>\n",
              "      <td>1403</td>\n",
              "      <td>COLCHANE</td>\n",
              "      <td>1556</td>\n",
              "    </tr>\n",
              "    <tr>\n",
              "      <th>...</th>\n",
              "      <td>...</td>\n",
              "      <td>...</td>\n",
              "      <td>...</td>\n",
              "    </tr>\n",
              "    <tr>\n",
              "      <th>340</th>\n",
              "      <td>16301</td>\n",
              "      <td>SAN CARLOS</td>\n",
              "      <td>55935</td>\n",
              "    </tr>\n",
              "    <tr>\n",
              "      <th>341</th>\n",
              "      <td>16302</td>\n",
              "      <td>COIHUECO</td>\n",
              "      <td>28147</td>\n",
              "    </tr>\n",
              "    <tr>\n",
              "      <th>342</th>\n",
              "      <td>16303</td>\n",
              "      <td>ÑIQUÉN</td>\n",
              "      <td>11556</td>\n",
              "    </tr>\n",
              "    <tr>\n",
              "      <th>343</th>\n",
              "      <td>16304</td>\n",
              "      <td>SAN FABIÁN</td>\n",
              "      <td>4607</td>\n",
              "    </tr>\n",
              "    <tr>\n",
              "      <th>344</th>\n",
              "      <td>16305</td>\n",
              "      <td>SAN NICOLÁS</td>\n",
              "      <td>12068</td>\n",
              "    </tr>\n",
              "  </tbody>\n",
              "</table>\n",
              "<p>345 rows × 3 columns</p>\n",
              "</div>"
            ],
            "text/plain": [
              "     CODIGO      MUNICIPIO  POBLACIÓN\n",
              "0      1101        IQUIQUE     216514\n",
              "1      1107  ALTO HOSPICIO     124150\n",
              "2      1401   POZO ALMONTE      16683\n",
              "3      1402         CAMIÑA       1345\n",
              "4      1403       COLCHANE       1556\n",
              "..      ...            ...        ...\n",
              "340   16301     SAN CARLOS      55935\n",
              "341   16302       COIHUECO      28147\n",
              "342   16303         ÑIQUÉN      11556\n",
              "343   16304     SAN FABIÁN       4607\n",
              "344   16305    SAN NICOLÁS      12068\n",
              "\n",
              "[345 rows x 3 columns]"
            ]
          },
          "metadata": {
            "tags": []
          },
          "execution_count": 13
        }
      ]
    },
    {
      "cell_type": "code",
      "metadata": {
        "colab": {
          "base_uri": "https://localhost:8080/"
        },
        "id": "ndNl2BOI1SrJ",
        "outputId": "cae404a3-286e-4b91-8d46-cdc2e9a57022"
      },
      "source": [
        "df_extended = df_codigos.merge(df_poblacion, left_on='Código Comuna 2018', right_on='CODIGO')\n",
        "df_extended.info()"
      ],
      "execution_count": 14,
      "outputs": [
        {
          "output_type": "stream",
          "text": [
            "<class 'pandas.core.frame.DataFrame'>\n",
            "Int64Index: 345 entries, 0 to 344\n",
            "Data columns (total 10 columns):\n",
            " #   Column              Non-Null Count  Dtype \n",
            "---  ------              --------------  ----- \n",
            " 0   Código Región       345 non-null    int64 \n",
            " 1   Nombre Región       345 non-null    object\n",
            " 2   Abreviatura Región  345 non-null    object\n",
            " 3   Código Provincia    345 non-null    int64 \n",
            " 4   Nombre Provincia    345 non-null    object\n",
            " 5   Código Comuna 2018  345 non-null    int64 \n",
            " 6   Nombre Comuna       345 non-null    object\n",
            " 7   CODIGO              345 non-null    int64 \n",
            " 8   MUNICIPIO           345 non-null    object\n",
            " 9   POBLACIÓN           345 non-null    int64 \n",
            "dtypes: int64(5), object(5)\n",
            "memory usage: 29.6+ KB\n"
          ],
          "name": "stdout"
        }
      ]
    },
    {
      "cell_type": "code",
      "metadata": {
        "colab": {
          "base_uri": "https://localhost:8080/",
          "height": 476
        },
        "id": "0_P5kUcG1SrL",
        "outputId": "d96a4be5-c643-4632-8300-0456b0e966f9"
      },
      "source": [
        "df_extended"
      ],
      "execution_count": 15,
      "outputs": [
        {
          "output_type": "execute_result",
          "data": {
            "text/html": [
              "<div>\n",
              "<style scoped>\n",
              "    .dataframe tbody tr th:only-of-type {\n",
              "        vertical-align: middle;\n",
              "    }\n",
              "\n",
              "    .dataframe tbody tr th {\n",
              "        vertical-align: top;\n",
              "    }\n",
              "\n",
              "    .dataframe thead th {\n",
              "        text-align: right;\n",
              "    }\n",
              "</style>\n",
              "<table border=\"1\" class=\"dataframe\">\n",
              "  <thead>\n",
              "    <tr style=\"text-align: right;\">\n",
              "      <th></th>\n",
              "      <th>Código Región</th>\n",
              "      <th>Nombre Región</th>\n",
              "      <th>Abreviatura Región</th>\n",
              "      <th>Código Provincia</th>\n",
              "      <th>Nombre Provincia</th>\n",
              "      <th>Código Comuna 2018</th>\n",
              "      <th>Nombre Comuna</th>\n",
              "      <th>CODIGO</th>\n",
              "      <th>MUNICIPIO</th>\n",
              "      <th>POBLACIÓN</th>\n",
              "    </tr>\n",
              "  </thead>\n",
              "  <tbody>\n",
              "    <tr>\n",
              "      <th>0</th>\n",
              "      <td>1</td>\n",
              "      <td>Tarapacá</td>\n",
              "      <td>TPCA</td>\n",
              "      <td>11</td>\n",
              "      <td>Iquique</td>\n",
              "      <td>1101</td>\n",
              "      <td>Iquique</td>\n",
              "      <td>1101</td>\n",
              "      <td>IQUIQUE</td>\n",
              "      <td>216514</td>\n",
              "    </tr>\n",
              "    <tr>\n",
              "      <th>1</th>\n",
              "      <td>1</td>\n",
              "      <td>Tarapacá</td>\n",
              "      <td>TPCA</td>\n",
              "      <td>11</td>\n",
              "      <td>Iquique</td>\n",
              "      <td>1107</td>\n",
              "      <td>Alto Hospicio</td>\n",
              "      <td>1107</td>\n",
              "      <td>ALTO HOSPICIO</td>\n",
              "      <td>124150</td>\n",
              "    </tr>\n",
              "    <tr>\n",
              "      <th>2</th>\n",
              "      <td>1</td>\n",
              "      <td>Tarapacá</td>\n",
              "      <td>TPCA</td>\n",
              "      <td>14</td>\n",
              "      <td>Tamarugal</td>\n",
              "      <td>1401</td>\n",
              "      <td>Pozo Almonte</td>\n",
              "      <td>1401</td>\n",
              "      <td>POZO ALMONTE</td>\n",
              "      <td>16683</td>\n",
              "    </tr>\n",
              "    <tr>\n",
              "      <th>3</th>\n",
              "      <td>1</td>\n",
              "      <td>Tarapacá</td>\n",
              "      <td>TPCA</td>\n",
              "      <td>14</td>\n",
              "      <td>Tamarugal</td>\n",
              "      <td>1402</td>\n",
              "      <td>Camiña</td>\n",
              "      <td>1402</td>\n",
              "      <td>CAMIÑA</td>\n",
              "      <td>1345</td>\n",
              "    </tr>\n",
              "    <tr>\n",
              "      <th>4</th>\n",
              "      <td>1</td>\n",
              "      <td>Tarapacá</td>\n",
              "      <td>TPCA</td>\n",
              "      <td>14</td>\n",
              "      <td>Tamarugal</td>\n",
              "      <td>1403</td>\n",
              "      <td>Colchane</td>\n",
              "      <td>1403</td>\n",
              "      <td>COLCHANE</td>\n",
              "      <td>1556</td>\n",
              "    </tr>\n",
              "    <tr>\n",
              "      <th>...</th>\n",
              "      <td>...</td>\n",
              "      <td>...</td>\n",
              "      <td>...</td>\n",
              "      <td>...</td>\n",
              "      <td>...</td>\n",
              "      <td>...</td>\n",
              "      <td>...</td>\n",
              "      <td>...</td>\n",
              "      <td>...</td>\n",
              "      <td>...</td>\n",
              "    </tr>\n",
              "    <tr>\n",
              "      <th>340</th>\n",
              "      <td>16</td>\n",
              "      <td>Ñuble</td>\n",
              "      <td>NUBLE</td>\n",
              "      <td>163</td>\n",
              "      <td>Punilla</td>\n",
              "      <td>16301</td>\n",
              "      <td>San Carlos</td>\n",
              "      <td>16301</td>\n",
              "      <td>SAN CARLOS</td>\n",
              "      <td>55935</td>\n",
              "    </tr>\n",
              "    <tr>\n",
              "      <th>341</th>\n",
              "      <td>16</td>\n",
              "      <td>Ñuble</td>\n",
              "      <td>NUBLE</td>\n",
              "      <td>163</td>\n",
              "      <td>Punilla</td>\n",
              "      <td>16302</td>\n",
              "      <td>Coihueco</td>\n",
              "      <td>16302</td>\n",
              "      <td>COIHUECO</td>\n",
              "      <td>28147</td>\n",
              "    </tr>\n",
              "    <tr>\n",
              "      <th>342</th>\n",
              "      <td>16</td>\n",
              "      <td>Ñuble</td>\n",
              "      <td>NUBLE</td>\n",
              "      <td>163</td>\n",
              "      <td>Punilla</td>\n",
              "      <td>16303</td>\n",
              "      <td>Ñiquén</td>\n",
              "      <td>16303</td>\n",
              "      <td>ÑIQUÉN</td>\n",
              "      <td>11556</td>\n",
              "    </tr>\n",
              "    <tr>\n",
              "      <th>343</th>\n",
              "      <td>16</td>\n",
              "      <td>Ñuble</td>\n",
              "      <td>NUBLE</td>\n",
              "      <td>163</td>\n",
              "      <td>Punilla</td>\n",
              "      <td>16304</td>\n",
              "      <td>San Fabián</td>\n",
              "      <td>16304</td>\n",
              "      <td>SAN FABIÁN</td>\n",
              "      <td>4607</td>\n",
              "    </tr>\n",
              "    <tr>\n",
              "      <th>344</th>\n",
              "      <td>16</td>\n",
              "      <td>Ñuble</td>\n",
              "      <td>NUBLE</td>\n",
              "      <td>163</td>\n",
              "      <td>Punilla</td>\n",
              "      <td>16305</td>\n",
              "      <td>San Nicolás</td>\n",
              "      <td>16305</td>\n",
              "      <td>SAN NICOLÁS</td>\n",
              "      <td>12068</td>\n",
              "    </tr>\n",
              "  </tbody>\n",
              "</table>\n",
              "<p>345 rows × 10 columns</p>\n",
              "</div>"
            ],
            "text/plain": [
              "     Código Región Nombre Región  ...      MUNICIPIO  POBLACIÓN\n",
              "0                1      Tarapacá  ...        IQUIQUE     216514\n",
              "1                1      Tarapacá  ...  ALTO HOSPICIO     124150\n",
              "2                1      Tarapacá  ...   POZO ALMONTE      16683\n",
              "3                1      Tarapacá  ...         CAMIÑA       1345\n",
              "4                1      Tarapacá  ...       COLCHANE       1556\n",
              "..             ...           ...  ...            ...        ...\n",
              "340             16         Ñuble  ...     SAN CARLOS      55935\n",
              "341             16         Ñuble  ...       COIHUECO      28147\n",
              "342             16         Ñuble  ...         ÑIQUÉN      11556\n",
              "343             16         Ñuble  ...     SAN FABIÁN       4607\n",
              "344             16         Ñuble  ...    SAN NICOLÁS      12068\n",
              "\n",
              "[345 rows x 10 columns]"
            ]
          },
          "metadata": {
            "tags": []
          },
          "execution_count": 15
        }
      ]
    },
    {
      "cell_type": "markdown",
      "metadata": {
        "id": "cYF4jETj1SrM"
      },
      "source": [
        "Ahora haremos _merge_ de `df_extended` con la versión limpia del DataFrame de presupuestos."
      ]
    },
    {
      "cell_type": "code",
      "metadata": {
        "colab": {
          "base_uri": "https://localhost:8080/"
        },
        "id": "o0nkZuZi1SrM",
        "outputId": "01bd0fab-63da-458e-ff6c-335c170566c7"
      },
      "source": [
        "df_extended = df_extended.merge(df_presupuesto, left_on='CODIGO', right_on='CODIGO')\n",
        "df_extended.info()"
      ],
      "execution_count": 16,
      "outputs": [
        {
          "output_type": "stream",
          "text": [
            "<class 'pandas.core.frame.DataFrame'>\n",
            "Int64Index: 345 entries, 0 to 344\n",
            "Data columns (total 12 columns):\n",
            " #   Column              Non-Null Count  Dtype \n",
            "---  ------              --------------  ----- \n",
            " 0   Código Región       345 non-null    int64 \n",
            " 1   Nombre Región       345 non-null    object\n",
            " 2   Abreviatura Región  345 non-null    object\n",
            " 3   Código Provincia    345 non-null    int64 \n",
            " 4   Nombre Provincia    345 non-null    object\n",
            " 5   Código Comuna 2018  345 non-null    int64 \n",
            " 6   Nombre Comuna       345 non-null    object\n",
            " 7   CODIGO              345 non-null    int64 \n",
            " 8   MUNICIPIO_x         345 non-null    object\n",
            " 9   POBLACIÓN           345 non-null    int64 \n",
            " 10  MUNICIPIO_y         345 non-null    object\n",
            " 11  PRESUPUESTO         345 non-null    int64 \n",
            "dtypes: int64(6), object(6)\n",
            "memory usage: 35.0+ KB\n"
          ],
          "name": "stdout"
        }
      ]
    },
    {
      "cell_type": "code",
      "metadata": {
        "colab": {
          "base_uri": "https://localhost:8080/",
          "height": 493
        },
        "id": "32WBPLIc1SrN",
        "outputId": "dbbae99e-8676-447c-dcd3-f4001d003822"
      },
      "source": [
        "df_extended"
      ],
      "execution_count": 17,
      "outputs": [
        {
          "output_type": "execute_result",
          "data": {
            "text/html": [
              "<div>\n",
              "<style scoped>\n",
              "    .dataframe tbody tr th:only-of-type {\n",
              "        vertical-align: middle;\n",
              "    }\n",
              "\n",
              "    .dataframe tbody tr th {\n",
              "        vertical-align: top;\n",
              "    }\n",
              "\n",
              "    .dataframe thead th {\n",
              "        text-align: right;\n",
              "    }\n",
              "</style>\n",
              "<table border=\"1\" class=\"dataframe\">\n",
              "  <thead>\n",
              "    <tr style=\"text-align: right;\">\n",
              "      <th></th>\n",
              "      <th>Código Región</th>\n",
              "      <th>Nombre Región</th>\n",
              "      <th>Abreviatura Región</th>\n",
              "      <th>Código Provincia</th>\n",
              "      <th>Nombre Provincia</th>\n",
              "      <th>Código Comuna 2018</th>\n",
              "      <th>Nombre Comuna</th>\n",
              "      <th>CODIGO</th>\n",
              "      <th>MUNICIPIO_x</th>\n",
              "      <th>POBLACIÓN</th>\n",
              "      <th>MUNICIPIO_y</th>\n",
              "      <th>PRESUPUESTO</th>\n",
              "    </tr>\n",
              "  </thead>\n",
              "  <tbody>\n",
              "    <tr>\n",
              "      <th>0</th>\n",
              "      <td>1</td>\n",
              "      <td>Tarapacá</td>\n",
              "      <td>TPCA</td>\n",
              "      <td>11</td>\n",
              "      <td>Iquique</td>\n",
              "      <td>1101</td>\n",
              "      <td>Iquique</td>\n",
              "      <td>1101</td>\n",
              "      <td>IQUIQUE</td>\n",
              "      <td>216514</td>\n",
              "      <td>IQUIQUE</td>\n",
              "      <td>59072234</td>\n",
              "    </tr>\n",
              "    <tr>\n",
              "      <th>1</th>\n",
              "      <td>1</td>\n",
              "      <td>Tarapacá</td>\n",
              "      <td>TPCA</td>\n",
              "      <td>11</td>\n",
              "      <td>Iquique</td>\n",
              "      <td>1107</td>\n",
              "      <td>Alto Hospicio</td>\n",
              "      <td>1107</td>\n",
              "      <td>ALTO HOSPICIO</td>\n",
              "      <td>124150</td>\n",
              "      <td>ALTO HOSPICIO</td>\n",
              "      <td>13984411</td>\n",
              "    </tr>\n",
              "    <tr>\n",
              "      <th>2</th>\n",
              "      <td>1</td>\n",
              "      <td>Tarapacá</td>\n",
              "      <td>TPCA</td>\n",
              "      <td>14</td>\n",
              "      <td>Tamarugal</td>\n",
              "      <td>1401</td>\n",
              "      <td>Pozo Almonte</td>\n",
              "      <td>1401</td>\n",
              "      <td>POZO ALMONTE</td>\n",
              "      <td>16683</td>\n",
              "      <td>POZO ALMONTE</td>\n",
              "      <td>7613962</td>\n",
              "    </tr>\n",
              "    <tr>\n",
              "      <th>3</th>\n",
              "      <td>1</td>\n",
              "      <td>Tarapacá</td>\n",
              "      <td>TPCA</td>\n",
              "      <td>14</td>\n",
              "      <td>Tamarugal</td>\n",
              "      <td>1402</td>\n",
              "      <td>Camiña</td>\n",
              "      <td>1402</td>\n",
              "      <td>CAMIÑA</td>\n",
              "      <td>1345</td>\n",
              "      <td>CAMIÑA</td>\n",
              "      <td>1584008</td>\n",
              "    </tr>\n",
              "    <tr>\n",
              "      <th>4</th>\n",
              "      <td>1</td>\n",
              "      <td>Tarapacá</td>\n",
              "      <td>TPCA</td>\n",
              "      <td>14</td>\n",
              "      <td>Tamarugal</td>\n",
              "      <td>1403</td>\n",
              "      <td>Colchane</td>\n",
              "      <td>1403</td>\n",
              "      <td>COLCHANE</td>\n",
              "      <td>1556</td>\n",
              "      <td>COLCHANE</td>\n",
              "      <td>2500000</td>\n",
              "    </tr>\n",
              "    <tr>\n",
              "      <th>...</th>\n",
              "      <td>...</td>\n",
              "      <td>...</td>\n",
              "      <td>...</td>\n",
              "      <td>...</td>\n",
              "      <td>...</td>\n",
              "      <td>...</td>\n",
              "      <td>...</td>\n",
              "      <td>...</td>\n",
              "      <td>...</td>\n",
              "      <td>...</td>\n",
              "      <td>...</td>\n",
              "      <td>...</td>\n",
              "    </tr>\n",
              "    <tr>\n",
              "      <th>340</th>\n",
              "      <td>16</td>\n",
              "      <td>Ñuble</td>\n",
              "      <td>NUBLE</td>\n",
              "      <td>163</td>\n",
              "      <td>Punilla</td>\n",
              "      <td>16301</td>\n",
              "      <td>San Carlos</td>\n",
              "      <td>16301</td>\n",
              "      <td>SAN CARLOS</td>\n",
              "      <td>55935</td>\n",
              "      <td>SAN CARLOS</td>\n",
              "      <td>10459691</td>\n",
              "    </tr>\n",
              "    <tr>\n",
              "      <th>341</th>\n",
              "      <td>16</td>\n",
              "      <td>Ñuble</td>\n",
              "      <td>NUBLE</td>\n",
              "      <td>163</td>\n",
              "      <td>Punilla</td>\n",
              "      <td>16302</td>\n",
              "      <td>Coihueco</td>\n",
              "      <td>16302</td>\n",
              "      <td>COIHUECO</td>\n",
              "      <td>28147</td>\n",
              "      <td>COIHUECO</td>\n",
              "      <td>5001190</td>\n",
              "    </tr>\n",
              "    <tr>\n",
              "      <th>342</th>\n",
              "      <td>16</td>\n",
              "      <td>Ñuble</td>\n",
              "      <td>NUBLE</td>\n",
              "      <td>163</td>\n",
              "      <td>Punilla</td>\n",
              "      <td>16303</td>\n",
              "      <td>Ñiquén</td>\n",
              "      <td>16303</td>\n",
              "      <td>ÑIQUÉN</td>\n",
              "      <td>11556</td>\n",
              "      <td>ÑIQUÉN</td>\n",
              "      <td>3386698</td>\n",
              "    </tr>\n",
              "    <tr>\n",
              "      <th>343</th>\n",
              "      <td>16</td>\n",
              "      <td>Ñuble</td>\n",
              "      <td>NUBLE</td>\n",
              "      <td>163</td>\n",
              "      <td>Punilla</td>\n",
              "      <td>16304</td>\n",
              "      <td>San Fabián</td>\n",
              "      <td>16304</td>\n",
              "      <td>SAN FABIÁN</td>\n",
              "      <td>4607</td>\n",
              "      <td>SAN FABIÁN</td>\n",
              "      <td>1798500</td>\n",
              "    </tr>\n",
              "    <tr>\n",
              "      <th>344</th>\n",
              "      <td>16</td>\n",
              "      <td>Ñuble</td>\n",
              "      <td>NUBLE</td>\n",
              "      <td>163</td>\n",
              "      <td>Punilla</td>\n",
              "      <td>16305</td>\n",
              "      <td>San Nicolás</td>\n",
              "      <td>16305</td>\n",
              "      <td>SAN NICOLÁS</td>\n",
              "      <td>12068</td>\n",
              "      <td>SAN NICOLÁS</td>\n",
              "      <td>3979700</td>\n",
              "    </tr>\n",
              "  </tbody>\n",
              "</table>\n",
              "<p>345 rows × 12 columns</p>\n",
              "</div>"
            ],
            "text/plain": [
              "     Código Región Nombre Región  ...    MUNICIPIO_y  PRESUPUESTO\n",
              "0                1      Tarapacá  ...        IQUIQUE     59072234\n",
              "1                1      Tarapacá  ...  ALTO HOSPICIO     13984411\n",
              "2                1      Tarapacá  ...   POZO ALMONTE      7613962\n",
              "3                1      Tarapacá  ...         CAMIÑA      1584008\n",
              "4                1      Tarapacá  ...       COLCHANE      2500000\n",
              "..             ...           ...  ...            ...          ...\n",
              "340             16         Ñuble  ...     SAN CARLOS     10459691\n",
              "341             16         Ñuble  ...       COIHUECO      5001190\n",
              "342             16         Ñuble  ...         ÑIQUÉN      3386698\n",
              "343             16         Ñuble  ...     SAN FABIÁN      1798500\n",
              "344             16         Ñuble  ...    SAN NICOLÁS      3979700\n",
              "\n",
              "[345 rows x 12 columns]"
            ]
          },
          "metadata": {
            "tags": []
          },
          "execution_count": 17
        }
      ]
    },
    {
      "cell_type": "markdown",
      "metadata": {
        "id": "B9WrZFHH1SrN"
      },
      "source": [
        "Recordemos que podemos dejar solamente las columnas que necesitamos."
      ]
    },
    {
      "cell_type": "code",
      "metadata": {
        "colab": {
          "base_uri": "https://localhost:8080/",
          "height": 424
        },
        "id": "ZdwVVWY51SrN",
        "outputId": "2987bf58-8d98-4157-a82a-7193dfadee9c"
      },
      "source": [
        "df_extended = df_extended[['Nombre Comuna', 'POBLACIÓN', 'PRESUPUESTO', 'Nombre Región']]\n",
        "df_extended"
      ],
      "execution_count": 18,
      "outputs": [
        {
          "output_type": "execute_result",
          "data": {
            "text/html": [
              "<div>\n",
              "<style scoped>\n",
              "    .dataframe tbody tr th:only-of-type {\n",
              "        vertical-align: middle;\n",
              "    }\n",
              "\n",
              "    .dataframe tbody tr th {\n",
              "        vertical-align: top;\n",
              "    }\n",
              "\n",
              "    .dataframe thead th {\n",
              "        text-align: right;\n",
              "    }\n",
              "</style>\n",
              "<table border=\"1\" class=\"dataframe\">\n",
              "  <thead>\n",
              "    <tr style=\"text-align: right;\">\n",
              "      <th></th>\n",
              "      <th>Nombre Comuna</th>\n",
              "      <th>POBLACIÓN</th>\n",
              "      <th>PRESUPUESTO</th>\n",
              "      <th>Nombre Región</th>\n",
              "    </tr>\n",
              "  </thead>\n",
              "  <tbody>\n",
              "    <tr>\n",
              "      <th>0</th>\n",
              "      <td>Iquique</td>\n",
              "      <td>216514</td>\n",
              "      <td>59072234</td>\n",
              "      <td>Tarapacá</td>\n",
              "    </tr>\n",
              "    <tr>\n",
              "      <th>1</th>\n",
              "      <td>Alto Hospicio</td>\n",
              "      <td>124150</td>\n",
              "      <td>13984411</td>\n",
              "      <td>Tarapacá</td>\n",
              "    </tr>\n",
              "    <tr>\n",
              "      <th>2</th>\n",
              "      <td>Pozo Almonte</td>\n",
              "      <td>16683</td>\n",
              "      <td>7613962</td>\n",
              "      <td>Tarapacá</td>\n",
              "    </tr>\n",
              "    <tr>\n",
              "      <th>3</th>\n",
              "      <td>Camiña</td>\n",
              "      <td>1345</td>\n",
              "      <td>1584008</td>\n",
              "      <td>Tarapacá</td>\n",
              "    </tr>\n",
              "    <tr>\n",
              "      <th>4</th>\n",
              "      <td>Colchane</td>\n",
              "      <td>1556</td>\n",
              "      <td>2500000</td>\n",
              "      <td>Tarapacá</td>\n",
              "    </tr>\n",
              "    <tr>\n",
              "      <th>...</th>\n",
              "      <td>...</td>\n",
              "      <td>...</td>\n",
              "      <td>...</td>\n",
              "      <td>...</td>\n",
              "    </tr>\n",
              "    <tr>\n",
              "      <th>340</th>\n",
              "      <td>San Carlos</td>\n",
              "      <td>55935</td>\n",
              "      <td>10459691</td>\n",
              "      <td>Ñuble</td>\n",
              "    </tr>\n",
              "    <tr>\n",
              "      <th>341</th>\n",
              "      <td>Coihueco</td>\n",
              "      <td>28147</td>\n",
              "      <td>5001190</td>\n",
              "      <td>Ñuble</td>\n",
              "    </tr>\n",
              "    <tr>\n",
              "      <th>342</th>\n",
              "      <td>Ñiquén</td>\n",
              "      <td>11556</td>\n",
              "      <td>3386698</td>\n",
              "      <td>Ñuble</td>\n",
              "    </tr>\n",
              "    <tr>\n",
              "      <th>343</th>\n",
              "      <td>San Fabián</td>\n",
              "      <td>4607</td>\n",
              "      <td>1798500</td>\n",
              "      <td>Ñuble</td>\n",
              "    </tr>\n",
              "    <tr>\n",
              "      <th>344</th>\n",
              "      <td>San Nicolás</td>\n",
              "      <td>12068</td>\n",
              "      <td>3979700</td>\n",
              "      <td>Ñuble</td>\n",
              "    </tr>\n",
              "  </tbody>\n",
              "</table>\n",
              "<p>345 rows × 4 columns</p>\n",
              "</div>"
            ],
            "text/plain": [
              "     Nombre Comuna  POBLACIÓN  PRESUPUESTO Nombre Región\n",
              "0          Iquique     216514     59072234      Tarapacá\n",
              "1    Alto Hospicio     124150     13984411      Tarapacá\n",
              "2     Pozo Almonte      16683      7613962      Tarapacá\n",
              "3           Camiña       1345      1584008      Tarapacá\n",
              "4         Colchane       1556      2500000      Tarapacá\n",
              "..             ...        ...          ...           ...\n",
              "340     San Carlos      55935     10459691         Ñuble\n",
              "341       Coihueco      28147      5001190         Ñuble\n",
              "342         Ñiquén      11556      3386698         Ñuble\n",
              "343     San Fabián       4607      1798500         Ñuble\n",
              "344    San Nicolás      12068      3979700         Ñuble\n",
              "\n",
              "[345 rows x 4 columns]"
            ]
          },
          "metadata": {
            "tags": []
          },
          "execution_count": 18
        }
      ]
    },
    {
      "cell_type": "markdown",
      "metadata": {
        "id": "h3VeSTD_1SrO"
      },
      "source": [
        "## Datos de compras: operación entre columnas\n",
        "\n",
        "En este ejemplo vamos a crear dos DataFrame con datos de clientes y sus respectivas compras. Tendremos un DataFrame llamado `usuarios` que contiene:\n",
        "\n",
        "* El id del usuario\n",
        "* El nombre del usuario\n",
        "\n",
        "Por otro lado, tenemos el DataFrame llamado `productos` que contiene:\n",
        "\n",
        "* El id del producto\n",
        "* El nombre del producto\n",
        "* El precio unitario\n",
        "\n",
        "Finalmente, tenemos el DataFrame `compras` que contiene:\n",
        "\n",
        "* El id de un usuario\n",
        "* El id de un producto\n",
        "* La cantidad de unidades que ese usuario compró de ese producto"
      ]
    },
    {
      "cell_type": "code",
      "metadata": {
        "colab": {
          "base_uri": "https://localhost:8080/",
          "height": 144
        },
        "id": "Pxp67zY81SrS",
        "outputId": "40f76a1b-6e56-4c62-aa47-684b2936ce44"
      },
      "source": [
        "usuarios = pd.DataFrame(\n",
        "    {\n",
        "        'uid': [1, 2, 3],\n",
        "        'unombre': [\"Alice\", \"Bob\", \"Charles\"],\n",
        "    }\n",
        ")\n",
        "\n",
        "usuarios"
      ],
      "execution_count": 19,
      "outputs": [
        {
          "output_type": "execute_result",
          "data": {
            "text/html": [
              "<div>\n",
              "<style scoped>\n",
              "    .dataframe tbody tr th:only-of-type {\n",
              "        vertical-align: middle;\n",
              "    }\n",
              "\n",
              "    .dataframe tbody tr th {\n",
              "        vertical-align: top;\n",
              "    }\n",
              "\n",
              "    .dataframe thead th {\n",
              "        text-align: right;\n",
              "    }\n",
              "</style>\n",
              "<table border=\"1\" class=\"dataframe\">\n",
              "  <thead>\n",
              "    <tr style=\"text-align: right;\">\n",
              "      <th></th>\n",
              "      <th>uid</th>\n",
              "      <th>unombre</th>\n",
              "    </tr>\n",
              "  </thead>\n",
              "  <tbody>\n",
              "    <tr>\n",
              "      <th>0</th>\n",
              "      <td>1</td>\n",
              "      <td>Alice</td>\n",
              "    </tr>\n",
              "    <tr>\n",
              "      <th>1</th>\n",
              "      <td>2</td>\n",
              "      <td>Bob</td>\n",
              "    </tr>\n",
              "    <tr>\n",
              "      <th>2</th>\n",
              "      <td>3</td>\n",
              "      <td>Charles</td>\n",
              "    </tr>\n",
              "  </tbody>\n",
              "</table>\n",
              "</div>"
            ],
            "text/plain": [
              "   uid  unombre\n",
              "0    1    Alice\n",
              "1    2      Bob\n",
              "2    3  Charles"
            ]
          },
          "metadata": {
            "tags": []
          },
          "execution_count": 19
        }
      ]
    },
    {
      "cell_type": "code",
      "metadata": {
        "colab": {
          "base_uri": "https://localhost:8080/",
          "height": 144
        },
        "id": "Ei_axTni1SrV",
        "outputId": "bf4756b7-6b15-4824-b8b8-036179484ebe"
      },
      "source": [
        "productos = pd.DataFrame(\n",
        "    {\n",
        "        'pid': [1, 2, 3],\n",
        "        'pnombre': [\"Hamburguesa\", \"Garbanzos\", \"Agua\"],\n",
        "        'precio_unitario': [200, 300, 150]\n",
        "    }\n",
        ")\n",
        "\n",
        "productos"
      ],
      "execution_count": 20,
      "outputs": [
        {
          "output_type": "execute_result",
          "data": {
            "text/html": [
              "<div>\n",
              "<style scoped>\n",
              "    .dataframe tbody tr th:only-of-type {\n",
              "        vertical-align: middle;\n",
              "    }\n",
              "\n",
              "    .dataframe tbody tr th {\n",
              "        vertical-align: top;\n",
              "    }\n",
              "\n",
              "    .dataframe thead th {\n",
              "        text-align: right;\n",
              "    }\n",
              "</style>\n",
              "<table border=\"1\" class=\"dataframe\">\n",
              "  <thead>\n",
              "    <tr style=\"text-align: right;\">\n",
              "      <th></th>\n",
              "      <th>pid</th>\n",
              "      <th>pnombre</th>\n",
              "      <th>precio_unitario</th>\n",
              "    </tr>\n",
              "  </thead>\n",
              "  <tbody>\n",
              "    <tr>\n",
              "      <th>0</th>\n",
              "      <td>1</td>\n",
              "      <td>Hamburguesa</td>\n",
              "      <td>200</td>\n",
              "    </tr>\n",
              "    <tr>\n",
              "      <th>1</th>\n",
              "      <td>2</td>\n",
              "      <td>Garbanzos</td>\n",
              "      <td>300</td>\n",
              "    </tr>\n",
              "    <tr>\n",
              "      <th>2</th>\n",
              "      <td>3</td>\n",
              "      <td>Agua</td>\n",
              "      <td>150</td>\n",
              "    </tr>\n",
              "  </tbody>\n",
              "</table>\n",
              "</div>"
            ],
            "text/plain": [
              "   pid      pnombre  precio_unitario\n",
              "0    1  Hamburguesa              200\n",
              "1    2    Garbanzos              300\n",
              "2    3         Agua              150"
            ]
          },
          "metadata": {
            "tags": []
          },
          "execution_count": 20
        }
      ]
    },
    {
      "cell_type": "code",
      "metadata": {
        "colab": {
          "base_uri": "https://localhost:8080/",
          "height": 144
        },
        "id": "CVykav5o1SrX",
        "outputId": "b717d532-b66c-4b87-c23c-77ec37160ca7"
      },
      "source": [
        "compras = pd.DataFrame(\n",
        "    {\n",
        "        'uid': [1, 1, 3],\n",
        "        'pid': [1, 2, 1],\n",
        "        'cantidad': [5, 2, 3]\n",
        "    }\n",
        ")\n",
        "\n",
        "compras"
      ],
      "execution_count": 21,
      "outputs": [
        {
          "output_type": "execute_result",
          "data": {
            "text/html": [
              "<div>\n",
              "<style scoped>\n",
              "    .dataframe tbody tr th:only-of-type {\n",
              "        vertical-align: middle;\n",
              "    }\n",
              "\n",
              "    .dataframe tbody tr th {\n",
              "        vertical-align: top;\n",
              "    }\n",
              "\n",
              "    .dataframe thead th {\n",
              "        text-align: right;\n",
              "    }\n",
              "</style>\n",
              "<table border=\"1\" class=\"dataframe\">\n",
              "  <thead>\n",
              "    <tr style=\"text-align: right;\">\n",
              "      <th></th>\n",
              "      <th>uid</th>\n",
              "      <th>pid</th>\n",
              "      <th>cantidad</th>\n",
              "    </tr>\n",
              "  </thead>\n",
              "  <tbody>\n",
              "    <tr>\n",
              "      <th>0</th>\n",
              "      <td>1</td>\n",
              "      <td>1</td>\n",
              "      <td>5</td>\n",
              "    </tr>\n",
              "    <tr>\n",
              "      <th>1</th>\n",
              "      <td>1</td>\n",
              "      <td>2</td>\n",
              "      <td>2</td>\n",
              "    </tr>\n",
              "    <tr>\n",
              "      <th>2</th>\n",
              "      <td>3</td>\n",
              "      <td>1</td>\n",
              "      <td>3</td>\n",
              "    </tr>\n",
              "  </tbody>\n",
              "</table>\n",
              "</div>"
            ],
            "text/plain": [
              "   uid  pid  cantidad\n",
              "0    1    1         5\n",
              "1    1    2         2\n",
              "2    3    1         3"
            ]
          },
          "metadata": {
            "tags": []
          },
          "execution_count": 21
        }
      ]
    },
    {
      "cell_type": "markdown",
      "metadata": {
        "id": "Q8rjII4v1SrY"
      },
      "source": [
        "Si queremos ver que persona, compró qué producto y en qué cantidad podemos hacer un _merge_."
      ]
    },
    {
      "cell_type": "code",
      "metadata": {
        "colab": {
          "base_uri": "https://localhost:8080/",
          "height": 144
        },
        "id": "9T-gl0CU1SrZ",
        "outputId": "413e3ef2-7309-4685-b838-6d69ee216dd5"
      },
      "source": [
        "df_extended = usuarios.merge(compras, left_on=\"uid\", right_on=\"uid\")\n",
        "df_extended"
      ],
      "execution_count": 22,
      "outputs": [
        {
          "output_type": "execute_result",
          "data": {
            "text/html": [
              "<div>\n",
              "<style scoped>\n",
              "    .dataframe tbody tr th:only-of-type {\n",
              "        vertical-align: middle;\n",
              "    }\n",
              "\n",
              "    .dataframe tbody tr th {\n",
              "        vertical-align: top;\n",
              "    }\n",
              "\n",
              "    .dataframe thead th {\n",
              "        text-align: right;\n",
              "    }\n",
              "</style>\n",
              "<table border=\"1\" class=\"dataframe\">\n",
              "  <thead>\n",
              "    <tr style=\"text-align: right;\">\n",
              "      <th></th>\n",
              "      <th>uid</th>\n",
              "      <th>unombre</th>\n",
              "      <th>pid</th>\n",
              "      <th>cantidad</th>\n",
              "    </tr>\n",
              "  </thead>\n",
              "  <tbody>\n",
              "    <tr>\n",
              "      <th>0</th>\n",
              "      <td>1</td>\n",
              "      <td>Alice</td>\n",
              "      <td>1</td>\n",
              "      <td>5</td>\n",
              "    </tr>\n",
              "    <tr>\n",
              "      <th>1</th>\n",
              "      <td>1</td>\n",
              "      <td>Alice</td>\n",
              "      <td>2</td>\n",
              "      <td>2</td>\n",
              "    </tr>\n",
              "    <tr>\n",
              "      <th>2</th>\n",
              "      <td>3</td>\n",
              "      <td>Charles</td>\n",
              "      <td>1</td>\n",
              "      <td>3</td>\n",
              "    </tr>\n",
              "  </tbody>\n",
              "</table>\n",
              "</div>"
            ],
            "text/plain": [
              "   uid  unombre  pid  cantidad\n",
              "0    1    Alice    1         5\n",
              "1    1    Alice    2         2\n",
              "2    3  Charles    1         3"
            ]
          },
          "metadata": {
            "tags": []
          },
          "execution_count": 22
        }
      ]
    },
    {
      "cell_type": "markdown",
      "metadata": {
        "id": "hJQv85x71Sra"
      },
      "source": [
        "Ahora anexamos la información de productos."
      ]
    },
    {
      "cell_type": "code",
      "metadata": {
        "colab": {
          "base_uri": "https://localhost:8080/"
        },
        "id": "lxYmdzHO1Src",
        "outputId": "64c35802-64b6-4a0e-c303-16dacf83f8cb"
      },
      "source": [
        "df_extended = df_extended.merge(productos, left_on=\"pid\", right_on=\"pid\")\n",
        "df_extended.info()"
      ],
      "execution_count": 23,
      "outputs": [
        {
          "output_type": "stream",
          "text": [
            "<class 'pandas.core.frame.DataFrame'>\n",
            "Int64Index: 3 entries, 0 to 2\n",
            "Data columns (total 6 columns):\n",
            " #   Column           Non-Null Count  Dtype \n",
            "---  ------           --------------  ----- \n",
            " 0   uid              3 non-null      int64 \n",
            " 1   unombre          3 non-null      object\n",
            " 2   pid              3 non-null      int64 \n",
            " 3   cantidad         3 non-null      int64 \n",
            " 4   pnombre          3 non-null      object\n",
            " 5   precio_unitario  3 non-null      int64 \n",
            "dtypes: int64(4), object(2)\n",
            "memory usage: 168.0+ bytes\n"
          ],
          "name": "stdout"
        }
      ]
    },
    {
      "cell_type": "markdown",
      "metadata": {
        "id": "HqYsGzGN1Sre"
      },
      "source": [
        "Si queremos el total gastado por producto, por persona, tenemos que multiplicar la cantidad por el precio unitario"
      ]
    },
    {
      "cell_type": "code",
      "metadata": {
        "colab": {
          "base_uri": "https://localhost:8080/",
          "height": 144
        },
        "id": "vhHFvVYB1Sri",
        "outputId": "c6ae23e7-dca2-4129-fa97-ba978ac3aa03"
      },
      "source": [
        "df_extended"
      ],
      "execution_count": 24,
      "outputs": [
        {
          "output_type": "execute_result",
          "data": {
            "text/html": [
              "<div>\n",
              "<style scoped>\n",
              "    .dataframe tbody tr th:only-of-type {\n",
              "        vertical-align: middle;\n",
              "    }\n",
              "\n",
              "    .dataframe tbody tr th {\n",
              "        vertical-align: top;\n",
              "    }\n",
              "\n",
              "    .dataframe thead th {\n",
              "        text-align: right;\n",
              "    }\n",
              "</style>\n",
              "<table border=\"1\" class=\"dataframe\">\n",
              "  <thead>\n",
              "    <tr style=\"text-align: right;\">\n",
              "      <th></th>\n",
              "      <th>uid</th>\n",
              "      <th>unombre</th>\n",
              "      <th>pid</th>\n",
              "      <th>cantidad</th>\n",
              "      <th>pnombre</th>\n",
              "      <th>precio_unitario</th>\n",
              "    </tr>\n",
              "  </thead>\n",
              "  <tbody>\n",
              "    <tr>\n",
              "      <th>0</th>\n",
              "      <td>1</td>\n",
              "      <td>Alice</td>\n",
              "      <td>1</td>\n",
              "      <td>5</td>\n",
              "      <td>Hamburguesa</td>\n",
              "      <td>200</td>\n",
              "    </tr>\n",
              "    <tr>\n",
              "      <th>1</th>\n",
              "      <td>3</td>\n",
              "      <td>Charles</td>\n",
              "      <td>1</td>\n",
              "      <td>3</td>\n",
              "      <td>Hamburguesa</td>\n",
              "      <td>200</td>\n",
              "    </tr>\n",
              "    <tr>\n",
              "      <th>2</th>\n",
              "      <td>1</td>\n",
              "      <td>Alice</td>\n",
              "      <td>2</td>\n",
              "      <td>2</td>\n",
              "      <td>Garbanzos</td>\n",
              "      <td>300</td>\n",
              "    </tr>\n",
              "  </tbody>\n",
              "</table>\n",
              "</div>"
            ],
            "text/plain": [
              "   uid  unombre  pid  cantidad      pnombre  precio_unitario\n",
              "0    1    Alice    1         5  Hamburguesa              200\n",
              "1    3  Charles    1         3  Hamburguesa              200\n",
              "2    1    Alice    2         2    Garbanzos              300"
            ]
          },
          "metadata": {
            "tags": []
          },
          "execution_count": 24
        }
      ]
    },
    {
      "cell_type": "code",
      "metadata": {
        "colab": {
          "base_uri": "https://localhost:8080/"
        },
        "id": "JCpIOGaV1Srr",
        "outputId": "32b62e47-55be-410f-f704-7abfcc91d6d4"
      },
      "source": [
        "df_extended['cantidad'] * df_extended['precio_unitario']"
      ],
      "execution_count": 26,
      "outputs": [
        {
          "output_type": "execute_result",
          "data": {
            "text/plain": [
              "0    1000\n",
              "1     600\n",
              "2     600\n",
              "dtype: int64"
            ]
          },
          "metadata": {
            "tags": []
          },
          "execution_count": 26
        }
      ]
    },
    {
      "cell_type": "markdown",
      "metadata": {
        "id": "oE9JyKYM1Srt"
      },
      "source": [
        "Podemos asignar esto a una nueva columna."
      ]
    },
    {
      "cell_type": "code",
      "metadata": {
        "colab": {
          "base_uri": "https://localhost:8080/",
          "height": 144
        },
        "id": "a5XaOX3T1Srx",
        "outputId": "479b0754-f251-49a4-c17f-08f7137dac22"
      },
      "source": [
        "df_extended['total_por_producto'] = df_extended['cantidad'] * df_extended['precio_unitario']\n",
        "df_extended"
      ],
      "execution_count": 26,
      "outputs": [
        {
          "output_type": "execute_result",
          "data": {
            "text/html": [
              "<div>\n",
              "<style scoped>\n",
              "    .dataframe tbody tr th:only-of-type {\n",
              "        vertical-align: middle;\n",
              "    }\n",
              "\n",
              "    .dataframe tbody tr th {\n",
              "        vertical-align: top;\n",
              "    }\n",
              "\n",
              "    .dataframe thead th {\n",
              "        text-align: right;\n",
              "    }\n",
              "</style>\n",
              "<table border=\"1\" class=\"dataframe\">\n",
              "  <thead>\n",
              "    <tr style=\"text-align: right;\">\n",
              "      <th></th>\n",
              "      <th>uid</th>\n",
              "      <th>unombre</th>\n",
              "      <th>pid</th>\n",
              "      <th>cantidad</th>\n",
              "      <th>pnombre</th>\n",
              "      <th>precio_unitario</th>\n",
              "      <th>total_por_producto</th>\n",
              "    </tr>\n",
              "  </thead>\n",
              "  <tbody>\n",
              "    <tr>\n",
              "      <th>0</th>\n",
              "      <td>1</td>\n",
              "      <td>Alice</td>\n",
              "      <td>1</td>\n",
              "      <td>5</td>\n",
              "      <td>Hamburguesa</td>\n",
              "      <td>200</td>\n",
              "      <td>1000</td>\n",
              "    </tr>\n",
              "    <tr>\n",
              "      <th>1</th>\n",
              "      <td>3</td>\n",
              "      <td>Charles</td>\n",
              "      <td>1</td>\n",
              "      <td>3</td>\n",
              "      <td>Hamburguesa</td>\n",
              "      <td>200</td>\n",
              "      <td>600</td>\n",
              "    </tr>\n",
              "    <tr>\n",
              "      <th>2</th>\n",
              "      <td>1</td>\n",
              "      <td>Alice</td>\n",
              "      <td>2</td>\n",
              "      <td>2</td>\n",
              "      <td>Garbanzos</td>\n",
              "      <td>300</td>\n",
              "      <td>600</td>\n",
              "    </tr>\n",
              "  </tbody>\n",
              "</table>\n",
              "</div>"
            ],
            "text/plain": [
              "   uid  unombre  pid  ...      pnombre precio_unitario  total_por_producto\n",
              "0    1    Alice    1  ...  Hamburguesa             200                1000\n",
              "1    3  Charles    1  ...  Hamburguesa             200                 600\n",
              "2    1    Alice    2  ...    Garbanzos             300                 600\n",
              "\n",
              "[3 rows x 7 columns]"
            ]
          },
          "metadata": {
            "tags": []
          },
          "execution_count": 26
        }
      ]
    },
    {
      "cell_type": "markdown",
      "metadata": {
        "id": "AzHPlRm-1Sr5"
      },
      "source": [
        "Podemos dejar solamente las columnas de interes."
      ]
    },
    {
      "cell_type": "code",
      "metadata": {
        "colab": {
          "base_uri": "https://localhost:8080/",
          "height": 144
        },
        "id": "W7yMK-3r1Sr9",
        "outputId": "63339b37-5978-49a0-ee78-4464fa2b2fe2"
      },
      "source": [
        "df_extended = df_extended[['unombre', 'pnombre','total_por_producto']]\n",
        "df_extended"
      ],
      "execution_count": 27,
      "outputs": [
        {
          "output_type": "execute_result",
          "data": {
            "text/html": [
              "<div>\n",
              "<style scoped>\n",
              "    .dataframe tbody tr th:only-of-type {\n",
              "        vertical-align: middle;\n",
              "    }\n",
              "\n",
              "    .dataframe tbody tr th {\n",
              "        vertical-align: top;\n",
              "    }\n",
              "\n",
              "    .dataframe thead th {\n",
              "        text-align: right;\n",
              "    }\n",
              "</style>\n",
              "<table border=\"1\" class=\"dataframe\">\n",
              "  <thead>\n",
              "    <tr style=\"text-align: right;\">\n",
              "      <th></th>\n",
              "      <th>unombre</th>\n",
              "      <th>pnombre</th>\n",
              "      <th>total_por_producto</th>\n",
              "    </tr>\n",
              "  </thead>\n",
              "  <tbody>\n",
              "    <tr>\n",
              "      <th>0</th>\n",
              "      <td>Alice</td>\n",
              "      <td>Hamburguesa</td>\n",
              "      <td>1000</td>\n",
              "    </tr>\n",
              "    <tr>\n",
              "      <th>1</th>\n",
              "      <td>Charles</td>\n",
              "      <td>Hamburguesa</td>\n",
              "      <td>600</td>\n",
              "    </tr>\n",
              "    <tr>\n",
              "      <th>2</th>\n",
              "      <td>Alice</td>\n",
              "      <td>Garbanzos</td>\n",
              "      <td>600</td>\n",
              "    </tr>\n",
              "  </tbody>\n",
              "</table>\n",
              "</div>"
            ],
            "text/plain": [
              "   unombre      pnombre  total_por_producto\n",
              "0    Alice  Hamburguesa                1000\n",
              "1  Charles  Hamburguesa                 600\n",
              "2    Alice    Garbanzos                 600"
            ]
          },
          "metadata": {
            "tags": []
          },
          "execution_count": 27
        }
      ]
    },
    {
      "cell_type": "markdown",
      "metadata": {
        "id": "W4XAWCqZ1SsB"
      },
      "source": [
        "Y el total gastado por usuario."
      ]
    },
    {
      "cell_type": "code",
      "metadata": {
        "colab": {
          "base_uri": "https://localhost:8080/",
          "height": 144
        },
        "id": "lOaj6wk01SsN",
        "outputId": "6eb6a4dd-d1cc-4ead-eaa0-6a022eef374b"
      },
      "source": [
        "df_extended[['total_por_producto']].groupby(df_extended['unombre']).sum()"
      ],
      "execution_count": 28,
      "outputs": [
        {
          "output_type": "execute_result",
          "data": {
            "text/html": [
              "<div>\n",
              "<style scoped>\n",
              "    .dataframe tbody tr th:only-of-type {\n",
              "        vertical-align: middle;\n",
              "    }\n",
              "\n",
              "    .dataframe tbody tr th {\n",
              "        vertical-align: top;\n",
              "    }\n",
              "\n",
              "    .dataframe thead th {\n",
              "        text-align: right;\n",
              "    }\n",
              "</style>\n",
              "<table border=\"1\" class=\"dataframe\">\n",
              "  <thead>\n",
              "    <tr style=\"text-align: right;\">\n",
              "      <th></th>\n",
              "      <th>total_por_producto</th>\n",
              "    </tr>\n",
              "    <tr>\n",
              "      <th>unombre</th>\n",
              "      <th></th>\n",
              "    </tr>\n",
              "  </thead>\n",
              "  <tbody>\n",
              "    <tr>\n",
              "      <th>Alice</th>\n",
              "      <td>1600</td>\n",
              "    </tr>\n",
              "    <tr>\n",
              "      <th>Charles</th>\n",
              "      <td>600</td>\n",
              "    </tr>\n",
              "  </tbody>\n",
              "</table>\n",
              "</div>"
            ],
            "text/plain": [
              "         total_por_producto\n",
              "unombre                    \n",
              "Alice                  1600\n",
              "Charles                 600"
            ]
          },
          "metadata": {
            "tags": []
          },
          "execution_count": 28
        }
      ]
    }
  ]
}