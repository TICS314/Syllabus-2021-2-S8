{
 "cells": [
  {
   "cell_type": "markdown",
   "id": "7a95dbbb",
   "metadata": {},
   "source": [
    "# Detección de Outliers\n",
    "\n",
    "En este _notebook_ exploraremos el uso de la técnica varias técnicas de detección de _outliers_. En concreto, veremos:\n",
    "\n",
    "- DBSCAN (centrado en detección de _outliers_)\n",
    "- Gaussian Mixture Models (GMM)\n",
    "- K-Nearest Neighbors (KNN)\n",
    "- Métodos basados en distancia (Euclidiana y Mahalanobis)"
   ]
  },
  {
   "cell_type": "markdown",
   "id": "48a8ee01",
   "metadata": {},
   "source": [
    "## DBSCAN\n",
    "\n",
    "Vamos a partir con DBSCAN. Para esto vamos a crear un _dataset_ con un único _cluster_."
   ]
  },
  {
   "cell_type": "code",
   "execution_count": 1,
   "id": "1f56fb21",
   "metadata": {},
   "outputs": [
    {
     "data": {
      "text/html": [
       "<div>\n",
       "<style scoped>\n",
       "    .dataframe tbody tr th:only-of-type {\n",
       "        vertical-align: middle;\n",
       "    }\n",
       "\n",
       "    .dataframe tbody tr th {\n",
       "        vertical-align: top;\n",
       "    }\n",
       "\n",
       "    .dataframe thead th {\n",
       "        text-align: right;\n",
       "    }\n",
       "</style>\n",
       "<table border=\"1\" class=\"dataframe\">\n",
       "  <thead>\n",
       "    <tr style=\"text-align: right;\">\n",
       "      <th></th>\n",
       "      <th>Dimension 1</th>\n",
       "      <th>Dimension 2</th>\n",
       "    </tr>\n",
       "  </thead>\n",
       "  <tbody>\n",
       "    <tr>\n",
       "      <th>0</th>\n",
       "      <td>-0.971167</td>\n",
       "      <td>-0.149215</td>\n",
       "    </tr>\n",
       "    <tr>\n",
       "      <th>1</th>\n",
       "      <td>-0.442489</td>\n",
       "      <td>0.786330</td>\n",
       "    </tr>\n",
       "    <tr>\n",
       "      <th>2</th>\n",
       "      <td>0.828787</td>\n",
       "      <td>-0.693090</td>\n",
       "    </tr>\n",
       "    <tr>\n",
       "      <th>3</th>\n",
       "      <td>0.805701</td>\n",
       "      <td>-0.226802</td>\n",
       "    </tr>\n",
       "    <tr>\n",
       "      <th>4</th>\n",
       "      <td>0.682056</td>\n",
       "      <td>0.414880</td>\n",
       "    </tr>\n",
       "    <tr>\n",
       "      <th>...</th>\n",
       "      <td>...</td>\n",
       "      <td>...</td>\n",
       "    </tr>\n",
       "    <tr>\n",
       "      <th>195</th>\n",
       "      <td>0.479544</td>\n",
       "      <td>1.162035</td>\n",
       "    </tr>\n",
       "    <tr>\n",
       "      <th>196</th>\n",
       "      <td>0.398742</td>\n",
       "      <td>0.226518</td>\n",
       "    </tr>\n",
       "    <tr>\n",
       "      <th>197</th>\n",
       "      <td>-0.242857</td>\n",
       "      <td>0.171206</td>\n",
       "    </tr>\n",
       "    <tr>\n",
       "      <th>198</th>\n",
       "      <td>0.221080</td>\n",
       "      <td>1.074167</td>\n",
       "    </tr>\n",
       "    <tr>\n",
       "      <th>199</th>\n",
       "      <td>0.953741</td>\n",
       "      <td>0.052591</td>\n",
       "    </tr>\n",
       "  </tbody>\n",
       "</table>\n",
       "<p>200 rows × 2 columns</p>\n",
       "</div>"
      ],
      "text/plain": [
       "     Dimension 1  Dimension 2\n",
       "0      -0.971167    -0.149215\n",
       "1      -0.442489     0.786330\n",
       "2       0.828787    -0.693090\n",
       "3       0.805701    -0.226802\n",
       "4       0.682056     0.414880\n",
       "..           ...          ...\n",
       "195     0.479544     1.162035\n",
       "196     0.398742     0.226518\n",
       "197    -0.242857     0.171206\n",
       "198     0.221080     1.074167\n",
       "199     0.953741     0.052591\n",
       "\n",
       "[200 rows x 2 columns]"
      ]
     },
     "execution_count": 1,
     "metadata": {},
     "output_type": "execute_result"
    }
   ],
   "source": [
    "from sklearn.datasets import make_blobs\n",
    "import pandas as pd\n",
    "import seaborn as sns\n",
    "\n",
    "clusters = make_blobs(\n",
    "    n_samples=200,\n",
    "    centers=[(0, 0)], \n",
    "    cluster_std=[0.7]\n",
    ")\n",
    "X = pd.DataFrame(clusters[0], columns=[\"Dimension 1\", \"Dimension 2\"])\n",
    "X"
   ]
  },
  {
   "cell_type": "code",
   "execution_count": 2,
   "id": "ebd626a7",
   "metadata": {},
   "outputs": [
    {
     "data": {
      "text/plain": [
       "<AxesSubplot:xlabel='Dimension 1', ylabel='Dimension 2'>"
      ]
     },
     "execution_count": 2,
     "metadata": {},
     "output_type": "execute_result"
    },
    {
     "data": {
      "image/png": "[encoded data removed]",
      "text/plain": [
       "<Figure size 432x288 with 1 Axes>"
      ]
     },
     "metadata": {
      "needs_background": "light"
     },
     "output_type": "display_data"
    }
   ],
   "source": [
    "sns.scatterplot(data=X, x=\"Dimension 1\", y=\"Dimension 2\")"
   ]
  },
  {
   "cell_type": "markdown",
   "id": "9ecbffd1",
   "metadata": {},
   "source": [
    "Ahora vamos a usar DBSCAN para encontrar _clusters_."
   ]
  },
  {
   "cell_type": "code",
   "execution_count": 3,
   "id": "b27be3a4",
   "metadata": {},
   "outputs": [
    {
     "data": {
      "text/plain": [
       "array([ 0,  0,  0,  0,  0,  0,  0,  0,  0,  0,  0,  0,  0, -1,  0,  0,  0,\n",
       "        0,  0,  0,  0,  0,  0,  0,  0,  0,  0,  0,  0,  0,  0,  0,  0,  0,\n",
       "        0,  0,  0,  0,  0,  0,  0,  0,  0, -1,  0,  0,  0,  0,  0,  0,  0,\n",
       "        0,  0,  0,  0,  0,  0,  0,  0,  0, -1,  0,  0,  0, -1,  0, -1, -1,\n",
       "        0,  0,  0, -1, -1,  0,  0,  0,  0,  0,  0,  0, -1,  0,  0,  0,  0,\n",
       "        0, -1,  0,  0,  0,  0,  0,  0,  0,  0,  0,  0, -1,  0,  0,  0,  0,\n",
       "        0,  0,  0, -1,  0,  0,  0,  0,  0,  0, -1,  0,  0,  0,  0,  0,  0,\n",
       "        0,  0,  0,  0,  0,  0,  0,  0,  0,  0,  0, -1, -1,  0,  0,  0,  0,\n",
       "        0,  0,  0,  0,  0,  0,  0,  0,  0,  0,  0,  0,  0,  0,  0,  0,  0,\n",
       "        0,  0,  0,  0, -1,  0,  0,  0,  0, -1,  0,  0,  0, -1,  0,  0,  0,\n",
       "        0,  0,  0,  0,  0,  0,  0, -1,  0,  0,  0,  0,  0, -1,  0,  0,  0,\n",
       "        0,  0,  0,  0,  0,  0,  0,  0,  0,  0,  0,  0,  0])"
      ]
     },
     "execution_count": 3,
     "metadata": {},
     "output_type": "execute_result"
    }
   ],
   "source": [
    "from sklearn.cluster import DBSCAN\n",
    "\n",
    "# Usamos DBSCAN señalando que queremos un epsilon de 0.3 y un minimo de vecindad igual a 5\n",
    "dbscan = DBSCAN(eps=0.3, min_samples=5)\n",
    "y_pred = dbscan.fit_predict(X)\n",
    "y_pred"
   ]
  },
  {
   "cell_type": "markdown",
   "id": "0c1b0a54",
   "metadata": {},
   "source": [
    "Ahora vamos a visualizar los _clusters_."
   ]
  },
  {
   "cell_type": "code",
   "execution_count": 4,
   "id": "13abe179",
   "metadata": {},
   "outputs": [
    {
     "data": {
      "text/html": [
       "<div>\n",
       "<style scoped>\n",
       "    .dataframe tbody tr th:only-of-type {\n",
       "        vertical-align: middle;\n",
       "    }\n",
       "\n",
       "    .dataframe tbody tr th {\n",
       "        vertical-align: top;\n",
       "    }\n",
       "\n",
       "    .dataframe thead th {\n",
       "        text-align: right;\n",
       "    }\n",
       "</style>\n",
       "<table border=\"1\" class=\"dataframe\">\n",
       "  <thead>\n",
       "    <tr style=\"text-align: right;\">\n",
       "      <th></th>\n",
       "      <th>Dimension 1</th>\n",
       "      <th>Dimension 2</th>\n",
       "      <th>Cluster</th>\n",
       "    </tr>\n",
       "  </thead>\n",
       "  <tbody>\n",
       "    <tr>\n",
       "      <th>0</th>\n",
       "      <td>-0.971167</td>\n",
       "      <td>-0.149215</td>\n",
       "      <td>0</td>\n",
       "    </tr>\n",
       "    <tr>\n",
       "      <th>1</th>\n",
       "      <td>-0.442489</td>\n",
       "      <td>0.786330</td>\n",
       "      <td>0</td>\n",
       "    </tr>\n",
       "    <tr>\n",
       "      <th>2</th>\n",
       "      <td>0.828787</td>\n",
       "      <td>-0.693090</td>\n",
       "      <td>0</td>\n",
       "    </tr>\n",
       "    <tr>\n",
       "      <th>3</th>\n",
       "      <td>0.805701</td>\n",
       "      <td>-0.226802</td>\n",
       "      <td>0</td>\n",
       "    </tr>\n",
       "    <tr>\n",
       "      <th>4</th>\n",
       "      <td>0.682056</td>\n",
       "      <td>0.414880</td>\n",
       "      <td>0</td>\n",
       "    </tr>\n",
       "    <tr>\n",
       "      <th>...</th>\n",
       "      <td>...</td>\n",
       "      <td>...</td>\n",
       "      <td>...</td>\n",
       "    </tr>\n",
       "    <tr>\n",
       "      <th>195</th>\n",
       "      <td>0.479544</td>\n",
       "      <td>1.162035</td>\n",
       "      <td>0</td>\n",
       "    </tr>\n",
       "    <tr>\n",
       "      <th>196</th>\n",
       "      <td>0.398742</td>\n",
       "      <td>0.226518</td>\n",
       "      <td>0</td>\n",
       "    </tr>\n",
       "    <tr>\n",
       "      <th>197</th>\n",
       "      <td>-0.242857</td>\n",
       "      <td>0.171206</td>\n",
       "      <td>0</td>\n",
       "    </tr>\n",
       "    <tr>\n",
       "      <th>198</th>\n",
       "      <td>0.221080</td>\n",
       "      <td>1.074167</td>\n",
       "      <td>0</td>\n",
       "    </tr>\n",
       "    <tr>\n",
       "      <th>199</th>\n",
       "      <td>0.953741</td>\n",
       "      <td>0.052591</td>\n",
       "      <td>0</td>\n",
       "    </tr>\n",
       "  </tbody>\n",
       "</table>\n",
       "<p>200 rows × 3 columns</p>\n",
       "</div>"
      ],
      "text/plain": [
       "     Dimension 1  Dimension 2  Cluster\n",
       "0      -0.971167    -0.149215        0\n",
       "1      -0.442489     0.786330        0\n",
       "2       0.828787    -0.693090        0\n",
       "3       0.805701    -0.226802        0\n",
       "4       0.682056     0.414880        0\n",
       "..           ...          ...      ...\n",
       "195     0.479544     1.162035        0\n",
       "196     0.398742     0.226518        0\n",
       "197    -0.242857     0.171206        0\n",
       "198     0.221080     1.074167        0\n",
       "199     0.953741     0.052591        0\n",
       "\n",
       "[200 rows x 3 columns]"
      ]
     },
     "execution_count": 4,
     "metadata": {},
     "output_type": "execute_result"
    }
   ],
   "source": [
    "y = pd.DataFrame(y_pred, columns=[\"Cluster\"])\n",
    "X_cluster = X.join(y)\n",
    "X_cluster"
   ]
  },
  {
   "cell_type": "code",
   "execution_count": 5,
   "id": "78e7f00e",
   "metadata": {},
   "outputs": [
    {
     "data": {
      "text/plain": [
       "<AxesSubplot:xlabel='Dimension 1', ylabel='Dimension 2'>"
      ]
     },
     "execution_count": 5,
     "metadata": {},
     "output_type": "execute_result"
    },
    {
     "data": {
      "image/png": "[encoded data removed]",
      "text/plain": [
       "<Figure size 432x288 with 1 Axes>"
      ]
     },
     "metadata": {
      "needs_background": "light"
     },
     "output_type": "display_data"
    }
   ],
   "source": [
    "sns.scatterplot(data=X_cluster, x=\"Dimension 1\", y=\"Dimension 2\", hue=\"Cluster\", palette=\"rainbow\")"
   ]
  },
  {
   "cell_type": "markdown",
   "id": "26078bc9",
   "metadata": {},
   "source": [
    "Prueba cambiando las distintas configuraciones de `eps` y `min_samples` para ver los distintos _clusters_. Recuerda que los _outliers_ quedan en el _cluster_ $-1$."
   ]
  },
  {
   "cell_type": "markdown",
   "id": "c176c40b",
   "metadata": {},
   "source": [
    "## GMM\n",
    "\n",
    "Este método asume que tenemos _clusters_ que provienen de una distribución Gausiana (generalizada para más de una dimensión). No vamos a discutir cómo encontrar el número de _clusters_ ni los detalles técnicos, pero si la idea es visualizar las distribuciones asociadas a cada _cluster_. Vamos a partir creando un _dataset_ que tiene 3 clusters."
   ]
  },
  {
   "cell_type": "code",
   "execution_count": 6,
   "id": "09f91eb7",
   "metadata": {},
   "outputs": [
    {
     "data": {
      "text/html": [
       "<div>\n",
       "<style scoped>\n",
       "    .dataframe tbody tr th:only-of-type {\n",
       "        vertical-align: middle;\n",
       "    }\n",
       "\n",
       "    .dataframe tbody tr th {\n",
       "        vertical-align: top;\n",
       "    }\n",
       "\n",
       "    .dataframe thead th {\n",
       "        text-align: right;\n",
       "    }\n",
       "</style>\n",
       "<table border=\"1\" class=\"dataframe\">\n",
       "  <thead>\n",
       "    <tr style=\"text-align: right;\">\n",
       "      <th></th>\n",
       "      <th>Dimension 1</th>\n",
       "      <th>Dimension 2</th>\n",
       "    </tr>\n",
       "  </thead>\n",
       "  <tbody>\n",
       "    <tr>\n",
       "      <th>0</th>\n",
       "      <td>4.166718</td>\n",
       "      <td>7.267054</td>\n",
       "    </tr>\n",
       "    <tr>\n",
       "      <th>1</th>\n",
       "      <td>0.452946</td>\n",
       "      <td>0.611701</td>\n",
       "    </tr>\n",
       "    <tr>\n",
       "      <th>2</th>\n",
       "      <td>3.001964</td>\n",
       "      <td>1.064905</td>\n",
       "    </tr>\n",
       "    <tr>\n",
       "      <th>3</th>\n",
       "      <td>4.072062</td>\n",
       "      <td>5.721567</td>\n",
       "    </tr>\n",
       "    <tr>\n",
       "      <th>4</th>\n",
       "      <td>-0.211225</td>\n",
       "      <td>0.349707</td>\n",
       "    </tr>\n",
       "    <tr>\n",
       "      <th>...</th>\n",
       "      <td>...</td>\n",
       "      <td>...</td>\n",
       "    </tr>\n",
       "    <tr>\n",
       "      <th>195</th>\n",
       "      <td>3.547654</td>\n",
       "      <td>6.456896</td>\n",
       "    </tr>\n",
       "    <tr>\n",
       "      <th>196</th>\n",
       "      <td>-0.129037</td>\n",
       "      <td>-0.120064</td>\n",
       "    </tr>\n",
       "    <tr>\n",
       "      <th>197</th>\n",
       "      <td>-0.048766</td>\n",
       "      <td>0.121096</td>\n",
       "    </tr>\n",
       "    <tr>\n",
       "      <th>198</th>\n",
       "      <td>2.147834</td>\n",
       "      <td>0.867633</td>\n",
       "    </tr>\n",
       "    <tr>\n",
       "      <th>199</th>\n",
       "      <td>-0.104981</td>\n",
       "      <td>0.347980</td>\n",
       "    </tr>\n",
       "  </tbody>\n",
       "</table>\n",
       "<p>200 rows × 2 columns</p>\n",
       "</div>"
      ],
      "text/plain": [
       "     Dimension 1  Dimension 2\n",
       "0       4.166718     7.267054\n",
       "1       0.452946     0.611701\n",
       "2       3.001964     1.064905\n",
       "3       4.072062     5.721567\n",
       "4      -0.211225     0.349707\n",
       "..           ...          ...\n",
       "195     3.547654     6.456896\n",
       "196    -0.129037    -0.120064\n",
       "197    -0.048766     0.121096\n",
       "198     2.147834     0.867633\n",
       "199    -0.104981     0.347980\n",
       "\n",
       "[200 rows x 2 columns]"
      ]
     },
     "execution_count": 6,
     "metadata": {},
     "output_type": "execute_result"
    }
   ],
   "source": [
    "clusters = make_blobs(\n",
    "    n_samples=200,\n",
    "    centers=[(0, 0), (3, 1), (4, 7)], \n",
    "    cluster_std=[0.3, 0.5, 0.7]\n",
    ")\n",
    "X = pd.DataFrame(clusters[0], columns=[\"Dimension 1\", \"Dimension 2\"])\n",
    "X"
   ]
  },
  {
   "cell_type": "markdown",
   "id": "a8e7a74c",
   "metadata": {},
   "source": [
    "Vamos a visualizar el _dataset_."
   ]
  },
  {
   "cell_type": "code",
   "execution_count": 7,
   "id": "f9ad9243",
   "metadata": {},
   "outputs": [
    {
     "data": {
      "text/plain": [
       "<AxesSubplot:xlabel='Dimension 1', ylabel='Dimension 2'>"
      ]
     },
     "execution_count": 7,
     "metadata": {},
     "output_type": "execute_result"
    },
    {
     "data": {
      "image/png": "[encoded data removed]",
      "text/plain": [
       "<Figure size 432x288 with 1 Axes>"
      ]
     },
     "metadata": {
      "needs_background": "light"
     },
     "output_type": "display_data"
    }
   ],
   "source": [
    "import seaborn as sns\n",
    "\n",
    "sns.scatterplot(data=X, x=\"Dimension 1\", y=\"Dimension 2\")"
   ]
  },
  {
   "cell_type": "markdown",
   "id": "8f4151dc",
   "metadata": {},
   "source": [
    "Ahora vamos a entrenar un modelo GMM para hacer _clustering_ del _dataset_."
   ]
  },
  {
   "cell_type": "code",
   "execution_count": 8,
   "id": "bf98c952",
   "metadata": {},
   "outputs": [
    {
     "data": {
      "text/plain": [
       "GaussianMixture(n_components=3, n_init=8)"
      ]
     },
     "execution_count": 8,
     "metadata": {},
     "output_type": "execute_result"
    }
   ],
   "source": [
    "from sklearn.mixture import GaussianMixture\n",
    "\n",
    "# Sabemos de antemano que tenemos 3 clusters\n",
    "gm = GaussianMixture(n_components=3, n_init=8)\n",
    "gm.fit(X)"
   ]
  },
  {
   "cell_type": "markdown",
   "id": "21736789",
   "metadata": {},
   "source": [
    "Ahora vamos a predecir y vamos a visualizar los _clusters_."
   ]
  },
  {
   "cell_type": "code",
   "execution_count": 9,
   "id": "20e18b48",
   "metadata": {},
   "outputs": [
    {
     "data": {
      "text/plain": [
       "array([[4.23592332e-196, 1.00000000e+000, 2.47931593e-035],\n",
       "       [9.99977741e-001, 4.95901311e-022, 2.22591795e-005],\n",
       "       [2.86809735e-027, 4.64051114e-017, 1.00000000e+000],\n",
       "       [1.48402772e-134, 1.00000000e+000, 6.70022422e-020],\n",
       "       [1.00000000e+000, 2.03463053e-026, 3.53393472e-010],\n",
       "       [1.54009993e-033, 1.11603040e-014, 1.00000000e+000],\n",
       "       [4.69823744e-206, 1.00000000e+000, 4.49560721e-038],\n",
       "       [1.77442587e-019, 8.11288381e-022, 1.00000000e+000],\n",
       "       [2.05298687e-027, 9.58516251e-019, 1.00000000e+000],\n",
       "       [1.00000000e+000, 1.49784515e-031, 2.09022761e-013],\n",
       "       [1.39667273e-040, 1.65111480e-014, 1.00000000e+000],\n",
       "       [1.63760155e-015, 2.05633230e-018, 1.00000000e+000],\n",
       "       [1.14359862e-188, 1.00000000e+000, 7.14004768e-035],\n",
       "       [9.99999974e-001, 2.47148552e-025, 2.57723507e-008],\n",
       "       [9.99999996e-001, 1.65587256e-029, 3.50599979e-009],\n",
       "       [5.87816991e-184, 1.00000000e+000, 3.23650872e-032],\n",
       "       [1.00000000e+000, 1.67533446e-029, 1.42181156e-010],\n",
       "       [1.00000000e+000, 2.33764894e-029, 7.98986569e-012],\n",
       "       [1.00000000e+000, 3.90665790e-029, 1.56112700e-011],\n",
       "       [1.15181341e-041, 5.10820038e-016, 1.00000000e+000],\n",
       "       [6.81898371e-033, 1.00519176e-015, 1.00000000e+000],\n",
       "       [1.00000000e+000, 4.32900276e-029, 1.28866709e-011],\n",
       "       [9.99999774e-001, 2.69560805e-027, 2.26254920e-007],\n",
       "       [1.00000000e+000, 8.98860314e-028, 7.79578296e-011],\n",
       "       [1.74736342e-023, 1.70596112e-010, 1.00000000e+000],\n",
       "       [4.64124579e-235, 1.00000000e+000, 1.14170020e-042],\n",
       "       [9.99999844e-001, 6.86201319e-027, 1.56175074e-007],\n",
       "       [1.00000000e+000, 1.59858015e-028, 1.11539785e-010],\n",
       "       [1.54538430e-024, 5.52740618e-022, 1.00000000e+000],\n",
       "       [6.41629000e-156, 1.00000000e+000, 3.41865268e-022],\n",
       "       [4.87261035e-142, 1.00000000e+000, 2.01002414e-022],\n",
       "       [4.03335811e-165, 1.00000000e+000, 3.74231752e-028],\n",
       "       [2.88693747e-029, 9.32514758e-014, 1.00000000e+000],\n",
       "       [2.67595334e-024, 3.12231041e-019, 1.00000000e+000],\n",
       "       [9.71460651e-224, 1.00000000e+000, 1.19081902e-040],\n",
       "       [2.96462029e-020, 1.70684393e-021, 1.00000000e+000],\n",
       "       [1.05045857e-138, 1.00000000e+000, 2.93047279e-022],\n",
       "       [2.44410975e-202, 1.00000000e+000, 7.18430602e-036],\n",
       "       [1.00000000e+000, 4.71611395e-029, 1.44981486e-011],\n",
       "       [1.00000000e+000, 8.54434038e-030, 2.99780042e-011],\n",
       "       [9.99999996e-001, 1.21691656e-029, 3.69998401e-009],\n",
       "       [3.62891151e-201, 1.00000000e+000, 2.01094201e-037],\n",
       "       [7.86585352e-216, 1.00000000e+000, 4.52549301e-040],\n",
       "       [1.27152909e-193, 1.00000000e+000, 6.71647754e-034],\n",
       "       [8.68141035e-023, 4.43157118e-020, 1.00000000e+000],\n",
       "       [1.97537999e-011, 1.99792406e-016, 1.00000000e+000],\n",
       "       [9.99999982e-001, 1.36064403e-025, 1.80252214e-008],\n",
       "       [1.00000000e+000, 2.20308935e-028, 4.68691545e-010],\n",
       "       [1.00000000e+000, 2.26671126e-031, 5.32294113e-012],\n",
       "       [3.08879768e-029, 2.89303795e-022, 1.00000000e+000],\n",
       "       [1.00000000e+000, 1.60811429e-028, 9.81538232e-011],\n",
       "       [1.13370148e-238, 1.00000000e+000, 7.41785804e-046],\n",
       "       [9.99999999e-001, 1.07361457e-027, 5.53510852e-010],\n",
       "       [9.99999999e-001, 1.00912372e-029, 5.72711016e-010],\n",
       "       [1.97367058e-015, 2.75186940e-018, 1.00000000e+000],\n",
       "       [1.00000000e+000, 6.46928014e-027, 1.55166064e-010],\n",
       "       [2.60519673e-193, 1.00000000e+000, 1.62480114e-033],\n",
       "       [1.27181653e-197, 1.00000000e+000, 1.55180290e-036],\n",
       "       [1.00449983e-129, 1.00000000e+000, 1.41750683e-019],\n",
       "       [1.00000000e+000, 3.71360370e-029, 4.29732267e-011],\n",
       "       [1.40230558e-213, 1.00000000e+000, 2.61562223e-037],\n",
       "       [6.42683871e-177, 1.00000000e+000, 2.29740414e-032],\n",
       "       [2.83385724e-021, 4.84491011e-019, 1.00000000e+000],\n",
       "       [1.00000000e+000, 4.38924494e-029, 1.36489887e-010],\n",
       "       [9.99999968e-001, 1.61752752e-026, 3.17442245e-008],\n",
       "       [3.67772204e-032, 5.51003900e-015, 1.00000000e+000],\n",
       "       [3.77581273e-033, 6.91537149e-015, 1.00000000e+000],\n",
       "       [1.00000000e+000, 5.28449789e-030, 2.08377273e-010],\n",
       "       [2.23402966e-033, 5.82115205e-015, 1.00000000e+000],\n",
       "       [1.84579350e-020, 2.66315445e-018, 1.00000000e+000],\n",
       "       [2.32014553e-024, 1.15218961e-015, 1.00000000e+000],\n",
       "       [8.04854438e-141, 1.00000000e+000, 8.50796692e-024],\n",
       "       [1.25144067e-040, 6.08974696e-017, 1.00000000e+000],\n",
       "       [6.08289795e-191, 1.00000000e+000, 2.30396491e-033],\n",
       "       [1.70465094e-196, 1.00000000e+000, 8.44984289e-034],\n",
       "       [6.26683283e-018, 5.90284872e-017, 1.00000000e+000],\n",
       "       [8.67409749e-217, 1.00000000e+000, 1.57061155e-039],\n",
       "       [1.09817904e-143, 1.00000000e+000, 3.10067250e-023],\n",
       "       [1.47176408e-032, 5.36943166e-020, 1.00000000e+000],\n",
       "       [1.00000000e+000, 1.02238034e-028, 2.32382013e-011],\n",
       "       [1.00000000e+000, 6.20749806e-029, 3.74750143e-010],\n",
       "       [1.00000000e+000, 2.22682174e-030, 6.59018247e-013],\n",
       "       [9.99999999e-001, 4.26340768e-028, 1.48538460e-009],\n",
       "       [9.99999994e-001, 7.20425331e-028, 6.09005545e-009],\n",
       "       [4.50181713e-119, 1.00000000e+000, 7.54403964e-017],\n",
       "       [9.99999990e-001, 1.06094021e-027, 1.01522146e-008],\n",
       "       [8.10931201e-020, 5.73255095e-012, 1.00000000e+000],\n",
       "       [2.45612102e-177, 1.00000000e+000, 2.48768294e-032],\n",
       "       [3.86766658e-041, 1.74678843e-014, 1.00000000e+000],\n",
       "       [1.00000000e+000, 4.91551080e-028, 1.10942911e-011],\n",
       "       [3.49036509e-027, 3.43394128e-023, 1.00000000e+000],\n",
       "       [1.16134181e-191, 1.00000000e+000, 5.10634159e-032],\n",
       "       [1.22380533e-229, 1.00000000e+000, 1.45372223e-042],\n",
       "       [1.42273948e-200, 1.00000000e+000, 8.94948292e-037],\n",
       "       [1.06349203e-173, 1.00000000e+000, 4.92362407e-029],\n",
       "       [5.07802356e-030, 3.53360063e-017, 1.00000000e+000],\n",
       "       [2.15120766e-029, 5.18685746e-019, 1.00000000e+000],\n",
       "       [1.67565495e-192, 1.00000000e+000, 4.84356242e-032],\n",
       "       [2.60880874e-026, 1.14732182e-016, 1.00000000e+000],\n",
       "       [1.45468808e-028, 2.35822553e-015, 1.00000000e+000],\n",
       "       [3.20842822e-176, 1.00000000e+000, 2.66683068e-031],\n",
       "       [2.74980486e-028, 4.03444135e-014, 1.00000000e+000],\n",
       "       [1.41600147e-018, 4.50164858e-012, 1.00000000e+000],\n",
       "       [6.65547384e-246, 1.00000000e+000, 4.36368450e-047],\n",
       "       [1.64543709e-187, 1.00000000e+000, 7.25772986e-033],\n",
       "       [1.12013979e-040, 1.59780691e-016, 1.00000000e+000],\n",
       "       [4.70143363e-034, 8.22917113e-019, 1.00000000e+000],\n",
       "       [1.24615411e-026, 1.05947775e-016, 1.00000000e+000],\n",
       "       [5.51670186e-209, 1.00000000e+000, 8.41818745e-038],\n",
       "       [9.99999992e-001, 9.46208829e-028, 7.90127066e-009],\n",
       "       [8.03799801e-239, 1.00000000e+000, 5.38314704e-046],\n",
       "       [9.81231725e-175, 1.00000000e+000, 3.57263400e-031],\n",
       "       [1.18183916e-133, 1.00000000e+000, 1.83971720e-020],\n",
       "       [9.99999996e-001, 4.19280533e-027, 4.11008716e-009],\n",
       "       [9.99999997e-001, 8.76592851e-029, 2.82108254e-009],\n",
       "       [2.07297679e-243, 1.00000000e+000, 3.19850356e-046],\n",
       "       [3.51494622e-022, 1.52366512e-016, 1.00000000e+000],\n",
       "       [2.00773230e-164, 1.00000000e+000, 6.68055978e-029],\n",
       "       [9.99925973e-001, 6.10040640e-021, 7.40271285e-005],\n",
       "       [1.00000000e+000, 1.75134489e-027, 1.45430420e-011],\n",
       "       [2.10492275e-189, 1.00000000e+000, 8.76858667e-034],\n",
       "       [2.98668860e-020, 7.19723994e-018, 1.00000000e+000],\n",
       "       [1.00000000e+000, 1.49597722e-031, 1.67762658e-012],\n",
       "       [1.00000000e+000, 2.11886922e-026, 6.20261586e-011],\n",
       "       [6.82956723e-020, 2.80630876e-020, 1.00000000e+000],\n",
       "       [3.42477606e-219, 1.00000000e+000, 2.59813523e-041],\n",
       "       [4.06823566e-012, 3.92543658e-018, 1.00000000e+000],\n",
       "       [2.09720194e-037, 1.95222466e-013, 1.00000000e+000],\n",
       "       [3.29135846e-020, 1.25642197e-019, 1.00000000e+000],\n",
       "       [1.52868050e-035, 3.62084827e-016, 1.00000000e+000],\n",
       "       [1.36605953e-042, 5.80106280e-016, 1.00000000e+000],\n",
       "       [2.58645837e-156, 1.00000000e+000, 1.73083455e-027],\n",
       "       [1.00000000e+000, 4.33139010e-029, 3.13757996e-011],\n",
       "       [8.79081745e-212, 1.00000000e+000, 5.76252937e-039],\n",
       "       [5.82862276e-183, 1.00000000e+000, 3.11686055e-033],\n",
       "       [5.79391938e-190, 1.00000000e+000, 8.35411967e-034],\n",
       "       [8.38613358e-172, 1.00000000e+000, 1.23963788e-028],\n",
       "       [6.47228785e-026, 1.14830166e-012, 1.00000000e+000],\n",
       "       [1.35061585e-028, 5.31989007e-021, 1.00000000e+000],\n",
       "       [1.00000000e+000, 1.33955874e-027, 8.97652795e-011],\n",
       "       [1.00000000e+000, 1.13077871e-028, 6.72228404e-011],\n",
       "       [5.12179146e-036, 2.02909872e-011, 1.00000000e+000],\n",
       "       [7.94964479e-019, 2.30864989e-020, 1.00000000e+000],\n",
       "       [3.15396746e-150, 1.00000000e+000, 1.79384717e-023],\n",
       "       [6.54268155e-037, 1.12353608e-015, 1.00000000e+000],\n",
       "       [9.99999992e-001, 2.02543777e-028, 7.50498013e-009],\n",
       "       [1.00000000e+000, 7.18478656e-029, 6.17093687e-011],\n",
       "       [2.61746642e-145, 1.00000000e+000, 7.82304272e-025],\n",
       "       [8.89752391e-289, 1.00000000e+000, 9.77010468e-056],\n",
       "       [1.00000000e+000, 3.28837986e-030, 1.23348235e-011],\n",
       "       [1.04169636e-219, 1.00000000e+000, 5.04366461e-039],\n",
       "       [9.61796275e-159, 1.00000000e+000, 6.93864975e-026],\n",
       "       [6.70384771e-173, 1.00000000e+000, 5.56022699e-029],\n",
       "       [7.08048804e-136, 1.00000000e+000, 5.61548525e-023],\n",
       "       [1.09106274e-026, 3.66605064e-016, 1.00000000e+000],\n",
       "       [9.99999529e-001, 5.22223322e-025, 4.70867379e-007],\n",
       "       [5.10701694e-225, 1.00000000e+000, 1.41690534e-041],\n",
       "       [4.17888856e-218, 1.00000000e+000, 3.33535732e-040],\n",
       "       [1.27265853e-046, 2.56586728e-012, 1.00000000e+000],\n",
       "       [8.32698721e-044, 1.46412266e-020, 1.00000000e+000],\n",
       "       [9.99997677e-001, 4.94691611e-025, 2.32304327e-006],\n",
       "       [9.99999998e-001, 2.38564233e-029, 1.78406871e-009],\n",
       "       [9.99999954e-001, 1.52102102e-027, 4.55033238e-008],\n",
       "       [7.47117343e-227, 1.00000000e+000, 4.64128604e-042],\n",
       "       [8.95057161e-209, 1.00000000e+000, 1.29549056e-038],\n",
       "       [1.33091380e-175, 1.00000000e+000, 9.06494322e-031],\n",
       "       [8.07744786e-028, 6.89939887e-016, 1.00000000e+000],\n",
       "       [1.00000000e+000, 5.73659901e-031, 1.90060227e-012],\n",
       "       [1.10066393e-025, 4.09727287e-017, 1.00000000e+000],\n",
       "       [1.00000000e+000, 4.92284895e-028, 7.51264642e-012],\n",
       "       [2.16878364e-210, 1.00000000e+000, 3.02498338e-037],\n",
       "       [9.99999996e-001, 8.18347325e-027, 4.35253672e-009],\n",
       "       [1.79128194e-027, 6.96510825e-016, 1.00000000e+000],\n",
       "       [9.76615887e-210, 1.00000000e+000, 1.30116170e-039],\n",
       "       [1.00000000e+000, 1.25089089e-030, 2.78978911e-012],\n",
       "       [6.71625090e-029, 1.93636022e-015, 1.00000000e+000],\n",
       "       [9.99999994e-001, 4.74983120e-027, 5.65579418e-009],\n",
       "       [7.81376091e-016, 2.45924774e-017, 1.00000000e+000],\n",
       "       [1.00000000e+000, 6.99045674e-029, 1.83262578e-011],\n",
       "       [3.06380792e-032, 7.33333684e-018, 1.00000000e+000],\n",
       "       [9.99999922e-001, 1.75360004e-026, 7.82927869e-008],\n",
       "       [9.99999998e-001, 1.23093636e-025, 1.61575735e-009],\n",
       "       [2.20107962e-025, 4.98120151e-020, 1.00000000e+000],\n",
       "       [9.99999941e-001, 1.34983380e-025, 5.94930475e-008],\n",
       "       [3.75271309e-184, 1.00000000e+000, 6.39004510e-034],\n",
       "       [4.25915310e-029, 4.88733701e-016, 1.00000000e+000],\n",
       "       [1.00000000e+000, 7.57395766e-027, 2.57325822e-011],\n",
       "       [1.00000000e+000, 1.97528307e-029, 5.49795015e-012],\n",
       "       [2.45567565e-177, 1.00000000e+000, 3.90477823e-031],\n",
       "       [2.32416432e-019, 6.97772805e-019, 1.00000000e+000],\n",
       "       [9.99999999e-001, 7.32442390e-028, 8.41065640e-010],\n",
       "       [4.87323701e-031, 3.15903877e-017, 1.00000000e+000],\n",
       "       [1.20047072e-031, 6.57652169e-016, 1.00000000e+000],\n",
       "       [4.41708878e-025, 6.07513102e-018, 1.00000000e+000],\n",
       "       [1.00000000e+000, 1.65135285e-029, 9.86886885e-011],\n",
       "       [5.08156803e-152, 1.00000000e+000, 1.66276311e-025],\n",
       "       [1.00000000e+000, 2.23621697e-029, 3.69657664e-011],\n",
       "       [1.00000000e+000, 1.00072087e-027, 3.41859644e-010],\n",
       "       [6.41437783e-014, 4.06616832e-018, 1.00000000e+000],\n",
       "       [9.99999999e-001, 3.22558797e-026, 1.05568633e-009]])"
      ]
     },
     "execution_count": 9,
     "metadata": {},
     "output_type": "execute_result"
    }
   ],
   "source": [
    "# Primero vemos las probabilidades de pertenencia de cada elemento\n",
    "# a cada cluster. A diferencia de K-Means, GMM permite pertenencias parciales.\n",
    "\n",
    "gm.predict_proba(X)"
   ]
  },
  {
   "cell_type": "code",
   "execution_count": 10,
   "id": "666bd39c",
   "metadata": {},
   "outputs": [
    {
     "data": {
      "text/html": [
       "<div>\n",
       "<style scoped>\n",
       "    .dataframe tbody tr th:only-of-type {\n",
       "        vertical-align: middle;\n",
       "    }\n",
       "\n",
       "    .dataframe tbody tr th {\n",
       "        vertical-align: top;\n",
       "    }\n",
       "\n",
       "    .dataframe thead th {\n",
       "        text-align: right;\n",
       "    }\n",
       "</style>\n",
       "<table border=\"1\" class=\"dataframe\">\n",
       "  <thead>\n",
       "    <tr style=\"text-align: right;\">\n",
       "      <th></th>\n",
       "      <th>Cluster</th>\n",
       "    </tr>\n",
       "  </thead>\n",
       "  <tbody>\n",
       "    <tr>\n",
       "      <th>0</th>\n",
       "      <td>1</td>\n",
       "    </tr>\n",
       "    <tr>\n",
       "      <th>1</th>\n",
       "      <td>0</td>\n",
       "    </tr>\n",
       "    <tr>\n",
       "      <th>2</th>\n",
       "      <td>2</td>\n",
       "    </tr>\n",
       "    <tr>\n",
       "      <th>3</th>\n",
       "      <td>1</td>\n",
       "    </tr>\n",
       "    <tr>\n",
       "      <th>4</th>\n",
       "      <td>0</td>\n",
       "    </tr>\n",
       "    <tr>\n",
       "      <th>...</th>\n",
       "      <td>...</td>\n",
       "    </tr>\n",
       "    <tr>\n",
       "      <th>195</th>\n",
       "      <td>1</td>\n",
       "    </tr>\n",
       "    <tr>\n",
       "      <th>196</th>\n",
       "      <td>0</td>\n",
       "    </tr>\n",
       "    <tr>\n",
       "      <th>197</th>\n",
       "      <td>0</td>\n",
       "    </tr>\n",
       "    <tr>\n",
       "      <th>198</th>\n",
       "      <td>2</td>\n",
       "    </tr>\n",
       "    <tr>\n",
       "      <th>199</th>\n",
       "      <td>0</td>\n",
       "    </tr>\n",
       "  </tbody>\n",
       "</table>\n",
       "<p>200 rows × 1 columns</p>\n",
       "</div>"
      ],
      "text/plain": [
       "     Cluster\n",
       "0          1\n",
       "1          0\n",
       "2          2\n",
       "3          1\n",
       "4          0\n",
       "..       ...\n",
       "195        1\n",
       "196        0\n",
       "197        0\n",
       "198        2\n",
       "199        0\n",
       "\n",
       "[200 rows x 1 columns]"
      ]
     },
     "execution_count": 10,
     "metadata": {},
     "output_type": "execute_result"
    }
   ],
   "source": [
    "# Y ahora vamos a predecir\n",
    "\n",
    "y_pred = gm.predict(X)\n",
    "y_clusters = pd.DataFrame(y_pred, columns=[\"Cluster\"])\n",
    "y_clusters"
   ]
  },
  {
   "cell_type": "code",
   "execution_count": 11,
   "id": "fb88c6eb",
   "metadata": {},
   "outputs": [
    {
     "data": {
      "text/html": [
       "<div>\n",
       "<style scoped>\n",
       "    .dataframe tbody tr th:only-of-type {\n",
       "        vertical-align: middle;\n",
       "    }\n",
       "\n",
       "    .dataframe tbody tr th {\n",
       "        vertical-align: top;\n",
       "    }\n",
       "\n",
       "    .dataframe thead th {\n",
       "        text-align: right;\n",
       "    }\n",
       "</style>\n",
       "<table border=\"1\" class=\"dataframe\">\n",
       "  <thead>\n",
       "    <tr style=\"text-align: right;\">\n",
       "      <th></th>\n",
       "      <th>Dimension 1</th>\n",
       "      <th>Dimension 2</th>\n",
       "      <th>Cluster</th>\n",
       "    </tr>\n",
       "  </thead>\n",
       "  <tbody>\n",
       "    <tr>\n",
       "      <th>0</th>\n",
       "      <td>4.166718</td>\n",
       "      <td>7.267054</td>\n",
       "      <td>1</td>\n",
       "    </tr>\n",
       "    <tr>\n",
       "      <th>1</th>\n",
       "      <td>0.452946</td>\n",
       "      <td>0.611701</td>\n",
       "      <td>0</td>\n",
       "    </tr>\n",
       "    <tr>\n",
       "      <th>2</th>\n",
       "      <td>3.001964</td>\n",
       "      <td>1.064905</td>\n",
       "      <td>2</td>\n",
       "    </tr>\n",
       "    <tr>\n",
       "      <th>3</th>\n",
       "      <td>4.072062</td>\n",
       "      <td>5.721567</td>\n",
       "      <td>1</td>\n",
       "    </tr>\n",
       "    <tr>\n",
       "      <th>4</th>\n",
       "      <td>-0.211225</td>\n",
       "      <td>0.349707</td>\n",
       "      <td>0</td>\n",
       "    </tr>\n",
       "    <tr>\n",
       "      <th>...</th>\n",
       "      <td>...</td>\n",
       "      <td>...</td>\n",
       "      <td>...</td>\n",
       "    </tr>\n",
       "    <tr>\n",
       "      <th>195</th>\n",
       "      <td>3.547654</td>\n",
       "      <td>6.456896</td>\n",
       "      <td>1</td>\n",
       "    </tr>\n",
       "    <tr>\n",
       "      <th>196</th>\n",
       "      <td>-0.129037</td>\n",
       "      <td>-0.120064</td>\n",
       "      <td>0</td>\n",
       "    </tr>\n",
       "    <tr>\n",
       "      <th>197</th>\n",
       "      <td>-0.048766</td>\n",
       "      <td>0.121096</td>\n",
       "      <td>0</td>\n",
       "    </tr>\n",
       "    <tr>\n",
       "      <th>198</th>\n",
       "      <td>2.147834</td>\n",
       "      <td>0.867633</td>\n",
       "      <td>2</td>\n",
       "    </tr>\n",
       "    <tr>\n",
       "      <th>199</th>\n",
       "      <td>-0.104981</td>\n",
       "      <td>0.347980</td>\n",
       "      <td>0</td>\n",
       "    </tr>\n",
       "  </tbody>\n",
       "</table>\n",
       "<p>200 rows × 3 columns</p>\n",
       "</div>"
      ],
      "text/plain": [
       "     Dimension 1  Dimension 2  Cluster\n",
       "0       4.166718     7.267054        1\n",
       "1       0.452946     0.611701        0\n",
       "2       3.001964     1.064905        2\n",
       "3       4.072062     5.721567        1\n",
       "4      -0.211225     0.349707        0\n",
       "..           ...          ...      ...\n",
       "195     3.547654     6.456896        1\n",
       "196    -0.129037    -0.120064        0\n",
       "197    -0.048766     0.121096        0\n",
       "198     2.147834     0.867633        2\n",
       "199    -0.104981     0.347980        0\n",
       "\n",
       "[200 rows x 3 columns]"
      ]
     },
     "execution_count": 11,
     "metadata": {},
     "output_type": "execute_result"
    }
   ],
   "source": [
    "# Ahora a visualizar\n",
    "\n",
    "df = X.join(y_clusters)\n",
    "df"
   ]
  },
  {
   "cell_type": "code",
   "execution_count": 12,
   "id": "07631b0d",
   "metadata": {},
   "outputs": [
    {
     "data": {
      "text/plain": [
       "<AxesSubplot:xlabel='Dimension 1', ylabel='Dimension 2'>"
      ]
     },
     "execution_count": 12,
     "metadata": {},
     "output_type": "execute_result"
    },
    {
     "data": {
      "image/png": "[encoded data removed]",
      "text/plain": [
       "<Figure size 432x288 with 1 Axes>"
      ]
     },
     "metadata": {
      "needs_background": "light"
     },
     "output_type": "display_data"
    }
   ],
   "source": [
    "sns.scatterplot(data=df, x=\"Dimension 1\", y=\"Dimension 2\", hue=\"Cluster\", palette=\"deep\")"
   ]
  },
  {
   "cell_type": "markdown",
   "id": "edf3b535",
   "metadata": {},
   "source": [
    "Como vemos, cada punto pertenece al _cluster_ que teenía una mayor probabilidad. Sin embargo, recordemos que este método sirve para hacer _soft clustering_, es decir, al revisar las probabilidades podemos entender que un punto podría pertenecer a más de un _cluster_ a la vez.\n",
    "\n",
    "## Graficando las distribuciones\n",
    "\n",
    "Ahora vamos a graficar las distribuciones de probabilidad. La idea es visualizar en qué zonas la función de densidad de probabilidad es mayor. Ojo, esto ocurre en los centros, donde se ubican las medias de las distribuciones gausianas.\n",
    "\n",
    "**Ojo**: la función de más abajo, `score_samples` estima el logaritmo de la función de densidad de probabilidad en el punto. Para obtener el valor de la densidad, debemos usar la función exponencial."
   ]
  },
  {
   "cell_type": "code",
   "execution_count": 13,
   "id": "633ff8d9",
   "metadata": {},
   "outputs": [
    {
     "data": {
      "text/plain": [
       "array([-2.30873371, -4.11055931, -1.58251031, -4.09515879, -1.53322221,\n",
       "       -2.13848274, -2.63154383, -3.48085476, -1.76904171, -3.35508906,\n",
       "       -2.93549332, -2.64441824, -3.49495586, -1.42913724, -2.38373541,\n",
       "       -2.29459326, -0.68153348, -0.82409895, -0.64616596, -3.01039461,\n",
       "       -1.90948108, -0.72504459, -2.39661732, -0.81173989, -5.66831659,\n",
       "       -4.13050613, -1.81177277, -0.36331379, -3.35129895, -6.22071308,\n",
       "       -3.30939443, -2.4726011 , -2.34191135, -1.87387571, -3.20682794,\n",
       "       -3.16658898, -3.40504711, -2.645961  , -0.69512516, -0.66146325,\n",
       "       -2.70109872, -3.1116087 , -2.70046784, -2.53822238, -2.2172258 ,\n",
       "       -4.19930043, -1.26942402, -0.36965801, -2.46867079, -3.71810274,\n",
       "       -0.37862694, -4.304337  , -0.41743408, -1.50089682, -2.65713222,\n",
       "       -1.34947587, -2.74929536, -2.918096  , -3.98415265, -0.43964808,\n",
       "       -3.92142751, -3.77935681, -1.95420632, -0.42885439, -1.0245106 ,\n",
       "       -1.98860641, -2.06649106, -1.39014418, -2.06563707, -1.9015729 ,\n",
       "       -1.85432554, -3.92510016, -2.88662923, -2.47810899, -3.1675478 ,\n",
       "       -2.29925619, -2.74047698, -3.16112321, -2.55699215, -0.66323721,\n",
       "       -0.52973049, -1.95929188, -0.49777666, -0.83100776, -4.83179766,\n",
       "       -0.94544128, -5.00681469, -3.48301089, -3.02367563, -1.65981315,\n",
       "       -4.50279031, -3.84972391, -3.07851058, -2.50758366, -2.7653038 ,\n",
       "       -1.66863034, -1.92786465, -4.06382901, -1.60356916, -1.80678095,\n",
       "       -2.48456967, -2.20907663, -5.27880236, -3.91915616, -2.33963592,\n",
       "       -2.85908034, -2.28525437, -1.5978584 , -2.55023434, -0.8715543 ,\n",
       "       -4.628484  , -2.66272182, -3.75391916, -0.60352353, -1.18124507,\n",
       "       -3.59294252, -1.82331751, -2.87753198, -5.16291661, -2.2157123 ,\n",
       "       -2.26913774, -1.89955914, -2.70690991, -2.77135131, -2.48826335,\n",
       "       -3.23916816, -3.51094301, -2.79505956, -2.20367061, -2.12226224,\n",
       "       -3.17641049, -3.61031156, -0.48180576, -2.55027605, -2.84232116,\n",
       "       -2.26948176, -2.76313205, -3.17546368, -2.76455511, -0.90009366,\n",
       "       -0.4051287 , -3.61024802, -2.63577157, -3.41636221, -2.30642559,\n",
       "       -1.34079671, -0.39517573, -3.75084133, -6.30337317, -0.92255562,\n",
       "       -3.74035904, -2.86253561, -2.68560576, -4.58897429, -1.65932075,\n",
       "       -1.88785344, -2.91091586, -2.68451759, -4.42986126, -4.69742633,\n",
       "       -2.47358605, -1.62590423, -1.57991263, -2.95234402, -2.62659838,\n",
       "       -2.333059  , -1.69659439, -1.77289229, -1.58625207, -1.97587534,\n",
       "       -3.14962473, -0.67312859, -1.69827325, -3.90151964, -1.38955758,\n",
       "       -1.789499  , -0.65077733, -2.63990093, -0.67583518, -1.88870651,\n",
       "       -1.30912551, -1.807258  , -2.15649086, -1.31355095, -3.61696676,\n",
       "       -1.68840935, -2.77129136, -0.96079085, -2.31234321, -2.09542455,\n",
       "       -0.39085772, -1.73085881, -1.80738688, -1.61988449, -0.60947266,\n",
       "       -2.8749236 , -0.48771731, -0.45165322, -3.00864618, -1.29400326])"
      ]
     },
     "execution_count": 13,
     "metadata": {},
     "output_type": "execute_result"
    }
   ],
   "source": [
    "# Para obtener la densidad de probabilidad en cada punto hacemos esto\n",
    "proba = gm.score_samples(X)\n",
    "proba"
   ]
  },
  {
   "cell_type": "code",
   "execution_count": 14,
   "id": "0b9ad21f",
   "metadata": {},
   "outputs": [
    {
     "data": {
      "text/plain": [
       "<AxesSubplot:xlabel='Dimension 1', ylabel='Dimension 2'>"
      ]
     },
     "execution_count": 14,
     "metadata": {},
     "output_type": "execute_result"
    },
    {
     "data": {
      "image/png": "[encoded data removed]",
      "text/plain": [
       "<Figure size 432x288 with 1 Axes>"
      ]
     },
     "metadata": {
      "needs_background": "light"
     },
     "output_type": "display_data"
    }
   ],
   "source": [
    "import matplotlib.pyplot as plt\n",
    "from matplotlib.colors import ListedColormap\n",
    "import numpy as np\n",
    "\n",
    "pallete_back = sns.color_palette(\"viridis\", as_cmap=True)\n",
    "\n",
    "x_min, x_max = X[\"Dimension 1\"].min() - 1, X[\"Dimension 1\"].max() + 1\n",
    "y_min, y_max = X[\"Dimension 2\"].min() - 1, X[\"Dimension 2\"].max() + 1\n",
    "\n",
    "# Generamos las combinaciones de x/y del plano en los rangos\n",
    "xx, yy = np.meshgrid(np.arange(x_min, x_max, 0.02),\n",
    "                     np.arange(y_min, y_max, 0.02))\n",
    "\n",
    "proba = gm.score_samples(np.c_[xx.ravel(), yy.ravel()])\n",
    "proba = np.exp(proba)\n",
    "\n",
    "p_20 = np.percentile(proba, 20)\n",
    "p_40 = np.percentile(proba, 40)\n",
    "p_60 = np.percentile(proba, 60)\n",
    "p_80 = np.percentile(proba, 80)\n",
    "p_90 = np.percentile(proba, 90)\n",
    "\n",
    "proba_copy = np.zeros(len(proba))\n",
    "for i in range(len(proba)):\n",
    "    if proba[i] <= p_20:\n",
    "        proba_copy[i] = 0\n",
    "    elif proba[i] <= p_40:\n",
    "        proba_copy[i] = 1\n",
    "    elif proba[i] <= p_60:\n",
    "        proba_copy[i] = 2\n",
    "    elif proba[i] <= p_80:\n",
    "        proba_copy[i] = 3\n",
    "    elif proba[i] <= p_90:\n",
    "        proba_copy[i] = 4\n",
    "    else:\n",
    "        proba_copy[i] = 5\n",
    "    \n",
    "        \n",
    "Z = proba_copy.reshape(xx.shape)\n",
    "plt.figure()\n",
    "\n",
    "plt.pcolormesh(xx, yy, Z, cmap=pallete_back, shading='auto', alpha=0.2)\n",
    "sns.scatterplot(data=df, x=\"Dimension 1\", y=\"Dimension 2\", hue=\"Cluster\", palette=\"deep\")"
   ]
  },
  {
   "cell_type": "markdown",
   "id": "3ee404dc",
   "metadata": {},
   "source": [
    "De esta forma podemos entender las zonas donde cada una de las distribuciones tiene un mayor valor en su función de densidad, que es el lugar donde está la media. De la misma forma, para detectar **outliers**, podemos ver los elementos que están en zonas de baja densidad."
   ]
  },
  {
   "cell_type": "markdown",
   "id": "c6d4334d",
   "metadata": {},
   "source": [
    "## KNN\n",
    "\n",
    "Ahora vamos a usar el modelo de `KNN` implementado por Scikit Learn. Luego vamos a computar las distancias de cada punto a sus vecinos."
   ]
  },
  {
   "cell_type": "code",
   "execution_count": 15,
   "id": "1f5751c2",
   "metadata": {},
   "outputs": [
    {
     "data": {
      "text/html": [
       "<div>\n",
       "<style scoped>\n",
       "    .dataframe tbody tr th:only-of-type {\n",
       "        vertical-align: middle;\n",
       "    }\n",
       "\n",
       "    .dataframe tbody tr th {\n",
       "        vertical-align: top;\n",
       "    }\n",
       "\n",
       "    .dataframe thead th {\n",
       "        text-align: right;\n",
       "    }\n",
       "</style>\n",
       "<table border=\"1\" class=\"dataframe\">\n",
       "  <thead>\n",
       "    <tr style=\"text-align: right;\">\n",
       "      <th></th>\n",
       "      <th>Dimension 1</th>\n",
       "      <th>Dimension 2</th>\n",
       "    </tr>\n",
       "  </thead>\n",
       "  <tbody>\n",
       "    <tr>\n",
       "      <th>0</th>\n",
       "      <td>0.126017</td>\n",
       "      <td>0.062615</td>\n",
       "    </tr>\n",
       "    <tr>\n",
       "      <th>1</th>\n",
       "      <td>0.195464</td>\n",
       "      <td>-0.067009</td>\n",
       "    </tr>\n",
       "    <tr>\n",
       "      <th>2</th>\n",
       "      <td>0.034169</td>\n",
       "      <td>0.092561</td>\n",
       "    </tr>\n",
       "    <tr>\n",
       "      <th>3</th>\n",
       "      <td>-0.065716</td>\n",
       "      <td>0.017099</td>\n",
       "    </tr>\n",
       "    <tr>\n",
       "      <th>4</th>\n",
       "      <td>-0.113958</td>\n",
       "      <td>0.050310</td>\n",
       "    </tr>\n",
       "    <tr>\n",
       "      <th>...</th>\n",
       "      <td>...</td>\n",
       "      <td>...</td>\n",
       "    </tr>\n",
       "    <tr>\n",
       "      <th>65</th>\n",
       "      <td>-0.093501</td>\n",
       "      <td>0.013758</td>\n",
       "    </tr>\n",
       "    <tr>\n",
       "      <th>66</th>\n",
       "      <td>-0.036111</td>\n",
       "      <td>0.152575</td>\n",
       "    </tr>\n",
       "    <tr>\n",
       "      <th>67</th>\n",
       "      <td>0.020073</td>\n",
       "      <td>-0.013795</td>\n",
       "    </tr>\n",
       "    <tr>\n",
       "      <th>68</th>\n",
       "      <td>0.068616</td>\n",
       "      <td>-0.018498</td>\n",
       "    </tr>\n",
       "    <tr>\n",
       "      <th>69</th>\n",
       "      <td>-0.143541</td>\n",
       "      <td>-0.015406</td>\n",
       "    </tr>\n",
       "  </tbody>\n",
       "</table>\n",
       "<p>70 rows × 2 columns</p>\n",
       "</div>"
      ],
      "text/plain": [
       "    Dimension 1  Dimension 2\n",
       "0      0.126017     0.062615\n",
       "1      0.195464    -0.067009\n",
       "2      0.034169     0.092561\n",
       "3     -0.065716     0.017099\n",
       "4     -0.113958     0.050310\n",
       "..          ...          ...\n",
       "65    -0.093501     0.013758\n",
       "66    -0.036111     0.152575\n",
       "67     0.020073    -0.013795\n",
       "68     0.068616    -0.018498\n",
       "69    -0.143541    -0.015406\n",
       "\n",
       "[70 rows x 2 columns]"
      ]
     },
     "execution_count": 15,
     "metadata": {},
     "output_type": "execute_result"
    }
   ],
   "source": [
    "clusters = make_blobs(\n",
    "    n_samples=70,\n",
    "    centers=[(0, 0)], \n",
    "    cluster_std=[0.1]\n",
    ")\n",
    "X = pd.DataFrame(clusters[0], columns=[\"Dimension 1\", \"Dimension 2\"])\n",
    "X"
   ]
  },
  {
   "cell_type": "code",
   "execution_count": 16,
   "id": "21772d76",
   "metadata": {},
   "outputs": [
    {
     "data": {
      "text/plain": [
       "<AxesSubplot:xlabel='Dimension 1', ylabel='Dimension 2'>"
      ]
     },
     "execution_count": 16,
     "metadata": {},
     "output_type": "execute_result"
    },
    {
     "data": {
      "image/png": "[encoded data removed]",
      "text/plain": [
       "<Figure size 432x288 with 1 Axes>"
      ]
     },
     "metadata": {
      "needs_background": "light"
     },
     "output_type": "display_data"
    }
   ],
   "source": [
    "sns.scatterplot(data=X, x=\"Dimension 1\", y=\"Dimension 2\")"
   ]
  },
  {
   "cell_type": "code",
   "execution_count": 17,
   "id": "4209160d",
   "metadata": {},
   "outputs": [
    {
     "data": {
      "text/plain": [
       "NearestNeighbors(n_neighbors=3)"
      ]
     },
     "execution_count": 17,
     "metadata": {},
     "output_type": "execute_result"
    }
   ],
   "source": [
    "from sklearn.neighbors import NearestNeighbors\n",
    "\n",
    "knn = NearestNeighbors(n_neighbors = 3)\n",
    "knn.fit(X)"
   ]
  },
  {
   "cell_type": "markdown",
   "id": "db425549",
   "metadata": {},
   "source": [
    "Ahora vamos a mostrar para cada punto del _dataset_ la distancia a sus 5 puntos más cercanos, junto con el _id_ de aquellos puntos."
   ]
  },
  {
   "cell_type": "code",
   "execution_count": 18,
   "id": "2bd7db1b",
   "metadata": {},
   "outputs": [],
   "source": [
    "distances, indexes = knn.kneighbors(X)"
   ]
  },
  {
   "cell_type": "code",
   "execution_count": 19,
   "id": "bf94023d",
   "metadata": {},
   "outputs": [
    {
     "data": {
      "text/html": [
       "<div>\n",
       "<style scoped>\n",
       "    .dataframe tbody tr th:only-of-type {\n",
       "        vertical-align: middle;\n",
       "    }\n",
       "\n",
       "    .dataframe tbody tr th {\n",
       "        vertical-align: top;\n",
       "    }\n",
       "\n",
       "    .dataframe thead th {\n",
       "        text-align: right;\n",
       "    }\n",
       "</style>\n",
       "<table border=\"1\" class=\"dataframe\">\n",
       "  <thead>\n",
       "    <tr style=\"text-align: right;\">\n",
       "      <th></th>\n",
       "      <th>p1</th>\n",
       "      <th>p2</th>\n",
       "      <th>p3</th>\n",
       "    </tr>\n",
       "  </thead>\n",
       "  <tbody>\n",
       "    <tr>\n",
       "      <th>0</th>\n",
       "      <td>0.0</td>\n",
       "      <td>0.012787</td>\n",
       "      <td>0.032204</td>\n",
       "    </tr>\n",
       "    <tr>\n",
       "      <th>1</th>\n",
       "      <td>0.0</td>\n",
       "      <td>0.044640</td>\n",
       "      <td>0.047720</td>\n",
       "    </tr>\n",
       "    <tr>\n",
       "      <th>2</th>\n",
       "      <td>0.0</td>\n",
       "      <td>0.024004</td>\n",
       "      <td>0.035973</td>\n",
       "    </tr>\n",
       "    <tr>\n",
       "      <th>3</th>\n",
       "      <td>0.0</td>\n",
       "      <td>0.004564</td>\n",
       "      <td>0.015790</td>\n",
       "    </tr>\n",
       "    <tr>\n",
       "      <th>4</th>\n",
       "      <td>0.0</td>\n",
       "      <td>0.022443</td>\n",
       "      <td>0.036425</td>\n",
       "    </tr>\n",
       "    <tr>\n",
       "      <th>...</th>\n",
       "      <td>...</td>\n",
       "      <td>...</td>\n",
       "      <td>...</td>\n",
       "    </tr>\n",
       "    <tr>\n",
       "      <th>65</th>\n",
       "      <td>0.0</td>\n",
       "      <td>0.021403</td>\n",
       "      <td>0.025823</td>\n",
       "    </tr>\n",
       "    <tr>\n",
       "      <th>66</th>\n",
       "      <td>0.0</td>\n",
       "      <td>0.023517</td>\n",
       "      <td>0.049688</td>\n",
       "    </tr>\n",
       "    <tr>\n",
       "      <th>67</th>\n",
       "      <td>0.0</td>\n",
       "      <td>0.018074</td>\n",
       "      <td>0.029394</td>\n",
       "    </tr>\n",
       "    <tr>\n",
       "      <th>68</th>\n",
       "      <td>0.0</td>\n",
       "      <td>0.003958</td>\n",
       "      <td>0.035215</td>\n",
       "    </tr>\n",
       "    <tr>\n",
       "      <th>69</th>\n",
       "      <td>0.0</td>\n",
       "      <td>0.009849</td>\n",
       "      <td>0.041060</td>\n",
       "    </tr>\n",
       "  </tbody>\n",
       "</table>\n",
       "<p>70 rows × 3 columns</p>\n",
       "</div>"
      ],
      "text/plain": [
       "     p1        p2        p3\n",
       "0   0.0  0.012787  0.032204\n",
       "1   0.0  0.044640  0.047720\n",
       "2   0.0  0.024004  0.035973\n",
       "3   0.0  0.004564  0.015790\n",
       "4   0.0  0.022443  0.036425\n",
       "..  ...       ...       ...\n",
       "65  0.0  0.021403  0.025823\n",
       "66  0.0  0.023517  0.049688\n",
       "67  0.0  0.018074  0.029394\n",
       "68  0.0  0.003958  0.035215\n",
       "69  0.0  0.009849  0.041060\n",
       "\n",
       "[70 rows x 3 columns]"
      ]
     },
     "execution_count": 19,
     "metadata": {},
     "output_type": "execute_result"
    }
   ],
   "source": [
    "df_distances = pd.DataFrame(distances, columns=[\"p1\", \"p2\", \"p3\"])\n",
    "df_distances"
   ]
  },
  {
   "cell_type": "markdown",
   "id": "f296d5df",
   "metadata": {},
   "source": [
    "Ojo, el punto más cercano a cada elemento es el mismo punto, por eso la distancia es 0. Ahora veremos para cada punto cuáles son sus vecinos más cercanos."
   ]
  },
  {
   "cell_type": "code",
   "execution_count": 20,
   "id": "946196a3",
   "metadata": {},
   "outputs": [
    {
     "data": {
      "text/html": [
       "<div>\n",
       "<style scoped>\n",
       "    .dataframe tbody tr th:only-of-type {\n",
       "        vertical-align: middle;\n",
       "    }\n",
       "\n",
       "    .dataframe tbody tr th {\n",
       "        vertical-align: top;\n",
       "    }\n",
       "\n",
       "    .dataframe thead th {\n",
       "        text-align: right;\n",
       "    }\n",
       "</style>\n",
       "<table border=\"1\" class=\"dataframe\">\n",
       "  <thead>\n",
       "    <tr style=\"text-align: right;\">\n",
       "      <th></th>\n",
       "      <th>p1</th>\n",
       "      <th>p2</th>\n",
       "      <th>p3</th>\n",
       "    </tr>\n",
       "  </thead>\n",
       "  <tbody>\n",
       "    <tr>\n",
       "      <th>0</th>\n",
       "      <td>0</td>\n",
       "      <td>58</td>\n",
       "      <td>52</td>\n",
       "    </tr>\n",
       "    <tr>\n",
       "      <th>1</th>\n",
       "      <td>1</td>\n",
       "      <td>54</td>\n",
       "      <td>14</td>\n",
       "    </tr>\n",
       "    <tr>\n",
       "      <th>2</th>\n",
       "      <td>2</td>\n",
       "      <td>47</td>\n",
       "      <td>60</td>\n",
       "    </tr>\n",
       "    <tr>\n",
       "      <th>3</th>\n",
       "      <td>3</td>\n",
       "      <td>39</td>\n",
       "      <td>59</td>\n",
       "    </tr>\n",
       "    <tr>\n",
       "      <th>4</th>\n",
       "      <td>4</td>\n",
       "      <td>30</td>\n",
       "      <td>53</td>\n",
       "    </tr>\n",
       "    <tr>\n",
       "      <th>...</th>\n",
       "      <td>...</td>\n",
       "      <td>...</td>\n",
       "      <td>...</td>\n",
       "    </tr>\n",
       "    <tr>\n",
       "      <th>65</th>\n",
       "      <td>65</td>\n",
       "      <td>30</td>\n",
       "      <td>6</td>\n",
       "    </tr>\n",
       "    <tr>\n",
       "      <th>66</th>\n",
       "      <td>66</td>\n",
       "      <td>7</td>\n",
       "      <td>18</td>\n",
       "    </tr>\n",
       "    <tr>\n",
       "      <th>67</th>\n",
       "      <td>67</td>\n",
       "      <td>41</td>\n",
       "      <td>48</td>\n",
       "    </tr>\n",
       "    <tr>\n",
       "      <th>68</th>\n",
       "      <td>68</td>\n",
       "      <td>46</td>\n",
       "      <td>9</td>\n",
       "    </tr>\n",
       "    <tr>\n",
       "      <th>69</th>\n",
       "      <td>69</td>\n",
       "      <td>24</td>\n",
       "      <td>26</td>\n",
       "    </tr>\n",
       "  </tbody>\n",
       "</table>\n",
       "<p>70 rows × 3 columns</p>\n",
       "</div>"
      ],
      "text/plain": [
       "    p1  p2  p3\n",
       "0    0  58  52\n",
       "1    1  54  14\n",
       "2    2  47  60\n",
       "3    3  39  59\n",
       "4    4  30  53\n",
       "..  ..  ..  ..\n",
       "65  65  30   6\n",
       "66  66   7  18\n",
       "67  67  41  48\n",
       "68  68  46   9\n",
       "69  69  24  26\n",
       "\n",
       "[70 rows x 3 columns]"
      ]
     },
     "execution_count": 20,
     "metadata": {},
     "output_type": "execute_result"
    }
   ],
   "source": [
    "df_indexes = pd.DataFrame(indexes, columns=[\"p1\", \"p2\", \"p3\"])\n",
    "df_indexes"
   ]
  },
  {
   "cell_type": "markdown",
   "id": "a598d902",
   "metadata": {},
   "source": [
    "Por ejemplo, para el punto 0, el más cercano es el mismo a distancia 0, luego viene el punto de la columna `p2`, y luego el de la columna `p3`. Sacaremos el promedio de cada una de las filas."
   ]
  },
  {
   "cell_type": "code",
   "execution_count": 21,
   "id": "efce36bb",
   "metadata": {},
   "outputs": [
    {
     "data": {
      "text/plain": [
       "0     0.014997\n",
       "1     0.030787\n",
       "2     0.019992\n",
       "3     0.006785\n",
       "4     0.019622\n",
       "        ...   \n",
       "65    0.015742\n",
       "66    0.024402\n",
       "67    0.015823\n",
       "68    0.013058\n",
       "69    0.016969\n",
       "Length: 70, dtype: float64"
      ]
     },
     "execution_count": 21,
     "metadata": {},
     "output_type": "execute_result"
    }
   ],
   "source": [
    "mean_distances = df_distances.mean(axis=1)\n",
    "mean_distances"
   ]
  },
  {
   "cell_type": "markdown",
   "id": "1f53d53f",
   "metadata": {},
   "source": [
    "**Ojo**: puedes intentar lo mismo con `max` en vez de `mean`.\n",
    "\n",
    "Ahora vamos a ver el percentil 90 y clasificar como outlier todo punto sobre ese valor. Ver el percentil 90 significa que clasificaremos como outlier el 10% de los valores cuyo promedio de distancia a sus $k$ vecinos más cercanos es mayor."
   ]
  },
  {
   "cell_type": "code",
   "execution_count": 22,
   "id": "57a679a4",
   "metadata": {},
   "outputs": [],
   "source": [
    "p_90 = np.percentile(mean_distances, 90)"
   ]
  },
  {
   "cell_type": "markdown",
   "id": "a8356a29",
   "metadata": {},
   "source": [
    "Construiremos una DataFrame con este filtro para hacerle join con los datos."
   ]
  },
  {
   "cell_type": "code",
   "execution_count": 23,
   "id": "cdab2f89",
   "metadata": {},
   "outputs": [
    {
     "data": {
      "text/html": [
       "<div>\n",
       "<style scoped>\n",
       "    .dataframe tbody tr th:only-of-type {\n",
       "        vertical-align: middle;\n",
       "    }\n",
       "\n",
       "    .dataframe tbody tr th {\n",
       "        vertical-align: top;\n",
       "    }\n",
       "\n",
       "    .dataframe thead th {\n",
       "        text-align: right;\n",
       "    }\n",
       "</style>\n",
       "<table border=\"1\" class=\"dataframe\">\n",
       "  <thead>\n",
       "    <tr style=\"text-align: right;\">\n",
       "      <th></th>\n",
       "      <th>Dimension 1</th>\n",
       "      <th>Dimension 2</th>\n",
       "      <th>is_outlier</th>\n",
       "    </tr>\n",
       "  </thead>\n",
       "  <tbody>\n",
       "    <tr>\n",
       "      <th>0</th>\n",
       "      <td>0.126017</td>\n",
       "      <td>0.062615</td>\n",
       "      <td>False</td>\n",
       "    </tr>\n",
       "    <tr>\n",
       "      <th>1</th>\n",
       "      <td>0.195464</td>\n",
       "      <td>-0.067009</td>\n",
       "      <td>False</td>\n",
       "    </tr>\n",
       "    <tr>\n",
       "      <th>2</th>\n",
       "      <td>0.034169</td>\n",
       "      <td>0.092561</td>\n",
       "      <td>False</td>\n",
       "    </tr>\n",
       "    <tr>\n",
       "      <th>3</th>\n",
       "      <td>-0.065716</td>\n",
       "      <td>0.017099</td>\n",
       "      <td>False</td>\n",
       "    </tr>\n",
       "    <tr>\n",
       "      <th>4</th>\n",
       "      <td>-0.113958</td>\n",
       "      <td>0.050310</td>\n",
       "      <td>False</td>\n",
       "    </tr>\n",
       "    <tr>\n",
       "      <th>...</th>\n",
       "      <td>...</td>\n",
       "      <td>...</td>\n",
       "      <td>...</td>\n",
       "    </tr>\n",
       "    <tr>\n",
       "      <th>65</th>\n",
       "      <td>-0.093501</td>\n",
       "      <td>0.013758</td>\n",
       "      <td>False</td>\n",
       "    </tr>\n",
       "    <tr>\n",
       "      <th>66</th>\n",
       "      <td>-0.036111</td>\n",
       "      <td>0.152575</td>\n",
       "      <td>False</td>\n",
       "    </tr>\n",
       "    <tr>\n",
       "      <th>67</th>\n",
       "      <td>0.020073</td>\n",
       "      <td>-0.013795</td>\n",
       "      <td>False</td>\n",
       "    </tr>\n",
       "    <tr>\n",
       "      <th>68</th>\n",
       "      <td>0.068616</td>\n",
       "      <td>-0.018498</td>\n",
       "      <td>False</td>\n",
       "    </tr>\n",
       "    <tr>\n",
       "      <th>69</th>\n",
       "      <td>-0.143541</td>\n",
       "      <td>-0.015406</td>\n",
       "      <td>False</td>\n",
       "    </tr>\n",
       "  </tbody>\n",
       "</table>\n",
       "<p>70 rows × 3 columns</p>\n",
       "</div>"
      ],
      "text/plain": [
       "    Dimension 1  Dimension 2  is_outlier\n",
       "0      0.126017     0.062615       False\n",
       "1      0.195464    -0.067009       False\n",
       "2      0.034169     0.092561       False\n",
       "3     -0.065716     0.017099       False\n",
       "4     -0.113958     0.050310       False\n",
       "..          ...          ...         ...\n",
       "65    -0.093501     0.013758       False\n",
       "66    -0.036111     0.152575       False\n",
       "67     0.020073    -0.013795       False\n",
       "68     0.068616    -0.018498       False\n",
       "69    -0.143541    -0.015406       False\n",
       "\n",
       "[70 rows x 3 columns]"
      ]
     },
     "execution_count": 23,
     "metadata": {},
     "output_type": "execute_result"
    }
   ],
   "source": [
    "X_outlier = pd.DataFrame(mean_distances >= p_90, columns=[\"is_outlier\"])\n",
    "df = X.join(X_outlier)\n",
    "df"
   ]
  },
  {
   "cell_type": "code",
   "execution_count": 24,
   "id": "64d924a2",
   "metadata": {},
   "outputs": [
    {
     "data": {
      "text/plain": [
       "<AxesSubplot:xlabel='Dimension 1', ylabel='Dimension 2'>"
      ]
     },
     "execution_count": 24,
     "metadata": {},
     "output_type": "execute_result"
    },
    {
     "data": {
      "image/png": "[encoded data removed]",
      "text/plain": [
       "<Figure size 432x288 with 1 Axes>"
      ]
     },
     "metadata": {
      "needs_background": "light"
     },
     "output_type": "display_data"
    }
   ],
   "source": [
    "sns.scatterplot(data=df, x=\"Dimension 1\", y=\"Dimension 2\", hue=\"is_outlier\", palette=\"rainbow\")"
   ]
  },
  {
   "cell_type": "markdown",
   "id": "4fea023d",
   "metadata": {},
   "source": [
    "Como vemos, los puntos más alejados de todos los demás son los _outliers_."
   ]
  },
  {
   "cell_type": "markdown",
   "id": "7a5559d8",
   "metadata": {},
   "source": [
    "## Métodos de distancia\n",
    "\n",
    "Ahora vamos a graficar un _dataset_ que tiene una varianza distinta en ambos ejes."
   ]
  },
  {
   "cell_type": "code",
   "execution_count": 25,
   "id": "49949cab",
   "metadata": {},
   "outputs": [
    {
     "data": {
      "text/html": [
       "<div>\n",
       "<style scoped>\n",
       "    .dataframe tbody tr th:only-of-type {\n",
       "        vertical-align: middle;\n",
       "    }\n",
       "\n",
       "    .dataframe tbody tr th {\n",
       "        vertical-align: top;\n",
       "    }\n",
       "\n",
       "    .dataframe thead th {\n",
       "        text-align: right;\n",
       "    }\n",
       "</style>\n",
       "<table border=\"1\" class=\"dataframe\">\n",
       "  <thead>\n",
       "    <tr style=\"text-align: right;\">\n",
       "      <th></th>\n",
       "      <th>Dimension 1</th>\n",
       "      <th>Dimension 2</th>\n",
       "    </tr>\n",
       "  </thead>\n",
       "  <tbody>\n",
       "    <tr>\n",
       "      <th>0</th>\n",
       "      <td>-0.101533</td>\n",
       "      <td>0.151036</td>\n",
       "    </tr>\n",
       "    <tr>\n",
       "      <th>1</th>\n",
       "      <td>-0.111057</td>\n",
       "      <td>0.003212</td>\n",
       "    </tr>\n",
       "    <tr>\n",
       "      <th>2</th>\n",
       "      <td>0.444428</td>\n",
       "      <td>-0.226366</td>\n",
       "    </tr>\n",
       "    <tr>\n",
       "      <th>3</th>\n",
       "      <td>-0.885466</td>\n",
       "      <td>-0.107131</td>\n",
       "    </tr>\n",
       "    <tr>\n",
       "      <th>4</th>\n",
       "      <td>-0.518925</td>\n",
       "      <td>0.150532</td>\n",
       "    </tr>\n",
       "    <tr>\n",
       "      <th>...</th>\n",
       "      <td>...</td>\n",
       "      <td>...</td>\n",
       "    </tr>\n",
       "    <tr>\n",
       "      <th>95</th>\n",
       "      <td>-1.301428</td>\n",
       "      <td>-0.009809</td>\n",
       "    </tr>\n",
       "    <tr>\n",
       "      <th>96</th>\n",
       "      <td>-0.936901</td>\n",
       "      <td>-0.033884</td>\n",
       "    </tr>\n",
       "    <tr>\n",
       "      <th>97</th>\n",
       "      <td>0.640184</td>\n",
       "      <td>-0.001332</td>\n",
       "    </tr>\n",
       "    <tr>\n",
       "      <th>98</th>\n",
       "      <td>-0.352006</td>\n",
       "      <td>0.133509</td>\n",
       "    </tr>\n",
       "    <tr>\n",
       "      <th>99</th>\n",
       "      <td>0.000000</td>\n",
       "      <td>1.000000</td>\n",
       "    </tr>\n",
       "  </tbody>\n",
       "</table>\n",
       "<p>100 rows × 2 columns</p>\n",
       "</div>"
      ],
      "text/plain": [
       "    Dimension 1  Dimension 2\n",
       "0     -0.101533     0.151036\n",
       "1     -0.111057     0.003212\n",
       "2      0.444428    -0.226366\n",
       "3     -0.885466    -0.107131\n",
       "4     -0.518925     0.150532\n",
       "..          ...          ...\n",
       "95    -1.301428    -0.009809\n",
       "96    -0.936901    -0.033884\n",
       "97     0.640184    -0.001332\n",
       "98    -0.352006     0.133509\n",
       "99     0.000000     1.000000\n",
       "\n",
       "[100 rows x 2 columns]"
      ]
     },
     "execution_count": 25,
     "metadata": {},
     "output_type": "execute_result"
    }
   ],
   "source": [
    "import matplotlib.pyplot as plt\n",
    "\n",
    "clusters = make_blobs(\n",
    "    n_samples=100,\n",
    "    centers=[(0, 0)], \n",
    "    cluster_std=[(0.7, 0.2)]\n",
    ")\n",
    "X = pd.DataFrame(clusters[0], columns=[\"Dimension 1\", \"Dimension 2\"])\n",
    "\n",
    "# Vamos a setear el último punto a mano, para ver la diferencia entre las distancias\n",
    "X.iloc[99] = [0, 1]\n",
    "X"
   ]
  },
  {
   "cell_type": "code",
   "execution_count": 26,
   "id": "faf6cbe2",
   "metadata": {},
   "outputs": [
    {
     "data": {
      "text/plain": [
       "<matplotlib.collections.PathCollection at 0x130f155e0>"
      ]
     },
     "execution_count": 26,
     "metadata": {},
     "output_type": "execute_result"
    },
    {
     "data": {
      "image/png": "[encoded data removed]",
      "text/plain": [
       "<Figure size 432x288 with 1 Axes>"
      ]
     },
     "metadata": {
      "needs_background": "light"
     },
     "output_type": "display_data"
    }
   ],
   "source": [
    "plt.xlim(-2, 2)\n",
    "plt.ylim(-2, 2)\n",
    "\n",
    "sns.scatterplot(data=X, x=\"Dimension 1\", y=\"Dimension 2\")\n",
    "X_mean = X.mean()\n",
    "plt.scatter(X_mean[\"Dimension 1\"], X_mean[\"Dimension 2\"], marker=\"*\", s=200)"
   ]
  },
  {
   "cell_type": "markdown",
   "id": "a130b92f",
   "metadata": {},
   "source": [
    "Aquí graficamos con una estrella la media de los datos. Ahora vamos a calcular la distancia euclidanea y de mahalanobis de cada punto a la media."
   ]
  },
  {
   "cell_type": "code",
   "execution_count": 27,
   "id": "c21ce014",
   "metadata": {},
   "outputs": [
    {
     "data": {
      "text/plain": [
       "array([[5.42708735e-01, 5.17615276e-04],\n",
       "       [5.17615276e-04, 4.68019165e-02]])"
      ]
     },
     "execution_count": 27,
     "metadata": {},
     "output_type": "execute_result"
    }
   ],
   "source": [
    "cov = np.cov(X[\"Dimension 1\"], X[\"Dimension 2\"], ddof=0)\n",
    "cov"
   ]
  },
  {
   "cell_type": "code",
   "execution_count": 28,
   "id": "03738375",
   "metadata": {},
   "outputs": [
    {
     "data": {
      "text/plain": [
       "array([[ 1.84262844e+00, -2.03789225e-02],\n",
       "       [-2.03789225e-02,  2.13668718e+01]])"
      ]
     },
     "execution_count": 28,
     "metadata": {},
     "output_type": "execute_result"
    }
   ],
   "source": [
    "cov_inv = np.linalg.inv(cov)\n",
    "cov_inv"
   ]
  },
  {
   "cell_type": "code",
   "execution_count": 29,
   "id": "67b9993d",
   "metadata": {},
   "outputs": [
    {
     "data": {
      "text/plain": [
       "array([0.17328814, 0.12803502, 0.49630218, 0.91025296, 0.54931036,\n",
       "       0.19974041, 0.21635637, 0.40212108, 0.50044643, 0.43372874,\n",
       "       0.41531671, 0.3104457 , 0.28982046, 0.28762139, 0.27993755,\n",
       "       0.41733377, 0.7625636 , 0.66755791, 1.73061283, 1.57205065,\n",
       "       0.32790995, 1.53271606, 0.62724352, 0.53543173, 0.51023143,\n",
       "       0.09514795, 0.49400943, 0.40677807, 0.62973848, 0.46013915,\n",
       "       0.91523661, 0.5843696 , 0.6321187 , 0.59640403, 1.53423533,\n",
       "       0.27002164, 0.04440315, 0.93983327, 0.20378164, 0.26111169,\n",
       "       0.61718609, 0.14787241, 0.96106519, 0.53378364, 0.90015846,\n",
       "       0.63143295, 0.82118513, 0.33982661, 0.75822201, 0.54347076,\n",
       "       1.18578938, 0.43102644, 0.98967351, 1.1776895 , 0.34919807,\n",
       "       0.6081958 , 1.1548768 , 0.47042389, 0.3625353 , 0.25672314,\n",
       "       0.43796378, 0.24741682, 0.10774657, 1.05445546, 0.26764775,\n",
       "       1.26209462, 0.7918803 , 1.07870632, 0.83363173, 0.58431394,\n",
       "       0.12573362, 1.0695591 , 0.80720186, 0.26495435, 0.27390206,\n",
       "       0.46886613, 0.79652128, 0.60435441, 0.64173975, 1.54668552,\n",
       "       0.59662436, 2.28024091, 0.45393663, 0.18657678, 0.41124303,\n",
       "       0.37890376, 1.06859807, 0.39206041, 1.40867269, 0.41258967,\n",
       "       0.8198079 , 0.39233499, 0.80208289, 0.85553951, 1.20399994,\n",
       "       1.31725444, 0.95402252, 0.62524982, 0.38363343, 0.97696159])"
      ]
     },
     "execution_count": 29,
     "metadata": {},
     "output_type": "execute_result"
    }
   ],
   "source": [
    "from scipy.spatial import distance\n",
    "\n",
    "euclidean = []\n",
    "\n",
    "for row in X.values:\n",
    "    dist_eucl = distance.euclidean(\n",
    "        row, \n",
    "        [X_mean[\"Dimension 1\"], X_mean[\"Dimension 2\"]]\n",
    "    )\n",
    "    euclidean.append(dist_eucl)\n",
    "\n",
    "euclidean = np.array(euclidean)\n",
    "euclidean"
   ]
  },
  {
   "cell_type": "code",
   "execution_count": 30,
   "id": "f995c17b",
   "metadata": {},
   "outputs": [
    {
     "data": {
      "text/plain": [
       "array([0.61253957, 0.19460821, 1.29378337, 1.36139123, 0.93569619,\n",
       "       0.44246833, 0.49716921, 0.75873272, 1.55175615, 0.86674352,\n",
       "       1.09234486, 0.56598733, 1.32051402, 0.40400919, 1.1630429 ,\n",
       "       0.62730717, 1.49793594, 0.99018185, 2.40005158, 2.52526227,\n",
       "       1.25990998, 2.15779929, 0.91256786, 1.94067981, 1.61094832,\n",
       "       0.39081089, 1.39975957, 0.59050026, 0.97924575, 1.12257468,\n",
       "       1.28783275, 0.9599837 , 1.19463317, 0.94357918, 2.113738  ,\n",
       "       0.60473012, 0.15571744, 1.29996422, 0.88617573, 0.87835527,\n",
       "       1.27102566, 0.28664777, 1.60806233, 0.77616741, 2.19792724,\n",
       "       1.1376124 , 1.30660343, 0.81327294, 1.26435018, 2.15515912,\n",
       "       1.69976458, 1.68766274, 2.23200722, 1.75163438, 0.50900348,\n",
       "       0.82777737, 1.56851186, 1.85185692, 1.63019641, 0.90861622,\n",
       "       0.60952775, 0.68865108, 0.43962878, 1.90186557, 0.5166285 ,\n",
       "       2.31582144, 1.38053628, 1.48503244, 1.14817927, 0.86824743,\n",
       "       0.30812364, 1.53634075, 1.210964  , 1.02416267, 1.10710394,\n",
       "       0.91640379, 1.14189398, 1.32124703, 1.06236406, 2.23842205,\n",
       "       0.89777309, 3.09673282, 0.83730892, 0.84939809, 1.13395723,\n",
       "       1.75098859, 1.94362111, 1.11255947, 2.01134932, 0.89196689,\n",
       "       1.14402729, 1.62163131, 1.08971242, 1.37077156, 1.82126439,\n",
       "       1.7935179 , 1.31848522, 0.85597195, 0.71455307, 4.51549219])"
      ]
     },
     "execution_count": 30,
     "metadata": {},
     "output_type": "execute_result"
    }
   ],
   "source": [
    "mahalanobis = []\n",
    "\n",
    "for row in X.values:\n",
    "    dist_mah = distance.mahalanobis(\n",
    "        row,\n",
    "        [X_mean[\"Dimension 1\"], X_mean[\"Dimension 2\"]], \n",
    "        cov_inv\n",
    "    )\n",
    "    mahalanobis.append(dist_mah)\n",
    "\n",
    "mahalanobis = np.array(mahalanobis)\n",
    "mahalanobis"
   ]
  },
  {
   "cell_type": "markdown",
   "id": "d787b9f9",
   "metadata": {},
   "source": [
    "Ahora veremos el percentil 90 para ambos casos, y veremos los _outliers_. Primero con distancia euclidiana."
   ]
  },
  {
   "cell_type": "code",
   "execution_count": 31,
   "id": "34f47616",
   "metadata": {},
   "outputs": [],
   "source": [
    "p_90_euc = np.percentile(euclidean, 90)\n",
    "df_euclidean = pd.DataFrame(euclidean >= p_90_euc, columns=[\"is_outlier\"])\n",
    "df_outlier = X.join(df_euclidean)"
   ]
  },
  {
   "cell_type": "code",
   "execution_count": 32,
   "id": "6d9e0ce1",
   "metadata": {},
   "outputs": [
    {
     "data": {
      "text/plain": [
       "<matplotlib.collections.PathCollection at 0x130f8c820>"
      ]
     },
     "execution_count": 32,
     "metadata": {},
     "output_type": "execute_result"
    },
    {
     "data": {
      "image/png": "[encoded data removed]",
      "text/plain": [
       "<Figure size 432x288 with 1 Axes>"
      ]
     },
     "metadata": {
      "needs_background": "light"
     },
     "output_type": "display_data"
    }
   ],
   "source": [
    "plt.xlim(-2, 2)\n",
    "plt.ylim(-2, 2)\n",
    "\n",
    "sns.scatterplot(data=df_outlier, x=\"Dimension 1\", y=\"Dimension 2\", hue=\"is_outlier\", palette=\"rainbow\")\n",
    "plt.scatter(X_mean[\"Dimension 1\"], X_mean[\"Dimension 2\"], marker=\"*\", s=200)"
   ]
  },
  {
   "cell_type": "markdown",
   "id": "87e94863",
   "metadata": {},
   "source": [
    "Ahora con distancia mahalanobis."
   ]
  },
  {
   "cell_type": "code",
   "execution_count": 33,
   "id": "35520480",
   "metadata": {},
   "outputs": [],
   "source": [
    "p_90_mah = np.percentile(mahalanobis, 90)\n",
    "df_mahalanobis = pd.DataFrame(mahalanobis >= p_90_mah, columns=[\"is_outlier\"])\n",
    "df_outlier = X.join(df_mahalanobis)"
   ]
  },
  {
   "cell_type": "code",
   "execution_count": 34,
   "id": "9669f5e2",
   "metadata": {},
   "outputs": [
    {
     "data": {
      "text/plain": [
       "<matplotlib.collections.PathCollection at 0x131009b20>"
      ]
     },
     "execution_count": 34,
     "metadata": {},
     "output_type": "execute_result"
    },
    {
     "data": {
      "image/png": "[encoded data removed]",
      "text/plain": [
       "<Figure size 432x288 with 1 Axes>"
      ]
     },
     "metadata": {
      "needs_background": "light"
     },
     "output_type": "display_data"
    }
   ],
   "source": [
    "plt.xlim(-2, 2)\n",
    "plt.ylim(-2, 2)\n",
    "\n",
    "sns.scatterplot(data=df_outlier, x=\"Dimension 1\", y=\"Dimension 2\", hue=\"is_outlier\", palette=\"rainbow\")\n",
    "plt.scatter(X_mean[\"Dimension 1\"], X_mean[\"Dimension 2\"], marker=\"*\", s=200)"
   ]
  },
  {
   "cell_type": "code",
   "execution_count": null,
   "id": "87531689",
   "metadata": {},
   "outputs": [],
   "source": []
  }
 ],
 "metadata": {
  "kernelspec": {
   "display_name": "Python 3",
   "language": "python",
   "name": "python3"
  },
  "language_info": {
   "codemirror_mode": {
    "name": "ipython",
    "version": 3
   },
   "file_extension": ".py",
   "mimetype": "text/x-python",
   "name": "python",
   "nbconvert_exporter": "python",
   "pygments_lexer": "ipython3",
   "version": "3.9.5"
  }
 },
 "nbformat": 4,
 "nbformat_minor": 5
}
