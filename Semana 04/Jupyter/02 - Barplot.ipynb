{
 "cells": [
  {
   "cell_type": "code",
   "execution_count": 1,
   "metadata": {
    "id": "YYlCpMNPNnr-"
   },
   "outputs": [],
   "source": [
    "import pandas as pd\n",
    "import numpy as np\n",
    "import matplotlib.pyplot as plt"
   ]
  },
  {
   "cell_type": "markdown",
   "metadata": {
    "id": "2__4VZBKqPGO"
   },
   "source": [
    "# Gráficos de Barras\n",
    "\n",
    "**¿Qué es un Gráfico de Barra (barplot)?**\n",
    "\n",
    "Los gráficos de barra o barplots son uno de los tipos de gráficos más utilizados. Nos permiten mostrar la relación entre una variable numérica y una categórica. \n"
   ]
  },
  {
   "cell_type": "markdown",
   "metadata": {
    "id": "zM7LdU27wD33"
   },
   "source": [
    "Para este notebook, usaremos la siguiente base de datos para aprender a crear gráficos de barra, que habla sobre automóviles y algunos de sus parámetros:\n",
    "\n",
    "\n",
    "  Número |Nombre  | Descripción \n",
    "---------|--------|------------------\n",
    " 1       |mpg     | Miles/(US) gallon\n",
    " 2       |cyl     | Number of cylinders\n",
    " 3       |disp    | Displacement (cu.in.)\n",
    " 4       |hp      | Gross horsepower\n",
    " 5       |drat    | Rear axle ratio\n",
    " 6       |wt      | Weight (1000 lbs)\n",
    " 7       |qsec    | 1/4 mile time\n",
    " 8       |vs      | Engine (0 = V-shaped, 1 = straight)\n",
    " 9       |am      | Transmission (0 = automatic, 1 = manual)\n",
    " 10      |gear    | Number of forward gears\n",
    " 11      |carb    | Number of carburetors\n"
   ]
  },
  {
   "cell_type": "code",
   "execution_count": 2,
   "metadata": {
    "colab": {
     "base_uri": "https://localhost:8080/"
    },
    "id": "ow5wsydHM1QK",
    "outputId": "7e94fdec-2b6d-49f0-ac21-eefc1066f4b2"
   },
   "outputs": [
    {
     "name": "stdout",
     "output_type": "stream",
     "text": [
      "\u001b[33mDEPRECATION: Configuring installation scheme with distutils config files is deprecated and will no longer work in the near future. If you are using a Homebrew or Linuxbrew Python, please see discussion at https://github.com/Homebrew/homebrew-core/issues/76621\u001b[0m\n",
      "Requirement already satisfied: pydataset in /usr/local/lib/python3.9/site-packages (0.2.0)\n",
      "Requirement already satisfied: pandas in /usr/local/lib/python3.9/site-packages (from pydataset) (1.1.4)\n",
      "Requirement already satisfied: python-dateutil>=2.7.3 in /usr/local/lib/python3.9/site-packages (from pandas->pydataset) (2.8.1)\n",
      "Requirement already satisfied: pytz>=2017.2 in /usr/local/lib/python3.9/site-packages (from pandas->pydataset) (2021.1)\n",
      "Requirement already satisfied: numpy>=1.15.4 in /usr/local/lib/python3.9/site-packages (from pandas->pydataset) (1.19.4)\n",
      "Requirement already satisfied: six>=1.5 in /usr/local/lib/python3.9/site-packages (from python-dateutil>=2.7.3->pandas->pydataset) (1.15.0)\n",
      "\u001b[33mWARNING: You are using pip version 21.2.3; however, version 21.2.4 is available.\n",
      "You should consider upgrading via the '/usr/local/opt/python@3.9/bin/python3.9 -m pip install --upgrade pip' command.\u001b[0m\n"
     ]
    }
   ],
   "source": [
    "# Recordemos instalar pydataset\n",
    "!pip install pydataset"
   ]
  },
  {
   "cell_type": "code",
   "execution_count": 3,
   "metadata": {
    "id": "gFRx2OSeM5OR"
   },
   "outputs": [],
   "source": [
    "from pydataset import data"
   ]
  },
  {
   "cell_type": "code",
   "execution_count": 4,
   "metadata": {
    "colab": {
     "base_uri": "https://localhost:8080/",
     "height": 204
    },
    "id": "S7w6NScEM7oR",
    "outputId": "792089e2-d0a0-45de-fdb6-f14f8768ef9c"
   },
   "outputs": [
    {
     "data": {
      "text/html": [
       "<div>\n",
       "<style scoped>\n",
       "    .dataframe tbody tr th:only-of-type {\n",
       "        vertical-align: middle;\n",
       "    }\n",
       "\n",
       "    .dataframe tbody tr th {\n",
       "        vertical-align: top;\n",
       "    }\n",
       "\n",
       "    .dataframe thead th {\n",
       "        text-align: right;\n",
       "    }\n",
       "</style>\n",
       "<table border=\"1\" class=\"dataframe\">\n",
       "  <thead>\n",
       "    <tr style=\"text-align: right;\">\n",
       "      <th></th>\n",
       "      <th>mpg</th>\n",
       "      <th>cyl</th>\n",
       "      <th>disp</th>\n",
       "      <th>hp</th>\n",
       "      <th>drat</th>\n",
       "      <th>wt</th>\n",
       "      <th>qsec</th>\n",
       "      <th>vs</th>\n",
       "      <th>am</th>\n",
       "      <th>gear</th>\n",
       "      <th>carb</th>\n",
       "    </tr>\n",
       "  </thead>\n",
       "  <tbody>\n",
       "    <tr>\n",
       "      <th>Mazda RX4</th>\n",
       "      <td>21.0</td>\n",
       "      <td>6</td>\n",
       "      <td>160.0</td>\n",
       "      <td>110</td>\n",
       "      <td>3.90</td>\n",
       "      <td>2.620</td>\n",
       "      <td>16.46</td>\n",
       "      <td>0</td>\n",
       "      <td>1</td>\n",
       "      <td>4</td>\n",
       "      <td>4</td>\n",
       "    </tr>\n",
       "    <tr>\n",
       "      <th>Mazda RX4 Wag</th>\n",
       "      <td>21.0</td>\n",
       "      <td>6</td>\n",
       "      <td>160.0</td>\n",
       "      <td>110</td>\n",
       "      <td>3.90</td>\n",
       "      <td>2.875</td>\n",
       "      <td>17.02</td>\n",
       "      <td>0</td>\n",
       "      <td>1</td>\n",
       "      <td>4</td>\n",
       "      <td>4</td>\n",
       "    </tr>\n",
       "    <tr>\n",
       "      <th>Datsun 710</th>\n",
       "      <td>22.8</td>\n",
       "      <td>4</td>\n",
       "      <td>108.0</td>\n",
       "      <td>93</td>\n",
       "      <td>3.85</td>\n",
       "      <td>2.320</td>\n",
       "      <td>18.61</td>\n",
       "      <td>1</td>\n",
       "      <td>1</td>\n",
       "      <td>4</td>\n",
       "      <td>1</td>\n",
       "    </tr>\n",
       "    <tr>\n",
       "      <th>Hornet 4 Drive</th>\n",
       "      <td>21.4</td>\n",
       "      <td>6</td>\n",
       "      <td>258.0</td>\n",
       "      <td>110</td>\n",
       "      <td>3.08</td>\n",
       "      <td>3.215</td>\n",
       "      <td>19.44</td>\n",
       "      <td>1</td>\n",
       "      <td>0</td>\n",
       "      <td>3</td>\n",
       "      <td>1</td>\n",
       "    </tr>\n",
       "    <tr>\n",
       "      <th>Hornet Sportabout</th>\n",
       "      <td>18.7</td>\n",
       "      <td>8</td>\n",
       "      <td>360.0</td>\n",
       "      <td>175</td>\n",
       "      <td>3.15</td>\n",
       "      <td>3.440</td>\n",
       "      <td>17.02</td>\n",
       "      <td>0</td>\n",
       "      <td>0</td>\n",
       "      <td>3</td>\n",
       "      <td>2</td>\n",
       "    </tr>\n",
       "  </tbody>\n",
       "</table>\n",
       "</div>"
      ],
      "text/plain": [
       "                    mpg  cyl   disp   hp  drat     wt   qsec  vs  am  gear  \\\n",
       "Mazda RX4          21.0    6  160.0  110  3.90  2.620  16.46   0   1     4   \n",
       "Mazda RX4 Wag      21.0    6  160.0  110  3.90  2.875  17.02   0   1     4   \n",
       "Datsun 710         22.8    4  108.0   93  3.85  2.320  18.61   1   1     4   \n",
       "Hornet 4 Drive     21.4    6  258.0  110  3.08  3.215  19.44   1   0     3   \n",
       "Hornet Sportabout  18.7    8  360.0  175  3.15  3.440  17.02   0   0     3   \n",
       "\n",
       "                   carb  \n",
       "Mazda RX4             4  \n",
       "Mazda RX4 Wag         4  \n",
       "Datsun 710            1  \n",
       "Hornet 4 Drive        1  \n",
       "Hornet Sportabout     2  "
      ]
     },
     "execution_count": 4,
     "metadata": {},
     "output_type": "execute_result"
    }
   ],
   "source": [
    "mtcars = data(\"mtcars\")\n",
    "mtcars.head(5)"
   ]
  },
  {
   "cell_type": "markdown",
   "metadata": {
    "id": "rsd8fCMZ1Lfn"
   },
   "source": [
    "## Nuestro primer gráfico de barras\n",
    "\n",
    "**¿Cuántos autos tienen transmisión de tipo automático vs manual?**\n",
    "\n",
    "1. Los gráficos de barra nos permiten responder esta pregunta fácilmente de manera visual.\n",
    "2. Para esto solo debemos graficar la variable categórica ``am`` que encondea el tipo de transmisión (**0: automática, 1:manual**) vs la variable númerica correspondiente al conteo de estas categorias.\n",
    "3. Antes de graficar pre-procesaremos los datos para que la información sea más clara tanto como para nosotros, como para el lector y el computador. "
   ]
  },
  {
   "cell_type": "code",
   "execution_count": 5,
   "metadata": {
    "colab": {
     "base_uri": "https://localhost:8080/",
     "height": 204
    },
    "id": "r3wXg7m_NjSR",
    "outputId": "6b5dc745-97a8-4d57-a5fd-9694ed376ca5"
   },
   "outputs": [
    {
     "data": {
      "text/html": [
       "<div>\n",
       "<style scoped>\n",
       "    .dataframe tbody tr th:only-of-type {\n",
       "        vertical-align: middle;\n",
       "    }\n",
       "\n",
       "    .dataframe tbody tr th {\n",
       "        vertical-align: top;\n",
       "    }\n",
       "\n",
       "    .dataframe thead th {\n",
       "        text-align: right;\n",
       "    }\n",
       "</style>\n",
       "<table border=\"1\" class=\"dataframe\">\n",
       "  <thead>\n",
       "    <tr style=\"text-align: right;\">\n",
       "      <th></th>\n",
       "      <th>mpg</th>\n",
       "      <th>cyl</th>\n",
       "      <th>disp</th>\n",
       "      <th>hp</th>\n",
       "      <th>drat</th>\n",
       "      <th>wt</th>\n",
       "      <th>qsec</th>\n",
       "      <th>vs</th>\n",
       "      <th>am</th>\n",
       "      <th>gear</th>\n",
       "      <th>carb</th>\n",
       "    </tr>\n",
       "  </thead>\n",
       "  <tbody>\n",
       "    <tr>\n",
       "      <th>Mazda RX4</th>\n",
       "      <td>21.0</td>\n",
       "      <td>6</td>\n",
       "      <td>160.0</td>\n",
       "      <td>110</td>\n",
       "      <td>3.90</td>\n",
       "      <td>2.620</td>\n",
       "      <td>16.46</td>\n",
       "      <td>0</td>\n",
       "      <td>Manual</td>\n",
       "      <td>4</td>\n",
       "      <td>4</td>\n",
       "    </tr>\n",
       "    <tr>\n",
       "      <th>Mazda RX4 Wag</th>\n",
       "      <td>21.0</td>\n",
       "      <td>6</td>\n",
       "      <td>160.0</td>\n",
       "      <td>110</td>\n",
       "      <td>3.90</td>\n",
       "      <td>2.875</td>\n",
       "      <td>17.02</td>\n",
       "      <td>0</td>\n",
       "      <td>Manual</td>\n",
       "      <td>4</td>\n",
       "      <td>4</td>\n",
       "    </tr>\n",
       "    <tr>\n",
       "      <th>Datsun 710</th>\n",
       "      <td>22.8</td>\n",
       "      <td>4</td>\n",
       "      <td>108.0</td>\n",
       "      <td>93</td>\n",
       "      <td>3.85</td>\n",
       "      <td>2.320</td>\n",
       "      <td>18.61</td>\n",
       "      <td>1</td>\n",
       "      <td>Manual</td>\n",
       "      <td>4</td>\n",
       "      <td>1</td>\n",
       "    </tr>\n",
       "    <tr>\n",
       "      <th>Hornet 4 Drive</th>\n",
       "      <td>21.4</td>\n",
       "      <td>6</td>\n",
       "      <td>258.0</td>\n",
       "      <td>110</td>\n",
       "      <td>3.08</td>\n",
       "      <td>3.215</td>\n",
       "      <td>19.44</td>\n",
       "      <td>1</td>\n",
       "      <td>Automático</td>\n",
       "      <td>3</td>\n",
       "      <td>1</td>\n",
       "    </tr>\n",
       "    <tr>\n",
       "      <th>Hornet Sportabout</th>\n",
       "      <td>18.7</td>\n",
       "      <td>8</td>\n",
       "      <td>360.0</td>\n",
       "      <td>175</td>\n",
       "      <td>3.15</td>\n",
       "      <td>3.440</td>\n",
       "      <td>17.02</td>\n",
       "      <td>0</td>\n",
       "      <td>Automático</td>\n",
       "      <td>3</td>\n",
       "      <td>2</td>\n",
       "    </tr>\n",
       "  </tbody>\n",
       "</table>\n",
       "</div>"
      ],
      "text/plain": [
       "                    mpg  cyl   disp   hp  drat     wt   qsec  vs          am  \\\n",
       "Mazda RX4          21.0    6  160.0  110  3.90  2.620  16.46   0      Manual   \n",
       "Mazda RX4 Wag      21.0    6  160.0  110  3.90  2.875  17.02   0      Manual   \n",
       "Datsun 710         22.8    4  108.0   93  3.85  2.320  18.61   1      Manual   \n",
       "Hornet 4 Drive     21.4    6  258.0  110  3.08  3.215  19.44   1  Automático   \n",
       "Hornet Sportabout  18.7    8  360.0  175  3.15  3.440  17.02   0  Automático   \n",
       "\n",
       "                   gear  carb  \n",
       "Mazda RX4             4     4  \n",
       "Mazda RX4 Wag         4     4  \n",
       "Datsun 710            4     1  \n",
       "Hornet 4 Drive        3     1  \n",
       "Hornet Sportabout     3     2  "
      ]
     },
     "execution_count": 5,
     "metadata": {},
     "output_type": "execute_result"
    }
   ],
   "source": [
    "# En esta celda reemplazamos los 0 y 1 por Automático y Manual respectivamente.\n",
    "mtcars['am'] = mtcars['am'].map({0:'Automático', 1:'Manual'})\n",
    "mtcars.head(5)"
   ]
  },
  {
   "cell_type": "markdown",
   "metadata": {
    "id": "1p2lD4-F2t4l"
   },
   "source": [
    "**Nuestro primer gráfico de barras:**\n",
    "\n",
    "Estamos casi listos para graficar la información requerida. Sin embargo, note que en nuestra base de datos no existe explícitamente una columna que tenga el número de autos con transmisión automática o  manual. Para solucionar esto hay tres opciones."
   ]
  },
  {
   "cell_type": "markdown",
   "metadata": {
    "id": "zQYB4zyu1Y02"
   },
   "source": [
    "## Opción 1 - Matplotlib\n",
    "\n",
    "Nos creamos una tabla de frecuencias que contenga la información que queremos graficar. Para esto utilizamos `groupby()`, y contamos cuantos automóviles automáticos y manuales hay."
   ]
  },
  {
   "cell_type": "code",
   "execution_count": 6,
   "metadata": {
    "colab": {
     "base_uri": "https://localhost:8080/"
    },
    "id": "_VqA3VXJy0Vl",
    "outputId": "65f4d48f-dda6-4147-fd28-b7b8b0cccd44"
   },
   "outputs": [
    {
     "data": {
      "text/plain": [
       "am\n",
       "Automático    19\n",
       "Manual        13\n",
       "Name: am, dtype: int64"
      ]
     },
     "execution_count": 6,
     "metadata": {},
     "output_type": "execute_result"
    }
   ],
   "source": [
    "mtcars_grouped = mtcars['am'].groupby(mtcars[\"am\"]).count()\n",
    "mtcars_grouped"
   ]
  },
  {
   "cell_type": "markdown",
   "metadata": {
    "id": "Ca9B9XQg3Wr0"
   },
   "source": [
    "Ahora, podemos usar la función de `matplotlib` para hacer gráficos de barras. Veamos un ejemplo."
   ]
  },
  {
   "cell_type": "code",
   "execution_count": 14,
   "metadata": {
    "colab": {
     "base_uri": "https://localhost:8080/",
     "height": 326
    },
    "id": "kVjOq4K0O2eG",
    "outputId": "118e1919-3c30-431d-b0bf-1dac328005e2"
   },
   "outputs": [
    {
     "data": {
      "text/plain": [
       "<BarContainer object of 2 artists>"
      ]
     },
     "execution_count": 14,
     "metadata": {},
     "output_type": "execute_result"
    },
    {
     "data": {
      "image/png": "[encoded data removed]",
      "text/plain": [
       "<Figure size 432x288 with 1 Axes>"
      ]
     },
     "metadata": {
      "needs_background": "light"
     },
     "output_type": "display_data"
    }
   ],
   "source": [
    "plt.title(\"Cantidad de Autos Automáticos y Manuales\")\n",
    "plt.bar(mtcars_grouped.keys(), mtcars_grouped)"
   ]
  },
  {
   "cell_type": "markdown",
   "metadata": {},
   "source": [
    "Recordemos que además podemos hacer este gráfico con el estilo XKCD."
   ]
  },
  {
   "cell_type": "code",
   "execution_count": 16,
   "metadata": {},
   "outputs": [
    {
     "data": {
      "image/png": "[encoded data removed]",
      "text/plain": [
       "<Figure size 432x288 with 1 Axes>"
      ]
     },
     "metadata": {},
     "output_type": "display_data"
    }
   ],
   "source": [
    "with plt.xkcd():\n",
    "    plt.title(\"Cantidad de Autos Automáticos y Manuales\")\n",
    "    plt.bar(mtcars_grouped.keys(), mtcars_grouped)"
   ]
  },
  {
   "cell_type": "markdown",
   "metadata": {},
   "source": [
    "La desventaja de esto, es que a veces queremos simplemente pasar el DataFrame, y que el lenguaje se encargue de hacer la visualización por nosotros. Por lo mismo, vamos a ver dos opciones más automáticas."
   ]
  },
  {
   "cell_type": "markdown",
   "metadata": {
    "id": "ZyDesT4YyCEo"
   },
   "source": [
    "## Opcion 2 - Función de Pandas\n",
    "\n",
    "Le decimos a `Pandas` que se encargue de contar por nosotros. Para esto utilizaremos la función `value_counts()` que le indica al \"eje y\" que debe contar las frecuencias observadas para las categorias de la variable categorica asignada al \"eje x\".\n",
    "\n"
   ]
  },
  {
   "cell_type": "code",
   "execution_count": 17,
   "metadata": {
    "colab": {
     "base_uri": "https://localhost:8080/",
     "height": 329
    },
    "id": "CPBoLmhCRBsh",
    "outputId": "1ebf5479-9772-4a66-8de2-afbd124ad878"
   },
   "outputs": [
    {
     "data": {
      "text/plain": [
       "Text(0, 0.5, 'count')"
      ]
     },
     "execution_count": 17,
     "metadata": {},
     "output_type": "execute_result"
    },
    {
     "data": {
      "image/png": "[encoded data removed]",
      "text/plain": [
       "<Figure size 432x288 with 1 Axes>"
      ]
     },
     "metadata": {
      "needs_background": "light"
     },
     "output_type": "display_data"
    }
   ],
   "source": [
    "ax = mtcars[\"am\"].value_counts().plot(kind=\"bar\")\n",
    "ax.set_ylabel(\"count\")"
   ]
  },
  {
   "cell_type": "markdown",
   "metadata": {
    "id": "9jvQQmrh04DW"
   },
   "source": [
    "Cabe destacar que `Pandas`, por debajo, está usando `matplotlib`. Por lo mismo, en el caso de querer las proporciones, podemos ejecutar el siguiente código, que mezcla código de `matplotlib` con la instrucción de `Pandas`."
   ]
  },
  {
   "cell_type": "code",
   "execution_count": 18,
   "metadata": {
    "colab": {
     "base_uri": "https://localhost:8080/",
     "height": 326
    },
    "id": "VUW5dUKfRk6v",
    "outputId": "4796e8a4-00ac-48a1-de75-e50d84f2999a",
    "scrolled": false
   },
   "outputs": [
    {
     "data": {
      "image/png": "[encoded data removed]",
      "text/plain": [
       "<Figure size 432x288 with 1 Axes>"
      ]
     },
     "metadata": {
      "needs_background": "light"
     },
     "output_type": "display_data"
    }
   ],
   "source": [
    "import matplotlib.ticker as mtick\n",
    "\n",
    "ax = mtcars[\"am\"].value_counts(normalize=True).plot(kind=\"bar\")\n",
    "ax.set_ylabel(\"count/sum(count)\")\n",
    "ax.set_xlabel(mtcars[\"am\"].name);\n",
    "\n",
    "# Esta función permite transaformar la escala del eje y a procentajes\n",
    "ax.yaxis.set_major_formatter(mtick.PercentFormatter(1.0))"
   ]
  },
  {
   "cell_type": "markdown",
   "metadata": {},
   "source": [
    "## Opción 3 - Seaborn\n",
    "\n",
    "La tercera opción es utilizar **Seaborn**, una librería que se construyó en base a `matplotlib`. Esta librería está más orientada a _Data Science_, y por lo mismo, provee una interfaz directa para trabajar con DataFrames."
   ]
  },
  {
   "cell_type": "code",
   "execution_count": 22,
   "metadata": {},
   "outputs": [
    {
     "data": {
      "image/png": "[encoded data removed]",
      "text/plain": [
       "<Figure size 432x288 with 1 Axes>"
      ]
     },
     "metadata": {
      "needs_background": "light"
     },
     "output_type": "display_data"
    }
   ],
   "source": [
    "import seaborn as sns\n",
    "\n",
    "ax = sns.countplot(x=\"am\", data=mtcars)"
   ]
  },
  {
   "cell_type": "markdown",
   "metadata": {},
   "source": [
    "Además, en `seaborn` podemos cambiar el tema (ojo, hay formas de hacer esto también en `matplotlib`)."
   ]
  },
  {
   "cell_type": "code",
   "execution_count": 23,
   "metadata": {},
   "outputs": [
    {
     "data": {
      "image/png": "[encoded data removed]",
      "text/plain": [
       "<Figure size 432x288 with 1 Axes>"
      ]
     },
     "metadata": {},
     "output_type": "display_data"
    }
   ],
   "source": [
    "sns.set_theme(style=\"whitegrid\", palette=\"pastel\")\n",
    "ax = sns.countplot(x=\"am\", data=mtcars)"
   ]
  },
  {
   "cell_type": "markdown",
   "metadata": {},
   "source": [
    "O el tema por defecto. Puedes ver [más detalles aquí](https://seaborn.pydata.org/generated/seaborn.set_theme.html)."
   ]
  },
  {
   "cell_type": "code",
   "execution_count": 24,
   "metadata": {},
   "outputs": [
    {
     "data": {
      "image/png": "[encoded data removed]",
      "text/plain": [
       "<Figure size 432x288 with 1 Axes>"
      ]
     },
     "metadata": {},
     "output_type": "display_data"
    }
   ],
   "source": [
    "sns.set_theme()\n",
    "ax = sns.countplot(x=\"am\", data=mtcars)"
   ]
  },
  {
   "cell_type": "markdown",
   "metadata": {
    "id": "PcJd743s5ll3"
   },
   "source": [
    "# Utilizando 2 o más variables categóricas"
   ]
  },
  {
   "cell_type": "markdown",
   "metadata": {
    "id": "mE-4x4Ux2HRN"
   },
   "source": [
    "Podemos utilizar los gráficos de barra para estudiar más de una variable categórica al mismo tiempo. En este ejemplo consideremos la variable `vs` que denota el tipo de motor: (**0: V-shaped, 1:Straight**)."
   ]
  },
  {
   "cell_type": "code",
   "execution_count": 25,
   "metadata": {
    "colab": {
     "base_uri": "https://localhost:8080/",
     "height": 204
    },
    "id": "O4A7snFgTXqR",
    "outputId": "fdbbb922-cea8-4ca1-c3d3-9f6faf6c06c4"
   },
   "outputs": [
    {
     "data": {
      "text/html": [
       "<div>\n",
       "<style scoped>\n",
       "    .dataframe tbody tr th:only-of-type {\n",
       "        vertical-align: middle;\n",
       "    }\n",
       "\n",
       "    .dataframe tbody tr th {\n",
       "        vertical-align: top;\n",
       "    }\n",
       "\n",
       "    .dataframe thead th {\n",
       "        text-align: right;\n",
       "    }\n",
       "</style>\n",
       "<table border=\"1\" class=\"dataframe\">\n",
       "  <thead>\n",
       "    <tr style=\"text-align: right;\">\n",
       "      <th></th>\n",
       "      <th>mpg</th>\n",
       "      <th>cyl</th>\n",
       "      <th>disp</th>\n",
       "      <th>hp</th>\n",
       "      <th>drat</th>\n",
       "      <th>wt</th>\n",
       "      <th>qsec</th>\n",
       "      <th>vs</th>\n",
       "      <th>am</th>\n",
       "      <th>gear</th>\n",
       "      <th>carb</th>\n",
       "    </tr>\n",
       "  </thead>\n",
       "  <tbody>\n",
       "    <tr>\n",
       "      <th>Mazda RX4</th>\n",
       "      <td>21.0</td>\n",
       "      <td>6</td>\n",
       "      <td>160.0</td>\n",
       "      <td>110</td>\n",
       "      <td>3.90</td>\n",
       "      <td>2.620</td>\n",
       "      <td>16.46</td>\n",
       "      <td>V-shaped</td>\n",
       "      <td>Manual</td>\n",
       "      <td>4</td>\n",
       "      <td>4</td>\n",
       "    </tr>\n",
       "    <tr>\n",
       "      <th>Mazda RX4 Wag</th>\n",
       "      <td>21.0</td>\n",
       "      <td>6</td>\n",
       "      <td>160.0</td>\n",
       "      <td>110</td>\n",
       "      <td>3.90</td>\n",
       "      <td>2.875</td>\n",
       "      <td>17.02</td>\n",
       "      <td>V-shaped</td>\n",
       "      <td>Manual</td>\n",
       "      <td>4</td>\n",
       "      <td>4</td>\n",
       "    </tr>\n",
       "    <tr>\n",
       "      <th>Datsun 710</th>\n",
       "      <td>22.8</td>\n",
       "      <td>4</td>\n",
       "      <td>108.0</td>\n",
       "      <td>93</td>\n",
       "      <td>3.85</td>\n",
       "      <td>2.320</td>\n",
       "      <td>18.61</td>\n",
       "      <td>Straight</td>\n",
       "      <td>Manual</td>\n",
       "      <td>4</td>\n",
       "      <td>1</td>\n",
       "    </tr>\n",
       "    <tr>\n",
       "      <th>Hornet 4 Drive</th>\n",
       "      <td>21.4</td>\n",
       "      <td>6</td>\n",
       "      <td>258.0</td>\n",
       "      <td>110</td>\n",
       "      <td>3.08</td>\n",
       "      <td>3.215</td>\n",
       "      <td>19.44</td>\n",
       "      <td>Straight</td>\n",
       "      <td>Automático</td>\n",
       "      <td>3</td>\n",
       "      <td>1</td>\n",
       "    </tr>\n",
       "    <tr>\n",
       "      <th>Hornet Sportabout</th>\n",
       "      <td>18.7</td>\n",
       "      <td>8</td>\n",
       "      <td>360.0</td>\n",
       "      <td>175</td>\n",
       "      <td>3.15</td>\n",
       "      <td>3.440</td>\n",
       "      <td>17.02</td>\n",
       "      <td>V-shaped</td>\n",
       "      <td>Automático</td>\n",
       "      <td>3</td>\n",
       "      <td>2</td>\n",
       "    </tr>\n",
       "  </tbody>\n",
       "</table>\n",
       "</div>"
      ],
      "text/plain": [
       "                    mpg  cyl   disp   hp  drat     wt   qsec        vs  \\\n",
       "Mazda RX4          21.0    6  160.0  110  3.90  2.620  16.46  V-shaped   \n",
       "Mazda RX4 Wag      21.0    6  160.0  110  3.90  2.875  17.02  V-shaped   \n",
       "Datsun 710         22.8    4  108.0   93  3.85  2.320  18.61  Straight   \n",
       "Hornet 4 Drive     21.4    6  258.0  110  3.08  3.215  19.44  Straight   \n",
       "Hornet Sportabout  18.7    8  360.0  175  3.15  3.440  17.02  V-shaped   \n",
       "\n",
       "                           am  gear  carb  \n",
       "Mazda RX4              Manual     4     4  \n",
       "Mazda RX4 Wag          Manual     4     4  \n",
       "Datsun 710             Manual     4     1  \n",
       "Hornet 4 Drive     Automático     3     1  \n",
       "Hornet Sportabout  Automático     3     2  "
      ]
     },
     "execution_count": 25,
     "metadata": {},
     "output_type": "execute_result"
    }
   ],
   "source": [
    "# En este módulo reemplazamos los 0 y 1 por V-shaped y Straight respectivamente.\n",
    "mtcars['vs'] = mtcars['vs'].map({0: 'V-shaped', 1: 'Straight'})\n",
    "mtcars.head(5)"
   ]
  },
  {
   "cell_type": "markdown",
   "metadata": {
    "id": "rrUWPaw2202Z"
   },
   "source": [
    "El siguiente grafico nos permite ver facilmente cual es la distribución del tipo de motor para los diferentes tipos de transmisión (Automática vs Manual). **Ojo**: Para este tipo de gráfico es necesario tener una columna que indique que tipo de categoria es, para luego sumar su cantidad. Lo que vamos a hacer a continuación se conoce como crear variables _dummy_."
   ]
  },
  {
   "cell_type": "code",
   "execution_count": 36,
   "metadata": {
    "colab": {
     "base_uri": "https://localhost:8080/",
     "height": 204
    },
    "id": "8Zjyg338Wv6T",
    "outputId": "ab1818c9-7898-44c2-dd35-c867b3c6486d"
   },
   "outputs": [
    {
     "data": {
      "text/html": [
       "<div>\n",
       "<style scoped>\n",
       "    .dataframe tbody tr th:only-of-type {\n",
       "        vertical-align: middle;\n",
       "    }\n",
       "\n",
       "    .dataframe tbody tr th {\n",
       "        vertical-align: top;\n",
       "    }\n",
       "\n",
       "    .dataframe thead th {\n",
       "        text-align: right;\n",
       "    }\n",
       "</style>\n",
       "<table border=\"1\" class=\"dataframe\">\n",
       "  <thead>\n",
       "    <tr style=\"text-align: right;\">\n",
       "      <th></th>\n",
       "      <th>mpg</th>\n",
       "      <th>cyl</th>\n",
       "      <th>disp</th>\n",
       "      <th>hp</th>\n",
       "      <th>drat</th>\n",
       "      <th>wt</th>\n",
       "      <th>qsec</th>\n",
       "      <th>am</th>\n",
       "      <th>gear</th>\n",
       "      <th>carb</th>\n",
       "      <th>vs_Straight</th>\n",
       "      <th>vs_V-shaped</th>\n",
       "    </tr>\n",
       "  </thead>\n",
       "  <tbody>\n",
       "    <tr>\n",
       "      <th>Mazda RX4</th>\n",
       "      <td>21.0</td>\n",
       "      <td>6</td>\n",
       "      <td>160.0</td>\n",
       "      <td>110</td>\n",
       "      <td>3.90</td>\n",
       "      <td>2.620</td>\n",
       "      <td>16.46</td>\n",
       "      <td>Manual</td>\n",
       "      <td>4</td>\n",
       "      <td>4</td>\n",
       "      <td>0</td>\n",
       "      <td>1</td>\n",
       "    </tr>\n",
       "    <tr>\n",
       "      <th>Mazda RX4 Wag</th>\n",
       "      <td>21.0</td>\n",
       "      <td>6</td>\n",
       "      <td>160.0</td>\n",
       "      <td>110</td>\n",
       "      <td>3.90</td>\n",
       "      <td>2.875</td>\n",
       "      <td>17.02</td>\n",
       "      <td>Manual</td>\n",
       "      <td>4</td>\n",
       "      <td>4</td>\n",
       "      <td>0</td>\n",
       "      <td>1</td>\n",
       "    </tr>\n",
       "    <tr>\n",
       "      <th>Datsun 710</th>\n",
       "      <td>22.8</td>\n",
       "      <td>4</td>\n",
       "      <td>108.0</td>\n",
       "      <td>93</td>\n",
       "      <td>3.85</td>\n",
       "      <td>2.320</td>\n",
       "      <td>18.61</td>\n",
       "      <td>Manual</td>\n",
       "      <td>4</td>\n",
       "      <td>1</td>\n",
       "      <td>1</td>\n",
       "      <td>0</td>\n",
       "    </tr>\n",
       "    <tr>\n",
       "      <th>Hornet 4 Drive</th>\n",
       "      <td>21.4</td>\n",
       "      <td>6</td>\n",
       "      <td>258.0</td>\n",
       "      <td>110</td>\n",
       "      <td>3.08</td>\n",
       "      <td>3.215</td>\n",
       "      <td>19.44</td>\n",
       "      <td>Automático</td>\n",
       "      <td>3</td>\n",
       "      <td>1</td>\n",
       "      <td>1</td>\n",
       "      <td>0</td>\n",
       "    </tr>\n",
       "    <tr>\n",
       "      <th>Hornet Sportabout</th>\n",
       "      <td>18.7</td>\n",
       "      <td>8</td>\n",
       "      <td>360.0</td>\n",
       "      <td>175</td>\n",
       "      <td>3.15</td>\n",
       "      <td>3.440</td>\n",
       "      <td>17.02</td>\n",
       "      <td>Automático</td>\n",
       "      <td>3</td>\n",
       "      <td>2</td>\n",
       "      <td>0</td>\n",
       "      <td>1</td>\n",
       "    </tr>\n",
       "  </tbody>\n",
       "</table>\n",
       "</div>"
      ],
      "text/plain": [
       "                    mpg  cyl   disp   hp  drat     wt   qsec          am  \\\n",
       "Mazda RX4          21.0    6  160.0  110  3.90  2.620  16.46      Manual   \n",
       "Mazda RX4 Wag      21.0    6  160.0  110  3.90  2.875  17.02      Manual   \n",
       "Datsun 710         22.8    4  108.0   93  3.85  2.320  18.61      Manual   \n",
       "Hornet 4 Drive     21.4    6  258.0  110  3.08  3.215  19.44  Automático   \n",
       "Hornet Sportabout  18.7    8  360.0  175  3.15  3.440  17.02  Automático   \n",
       "\n",
       "                   gear  carb  vs_Straight  vs_V-shaped  \n",
       "Mazda RX4             4     4            0            1  \n",
       "Mazda RX4 Wag         4     4            0            1  \n",
       "Datsun 710            4     1            1            0  \n",
       "Hornet 4 Drive        3     1            1            0  \n",
       "Hornet Sportabout     3     2            0            1  "
      ]
     },
     "execution_count": 36,
     "metadata": {},
     "output_type": "execute_result"
    }
   ],
   "source": [
    "mtcars_dummy = pd.get_dummies(mtcars, columns=['vs'])\n",
    "mtcars_dummy.head(5)"
   ]
  },
  {
   "cell_type": "code",
   "execution_count": 37,
   "metadata": {
    "colab": {
     "base_uri": "https://localhost:8080/",
     "height": 142
    },
    "id": "Go8v_smJX5Yo",
    "outputId": "325cc7d2-14ea-48ae-fd83-83215c43d21e"
   },
   "outputs": [
    {
     "data": {
      "text/html": [
       "<div>\n",
       "<style scoped>\n",
       "    .dataframe tbody tr th:only-of-type {\n",
       "        vertical-align: middle;\n",
       "    }\n",
       "\n",
       "    .dataframe tbody tr th {\n",
       "        vertical-align: top;\n",
       "    }\n",
       "\n",
       "    .dataframe thead th {\n",
       "        text-align: right;\n",
       "    }\n",
       "</style>\n",
       "<table border=\"1\" class=\"dataframe\">\n",
       "  <thead>\n",
       "    <tr style=\"text-align: right;\">\n",
       "      <th></th>\n",
       "      <th>vs_V-shaped</th>\n",
       "      <th>vs_Straight</th>\n",
       "    </tr>\n",
       "    <tr>\n",
       "      <th>am</th>\n",
       "      <th></th>\n",
       "      <th></th>\n",
       "    </tr>\n",
       "  </thead>\n",
       "  <tbody>\n",
       "    <tr>\n",
       "      <th>Automático</th>\n",
       "      <td>12</td>\n",
       "      <td>7</td>\n",
       "    </tr>\n",
       "    <tr>\n",
       "      <th>Manual</th>\n",
       "      <td>6</td>\n",
       "      <td>7</td>\n",
       "    </tr>\n",
       "  </tbody>\n",
       "</table>\n",
       "</div>"
      ],
      "text/plain": [
       "            vs_V-shaped  vs_Straight\n",
       "am                                  \n",
       "Automático           12            7\n",
       "Manual                6            7"
      ]
     },
     "execution_count": 37,
     "metadata": {},
     "output_type": "execute_result"
    }
   ],
   "source": [
    "mtcars_dummy_grouped = mtcars_dummy.groupby(mtcars_dummy[\"am\"]).agg({'vs_V-shaped':'sum','vs_Straight':'sum'})\n",
    "mtcars_dummy_grouped"
   ]
  },
  {
   "cell_type": "code",
   "execution_count": 38,
   "metadata": {
    "colab": {
     "base_uri": "https://localhost:8080/",
     "height": 343
    },
    "id": "an4_G06ZXjBs",
    "outputId": "494aa3ab-3a89-45a6-9040-fa3974a01d5e"
   },
   "outputs": [
    {
     "data": {
      "text/plain": [
       "Text(0, 0.5, 'count')"
      ]
     },
     "execution_count": 38,
     "metadata": {},
     "output_type": "execute_result"
    },
    {
     "data": {
      "image/png": "[encoded data removed]",
      "text/plain": [
       "<Figure size 432x288 with 1 Axes>"
      ]
     },
     "metadata": {},
     "output_type": "display_data"
    }
   ],
   "source": [
    "ax =mtcars_dummy_grouped.plot.bar(stacked=True)\n",
    "ax.set_ylabel(\"count\")"
   ]
  },
  {
   "cell_type": "code",
   "execution_count": 39,
   "metadata": {
    "colab": {
     "base_uri": "https://localhost:8080/"
    },
    "id": "XzLAwlgHZ4Kb",
    "outputId": "c4220563-60d6-4a95-9d67-8d2cbc99bfaa"
   },
   "outputs": [
    {
     "data": {
      "text/plain": [
       "vs_V-shaped    18\n",
       "vs_Straight    14\n",
       "dtype: int64"
      ]
     },
     "execution_count": 39,
     "metadata": {},
     "output_type": "execute_result"
    }
   ],
   "source": [
    "# Para obtener porcentajes vamos a sumar el total de cada columna con:\n",
    "mtcars_dummy_grouped.sum()"
   ]
  },
  {
   "cell_type": "code",
   "execution_count": 40,
   "metadata": {
    "id": "_uKiNiaBaP5P"
   },
   "outputs": [],
   "source": [
    "# Creamos un nuevo dataframe pero con formato en porcentaje, esto es simplemente diviendo por el total de vehiculos\n",
    "mtcars_dummy_grouped_v2 = mtcars_dummy_grouped/ mtcars_dummy_grouped.sum().sum()"
   ]
  },
  {
   "cell_type": "code",
   "execution_count": 41,
   "metadata": {
    "colab": {
     "base_uri": "https://localhost:8080/",
     "height": 142
    },
    "id": "O9eksDFRaa2w",
    "outputId": "6d6b3b29-7f34-422b-a656-a484eb683af5"
   },
   "outputs": [
    {
     "data": {
      "text/html": [
       "<div>\n",
       "<style scoped>\n",
       "    .dataframe tbody tr th:only-of-type {\n",
       "        vertical-align: middle;\n",
       "    }\n",
       "\n",
       "    .dataframe tbody tr th {\n",
       "        vertical-align: top;\n",
       "    }\n",
       "\n",
       "    .dataframe thead th {\n",
       "        text-align: right;\n",
       "    }\n",
       "</style>\n",
       "<table border=\"1\" class=\"dataframe\">\n",
       "  <thead>\n",
       "    <tr style=\"text-align: right;\">\n",
       "      <th></th>\n",
       "      <th>vs_V-shaped</th>\n",
       "      <th>vs_Straight</th>\n",
       "    </tr>\n",
       "    <tr>\n",
       "      <th>am</th>\n",
       "      <th></th>\n",
       "      <th></th>\n",
       "    </tr>\n",
       "  </thead>\n",
       "  <tbody>\n",
       "    <tr>\n",
       "      <th>Automático</th>\n",
       "      <td>0.3750</td>\n",
       "      <td>0.21875</td>\n",
       "    </tr>\n",
       "    <tr>\n",
       "      <th>Manual</th>\n",
       "      <td>0.1875</td>\n",
       "      <td>0.21875</td>\n",
       "    </tr>\n",
       "  </tbody>\n",
       "</table>\n",
       "</div>"
      ],
      "text/plain": [
       "            vs_V-shaped  vs_Straight\n",
       "am                                  \n",
       "Automático       0.3750      0.21875\n",
       "Manual           0.1875      0.21875"
      ]
     },
     "execution_count": 41,
     "metadata": {},
     "output_type": "execute_result"
    }
   ],
   "source": [
    "mtcars_dummy_grouped_v2"
   ]
  },
  {
   "cell_type": "code",
   "execution_count": 42,
   "metadata": {
    "colab": {
     "base_uri": "https://localhost:8080/",
     "height": 326
    },
    "id": "4cuTG-qkZLAJ",
    "outputId": "c25725eb-20cf-4daf-9303-32a4966578a0"
   },
   "outputs": [
    {
     "data": {
      "image/png": "[encoded data removed]",
      "text/plain": [
       "<Figure size 432x288 with 1 Axes>"
      ]
     },
     "metadata": {},
     "output_type": "display_data"
    }
   ],
   "source": [
    "ax = mtcars_dummy_grouped_v2.plot.bar(stacked=True)\n",
    "# Cambia el formato a procentaje\n",
    "ax.yaxis.set_major_formatter(mtick.PercentFormatter(1.0))\n",
    "ax.set_ylabel(\"count/sum(count)\");"
   ]
  },
  {
   "cell_type": "markdown",
   "metadata": {
    "id": "Cn4CwGD34-Du"
   },
   "source": [
    "## Posiciones para las barras\n",
    "\n",
    "Ya vimos como hacer un gráfico _stacked_, ahora vamos a ver como crear más de una barra."
   ]
  },
  {
   "cell_type": "code",
   "execution_count": 43,
   "metadata": {
    "colab": {
     "base_uri": "https://localhost:8080/",
     "height": 279
    },
    "id": "c-Ruf35KbJ7Q",
    "outputId": "894d0873-6bdd-42ef-88a8-f9b656bf06c4"
   },
   "outputs": [
    {
     "data": {
      "image/png": "[encoded data removed]",
      "text/plain": [
       "<Figure size 432x288 with 1 Axes>"
      ]
     },
     "metadata": {},
     "output_type": "display_data"
    }
   ],
   "source": [
    "# Con rot=0 giramos los labels del eje X\n",
    "ax = mtcars_dummy_grouped_v2.plot.bar(rot=0)\n",
    "# Cambia el formato a procentaje\n",
    "ax.yaxis.set_major_formatter(mtick.PercentFormatter(1.0))\n",
    "ax.set_ylabel(\"count/sum(count)\");"
   ]
  },
  {
   "cell_type": "code",
   "execution_count": 44,
   "metadata": {
    "colab": {
     "base_uri": "https://localhost:8080/",
     "height": 279
    },
    "id": "VV2NzP2Gb2KY",
    "outputId": "be8315a9-78dc-4057-dcae-8a269f4ebf34"
   },
   "outputs": [
    {
     "data": {
      "image/png": "[encoded data removed]",
      "text/plain": [
       "<Figure size 432x288 with 1 Axes>"
      ]
     },
     "metadata": {},
     "output_type": "display_data"
    }
   ],
   "source": [
    "# Aquí la versión sin porcentajes\n",
    "ax = mtcars_dummy_grouped.plot.bar(rot=0)\n",
    "ax.set_ylabel(\"count\");"
   ]
  },
  {
   "cell_type": "markdown",
   "metadata": {},
   "source": [
    "## Más de una barra en Seaborn\n",
    "\n",
    "Veamos cómo podemos replicar este gráfico en Seaborn, partiendo deel _dataset_ sin las variables _dummy_."
   ]
  },
  {
   "cell_type": "code",
   "execution_count": 45,
   "metadata": {},
   "outputs": [
    {
     "data": {
      "text/html": [
       "<div>\n",
       "<style scoped>\n",
       "    .dataframe tbody tr th:only-of-type {\n",
       "        vertical-align: middle;\n",
       "    }\n",
       "\n",
       "    .dataframe tbody tr th {\n",
       "        vertical-align: top;\n",
       "    }\n",
       "\n",
       "    .dataframe thead th {\n",
       "        text-align: right;\n",
       "    }\n",
       "</style>\n",
       "<table border=\"1\" class=\"dataframe\">\n",
       "  <thead>\n",
       "    <tr style=\"text-align: right;\">\n",
       "      <th></th>\n",
       "      <th>mpg</th>\n",
       "      <th>cyl</th>\n",
       "      <th>disp</th>\n",
       "      <th>hp</th>\n",
       "      <th>drat</th>\n",
       "      <th>wt</th>\n",
       "      <th>qsec</th>\n",
       "      <th>vs</th>\n",
       "      <th>am</th>\n",
       "      <th>gear</th>\n",
       "      <th>carb</th>\n",
       "    </tr>\n",
       "  </thead>\n",
       "  <tbody>\n",
       "    <tr>\n",
       "      <th>Mazda RX4</th>\n",
       "      <td>21.0</td>\n",
       "      <td>6</td>\n",
       "      <td>160.0</td>\n",
       "      <td>110</td>\n",
       "      <td>3.90</td>\n",
       "      <td>2.620</td>\n",
       "      <td>16.46</td>\n",
       "      <td>V-shaped</td>\n",
       "      <td>Manual</td>\n",
       "      <td>4</td>\n",
       "      <td>4</td>\n",
       "    </tr>\n",
       "    <tr>\n",
       "      <th>Mazda RX4 Wag</th>\n",
       "      <td>21.0</td>\n",
       "      <td>6</td>\n",
       "      <td>160.0</td>\n",
       "      <td>110</td>\n",
       "      <td>3.90</td>\n",
       "      <td>2.875</td>\n",
       "      <td>17.02</td>\n",
       "      <td>V-shaped</td>\n",
       "      <td>Manual</td>\n",
       "      <td>4</td>\n",
       "      <td>4</td>\n",
       "    </tr>\n",
       "    <tr>\n",
       "      <th>Datsun 710</th>\n",
       "      <td>22.8</td>\n",
       "      <td>4</td>\n",
       "      <td>108.0</td>\n",
       "      <td>93</td>\n",
       "      <td>3.85</td>\n",
       "      <td>2.320</td>\n",
       "      <td>18.61</td>\n",
       "      <td>Straight</td>\n",
       "      <td>Manual</td>\n",
       "      <td>4</td>\n",
       "      <td>1</td>\n",
       "    </tr>\n",
       "    <tr>\n",
       "      <th>Hornet 4 Drive</th>\n",
       "      <td>21.4</td>\n",
       "      <td>6</td>\n",
       "      <td>258.0</td>\n",
       "      <td>110</td>\n",
       "      <td>3.08</td>\n",
       "      <td>3.215</td>\n",
       "      <td>19.44</td>\n",
       "      <td>Straight</td>\n",
       "      <td>Automático</td>\n",
       "      <td>3</td>\n",
       "      <td>1</td>\n",
       "    </tr>\n",
       "    <tr>\n",
       "      <th>Hornet Sportabout</th>\n",
       "      <td>18.7</td>\n",
       "      <td>8</td>\n",
       "      <td>360.0</td>\n",
       "      <td>175</td>\n",
       "      <td>3.15</td>\n",
       "      <td>3.440</td>\n",
       "      <td>17.02</td>\n",
       "      <td>V-shaped</td>\n",
       "      <td>Automático</td>\n",
       "      <td>3</td>\n",
       "      <td>2</td>\n",
       "    </tr>\n",
       "  </tbody>\n",
       "</table>\n",
       "</div>"
      ],
      "text/plain": [
       "                    mpg  cyl   disp   hp  drat     wt   qsec        vs  \\\n",
       "Mazda RX4          21.0    6  160.0  110  3.90  2.620  16.46  V-shaped   \n",
       "Mazda RX4 Wag      21.0    6  160.0  110  3.90  2.875  17.02  V-shaped   \n",
       "Datsun 710         22.8    4  108.0   93  3.85  2.320  18.61  Straight   \n",
       "Hornet 4 Drive     21.4    6  258.0  110  3.08  3.215  19.44  Straight   \n",
       "Hornet Sportabout  18.7    8  360.0  175  3.15  3.440  17.02  V-shaped   \n",
       "\n",
       "                           am  gear  carb  \n",
       "Mazda RX4              Manual     4     4  \n",
       "Mazda RX4 Wag          Manual     4     4  \n",
       "Datsun 710             Manual     4     1  \n",
       "Hornet 4 Drive     Automático     3     1  \n",
       "Hornet Sportabout  Automático     3     2  "
      ]
     },
     "execution_count": 45,
     "metadata": {},
     "output_type": "execute_result"
    }
   ],
   "source": [
    "mtcars.head()"
   ]
  },
  {
   "cell_type": "code",
   "execution_count": 46,
   "metadata": {
    "scrolled": true
   },
   "outputs": [
    {
     "data": {
      "image/png": "[encoded data removed]",
      "text/plain": [
       "<Figure size 432x288 with 1 Axes>"
      ]
     },
     "metadata": {},
     "output_type": "display_data"
    }
   ],
   "source": [
    "ax = sns.countplot(x=\"am\", hue=\"vs\", data=mtcars)"
   ]
  },
  {
   "cell_type": "code",
   "execution_count": 47,
   "metadata": {},
   "outputs": [
    {
     "data": {
      "image/png": "[encoded data removed]",
      "text/plain": [
       "<Figure size 432x288 with 1 Axes>"
      ]
     },
     "metadata": {},
     "output_type": "display_data"
    }
   ],
   "source": [
    "with plt.xkcd():\n",
    "    ax = sns.countplot(x=\"am\", hue=\"vs\", data=mtcars)"
   ]
  },
  {
   "cell_type": "markdown",
   "metadata": {
    "id": "H_YmIQqR8gww"
   },
   "source": [
    "## Distribución del número de cilindros por tipo de auto: automático vs manual\n",
    "\n",
    "Vamos a ver la distribución del número de cilindros por tipo de auto. Aquí, a pesar de que la variable cyl es cuantitativa (discreta), la vamos a tratar como una variable categorica."
   ]
  },
  {
   "cell_type": "code",
   "execution_count": 48,
   "metadata": {
    "colab": {
     "base_uri": "https://localhost:8080/",
     "height": 204
    },
    "id": "WUAC7tJGcDv-",
    "outputId": "c339dbea-a3c5-4f29-bc5c-2dca08ea0652"
   },
   "outputs": [
    {
     "data": {
      "text/html": [
       "<div>\n",
       "<style scoped>\n",
       "    .dataframe tbody tr th:only-of-type {\n",
       "        vertical-align: middle;\n",
       "    }\n",
       "\n",
       "    .dataframe tbody tr th {\n",
       "        vertical-align: top;\n",
       "    }\n",
       "\n",
       "    .dataframe thead th {\n",
       "        text-align: right;\n",
       "    }\n",
       "</style>\n",
       "<table border=\"1\" class=\"dataframe\">\n",
       "  <thead>\n",
       "    <tr style=\"text-align: right;\">\n",
       "      <th></th>\n",
       "      <th>mpg</th>\n",
       "      <th>disp</th>\n",
       "      <th>hp</th>\n",
       "      <th>drat</th>\n",
       "      <th>wt</th>\n",
       "      <th>qsec</th>\n",
       "      <th>vs</th>\n",
       "      <th>am</th>\n",
       "      <th>gear</th>\n",
       "      <th>carb</th>\n",
       "      <th>cyl_4</th>\n",
       "      <th>cyl_6</th>\n",
       "      <th>cyl_8</th>\n",
       "    </tr>\n",
       "  </thead>\n",
       "  <tbody>\n",
       "    <tr>\n",
       "      <th>Mazda RX4</th>\n",
       "      <td>21.0</td>\n",
       "      <td>160.0</td>\n",
       "      <td>110</td>\n",
       "      <td>3.90</td>\n",
       "      <td>2.620</td>\n",
       "      <td>16.46</td>\n",
       "      <td>V-shaped</td>\n",
       "      <td>Manual</td>\n",
       "      <td>4</td>\n",
       "      <td>4</td>\n",
       "      <td>0</td>\n",
       "      <td>1</td>\n",
       "      <td>0</td>\n",
       "    </tr>\n",
       "    <tr>\n",
       "      <th>Mazda RX4 Wag</th>\n",
       "      <td>21.0</td>\n",
       "      <td>160.0</td>\n",
       "      <td>110</td>\n",
       "      <td>3.90</td>\n",
       "      <td>2.875</td>\n",
       "      <td>17.02</td>\n",
       "      <td>V-shaped</td>\n",
       "      <td>Manual</td>\n",
       "      <td>4</td>\n",
       "      <td>4</td>\n",
       "      <td>0</td>\n",
       "      <td>1</td>\n",
       "      <td>0</td>\n",
       "    </tr>\n",
       "    <tr>\n",
       "      <th>Datsun 710</th>\n",
       "      <td>22.8</td>\n",
       "      <td>108.0</td>\n",
       "      <td>93</td>\n",
       "      <td>3.85</td>\n",
       "      <td>2.320</td>\n",
       "      <td>18.61</td>\n",
       "      <td>Straight</td>\n",
       "      <td>Manual</td>\n",
       "      <td>4</td>\n",
       "      <td>1</td>\n",
       "      <td>1</td>\n",
       "      <td>0</td>\n",
       "      <td>0</td>\n",
       "    </tr>\n",
       "    <tr>\n",
       "      <th>Hornet 4 Drive</th>\n",
       "      <td>21.4</td>\n",
       "      <td>258.0</td>\n",
       "      <td>110</td>\n",
       "      <td>3.08</td>\n",
       "      <td>3.215</td>\n",
       "      <td>19.44</td>\n",
       "      <td>Straight</td>\n",
       "      <td>Automático</td>\n",
       "      <td>3</td>\n",
       "      <td>1</td>\n",
       "      <td>0</td>\n",
       "      <td>1</td>\n",
       "      <td>0</td>\n",
       "    </tr>\n",
       "    <tr>\n",
       "      <th>Hornet Sportabout</th>\n",
       "      <td>18.7</td>\n",
       "      <td>360.0</td>\n",
       "      <td>175</td>\n",
       "      <td>3.15</td>\n",
       "      <td>3.440</td>\n",
       "      <td>17.02</td>\n",
       "      <td>V-shaped</td>\n",
       "      <td>Automático</td>\n",
       "      <td>3</td>\n",
       "      <td>2</td>\n",
       "      <td>0</td>\n",
       "      <td>0</td>\n",
       "      <td>1</td>\n",
       "    </tr>\n",
       "  </tbody>\n",
       "</table>\n",
       "</div>"
      ],
      "text/plain": [
       "                    mpg   disp   hp  drat     wt   qsec        vs          am  \\\n",
       "Mazda RX4          21.0  160.0  110  3.90  2.620  16.46  V-shaped      Manual   \n",
       "Mazda RX4 Wag      21.0  160.0  110  3.90  2.875  17.02  V-shaped      Manual   \n",
       "Datsun 710         22.8  108.0   93  3.85  2.320  18.61  Straight      Manual   \n",
       "Hornet 4 Drive     21.4  258.0  110  3.08  3.215  19.44  Straight  Automático   \n",
       "Hornet Sportabout  18.7  360.0  175  3.15  3.440  17.02  V-shaped  Automático   \n",
       "\n",
       "                   gear  carb  cyl_4  cyl_6  cyl_8  \n",
       "Mazda RX4             4     4      0      1      0  \n",
       "Mazda RX4 Wag         4     4      0      1      0  \n",
       "Datsun 710            4     1      1      0      0  \n",
       "Hornet 4 Drive        3     1      0      1      0  \n",
       "Hornet Sportabout     3     2      0      0      1  "
      ]
     },
     "execution_count": 48,
     "metadata": {},
     "output_type": "execute_result"
    }
   ],
   "source": [
    "mtcars_dummy_2 = pd.get_dummies(mtcars, columns=['cyl'])\n",
    "mtcars_dummy_2.head(5)"
   ]
  },
  {
   "cell_type": "code",
   "execution_count": 49,
   "metadata": {
    "colab": {
     "base_uri": "https://localhost:8080/",
     "height": 142
    },
    "id": "M95hxveLc-11",
    "outputId": "7a745445-859b-431c-e576-ea62d75c2849"
   },
   "outputs": [
    {
     "data": {
      "text/html": [
       "<div>\n",
       "<style scoped>\n",
       "    .dataframe tbody tr th:only-of-type {\n",
       "        vertical-align: middle;\n",
       "    }\n",
       "\n",
       "    .dataframe tbody tr th {\n",
       "        vertical-align: top;\n",
       "    }\n",
       "\n",
       "    .dataframe thead th {\n",
       "        text-align: right;\n",
       "    }\n",
       "</style>\n",
       "<table border=\"1\" class=\"dataframe\">\n",
       "  <thead>\n",
       "    <tr style=\"text-align: right;\">\n",
       "      <th></th>\n",
       "      <th>cyl_8</th>\n",
       "      <th>cyl_6</th>\n",
       "      <th>cyl_4</th>\n",
       "    </tr>\n",
       "    <tr>\n",
       "      <th>am</th>\n",
       "      <th></th>\n",
       "      <th></th>\n",
       "      <th></th>\n",
       "    </tr>\n",
       "  </thead>\n",
       "  <tbody>\n",
       "    <tr>\n",
       "      <th>Automático</th>\n",
       "      <td>12</td>\n",
       "      <td>4</td>\n",
       "      <td>3</td>\n",
       "    </tr>\n",
       "    <tr>\n",
       "      <th>Manual</th>\n",
       "      <td>2</td>\n",
       "      <td>3</td>\n",
       "      <td>8</td>\n",
       "    </tr>\n",
       "  </tbody>\n",
       "</table>\n",
       "</div>"
      ],
      "text/plain": [
       "            cyl_8  cyl_6  cyl_4\n",
       "am                             \n",
       "Automático     12      4      3\n",
       "Manual          2      3      8"
      ]
     },
     "execution_count": 49,
     "metadata": {},
     "output_type": "execute_result"
    }
   ],
   "source": [
    "mtcars_dummy_grouped_2 = mtcars_dummy_2.groupby(mtcars_dummy_2[\"am\"]).agg({'cyl_8': 'sum', 'cyl_6': 'sum', 'cyl_4': 'sum'})\n",
    "mtcars_dummy_grouped_2"
   ]
  },
  {
   "cell_type": "code",
   "execution_count": 50,
   "metadata": {
    "colab": {
     "base_uri": "https://localhost:8080/",
     "height": 343
    },
    "id": "N3aCprIXdQRY",
    "outputId": "cafebf0f-e41e-4cef-a9c2-e65225ae7381"
   },
   "outputs": [
    {
     "data": {
      "text/plain": [
       "Text(0, 0.5, 'count')"
      ]
     },
     "execution_count": 50,
     "metadata": {},
     "output_type": "execute_result"
    },
    {
     "data": {
      "image/png": "[encoded data removed]",
      "text/plain": [
       "<Figure size 432x288 with 1 Axes>"
      ]
     },
     "metadata": {},
     "output_type": "display_data"
    }
   ],
   "source": [
    "ax = mtcars_dummy_grouped_2.plot.bar(stacked=True)\n",
    "ax.set_ylabel(\"count\")"
   ]
  },
  {
   "cell_type": "markdown",
   "metadata": {
    "id": "zIf1bmWp87RT"
   },
   "source": [
    "**¿Cuál es la distribución del número de cilindros por tipo de auto (automático vs manual), y por tipo de motor (V-shaped vs Straight)?**\n",
    "\n",
    "Veamos cómo graficar más de una variable categórica."
   ]
  },
  {
   "cell_type": "code",
   "execution_count": 52,
   "metadata": {
    "id": "rslAIYtSeJzO"
   },
   "outputs": [],
   "source": [
    "import matplotlib.pyplot as plt"
   ]
  },
  {
   "cell_type": "code",
   "execution_count": 53,
   "metadata": {
    "id": "bG-XUYyjgEop"
   },
   "outputs": [],
   "source": [
    "mtcars_straight = mtcars[mtcars[\"vs\"]==\"Straight\"]\n",
    "#notar que el operador - no puede ser parte de un numbre en python.\n",
    "mtcars_V_shaped = mtcars[mtcars[\"vs\"]==\"V-shaped\"]"
   ]
  },
  {
   "cell_type": "code",
   "execution_count": 54,
   "metadata": {
    "id": "TDQURwj7hzw2"
   },
   "outputs": [],
   "source": [
    "mtcars_straight_dummy = pd.get_dummies(mtcars_straight, columns=['cyl'])\n",
    "mtcars_V_shaped_dummy = pd.get_dummies(mtcars_V_shaped, columns=['cyl'])"
   ]
  },
  {
   "cell_type": "code",
   "execution_count": 55,
   "metadata": {
    "colab": {
     "base_uri": "https://localhost:8080/",
     "height": 204
    },
    "id": "gibnCyowiavD",
    "outputId": "1fe62786-cf2b-415f-c137-0fcc8617c666"
   },
   "outputs": [
    {
     "data": {
      "text/html": [
       "<div>\n",
       "<style scoped>\n",
       "    .dataframe tbody tr th:only-of-type {\n",
       "        vertical-align: middle;\n",
       "    }\n",
       "\n",
       "    .dataframe tbody tr th {\n",
       "        vertical-align: top;\n",
       "    }\n",
       "\n",
       "    .dataframe thead th {\n",
       "        text-align: right;\n",
       "    }\n",
       "</style>\n",
       "<table border=\"1\" class=\"dataframe\">\n",
       "  <thead>\n",
       "    <tr style=\"text-align: right;\">\n",
       "      <th></th>\n",
       "      <th>mpg</th>\n",
       "      <th>disp</th>\n",
       "      <th>hp</th>\n",
       "      <th>drat</th>\n",
       "      <th>wt</th>\n",
       "      <th>qsec</th>\n",
       "      <th>vs</th>\n",
       "      <th>am</th>\n",
       "      <th>gear</th>\n",
       "      <th>carb</th>\n",
       "      <th>cyl_4</th>\n",
       "      <th>cyl_6</th>\n",
       "    </tr>\n",
       "  </thead>\n",
       "  <tbody>\n",
       "    <tr>\n",
       "      <th>Datsun 710</th>\n",
       "      <td>22.8</td>\n",
       "      <td>108.0</td>\n",
       "      <td>93</td>\n",
       "      <td>3.85</td>\n",
       "      <td>2.320</td>\n",
       "      <td>18.61</td>\n",
       "      <td>Straight</td>\n",
       "      <td>Manual</td>\n",
       "      <td>4</td>\n",
       "      <td>1</td>\n",
       "      <td>1</td>\n",
       "      <td>0</td>\n",
       "    </tr>\n",
       "    <tr>\n",
       "      <th>Hornet 4 Drive</th>\n",
       "      <td>21.4</td>\n",
       "      <td>258.0</td>\n",
       "      <td>110</td>\n",
       "      <td>3.08</td>\n",
       "      <td>3.215</td>\n",
       "      <td>19.44</td>\n",
       "      <td>Straight</td>\n",
       "      <td>Automático</td>\n",
       "      <td>3</td>\n",
       "      <td>1</td>\n",
       "      <td>0</td>\n",
       "      <td>1</td>\n",
       "    </tr>\n",
       "    <tr>\n",
       "      <th>Valiant</th>\n",
       "      <td>18.1</td>\n",
       "      <td>225.0</td>\n",
       "      <td>105</td>\n",
       "      <td>2.76</td>\n",
       "      <td>3.460</td>\n",
       "      <td>20.22</td>\n",
       "      <td>Straight</td>\n",
       "      <td>Automático</td>\n",
       "      <td>3</td>\n",
       "      <td>1</td>\n",
       "      <td>0</td>\n",
       "      <td>1</td>\n",
       "    </tr>\n",
       "    <tr>\n",
       "      <th>Merc 240D</th>\n",
       "      <td>24.4</td>\n",
       "      <td>146.7</td>\n",
       "      <td>62</td>\n",
       "      <td>3.69</td>\n",
       "      <td>3.190</td>\n",
       "      <td>20.00</td>\n",
       "      <td>Straight</td>\n",
       "      <td>Automático</td>\n",
       "      <td>4</td>\n",
       "      <td>2</td>\n",
       "      <td>1</td>\n",
       "      <td>0</td>\n",
       "    </tr>\n",
       "    <tr>\n",
       "      <th>Merc 230</th>\n",
       "      <td>22.8</td>\n",
       "      <td>140.8</td>\n",
       "      <td>95</td>\n",
       "      <td>3.92</td>\n",
       "      <td>3.150</td>\n",
       "      <td>22.90</td>\n",
       "      <td>Straight</td>\n",
       "      <td>Automático</td>\n",
       "      <td>4</td>\n",
       "      <td>2</td>\n",
       "      <td>1</td>\n",
       "      <td>0</td>\n",
       "    </tr>\n",
       "  </tbody>\n",
       "</table>\n",
       "</div>"
      ],
      "text/plain": [
       "                 mpg   disp   hp  drat     wt   qsec        vs          am  \\\n",
       "Datsun 710      22.8  108.0   93  3.85  2.320  18.61  Straight      Manual   \n",
       "Hornet 4 Drive  21.4  258.0  110  3.08  3.215  19.44  Straight  Automático   \n",
       "Valiant         18.1  225.0  105  2.76  3.460  20.22  Straight  Automático   \n",
       "Merc 240D       24.4  146.7   62  3.69  3.190  20.00  Straight  Automático   \n",
       "Merc 230        22.8  140.8   95  3.92  3.150  22.90  Straight  Automático   \n",
       "\n",
       "                gear  carb  cyl_4  cyl_6  \n",
       "Datsun 710         4     1      1      0  \n",
       "Hornet 4 Drive     3     1      0      1  \n",
       "Valiant            3     1      0      1  \n",
       "Merc 240D          4     2      1      0  \n",
       "Merc 230           4     2      1      0  "
      ]
     },
     "execution_count": 55,
     "metadata": {},
     "output_type": "execute_result"
    }
   ],
   "source": [
    "#Notar que no existen 8 cyl para el tipo straight\n",
    "mtcars_straight_dummy.head(5)"
   ]
  },
  {
   "cell_type": "code",
   "execution_count": 56,
   "metadata": {
    "id": "y6ZNJ6BBiUDD"
   },
   "outputs": [],
   "source": [
    "# Notar que la agrupacion debe ser consistente con la existencia de las columnas, en la primera linea, no existen cyl_8\n",
    "mtcars_straight_dummy_group = mtcars_straight_dummy.groupby(mtcars_straight_dummy[\"am\"]).agg({'cyl_6': 'sum', 'cyl_4': 'sum'})\n",
    "\n",
    "mtcars_V_shaped_dummy_group = mtcars_V_shaped_dummy.groupby(mtcars_V_shaped_dummy[\"am\"]).agg({'cyl_8': 'sum', 'cyl_6': 'sum', 'cyl_4': 'sum'})"
   ]
  },
  {
   "cell_type": "code",
   "execution_count": 57,
   "metadata": {
    "colab": {
     "base_uri": "https://localhost:8080/",
     "height": 326
    },
    "id": "oW6CEjKFiIUb",
    "outputId": "1ebb7a28-8032-46f0-8b17-af50772b1941"
   },
   "outputs": [
    {
     "data": {
      "image/png": "[encoded data removed]",
      "text/plain": [
       "<Figure size 432x288 with 1 Axes>"
      ]
     },
     "metadata": {},
     "output_type": "display_data"
    }
   ],
   "source": [
    "ax = mtcars_dummy_grouped_2.plot.bar(stacked=True)\n",
    "ax.set_ylabel(\"count\");"
   ]
  },
  {
   "cell_type": "code",
   "execution_count": 58,
   "metadata": {
    "colab": {
     "base_uri": "https://localhost:8080/",
     "height": 516
    },
    "id": "t8ZlJWzLdjJp",
    "outputId": "8f3a1546-627a-45ea-a266-1391bb760897"
   },
   "outputs": [
    {
     "data": {
      "text/plain": [
       "Text(0.5, 1.0, 'V-Shaped')"
      ]
     },
     "execution_count": 58,
     "metadata": {},
     "output_type": "execute_result"
    },
    {
     "data": {
      "image/png": "[encoded data removed]",
      "text/plain": [
       "<Figure size 720x576 with 2 Axes>"
      ]
     },
     "metadata": {},
     "output_type": "display_data"
    }
   ],
   "source": [
    "# Primero debemos definir nuestros ejes\n",
    "fig = plt.figure(figsize=(10,8))\n",
    "ax1 = plt.subplot(1, 2, 1)\n",
    "ax1.set_title('Straight')\n",
    "ax2 = plt.subplot(1, 2, 2)\n",
    "ax2.set_title('V-Shaped')"
   ]
  },
  {
   "cell_type": "code",
   "execution_count": 59,
   "metadata": {
    "colab": {
     "base_uri": "https://localhost:8080/",
     "height": 577
    },
    "id": "v_BJwK7Ai7t7",
    "outputId": "9686bd69-7e5f-4949-cb40-7fd07d4c7e6c"
   },
   "outputs": [
    {
     "name": "stderr",
     "output_type": "stream",
     "text": [
      "/usr/local/lib/python3.9/site-packages/pandas/plotting/_matplotlib/tools.py:331: MatplotlibDeprecationWarning: \n",
      "The is_first_col function was deprecated in Matplotlib 3.4 and will be removed two minor releases later. Use ax.get_subplotspec().is_first_col() instead.\n",
      "  if ax.is_first_col():\n"
     ]
    },
    {
     "data": {
      "text/plain": [
       "<matplotlib.legend.Legend at 0x126f8a850>"
      ]
     },
     "execution_count": 59,
     "metadata": {},
     "output_type": "execute_result"
    },
    {
     "data": {
      "image/png": "[encoded data removed]",
      "text/plain": [
       "<Figure size 720x576 with 2 Axes>"
      ]
     },
     "metadata": {},
     "output_type": "display_data"
    }
   ],
   "source": [
    "# Hacemos uso de los subplot para crear nuestras figuras\n",
    "fig = plt.figure(figsize=(10,8))\n",
    "ax1 = plt.subplot(1, 2, 1)\n",
    "ax1.set_title('Straight')\n",
    "ax1 = mtcars_straight_dummy_group.plot.bar(ax=ax1,stacked=True)\n",
    "ax1.set_ylabel(\"count\")\n",
    "ax1.legend(loc='upper right')\n",
    "\n",
    "ax2 = plt.subplot(1, 2, 2)\n",
    "ax2.set_title('V-Shaped')\n",
    "ax2 = mtcars_V_shaped_dummy_group.plot.bar(ax=ax2,stacked=True)\n",
    "ax2.set_ylabel(\"count\")\n",
    "ax2.legend(loc='upper right')"
   ]
  },
  {
   "cell_type": "code",
   "execution_count": 60,
   "metadata": {
    "colab": {
     "base_uri": "https://localhost:8080/",
     "height": 390
    },
    "id": "p7L6uQ_QkaDR",
    "outputId": "c69f395e-b21c-4069-a8b6-3346fc9e19a3"
   },
   "outputs": [
    {
     "data": {
      "text/html": [
       "<div>\n",
       "<style scoped>\n",
       "    .dataframe tbody tr th:only-of-type {\n",
       "        vertical-align: middle;\n",
       "    }\n",
       "\n",
       "    .dataframe tbody tr th {\n",
       "        vertical-align: top;\n",
       "    }\n",
       "\n",
       "    .dataframe thead th {\n",
       "        text-align: right;\n",
       "    }\n",
       "</style>\n",
       "<table border=\"1\" class=\"dataframe\">\n",
       "  <thead>\n",
       "    <tr style=\"text-align: right;\">\n",
       "      <th></th>\n",
       "      <th>am</th>\n",
       "      <th>vs</th>\n",
       "      <th>gear</th>\n",
       "      <th>cyl</th>\n",
       "      <th>conteo</th>\n",
       "    </tr>\n",
       "  </thead>\n",
       "  <tbody>\n",
       "    <tr>\n",
       "      <th>0</th>\n",
       "      <td>Automático</td>\n",
       "      <td>Straight</td>\n",
       "      <td>3</td>\n",
       "      <td>4</td>\n",
       "      <td>1</td>\n",
       "    </tr>\n",
       "    <tr>\n",
       "      <th>1</th>\n",
       "      <td>Automático</td>\n",
       "      <td>Straight</td>\n",
       "      <td>3</td>\n",
       "      <td>6</td>\n",
       "      <td>2</td>\n",
       "    </tr>\n",
       "    <tr>\n",
       "      <th>2</th>\n",
       "      <td>Automático</td>\n",
       "      <td>Straight</td>\n",
       "      <td>4</td>\n",
       "      <td>4</td>\n",
       "      <td>2</td>\n",
       "    </tr>\n",
       "    <tr>\n",
       "      <th>3</th>\n",
       "      <td>Automático</td>\n",
       "      <td>Straight</td>\n",
       "      <td>4</td>\n",
       "      <td>6</td>\n",
       "      <td>2</td>\n",
       "    </tr>\n",
       "    <tr>\n",
       "      <th>4</th>\n",
       "      <td>Automático</td>\n",
       "      <td>V-shaped</td>\n",
       "      <td>3</td>\n",
       "      <td>8</td>\n",
       "      <td>12</td>\n",
       "    </tr>\n",
       "    <tr>\n",
       "      <th>5</th>\n",
       "      <td>Manual</td>\n",
       "      <td>Straight</td>\n",
       "      <td>4</td>\n",
       "      <td>4</td>\n",
       "      <td>6</td>\n",
       "    </tr>\n",
       "    <tr>\n",
       "      <th>6</th>\n",
       "      <td>Manual</td>\n",
       "      <td>Straight</td>\n",
       "      <td>5</td>\n",
       "      <td>4</td>\n",
       "      <td>1</td>\n",
       "    </tr>\n",
       "    <tr>\n",
       "      <th>7</th>\n",
       "      <td>Manual</td>\n",
       "      <td>V-shaped</td>\n",
       "      <td>4</td>\n",
       "      <td>6</td>\n",
       "      <td>2</td>\n",
       "    </tr>\n",
       "    <tr>\n",
       "      <th>8</th>\n",
       "      <td>Manual</td>\n",
       "      <td>V-shaped</td>\n",
       "      <td>5</td>\n",
       "      <td>4</td>\n",
       "      <td>1</td>\n",
       "    </tr>\n",
       "    <tr>\n",
       "      <th>9</th>\n",
       "      <td>Manual</td>\n",
       "      <td>V-shaped</td>\n",
       "      <td>5</td>\n",
       "      <td>6</td>\n",
       "      <td>1</td>\n",
       "    </tr>\n",
       "    <tr>\n",
       "      <th>10</th>\n",
       "      <td>Manual</td>\n",
       "      <td>V-shaped</td>\n",
       "      <td>5</td>\n",
       "      <td>8</td>\n",
       "      <td>2</td>\n",
       "    </tr>\n",
       "  </tbody>\n",
       "</table>\n",
       "</div>"
      ],
      "text/plain": [
       "            am        vs  gear  cyl  conteo\n",
       "0   Automático  Straight     3    4       1\n",
       "1   Automático  Straight     3    6       2\n",
       "2   Automático  Straight     4    4       2\n",
       "3   Automático  Straight     4    6       2\n",
       "4   Automático  V-shaped     3    8      12\n",
       "5       Manual  Straight     4    4       6\n",
       "6       Manual  Straight     5    4       1\n",
       "7       Manual  V-shaped     4    6       2\n",
       "8       Manual  V-shaped     5    4       1\n",
       "9       Manual  V-shaped     5    6       1\n",
       "10      Manual  V-shaped     5    8       2"
      ]
     },
     "execution_count": 60,
     "metadata": {},
     "output_type": "execute_result"
    }
   ],
   "source": [
    "aux = mtcars.groupby([mtcars[\"am\"], mtcars[\"vs\"], mtcars[\"gear\"], mtcars[\"cyl\"]], as_index = False)[\"mpg\"].count()\n",
    "aux.columns=[\"am\", \"vs\", \"gear\", \"cyl\", \"conteo\"] # renombramos las columnas\n",
    "# aux = aux.set_index([\"am\",\"vs\"])\n",
    "aux"
   ]
  },
  {
   "cell_type": "code",
   "execution_count": 61,
   "metadata": {
    "colab": {
     "base_uri": "https://localhost:8080/",
     "height": 276
    },
    "id": "e-GwA9bHnfX4",
    "outputId": "4d7990a5-9429-4600-b07f-847be9ae34c8"
   },
   "outputs": [
    {
     "data": {
      "image/png": "[encoded data removed]",
      "text/plain": [
       "<Figure size 432x288 with 1 Axes>"
      ]
     },
     "metadata": {},
     "output_type": "display_data"
    }
   ],
   "source": [
    "automatico_straight = mtcars[(mtcars[\"am\"]==\"Automático\") & (mtcars[\"vs\"]==\"Straight\")]\n",
    "automatico_straight_dummy = pd.get_dummies(automatico_straight, columns=['cyl'])\n",
    "#Notar que solo existen Automático V-shaped de 4 y 6 cyls\n",
    "automatico_straight_dummy.groupby(\"gear\").agg({\"cyl_4\": \"sum\", \"cyl_6\": \"sum\"}).plot.bar(stacked=True,color={\"cyl_4\":\"red\",\"cyl_6\":\"green\",\"cyl_8\":\"blue\"});"
   ]
  },
  {
   "cell_type": "code",
   "execution_count": 62,
   "metadata": {
    "colab": {
     "base_uri": "https://localhost:8080/",
     "height": 293
    },
    "id": "m6IBO-X2ryoG",
    "outputId": "6e9ef24f-7b42-4d85-f2f5-72d73a5ce3c6"
   },
   "outputs": [
    {
     "data": {
      "image/png": "[encoded data removed]",
      "text/plain": [
       "<Figure size 432x288 with 1 Axes>"
      ]
     },
     "metadata": {},
     "output_type": "display_data"
    }
   ],
   "source": [
    "automatico_v_shaped = mtcars[(mtcars[\"am\"]==\"Automático\")&(mtcars[\"vs\"]==\"V-shaped\")]\n",
    "automatico_v_shaped_dummy = pd.get_dummies(automatico_v_shaped, columns=['cyl'])\n",
    "#Notar que solo existen Automático V-shaped de 8 cyls\n",
    "automatico_v_shaped_dummy.groupby(\"gear\").agg({\"cyl_8\":\"sum\"}).plot.bar(stacked=True,color={\"cyl_4\":\"red\",\"cyl_6\":\"green\",\"cyl_8\":\"blue\"});"
   ]
  },
  {
   "cell_type": "code",
   "execution_count": 63,
   "metadata": {
    "colab": {
     "base_uri": "https://localhost:8080/",
     "height": 276
    },
    "id": "07bp7SrLr0c-",
    "outputId": "19281a5b-0640-416d-fbc7-43eafdfa3501"
   },
   "outputs": [
    {
     "data": {
      "image/png": "[encoded data removed]",
      "text/plain": [
       "<Figure size 432x288 with 1 Axes>"
      ]
     },
     "metadata": {},
     "output_type": "display_data"
    }
   ],
   "source": [
    "manual_straight = mtcars[(mtcars[\"am\"]==\"Manual\")&(mtcars[\"vs\"]==\"Straight\")]\n",
    "manual_straight_dummy = pd.get_dummies(manual_straight, columns=['cyl'])\n",
    "#Notar que solo existen Automático V-shaped de 4 cyls\n",
    "manual_straight_dummy.groupby(\"gear\").agg({\"cyl_4\":\"sum\"}).plot.bar(stacked=True,color={\"cyl_4\":\"red\",\"cyl_6\":\"green\",\"cyl_8\":\"blue\"});"
   ]
  },
  {
   "cell_type": "code",
   "execution_count": 64,
   "metadata": {
    "colab": {
     "base_uri": "https://localhost:8080/",
     "height": 276
    },
    "id": "MfFeo1X1rw4m",
    "outputId": "2d49efc1-6896-4e19-884b-940d5a2a8944"
   },
   "outputs": [
    {
     "data": {
      "image/png": "[encoded data removed]",
      "text/plain": [
       "<Figure size 432x288 with 1 Axes>"
      ]
     },
     "metadata": {},
     "output_type": "display_data"
    }
   ],
   "source": [
    "manual_v_shaped = mtcars[(mtcars[\"am\"]==\"Manual\")&(mtcars[\"vs\"]==\"V-shaped\")]\n",
    "manual_v_shaped_dummy = pd.get_dummies(manual_v_shaped, columns=['cyl'])\n",
    "#Notar que solo existen Automático V-shaped de 4, 6 y 8 cyls\n",
    "manual_v_shaped_dummy.groupby(\"gear\").agg({\"cyl_4\":\"sum\",\"cyl_6\":\"sum\",\"cyl_8\":\"sum\"}).plot.bar(stacked=True,color={\"cyl_4\":\"red\",\"cyl_6\":\"green\",\"cyl_8\":\"blue\"});"
   ]
  },
  {
   "cell_type": "code",
   "execution_count": 65,
   "metadata": {
    "colab": {
     "base_uri": "https://localhost:8080/",
     "height": 509
    },
    "id": "1jyk7Mvht5xx",
    "outputId": "922c9040-2b4b-4942-dc32-2967035cbc55"
   },
   "outputs": [
    {
     "name": "stderr",
     "output_type": "stream",
     "text": [
      "/usr/local/lib/python3.9/site-packages/pandas/plotting/_matplotlib/tools.py:331: MatplotlibDeprecationWarning: \n",
      "The is_first_col function was deprecated in Matplotlib 3.4 and will be removed two minor releases later. Use ax.get_subplotspec().is_first_col() instead.\n",
      "  if ax.is_first_col():\n"
     ]
    },
    {
     "data": {
      "image/png": "[encoded data removed]",
      "text/plain": [
       "<Figure size 720x576 with 4 Axes>"
      ]
     },
     "metadata": {},
     "output_type": "display_data"
    }
   ],
   "source": [
    "fig = plt.figure(figsize=(10,8))\n",
    "#hspace y wspace nos permite ajustar las distancias entre los subplots\n",
    "fig.subplots_adjust(hspace=0.4, wspace=0.4)\n",
    "ax1 = plt.subplot(2, 2, 1)\n",
    "ax1.set_title('Straight Automático')\n",
    "ax1= automatico_straight_dummy.groupby(\"gear\").agg({\"cyl_4\":\"sum\",\"cyl_6\":\"sum\"}).plot.bar(ax=ax1,stacked=True,color={\"cyl_4\":\"red\",\"cyl_6\":\"green\",\"cyl_8\":\"blue\"})\n",
    "ax1.set_ylabel(\"count\")\n",
    "ax1.legend(loc = 'upper right')\n",
    "ax1.set_ylim([0, 12.5])\n",
    "\n",
    "ax2 = plt.subplot(2, 2, 2)\n",
    "ax2.set_title('Straight Manual')\n",
    "ax2= manual_straight_dummy.groupby(\"gear\").agg({\"cyl_4\":\"sum\"}).plot.bar(ax=ax2,stacked=True,color={\"cyl_4\":\"red\",\"cyl_6\":\"green\",\"cyl_8\":\"blue\"})\n",
    "ax2.set_ylabel(\"count\")\n",
    "ax2.legend(loc = 'upper right')\n",
    "ax2.set_ylim([0, 12.5])\n",
    "\n",
    "ax3 = plt.subplot(2, 2, 3)\n",
    "ax3.set_title('V-Shaped Automático')\n",
    "ax3= automatico_v_shaped_dummy.groupby(\"gear\").agg({\"cyl_8\":\"sum\"}).plot.bar(ax=ax3,stacked=True,color={\"cyl_4\":\"red\",\"cyl_6\":\"green\",\"cyl_8\":\"blue\"})\n",
    "ax3.set_ylabel(\"count\")\n",
    "ax3.legend(loc = 'upper right')\n",
    "ax3.set_ylim([0, 12.5])\n",
    "\n",
    "ax4 = plt.subplot(2, 2, 4)\n",
    "ax4.set_title('V-Shaped Manual')\n",
    "ax4 = manual_v_shaped_dummy.groupby(\"gear\").agg({\"cyl_4\":\"sum\",\"cyl_6\":\"sum\",\"cyl_8\":\"sum\"}).plot.bar(ax=ax4,stacked=True,color={\"cyl_4\":\"red\",\"cyl_6\":\"green\",\"cyl_8\":\"blue\"})\n",
    "ax4.set_ylabel(\"count\")\n",
    "ax4.legend(loc = 'upper right')\n",
    "ax4.set_ylim([0, 12.5]);"
   ]
  },
  {
   "cell_type": "code",
   "execution_count": null,
   "metadata": {},
   "outputs": [],
   "source": []
  }
 ],
 "metadata": {
  "colab": {
   "collapsed_sections": [],
   "name": "Barplot.ipynb",
   "provenance": []
  },
  "kernelspec": {
   "display_name": "Python 3",
   "language": "python",
   "name": "python3"
  },
  "language_info": {
   "codemirror_mode": {
    "name": "ipython",
    "version": 3
   },
   "file_extension": ".py",
   "mimetype": "text/x-python",
   "name": "python",
   "nbconvert_exporter": "python",
   "pygments_lexer": "ipython3",
   "version": "3.9.5"
  }
 },
 "nbformat": 4,
 "nbformat_minor": 1
}
