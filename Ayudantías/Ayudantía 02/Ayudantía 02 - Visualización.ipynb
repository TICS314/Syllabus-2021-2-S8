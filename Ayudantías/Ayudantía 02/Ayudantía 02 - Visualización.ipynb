{
  "nbformat": 4,
  "nbformat_minor": 0,
  "metadata": {
    "kernelspec": {
      "display_name": "Python 3",
      "language": "python",
      "name": "python3"
    },
    "language_info": {
      "codemirror_mode": {
        "name": "ipython",
        "version": 3
      },
      "file_extension": ".py",
      "mimetype": "text/x-python",
      "name": "python",
      "nbconvert_exporter": "python",
      "pygments_lexer": "ipython3",
      "version": "3.9.5"
    },
    "colab": {
      "name": "Ayudantía 02 - Visualización de datos.ipynb",
      "provenance": []
    }
  },
  "cells": [
    {
      "cell_type": "markdown",
      "metadata": {
        "id": "dWTYI__r1SqE"
      },
      "source": [
        "# Ayudantía 02 - Visualización de datos\n",
        "\n",
        "En esta ayudantía aprenderemos a visualizar datos con distintos tipos de gráficos y librerías"
      ]
    },
    {
      "cell_type": "markdown",
      "metadata": {
        "id": "5GB-6E5AtqHx"
      },
      "source": [
        "En primer lugar llamaremos las librerías que vamos a necesitar"
      ]
    },
    {
      "cell_type": "code",
      "metadata": {
        "id": "vPKz9bX1tjNg"
      },
      "source": [
        "import pandas as pd\n",
        "import numpy as np\n",
        "import matplotlib.pyplot as plt\n",
        "import seaborn as sns"
      ],
      "execution_count": 112,
      "outputs": []
    },
    {
      "cell_type": "markdown",
      "metadata": {
        "id": "IyX_o-TmHQmN"
      },
      "source": [
        "## Limpieza de dataframes"
      ]
    },
    {
      "cell_type": "markdown",
      "metadata": {
        "id": "US1t48AFtvGJ"
      },
      "source": [
        "Luego cargaremos los datasets necesarios y revisamos su información"
      ]
    },
    {
      "cell_type": "code",
      "metadata": {
        "id": "Rx_MgIjetxfY"
      },
      "source": [
        "codigos = pd.read_csv(\"codigos.csv\", delimiter=';')\n",
        "psu = pd.read_csv(\"psu_2019.csv\", delimiter=';')\n",
        "poblacion = pd.read_csv(\"poblacion.csv\", delimiter=';')\n",
        "presupuesto = pd.read_csv(\"presupuesto_2019.csv\", delimiter=';')"
      ],
      "execution_count": 113,
      "outputs": []
    },
    {
      "cell_type": "code",
      "metadata": {
        "colab": {
          "base_uri": "https://localhost:8080/"
        },
        "id": "rFr6sd2B3bZl",
        "outputId": "18f3ae5d-122a-4ec9-a5a1-c75c741a805b"
      },
      "source": [
        "codigos.info()"
      ],
      "execution_count": 114,
      "outputs": [
        {
          "output_type": "stream",
          "name": "stdout",
          "text": [
            "<class 'pandas.core.frame.DataFrame'>\n",
            "RangeIndex: 346 entries, 0 to 345\n",
            "Data columns (total 7 columns):\n",
            " #   Column              Non-Null Count  Dtype \n",
            "---  ------              --------------  ----- \n",
            " 0   Código Región       346 non-null    int64 \n",
            " 1   Nombre Región       346 non-null    object\n",
            " 2   Abreviatura Región  346 non-null    object\n",
            " 3   Código Provincia    346 non-null    int64 \n",
            " 4   Nombre Provincia    346 non-null    object\n",
            " 5   Código Comuna 2018  346 non-null    int64 \n",
            " 6   Nombre Comuna       346 non-null    object\n",
            "dtypes: int64(3), object(4)\n",
            "memory usage: 19.0+ KB\n"
          ]
        }
      ]
    },
    {
      "cell_type": "code",
      "metadata": {
        "colab": {
          "base_uri": "https://localhost:8080/"
        },
        "id": "bi-p5zKE3gAb",
        "outputId": "f2db83e2-1466-4d8a-d9d0-0376602637e1"
      },
      "source": [
        "poblacion.info()"
      ],
      "execution_count": 115,
      "outputs": [
        {
          "output_type": "stream",
          "name": "stdout",
          "text": [
            "<class 'pandas.core.frame.DataFrame'>\n",
            "RangeIndex: 345 entries, 0 to 344\n",
            "Data columns (total 3 columns):\n",
            " #   Column     Non-Null Count  Dtype \n",
            "---  ------     --------------  ----- \n",
            " 0   CODIGO     345 non-null    int64 \n",
            " 1   MUNICIPIO  345 non-null    object\n",
            " 2   POBLACIÓN  345 non-null    int64 \n",
            "dtypes: int64(2), object(1)\n",
            "memory usage: 8.2+ KB\n"
          ]
        }
      ]
    },
    {
      "cell_type": "code",
      "metadata": {
        "colab": {
          "base_uri": "https://localhost:8080/"
        },
        "id": "OFywJ4783emm",
        "outputId": "829e466a-a548-4985-fcff-2f8202859ad9"
      },
      "source": [
        "psu.info()"
      ],
      "execution_count": 116,
      "outputs": [
        {
          "output_type": "stream",
          "name": "stdout",
          "text": [
            "<class 'pandas.core.frame.DataFrame'>\n",
            "RangeIndex: 345 entries, 0 to 344\n",
            "Data columns (total 8 columns):\n",
            " #   Column                  Non-Null Count  Dtype \n",
            "---  ------                  --------------  ----- \n",
            " 0   CODIGO                  345 non-null    int64 \n",
            " 1   MUNICIPIO               345 non-null    object\n",
            " 2   MUNICIPALES_PRIMERA     345 non-null    object\n",
            " 3   PARTICULARES_PRIMERA    345 non-null    object\n",
            " 4   SUBVENCIONADOS_PRIMERA  345 non-null    object\n",
            " 5   450_MUNICIPALES         345 non-null    object\n",
            " 6   450_PARTICULARES        345 non-null    object\n",
            " 7   450_SUBVENCIONADOS      345 non-null    object\n",
            "dtypes: int64(1), object(7)\n",
            "memory usage: 21.7+ KB\n"
          ]
        }
      ]
    },
    {
      "cell_type": "code",
      "metadata": {
        "colab": {
          "base_uri": "https://localhost:8080/"
        },
        "id": "Wf5H6eab3h7J",
        "outputId": "2b44aa6b-2b66-4118-df22-a04cc59d3cbd"
      },
      "source": [
        "presupuesto.info()"
      ],
      "execution_count": 117,
      "outputs": [
        {
          "output_type": "stream",
          "name": "stdout",
          "text": [
            "<class 'pandas.core.frame.DataFrame'>\n",
            "RangeIndex: 345 entries, 0 to 344\n",
            "Data columns (total 3 columns):\n",
            " #   Column       Non-Null Count  Dtype \n",
            "---  ------       --------------  ----- \n",
            " 0   CODIGO       345 non-null    int64 \n",
            " 1   MUNICIPIO    345 non-null    object\n",
            " 2   PRESUPUESTO  345 non-null    object\n",
            "dtypes: int64(1), object(2)\n",
            "memory usage: 8.2+ KB\n"
          ]
        }
      ]
    },
    {
      "cell_type": "markdown",
      "metadata": {
        "id": "6PscoyQ21SqL"
      },
      "source": [
        "\n",
        "Tanto el  _dataset_ de presupuesto como el de psu tienen valores tipo object cuando deberían ser int. Veamos estas filas"
      ]
    },
    {
      "cell_type": "code",
      "metadata": {
        "colab": {
          "base_uri": "https://localhost:8080/",
          "height": 112
        },
        "id": "Hpj0q5CkG8ev",
        "outputId": "c4d7b98e-4007-4035-d43b-d244e38c71c2"
      },
      "source": [
        "presupuesto[presupuesto['PRESUPUESTO'] == 'No Recepcionado']"
      ],
      "execution_count": 118,
      "outputs": [
        {
          "output_type": "execute_result",
          "data": {
            "text/html": [
              "<div>\n",
              "<style scoped>\n",
              "    .dataframe tbody tr th:only-of-type {\n",
              "        vertical-align: middle;\n",
              "    }\n",
              "\n",
              "    .dataframe tbody tr th {\n",
              "        vertical-align: top;\n",
              "    }\n",
              "\n",
              "    .dataframe thead th {\n",
              "        text-align: right;\n",
              "    }\n",
              "</style>\n",
              "<table border=\"1\" class=\"dataframe\">\n",
              "  <thead>\n",
              "    <tr style=\"text-align: right;\">\n",
              "      <th></th>\n",
              "      <th>CODIGO</th>\n",
              "      <th>MUNICIPIO</th>\n",
              "      <th>PRESUPUESTO</th>\n",
              "    </tr>\n",
              "  </thead>\n",
              "  <tbody>\n",
              "    <tr>\n",
              "      <th>63</th>\n",
              "      <td>5602</td>\n",
              "      <td>ALGARROBO</td>\n",
              "      <td>No Recepcionado</td>\n",
              "    </tr>\n",
              "    <tr>\n",
              "      <th>87</th>\n",
              "      <td>6110</td>\n",
              "      <td>MOSTAZAL</td>\n",
              "      <td>No Recepcionado</td>\n",
              "    </tr>\n",
              "  </tbody>\n",
              "</table>\n",
              "</div>"
            ],
            "text/plain": [
              "    CODIGO  MUNICIPIO      PRESUPUESTO\n",
              "63    5602  ALGARROBO  No Recepcionado\n",
              "87    6110   MOSTAZAL  No Recepcionado"
            ]
          },
          "metadata": {},
          "execution_count": 118
        }
      ]
    },
    {
      "cell_type": "markdown",
      "metadata": {
        "id": "T6lXN2nA4OlE"
      },
      "source": [
        "Ahora los reemplazamos por 0 y el tipo de dato a entero (int)"
      ]
    },
    {
      "cell_type": "code",
      "metadata": {
        "id": "2gTJwiS63_GG"
      },
      "source": [
        "presupuesto = presupuesto.replace('No Recepcionado', 0)\n",
        "presupuesto['PRESUPUESTO'] = presupuesto['PRESUPUESTO'].astype(int)"
      ],
      "execution_count": 119,
      "outputs": []
    },
    {
      "cell_type": "markdown",
      "metadata": {
        "id": "7YKMk3264amI"
      },
      "source": [
        "Revisamos la información para verificar que se haya hecho todo correctamente"
      ]
    },
    {
      "cell_type": "code",
      "metadata": {
        "colab": {
          "base_uri": "https://localhost:8080/"
        },
        "id": "rag4WMcf4DHo",
        "outputId": "3e72026e-5748-422d-8d31-3453d082a023"
      },
      "source": [
        "presupuesto.info()"
      ],
      "execution_count": 120,
      "outputs": [
        {
          "output_type": "stream",
          "name": "stdout",
          "text": [
            "<class 'pandas.core.frame.DataFrame'>\n",
            "RangeIndex: 345 entries, 0 to 344\n",
            "Data columns (total 3 columns):\n",
            " #   Column       Non-Null Count  Dtype \n",
            "---  ------       --------------  ----- \n",
            " 0   CODIGO       345 non-null    int64 \n",
            " 1   MUNICIPIO    345 non-null    object\n",
            " 2   PRESUPUESTO  345 non-null    int64 \n",
            "dtypes: int64(2), object(1)\n",
            "memory usage: 8.2+ KB\n"
          ]
        }
      ]
    },
    {
      "cell_type": "markdown",
      "metadata": {
        "id": "uIIkyzUl428p"
      },
      "source": [
        "Ahora hacemos lo mismo con el dataframe psu"
      ]
    },
    {
      "cell_type": "code",
      "metadata": {
        "colab": {
          "base_uri": "https://localhost:8080/"
        },
        "id": "P5v57icH47IM",
        "outputId": "afc484d1-3b55-40ff-a92f-4bfd87ba3997"
      },
      "source": [
        "psu.info()"
      ],
      "execution_count": 121,
      "outputs": [
        {
          "output_type": "stream",
          "name": "stdout",
          "text": [
            "<class 'pandas.core.frame.DataFrame'>\n",
            "RangeIndex: 345 entries, 0 to 344\n",
            "Data columns (total 8 columns):\n",
            " #   Column                  Non-Null Count  Dtype \n",
            "---  ------                  --------------  ----- \n",
            " 0   CODIGO                  345 non-null    int64 \n",
            " 1   MUNICIPIO               345 non-null    object\n",
            " 2   MUNICIPALES_PRIMERA     345 non-null    object\n",
            " 3   PARTICULARES_PRIMERA    345 non-null    object\n",
            " 4   SUBVENCIONADOS_PRIMERA  345 non-null    object\n",
            " 5   450_MUNICIPALES         345 non-null    object\n",
            " 6   450_PARTICULARES        345 non-null    object\n",
            " 7   450_SUBVENCIONADOS      345 non-null    object\n",
            "dtypes: int64(1), object(7)\n",
            "memory usage: 21.7+ KB\n"
          ]
        }
      ]
    },
    {
      "cell_type": "markdown",
      "metadata": {
        "id": "Zg8v3Lnd5BWE"
      },
      "source": [
        "Son varias las columnas con valores en object así reemplazamos en cada una de ellas y por último revisamos si se hizo el cambio correctamente"
      ]
    },
    {
      "cell_type": "code",
      "metadata": {
        "colab": {
          "base_uri": "https://localhost:8080/"
        },
        "id": "5WrYIcJY5M1Q",
        "outputId": "d3f26818-8d7b-4eee-b4e9-b8b74c0ff8a4"
      },
      "source": [
        "psu = psu.replace('No Recepcionado', 0)\n",
        "psu['MUNICIPALES_PRIMERA']= psu['MUNICIPALES_PRIMERA'].astype(int)\n",
        "psu['PARTICULARES_PRIMERA']= psu['PARTICULARES_PRIMERA'].astype(int)\n",
        "psu['SUBVENCIONADOS_PRIMERA']= psu['SUBVENCIONADOS_PRIMERA'].astype(int)\n",
        "psu['450_MUNICIPALES']= psu['450_MUNICIPALES'].astype(int)\n",
        "psu['450_PARTICULARES']= psu['450_PARTICULARES'].astype(int)\n",
        "psu['450_SUBVENCIONADOS']= psu['450_SUBVENCIONADOS'].astype(int)\n",
        "psu.info()\n"
      ],
      "execution_count": 122,
      "outputs": [
        {
          "output_type": "stream",
          "name": "stdout",
          "text": [
            "<class 'pandas.core.frame.DataFrame'>\n",
            "RangeIndex: 345 entries, 0 to 344\n",
            "Data columns (total 8 columns):\n",
            " #   Column                  Non-Null Count  Dtype \n",
            "---  ------                  --------------  ----- \n",
            " 0   CODIGO                  345 non-null    int64 \n",
            " 1   MUNICIPIO               345 non-null    object\n",
            " 2   MUNICIPALES_PRIMERA     345 non-null    int64 \n",
            " 3   PARTICULARES_PRIMERA    345 non-null    int64 \n",
            " 4   SUBVENCIONADOS_PRIMERA  345 non-null    int64 \n",
            " 5   450_MUNICIPALES         345 non-null    int64 \n",
            " 6   450_PARTICULARES        345 non-null    int64 \n",
            " 7   450_SUBVENCIONADOS      345 non-null    int64 \n",
            "dtypes: int64(7), object(1)\n",
            "memory usage: 21.7+ KB\n"
          ]
        }
      ]
    },
    {
      "cell_type": "markdown",
      "metadata": {
        "id": "sSXnN0dW5oIT"
      },
      "source": [
        "## Merge dataframes\n",
        "Aprovecharemos de unir todos los dataframes en uno para poder realizar los ejercicios con mayor facilidad\n"
      ]
    },
    {
      "cell_type": "code",
      "metadata": {
        "colab": {
          "base_uri": "https://localhost:8080/",
          "height": 296
        },
        "id": "P0v2Mg316HdP",
        "outputId": "8ab5c34b-3e7a-4e0e-e721-5bbe8570031b"
      },
      "source": [
        "df_extended=codigos.merge(presupuesto, left_on='Código Comuna 2018', right_on='CODIGO')\n",
        "df_extended=df_extended.merge(poblacion, left_on='CODIGO', right_on='CODIGO')\n",
        "df_extended=df_extended.merge(psu, left_on='CODIGO', right_on='CODIGO')\n",
        "df_extended.head()"
      ],
      "execution_count": 123,
      "outputs": [
        {
          "output_type": "execute_result",
          "data": {
            "text/html": [
              "<div>\n",
              "<style scoped>\n",
              "    .dataframe tbody tr th:only-of-type {\n",
              "        vertical-align: middle;\n",
              "    }\n",
              "\n",
              "    .dataframe tbody tr th {\n",
              "        vertical-align: top;\n",
              "    }\n",
              "\n",
              "    .dataframe thead th {\n",
              "        text-align: right;\n",
              "    }\n",
              "</style>\n",
              "<table border=\"1\" class=\"dataframe\">\n",
              "  <thead>\n",
              "    <tr style=\"text-align: right;\">\n",
              "      <th></th>\n",
              "      <th>Código Región</th>\n",
              "      <th>Nombre Región</th>\n",
              "      <th>Abreviatura Región</th>\n",
              "      <th>Código Provincia</th>\n",
              "      <th>Nombre Provincia</th>\n",
              "      <th>Código Comuna 2018</th>\n",
              "      <th>Nombre Comuna</th>\n",
              "      <th>CODIGO</th>\n",
              "      <th>MUNICIPIO_x</th>\n",
              "      <th>PRESUPUESTO</th>\n",
              "      <th>MUNICIPIO_y</th>\n",
              "      <th>POBLACIÓN</th>\n",
              "      <th>MUNICIPIO</th>\n",
              "      <th>MUNICIPALES_PRIMERA</th>\n",
              "      <th>PARTICULARES_PRIMERA</th>\n",
              "      <th>SUBVENCIONADOS_PRIMERA</th>\n",
              "      <th>450_MUNICIPALES</th>\n",
              "      <th>450_PARTICULARES</th>\n",
              "      <th>450_SUBVENCIONADOS</th>\n",
              "    </tr>\n",
              "  </thead>\n",
              "  <tbody>\n",
              "    <tr>\n",
              "      <th>0</th>\n",
              "      <td>1</td>\n",
              "      <td>Tarapacá</td>\n",
              "      <td>TPCA</td>\n",
              "      <td>11</td>\n",
              "      <td>Iquique</td>\n",
              "      <td>1101</td>\n",
              "      <td>Iquique</td>\n",
              "      <td>1101</td>\n",
              "      <td>IQUIQUE</td>\n",
              "      <td>59072234</td>\n",
              "      <td>IQUIQUE</td>\n",
              "      <td>216514</td>\n",
              "      <td>IQUIQUE</td>\n",
              "      <td>482</td>\n",
              "      <td>149</td>\n",
              "      <td>1177</td>\n",
              "      <td>153</td>\n",
              "      <td>142</td>\n",
              "      <td>843</td>\n",
              "    </tr>\n",
              "    <tr>\n",
              "      <th>1</th>\n",
              "      <td>1</td>\n",
              "      <td>Tarapacá</td>\n",
              "      <td>TPCA</td>\n",
              "      <td>11</td>\n",
              "      <td>Iquique</td>\n",
              "      <td>1107</td>\n",
              "      <td>Alto Hospicio</td>\n",
              "      <td>1107</td>\n",
              "      <td>ALTO HOSPICIO</td>\n",
              "      <td>13984411</td>\n",
              "      <td>ALTO HOSPICIO</td>\n",
              "      <td>124150</td>\n",
              "      <td>ALTO HOSPICIO</td>\n",
              "      <td>79</td>\n",
              "      <td>0</td>\n",
              "      <td>1012</td>\n",
              "      <td>48</td>\n",
              "      <td>0</td>\n",
              "      <td>483</td>\n",
              "    </tr>\n",
              "    <tr>\n",
              "      <th>2</th>\n",
              "      <td>1</td>\n",
              "      <td>Tarapacá</td>\n",
              "      <td>TPCA</td>\n",
              "      <td>14</td>\n",
              "      <td>Tamarugal</td>\n",
              "      <td>1401</td>\n",
              "      <td>Pozo Almonte</td>\n",
              "      <td>1401</td>\n",
              "      <td>POZO ALMONTE</td>\n",
              "      <td>7613962</td>\n",
              "      <td>POZO ALMONTE</td>\n",
              "      <td>16683</td>\n",
              "      <td>POZO ALMONTE</td>\n",
              "      <td>159</td>\n",
              "      <td>0</td>\n",
              "      <td>0</td>\n",
              "      <td>43</td>\n",
              "      <td>0</td>\n",
              "      <td>0</td>\n",
              "    </tr>\n",
              "    <tr>\n",
              "      <th>3</th>\n",
              "      <td>1</td>\n",
              "      <td>Tarapacá</td>\n",
              "      <td>TPCA</td>\n",
              "      <td>14</td>\n",
              "      <td>Tamarugal</td>\n",
              "      <td>1402</td>\n",
              "      <td>Camiña</td>\n",
              "      <td>1402</td>\n",
              "      <td>CAMIÑA</td>\n",
              "      <td>1584008</td>\n",
              "      <td>CAMIÑA</td>\n",
              "      <td>1345</td>\n",
              "      <td>CAMIÑA</td>\n",
              "      <td>8</td>\n",
              "      <td>0</td>\n",
              "      <td>0</td>\n",
              "      <td>1</td>\n",
              "      <td>0</td>\n",
              "      <td>0</td>\n",
              "    </tr>\n",
              "    <tr>\n",
              "      <th>4</th>\n",
              "      <td>1</td>\n",
              "      <td>Tarapacá</td>\n",
              "      <td>TPCA</td>\n",
              "      <td>14</td>\n",
              "      <td>Tamarugal</td>\n",
              "      <td>1403</td>\n",
              "      <td>Colchane</td>\n",
              "      <td>1403</td>\n",
              "      <td>COLCHANE</td>\n",
              "      <td>2500000</td>\n",
              "      <td>COLCHANE</td>\n",
              "      <td>1556</td>\n",
              "      <td>COLCHANE</td>\n",
              "      <td>5</td>\n",
              "      <td>0</td>\n",
              "      <td>0</td>\n",
              "      <td>1</td>\n",
              "      <td>0</td>\n",
              "      <td>0</td>\n",
              "    </tr>\n",
              "  </tbody>\n",
              "</table>\n",
              "</div>"
            ],
            "text/plain": [
              "   Código Región Nombre Región  ... 450_PARTICULARES  450_SUBVENCIONADOS\n",
              "0              1      Tarapacá  ...              142                 843\n",
              "1              1      Tarapacá  ...                0                 483\n",
              "2              1      Tarapacá  ...                0                   0\n",
              "3              1      Tarapacá  ...                0                   0\n",
              "4              1      Tarapacá  ...                0                   0\n",
              "\n",
              "[5 rows x 19 columns]"
            ]
          },
          "metadata": {},
          "execution_count": 123
        }
      ]
    },
    {
      "cell_type": "markdown",
      "metadata": {
        "id": "rnQ05f9t6cjY"
      },
      "source": [
        "Luego dejamos solo las columnas que nos interesan, eliminando repetidas"
      ]
    },
    {
      "cell_type": "code",
      "metadata": {
        "colab": {
          "base_uri": "https://localhost:8080/",
          "height": 278
        },
        "id": "CoXebJ366gBE",
        "outputId": "b6e60835-aad4-4624-9097-44e6b1b1b9c5"
      },
      "source": [
        "df_extended=df_extended[['Nombre Región','Abreviatura Región','Nombre Provincia','Nombre Comuna','PRESUPUESTO','POBLACIÓN','MUNICIPALES_PRIMERA','PARTICULARES_PRIMERA','SUBVENCIONADOS_PRIMERA','450_MUNICIPALES','450_PARTICULARES','450_SUBVENCIONADOS']]\n",
        "df_extended.head()"
      ],
      "execution_count": 124,
      "outputs": [
        {
          "output_type": "execute_result",
          "data": {
            "text/html": [
              "<div>\n",
              "<style scoped>\n",
              "    .dataframe tbody tr th:only-of-type {\n",
              "        vertical-align: middle;\n",
              "    }\n",
              "\n",
              "    .dataframe tbody tr th {\n",
              "        vertical-align: top;\n",
              "    }\n",
              "\n",
              "    .dataframe thead th {\n",
              "        text-align: right;\n",
              "    }\n",
              "</style>\n",
              "<table border=\"1\" class=\"dataframe\">\n",
              "  <thead>\n",
              "    <tr style=\"text-align: right;\">\n",
              "      <th></th>\n",
              "      <th>Nombre Región</th>\n",
              "      <th>Abreviatura Región</th>\n",
              "      <th>Nombre Provincia</th>\n",
              "      <th>Nombre Comuna</th>\n",
              "      <th>PRESUPUESTO</th>\n",
              "      <th>POBLACIÓN</th>\n",
              "      <th>MUNICIPALES_PRIMERA</th>\n",
              "      <th>PARTICULARES_PRIMERA</th>\n",
              "      <th>SUBVENCIONADOS_PRIMERA</th>\n",
              "      <th>450_MUNICIPALES</th>\n",
              "      <th>450_PARTICULARES</th>\n",
              "      <th>450_SUBVENCIONADOS</th>\n",
              "    </tr>\n",
              "  </thead>\n",
              "  <tbody>\n",
              "    <tr>\n",
              "      <th>0</th>\n",
              "      <td>Tarapacá</td>\n",
              "      <td>TPCA</td>\n",
              "      <td>Iquique</td>\n",
              "      <td>Iquique</td>\n",
              "      <td>59072234</td>\n",
              "      <td>216514</td>\n",
              "      <td>482</td>\n",
              "      <td>149</td>\n",
              "      <td>1177</td>\n",
              "      <td>153</td>\n",
              "      <td>142</td>\n",
              "      <td>843</td>\n",
              "    </tr>\n",
              "    <tr>\n",
              "      <th>1</th>\n",
              "      <td>Tarapacá</td>\n",
              "      <td>TPCA</td>\n",
              "      <td>Iquique</td>\n",
              "      <td>Alto Hospicio</td>\n",
              "      <td>13984411</td>\n",
              "      <td>124150</td>\n",
              "      <td>79</td>\n",
              "      <td>0</td>\n",
              "      <td>1012</td>\n",
              "      <td>48</td>\n",
              "      <td>0</td>\n",
              "      <td>483</td>\n",
              "    </tr>\n",
              "    <tr>\n",
              "      <th>2</th>\n",
              "      <td>Tarapacá</td>\n",
              "      <td>TPCA</td>\n",
              "      <td>Tamarugal</td>\n",
              "      <td>Pozo Almonte</td>\n",
              "      <td>7613962</td>\n",
              "      <td>16683</td>\n",
              "      <td>159</td>\n",
              "      <td>0</td>\n",
              "      <td>0</td>\n",
              "      <td>43</td>\n",
              "      <td>0</td>\n",
              "      <td>0</td>\n",
              "    </tr>\n",
              "    <tr>\n",
              "      <th>3</th>\n",
              "      <td>Tarapacá</td>\n",
              "      <td>TPCA</td>\n",
              "      <td>Tamarugal</td>\n",
              "      <td>Camiña</td>\n",
              "      <td>1584008</td>\n",
              "      <td>1345</td>\n",
              "      <td>8</td>\n",
              "      <td>0</td>\n",
              "      <td>0</td>\n",
              "      <td>1</td>\n",
              "      <td>0</td>\n",
              "      <td>0</td>\n",
              "    </tr>\n",
              "    <tr>\n",
              "      <th>4</th>\n",
              "      <td>Tarapacá</td>\n",
              "      <td>TPCA</td>\n",
              "      <td>Tamarugal</td>\n",
              "      <td>Colchane</td>\n",
              "      <td>2500000</td>\n",
              "      <td>1556</td>\n",
              "      <td>5</td>\n",
              "      <td>0</td>\n",
              "      <td>0</td>\n",
              "      <td>1</td>\n",
              "      <td>0</td>\n",
              "      <td>0</td>\n",
              "    </tr>\n",
              "  </tbody>\n",
              "</table>\n",
              "</div>"
            ],
            "text/plain": [
              "  Nombre Región Abreviatura Región  ... 450_PARTICULARES 450_SUBVENCIONADOS\n",
              "0      Tarapacá               TPCA  ...              142                843\n",
              "1      Tarapacá               TPCA  ...                0                483\n",
              "2      Tarapacá               TPCA  ...                0                  0\n",
              "3      Tarapacá               TPCA  ...                0                  0\n",
              "4      Tarapacá               TPCA  ...                0                  0\n",
              "\n",
              "[5 rows x 12 columns]"
            ]
          },
          "metadata": {},
          "execution_count": 124
        }
      ]
    },
    {
      "cell_type": "markdown",
      "metadata": {
        "id": "D3bVyBVR7rfA"
      },
      "source": [
        "## Barplots\n",
        "Ahora graficaremos el presupuesto según PROVINCIA, la mejor manera de representar esto es a través de un gráfico de barras\n"
      ]
    },
    {
      "cell_type": "markdown",
      "metadata": {
        "id": "xXNEhxOc93KN"
      },
      "source": [
        "Primero tenemos que agrupar según provincia y sumar los presupuestos"
      ]
    },
    {
      "cell_type": "code",
      "metadata": {
        "colab": {
          "base_uri": "https://localhost:8080/"
        },
        "id": "9PhTws5v96SS",
        "outputId": "7806ac99-27f4-4524-9849-070a6107c927"
      },
      "source": [
        "df_provincia=df_extended['PRESUPUESTO'].groupby(df_extended['Nombre Provincia']).sum()\n",
        "df_provincia"
      ],
      "execution_count": 125,
      "outputs": [
        {
          "output_type": "execute_result",
          "data": {
            "text/plain": [
              "Nombre Provincia\n",
              "Aisén                        14903408\n",
              "Antofagasta                 125254473\n",
              "Antártica Chilena             2743100\n",
              "Arauco                       36740374\n",
              "Arica                        40286577\n",
              "Biobío                       91034371\n",
              "Cachapoal                   135528497\n",
              "Capitán Prat                  5570938\n",
              "Cardenal Caro                29177075\n",
              "Cauquenes                    17984735\n",
              "Cautín                      175308840\n",
              "Chacabuco                    91108229\n",
              "Chañaral                     10720168\n",
              "Chiloé                       58310331\n",
              "Choapa                       29171918\n",
              "Coihaique                    15156740\n",
              "Colchagua                    53293859\n",
              "Concepción                  196161773\n",
              "Copiapó                      44818187\n",
              "Cordillera                  100112250\n",
              "Curicó                       69422287\n",
              "Diguillín                    66246039\n",
              "El Loa                       56169539\n",
              "Elqui                       136567407\n",
              "General Carrera               6386741\n",
              "Huasco                       19370383\n",
              "Iquique                      73056645\n",
              "Isla de Pascua                9914468\n",
              "Itata                        19116193\n",
              "Limarí                       36912577\n",
              "Linares                      53291803\n",
              "Llanquihue                   87792305\n",
              "Los Andes                    24809515\n",
              "Magallanes                   49150375\n",
              "Maipo                        97454192\n",
              "Malleco                      46919689\n",
              "Marga Marga                  54829778\n",
              "Melipilla                    56191220\n",
              "Osorno                       48231119\n",
              "Palena                        9840897\n",
              "Parinacota                    4102830\n",
              "Petorca                      40744506\n",
              "Punilla                      24625779\n",
              "Quillota                     39679213\n",
              "Ranco                        19232357\n",
              "San Antonio                  68174225\n",
              "San Felipe de Aconcagua      37102162\n",
              "Santiago                   1862089382\n",
              "Talagante                    50705655\n",
              "Talca                        92428442\n",
              "Tamarugal                    21535790\n",
              "Tierra del Fuego              6020611\n",
              "Tocopilla                     9685819\n",
              "Valdivia                     70681854\n",
              "Valparaíso                  224834659\n",
              "Última Esperanza              9550995\n",
              "Name: PRESUPUESTO, dtype: int64"
            ]
          },
          "metadata": {},
          "execution_count": 125
        }
      ]
    },
    {
      "cell_type": "markdown",
      "metadata": {
        "id": "B2eOmqgs-Wwu"
      },
      "source": [
        "Extraemos los nombres de las provincias con el código keys(), ya que matplotlib no trabaja con dataframes "
      ]
    },
    {
      "cell_type": "code",
      "metadata": {
        "colab": {
          "base_uri": "https://localhost:8080/"
        },
        "id": "vQrWyOfZ-h3_",
        "outputId": "317fed73-0199-4ced-f1ad-737349e4b145"
      },
      "source": [
        "df_provincia.keys()"
      ],
      "execution_count": 126,
      "outputs": [
        {
          "output_type": "execute_result",
          "data": {
            "text/plain": [
              "Index(['Aisén', 'Antofagasta', 'Antártica Chilena', 'Arauco', 'Arica',\n",
              "       'Biobío', 'Cachapoal', 'Capitán Prat', 'Cardenal Caro', 'Cauquenes',\n",
              "       'Cautín', 'Chacabuco', 'Chañaral', 'Chiloé', 'Choapa', 'Coihaique',\n",
              "       'Colchagua', 'Concepción', 'Copiapó', 'Cordillera', 'Curicó',\n",
              "       'Diguillín', 'El Loa', 'Elqui', 'General Carrera', 'Huasco', 'Iquique',\n",
              "       'Isla de Pascua', 'Itata', 'Limarí', 'Linares', 'Llanquihue',\n",
              "       'Los Andes', 'Magallanes', 'Maipo', 'Malleco', 'Marga Marga',\n",
              "       'Melipilla', 'Osorno', 'Palena', 'Parinacota', 'Petorca', 'Punilla',\n",
              "       'Quillota', 'Ranco', 'San Antonio', 'San Felipe de Aconcagua',\n",
              "       'Santiago', 'Talagante', 'Talca', 'Tamarugal', 'Tierra del Fuego',\n",
              "       'Tocopilla', 'Valdivia', 'Valparaíso', 'Última Esperanza'],\n",
              "      dtype='object', name='Nombre Provincia')"
            ]
          },
          "metadata": {},
          "execution_count": 126
        }
      ]
    },
    {
      "cell_type": "markdown",
      "metadata": {
        "id": "msA2BZ1L-qKE"
      },
      "source": [
        "Luego creamos el gráfico mediante matplotlib"
      ]
    },
    {
      "cell_type": "code",
      "metadata": {
        "colab": {
          "base_uri": "https://localhost:8080/",
          "height": 1000
        },
        "id": "tywrD9en-tD9",
        "outputId": "953912e0-5cc0-463a-cb79-4bc6d5dabc01"
      },
      "source": [
        "import matplotlib.pyplot as plt\n",
        "\n",
        "fig1 = plt.figure(figsize=(30,14)) #Modificamos el tamaño para que se vea de mejor manera \n",
        "plt.title(\"Presupuesto por Provincia\")\n",
        "plt.bar(df_provincia.keys(),df_provincia)\n",
        "plt.xticks(rotation=90) #Rotamos los títulos para que puedan verse de mejor manera"
      ],
      "execution_count": 127,
      "outputs": [
        {
          "output_type": "execute_result",
          "data": {
            "text/plain": [
              "([0,\n",
              "  1,\n",
              "  2,\n",
              "  3,\n",
              "  4,\n",
              "  5,\n",
              "  6,\n",
              "  7,\n",
              "  8,\n",
              "  9,\n",
              "  10,\n",
              "  11,\n",
              "  12,\n",
              "  13,\n",
              "  14,\n",
              "  15,\n",
              "  16,\n",
              "  17,\n",
              "  18,\n",
              "  19,\n",
              "  20,\n",
              "  21,\n",
              "  22,\n",
              "  23,\n",
              "  24,\n",
              "  25,\n",
              "  26,\n",
              "  27,\n",
              "  28,\n",
              "  29,\n",
              "  30,\n",
              "  31,\n",
              "  32,\n",
              "  33,\n",
              "  34,\n",
              "  35,\n",
              "  36,\n",
              "  37,\n",
              "  38,\n",
              "  39,\n",
              "  40,\n",
              "  41,\n",
              "  42,\n",
              "  43,\n",
              "  44,\n",
              "  45,\n",
              "  46,\n",
              "  47,\n",
              "  48,\n",
              "  49,\n",
              "  50,\n",
              "  51,\n",
              "  52,\n",
              "  53,\n",
              "  54,\n",
              "  55],\n",
              " <a list of 56 Text major ticklabel objects>)"
            ]
          },
          "metadata": {},
          "execution_count": 127
        },
        {
          "output_type": "display_data",
          "data": {
            "image/png": "[encoded data removed]",
            "text/plain": [
              "<Figure size 2160x1008 with 1 Axes>"
            ]
          },
          "metadata": {}
        }
      ]
    },
    {
      "cell_type": "markdown",
      "metadata": {
        "id": "2FqYsr95AQKz"
      },
      "source": [
        "## Histogramas\n",
        "Haremos un histograma que visualice la distribución de PRESUPUESTO de la Región de Coquimbo"
      ]
    },
    {
      "cell_type": "markdown",
      "metadata": {
        "id": "rIQBhJGSAqIE"
      },
      "source": [
        "Primero filtraremos los resultados para tener un dataframe exclusivo con la Región de Coquimbo y las columnas que necesitamos"
      ]
    },
    {
      "cell_type": "code",
      "metadata": {
        "colab": {
          "base_uri": "https://localhost:8080/",
          "height": 520
        },
        "id": "4wEmVkV0AzDS",
        "outputId": "8039fd03-1617-408b-e497-ad8880b6cc98"
      },
      "source": [
        "coquimbo = df_extended[(df_extended[\"Nombre Región\"]==\"Coquimbo\")]\n",
        "coquimbo = coquimbo[[\"Nombre Región\",'Nombre Comuna','PRESUPUESTO']]\n",
        "coquimbo\n"
      ],
      "execution_count": 128,
      "outputs": [
        {
          "output_type": "execute_result",
          "data": {
            "text/html": [
              "<div>\n",
              "<style scoped>\n",
              "    .dataframe tbody tr th:only-of-type {\n",
              "        vertical-align: middle;\n",
              "    }\n",
              "\n",
              "    .dataframe tbody tr th {\n",
              "        vertical-align: top;\n",
              "    }\n",
              "\n",
              "    .dataframe thead th {\n",
              "        text-align: right;\n",
              "    }\n",
              "</style>\n",
              "<table border=\"1\" class=\"dataframe\">\n",
              "  <thead>\n",
              "    <tr style=\"text-align: right;\">\n",
              "      <th></th>\n",
              "      <th>Nombre Región</th>\n",
              "      <th>Nombre Comuna</th>\n",
              "      <th>PRESUPUESTO</th>\n",
              "    </tr>\n",
              "  </thead>\n",
              "  <tbody>\n",
              "    <tr>\n",
              "      <th>25</th>\n",
              "      <td>Coquimbo</td>\n",
              "      <td>La Serena</td>\n",
              "      <td>59222000</td>\n",
              "    </tr>\n",
              "    <tr>\n",
              "      <th>26</th>\n",
              "      <td>Coquimbo</td>\n",
              "      <td>Coquimbo</td>\n",
              "      <td>56819394</td>\n",
              "    </tr>\n",
              "    <tr>\n",
              "      <th>27</th>\n",
              "      <td>Coquimbo</td>\n",
              "      <td>Andacollo</td>\n",
              "      <td>3586345</td>\n",
              "    </tr>\n",
              "    <tr>\n",
              "      <th>28</th>\n",
              "      <td>Coquimbo</td>\n",
              "      <td>La Higuera</td>\n",
              "      <td>4090360</td>\n",
              "    </tr>\n",
              "    <tr>\n",
              "      <th>29</th>\n",
              "      <td>Coquimbo</td>\n",
              "      <td>Paiguano</td>\n",
              "      <td>4780000</td>\n",
              "    </tr>\n",
              "    <tr>\n",
              "      <th>30</th>\n",
              "      <td>Coquimbo</td>\n",
              "      <td>Vicuña</td>\n",
              "      <td>8069308</td>\n",
              "    </tr>\n",
              "    <tr>\n",
              "      <th>31</th>\n",
              "      <td>Coquimbo</td>\n",
              "      <td>Illapel</td>\n",
              "      <td>6299700</td>\n",
              "    </tr>\n",
              "    <tr>\n",
              "      <th>32</th>\n",
              "      <td>Coquimbo</td>\n",
              "      <td>Canela</td>\n",
              "      <td>3000000</td>\n",
              "    </tr>\n",
              "    <tr>\n",
              "      <th>33</th>\n",
              "      <td>Coquimbo</td>\n",
              "      <td>Los Vilos</td>\n",
              "      <td>7103931</td>\n",
              "    </tr>\n",
              "    <tr>\n",
              "      <th>34</th>\n",
              "      <td>Coquimbo</td>\n",
              "      <td>Salamanca</td>\n",
              "      <td>12768287</td>\n",
              "    </tr>\n",
              "    <tr>\n",
              "      <th>35</th>\n",
              "      <td>Coquimbo</td>\n",
              "      <td>Ovalle</td>\n",
              "      <td>21711795</td>\n",
              "    </tr>\n",
              "    <tr>\n",
              "      <th>36</th>\n",
              "      <td>Coquimbo</td>\n",
              "      <td>Combarbalá</td>\n",
              "      <td>3110695</td>\n",
              "    </tr>\n",
              "    <tr>\n",
              "      <th>37</th>\n",
              "      <td>Coquimbo</td>\n",
              "      <td>Monte Patria</td>\n",
              "      <td>6681407</td>\n",
              "    </tr>\n",
              "    <tr>\n",
              "      <th>38</th>\n",
              "      <td>Coquimbo</td>\n",
              "      <td>Punitaqui</td>\n",
              "      <td>3318380</td>\n",
              "    </tr>\n",
              "    <tr>\n",
              "      <th>39</th>\n",
              "      <td>Coquimbo</td>\n",
              "      <td>Río Hurtado</td>\n",
              "      <td>2090300</td>\n",
              "    </tr>\n",
              "  </tbody>\n",
              "</table>\n",
              "</div>"
            ],
            "text/plain": [
              "   Nombre Región Nombre Comuna  PRESUPUESTO\n",
              "25      Coquimbo     La Serena     59222000\n",
              "26      Coquimbo      Coquimbo     56819394\n",
              "27      Coquimbo     Andacollo      3586345\n",
              "28      Coquimbo    La Higuera      4090360\n",
              "29      Coquimbo      Paiguano      4780000\n",
              "30      Coquimbo        Vicuña      8069308\n",
              "31      Coquimbo       Illapel      6299700\n",
              "32      Coquimbo        Canela      3000000\n",
              "33      Coquimbo     Los Vilos      7103931\n",
              "34      Coquimbo     Salamanca     12768287\n",
              "35      Coquimbo        Ovalle     21711795\n",
              "36      Coquimbo    Combarbalá      3110695\n",
              "37      Coquimbo  Monte Patria      6681407\n",
              "38      Coquimbo     Punitaqui      3318380\n",
              "39      Coquimbo   Río Hurtado      2090300"
            ]
          },
          "metadata": {},
          "execution_count": 128
        }
      ]
    },
    {
      "cell_type": "markdown",
      "metadata": {
        "id": "14fNqKUOBTyn"
      },
      "source": [
        "Ahora creamos el histograma utilizando Seaborn"
      ]
    },
    {
      "cell_type": "markdown",
      "metadata": {
        "id": "1d-QpczNBte_"
      },
      "source": [
        "Escogemos el tema, el color del gráfico, la cantidad de bins, la transparencia y el título."
      ]
    },
    {
      "cell_type": "code",
      "metadata": {
        "colab": {
          "base_uri": "https://localhost:8080/",
          "height": 301
        },
        "id": "Dhs5kDTxBbPn",
        "outputId": "78fd71a5-5460-4994-8472-0c5aa2e47f19"
      },
      "source": [
        "sns.set_theme()\n",
        "sns.histplot(data=coquimbo, x=\"PRESUPUESTO\",  color=\"blue\", alpha=0.5,bins=10)\n",
        "plt.title('Histograma Presupuesto Comunas de la Región de Coquimbo');"
      ],
      "execution_count": 129,
      "outputs": [
        {
          "output_type": "display_data",
          "data": {
            "image/png": "[encoded data removed]",
            "text/plain": [
              "<Figure size 432x288 with 1 Axes>"
            ]
          },
          "metadata": {}
        }
      ]
    },
    {
      "cell_type": "markdown",
      "metadata": {
        "id": "lshdxf1-CDEH"
      },
      "source": [
        "Visualizando el gráfico podemos notar que no se puede obtener mucha información, ya que muestra pocas barras y muy separadas entre sí\n",
        "\n"
      ]
    },
    {
      "cell_type": "markdown",
      "metadata": {
        "id": "M8PASMkWCTBT"
      },
      "source": [
        "### Escala logaritmica\n",
        "Cuando esto ocurre podemos aplicar escala logaritmica a los valores del presupuesto y así visualizar si se aprecia de mejor manera con el siguiente código"
      ]
    },
    {
      "cell_type": "markdown",
      "metadata": {
        "id": "SlvQl34mE57E"
      },
      "source": [
        "Hacemos una copia del dataframe para poder utilizar por separado tanto el dataframe con el presupuesto logaritmico como el sin"
      ]
    },
    {
      "cell_type": "code",
      "metadata": {
        "id": "IBZxKlkPB_LC"
      },
      "source": [
        "import copy\n",
        "coquimbo_log= coquimbo.copy()\n",
        "coquimbo_log['PRESUPUESTO'] = np.log(coquimbo_log['PRESUPUESTO'] + 1)"
      ],
      "execution_count": 130,
      "outputs": []
    },
    {
      "cell_type": "markdown",
      "metadata": {
        "id": "EfI4iPivCmCQ"
      },
      "source": [
        "Luego volvemos a crear el gráfico"
      ]
    },
    {
      "cell_type": "code",
      "metadata": {
        "colab": {
          "base_uri": "https://localhost:8080/",
          "height": 301
        },
        "id": "P2ylUJVzCn-T",
        "outputId": "9a59509d-57d1-4862-c54d-812b4b03012f"
      },
      "source": [
        "sns.set_theme()\n",
        "sns.histplot(data=coquimbo_log, x=\"PRESUPUESTO\",  color=\"blue\", alpha=0.5,bins=10)\n",
        "plt.title('Histograma Presupuesto Comunas de la Región de Coquimbo');"
      ],
      "execution_count": 131,
      "outputs": [
        {
          "output_type": "display_data",
          "data": {
            "image/png": "[encoded data removed]",
            "text/plain": [
              "<Figure size 432x288 with 1 Axes>"
            ]
          },
          "metadata": {}
        }
      ]
    },
    {
      "cell_type": "markdown",
      "metadata": {
        "id": "0NleS1ntCrmd"
      },
      "source": [
        "De esta manera la distribución se aprecian de mejor"
      ]
    },
    {
      "cell_type": "markdown",
      "metadata": {
        "id": "XpYb6L0sC8ED"
      },
      "source": [
        "### Dos histogramas en el mismo gráfico\n",
        "Probemos ahora agregar además el histograma de la región metropolitana"
      ]
    },
    {
      "cell_type": "markdown",
      "metadata": {
        "id": "r9LKF7AHDD8W"
      },
      "source": [
        "Los mismos pasos de la vez anterior:\n",
        "\n",
        "1.   Crear el dataframe filtrado solo con la Región Metropolitana \n",
        "2.   Filtramos las columnas que vamos a utilizar\n",
        "\n"
      ]
    },
    {
      "cell_type": "code",
      "metadata": {
        "colab": {
          "base_uri": "https://localhost:8080/",
          "height": 1000
        },
        "id": "17d_blP3Dbk-",
        "outputId": "30eb3eda-6ef8-44e8-ad12-b410694ad32c"
      },
      "source": [
        "santiago = df_extended[(df_extended[\"Nombre Región\"]==\"Metropolitana de Santiago\")]\n",
        "santiago = santiago[['Nombre Comuna','PRESUPUESTO']]\n",
        "santiago"
      ],
      "execution_count": 132,
      "outputs": [
        {
          "output_type": "execute_result",
          "data": {
            "text/html": [
              "<div>\n",
              "<style scoped>\n",
              "    .dataframe tbody tr th:only-of-type {\n",
              "        vertical-align: middle;\n",
              "    }\n",
              "\n",
              "    .dataframe tbody tr th {\n",
              "        vertical-align: top;\n",
              "    }\n",
              "\n",
              "    .dataframe thead th {\n",
              "        text-align: right;\n",
              "    }\n",
              "</style>\n",
              "<table border=\"1\" class=\"dataframe\">\n",
              "  <thead>\n",
              "    <tr style=\"text-align: right;\">\n",
              "      <th></th>\n",
              "      <th>Nombre Comuna</th>\n",
              "      <th>PRESUPUESTO</th>\n",
              "    </tr>\n",
              "  </thead>\n",
              "  <tbody>\n",
              "    <tr>\n",
              "      <th>256</th>\n",
              "      <td>Santiago</td>\n",
              "      <td>163383547</td>\n",
              "    </tr>\n",
              "    <tr>\n",
              "      <th>257</th>\n",
              "      <td>Cerrillos</td>\n",
              "      <td>21631584</td>\n",
              "    </tr>\n",
              "    <tr>\n",
              "      <th>258</th>\n",
              "      <td>Cerro Navia</td>\n",
              "      <td>33120130</td>\n",
              "    </tr>\n",
              "    <tr>\n",
              "      <th>259</th>\n",
              "      <td>Conchalí</td>\n",
              "      <td>36648910</td>\n",
              "    </tr>\n",
              "    <tr>\n",
              "      <th>260</th>\n",
              "      <td>El Bosque</td>\n",
              "      <td>26147357</td>\n",
              "    </tr>\n",
              "    <tr>\n",
              "      <th>261</th>\n",
              "      <td>Estación Central</td>\n",
              "      <td>30377059</td>\n",
              "    </tr>\n",
              "    <tr>\n",
              "      <th>262</th>\n",
              "      <td>Huechuraba</td>\n",
              "      <td>36044000</td>\n",
              "    </tr>\n",
              "    <tr>\n",
              "      <th>263</th>\n",
              "      <td>Independencia</td>\n",
              "      <td>19922968</td>\n",
              "    </tr>\n",
              "    <tr>\n",
              "      <th>264</th>\n",
              "      <td>La Cisterna</td>\n",
              "      <td>15090000</td>\n",
              "    </tr>\n",
              "    <tr>\n",
              "      <th>265</th>\n",
              "      <td>La Florida</td>\n",
              "      <td>95609849</td>\n",
              "    </tr>\n",
              "    <tr>\n",
              "      <th>266</th>\n",
              "      <td>La Granja</td>\n",
              "      <td>18350500</td>\n",
              "    </tr>\n",
              "    <tr>\n",
              "      <th>267</th>\n",
              "      <td>La Pintana</td>\n",
              "      <td>29062197</td>\n",
              "    </tr>\n",
              "    <tr>\n",
              "      <th>268</th>\n",
              "      <td>La Reina</td>\n",
              "      <td>34268660</td>\n",
              "    </tr>\n",
              "    <tr>\n",
              "      <th>269</th>\n",
              "      <td>Las Condes</td>\n",
              "      <td>339980450</td>\n",
              "    </tr>\n",
              "    <tr>\n",
              "      <th>270</th>\n",
              "      <td>Lo Barnechea</td>\n",
              "      <td>92819385</td>\n",
              "    </tr>\n",
              "    <tr>\n",
              "      <th>271</th>\n",
              "      <td>Lo Espejo</td>\n",
              "      <td>16752214</td>\n",
              "    </tr>\n",
              "    <tr>\n",
              "      <th>272</th>\n",
              "      <td>Lo Prado</td>\n",
              "      <td>32938722</td>\n",
              "    </tr>\n",
              "    <tr>\n",
              "      <th>273</th>\n",
              "      <td>Macul</td>\n",
              "      <td>33799600</td>\n",
              "    </tr>\n",
              "    <tr>\n",
              "      <th>274</th>\n",
              "      <td>Maipú</td>\n",
              "      <td>119318265</td>\n",
              "    </tr>\n",
              "    <tr>\n",
              "      <th>275</th>\n",
              "      <td>Ñuñoa</td>\n",
              "      <td>63443811</td>\n",
              "    </tr>\n",
              "    <tr>\n",
              "      <th>276</th>\n",
              "      <td>Pedro Aguirre Cerda</td>\n",
              "      <td>14788025</td>\n",
              "    </tr>\n",
              "    <tr>\n",
              "      <th>277</th>\n",
              "      <td>Peñalolén</td>\n",
              "      <td>56733837</td>\n",
              "    </tr>\n",
              "    <tr>\n",
              "      <th>278</th>\n",
              "      <td>Providencia</td>\n",
              "      <td>125041538</td>\n",
              "    </tr>\n",
              "    <tr>\n",
              "      <th>279</th>\n",
              "      <td>Pudahuel</td>\n",
              "      <td>87884438</td>\n",
              "    </tr>\n",
              "    <tr>\n",
              "      <th>280</th>\n",
              "      <td>Quilicura</td>\n",
              "      <td>46258275</td>\n",
              "    </tr>\n",
              "    <tr>\n",
              "      <th>281</th>\n",
              "      <td>Quinta Normal</td>\n",
              "      <td>27227977</td>\n",
              "    </tr>\n",
              "    <tr>\n",
              "      <th>282</th>\n",
              "      <td>Recoleta</td>\n",
              "      <td>35469622</td>\n",
              "    </tr>\n",
              "    <tr>\n",
              "      <th>283</th>\n",
              "      <td>Renca</td>\n",
              "      <td>37374165</td>\n",
              "    </tr>\n",
              "    <tr>\n",
              "      <th>284</th>\n",
              "      <td>San Joaquín</td>\n",
              "      <td>30509260</td>\n",
              "    </tr>\n",
              "    <tr>\n",
              "      <th>285</th>\n",
              "      <td>San Miguel</td>\n",
              "      <td>29790072</td>\n",
              "    </tr>\n",
              "    <tr>\n",
              "      <th>286</th>\n",
              "      <td>San Ramón</td>\n",
              "      <td>15302965</td>\n",
              "    </tr>\n",
              "    <tr>\n",
              "      <th>287</th>\n",
              "      <td>Vitacura</td>\n",
              "      <td>97000000</td>\n",
              "    </tr>\n",
              "    <tr>\n",
              "      <th>288</th>\n",
              "      <td>Puente Alto</td>\n",
              "      <td>85384573</td>\n",
              "    </tr>\n",
              "    <tr>\n",
              "      <th>289</th>\n",
              "      <td>Pirque</td>\n",
              "      <td>8778703</td>\n",
              "    </tr>\n",
              "    <tr>\n",
              "      <th>290</th>\n",
              "      <td>San José de Maipo</td>\n",
              "      <td>5948974</td>\n",
              "    </tr>\n",
              "    <tr>\n",
              "      <th>291</th>\n",
              "      <td>Colina</td>\n",
              "      <td>50974140</td>\n",
              "    </tr>\n",
              "    <tr>\n",
              "      <th>292</th>\n",
              "      <td>Lampa</td>\n",
              "      <td>36139088</td>\n",
              "    </tr>\n",
              "    <tr>\n",
              "      <th>293</th>\n",
              "      <td>Tiltil</td>\n",
              "      <td>3995001</td>\n",
              "    </tr>\n",
              "    <tr>\n",
              "      <th>294</th>\n",
              "      <td>San Bernardo</td>\n",
              "      <td>52127690</td>\n",
              "    </tr>\n",
              "    <tr>\n",
              "      <th>295</th>\n",
              "      <td>Buin</td>\n",
              "      <td>23852125</td>\n",
              "    </tr>\n",
              "    <tr>\n",
              "      <th>296</th>\n",
              "      <td>Calera de Tango</td>\n",
              "      <td>8965100</td>\n",
              "    </tr>\n",
              "    <tr>\n",
              "      <th>297</th>\n",
              "      <td>Paine</td>\n",
              "      <td>12509277</td>\n",
              "    </tr>\n",
              "    <tr>\n",
              "      <th>298</th>\n",
              "      <td>Melipilla</td>\n",
              "      <td>34185591</td>\n",
              "    </tr>\n",
              "    <tr>\n",
              "      <th>299</th>\n",
              "      <td>Alhué</td>\n",
              "      <td>6068911</td>\n",
              "    </tr>\n",
              "    <tr>\n",
              "      <th>300</th>\n",
              "      <td>Curacaví</td>\n",
              "      <td>6464280</td>\n",
              "    </tr>\n",
              "    <tr>\n",
              "      <th>301</th>\n",
              "      <td>María Pinto</td>\n",
              "      <td>6326744</td>\n",
              "    </tr>\n",
              "    <tr>\n",
              "      <th>302</th>\n",
              "      <td>San Pedro</td>\n",
              "      <td>3145694</td>\n",
              "    </tr>\n",
              "    <tr>\n",
              "      <th>303</th>\n",
              "      <td>Talagante</td>\n",
              "      <td>13429420</td>\n",
              "    </tr>\n",
              "    <tr>\n",
              "      <th>304</th>\n",
              "      <td>El Monte</td>\n",
              "      <td>6400000</td>\n",
              "    </tr>\n",
              "    <tr>\n",
              "      <th>305</th>\n",
              "      <td>Isla de Maipo</td>\n",
              "      <td>6342052</td>\n",
              "    </tr>\n",
              "    <tr>\n",
              "      <th>306</th>\n",
              "      <td>Padre Hurtado</td>\n",
              "      <td>9898130</td>\n",
              "    </tr>\n",
              "    <tr>\n",
              "      <th>307</th>\n",
              "      <td>Peñaflor</td>\n",
              "      <td>14636053</td>\n",
              "    </tr>\n",
              "  </tbody>\n",
              "</table>\n",
              "</div>"
            ],
            "text/plain": [
              "           Nombre Comuna  PRESUPUESTO\n",
              "256             Santiago    163383547\n",
              "257            Cerrillos     21631584\n",
              "258          Cerro Navia     33120130\n",
              "259             Conchalí     36648910\n",
              "260            El Bosque     26147357\n",
              "261     Estación Central     30377059\n",
              "262           Huechuraba     36044000\n",
              "263        Independencia     19922968\n",
              "264          La Cisterna     15090000\n",
              "265           La Florida     95609849\n",
              "266            La Granja     18350500\n",
              "267           La Pintana     29062197\n",
              "268             La Reina     34268660\n",
              "269           Las Condes    339980450\n",
              "270         Lo Barnechea     92819385\n",
              "271            Lo Espejo     16752214\n",
              "272             Lo Prado     32938722\n",
              "273                Macul     33799600\n",
              "274                Maipú    119318265\n",
              "275                Ñuñoa     63443811\n",
              "276  Pedro Aguirre Cerda     14788025\n",
              "277            Peñalolén     56733837\n",
              "278          Providencia    125041538\n",
              "279             Pudahuel     87884438\n",
              "280            Quilicura     46258275\n",
              "281        Quinta Normal     27227977\n",
              "282             Recoleta     35469622\n",
              "283                Renca     37374165\n",
              "284          San Joaquín     30509260\n",
              "285           San Miguel     29790072\n",
              "286            San Ramón     15302965\n",
              "287             Vitacura     97000000\n",
              "288          Puente Alto     85384573\n",
              "289               Pirque      8778703\n",
              "290    San José de Maipo      5948974\n",
              "291               Colina     50974140\n",
              "292                Lampa     36139088\n",
              "293               Tiltil      3995001\n",
              "294         San Bernardo     52127690\n",
              "295                 Buin     23852125\n",
              "296      Calera de Tango      8965100\n",
              "297                Paine     12509277\n",
              "298            Melipilla     34185591\n",
              "299                Alhué      6068911\n",
              "300             Curacaví      6464280\n",
              "301          María Pinto      6326744\n",
              "302            San Pedro      3145694\n",
              "303            Talagante     13429420\n",
              "304             El Monte      6400000\n",
              "305        Isla de Maipo      6342052\n",
              "306        Padre Hurtado      9898130\n",
              "307             Peñaflor     14636053"
            ]
          },
          "metadata": {},
          "execution_count": 132
        }
      ]
    },
    {
      "cell_type": "markdown",
      "metadata": {
        "id": "5-ktRI_UDibZ"
      },
      "source": [
        "Ahora creamos un gráfico en Seaborn con ambos histogramas, con colores diferentes y transparencia para poder visualizarlos de mejor manera"
      ]
    },
    {
      "cell_type": "code",
      "metadata": {
        "colab": {
          "base_uri": "https://localhost:8080/",
          "height": 301
        },
        "id": "tI6PT4u1DmRJ",
        "outputId": "487febbc-6a75-4e60-e760-2d2fbb6d345d"
      },
      "source": [
        "sns.set_theme()\n",
        "sns.histplot(data=coquimbo, x=\"PRESUPUESTO\",  color=\"blue\", alpha=0.5,bins=10)\n",
        "sns.histplot(data=santiago, x=\"PRESUPUESTO\",  color=\"red\", alpha=0.5,bins=10)\n",
        "plt.title('Histograma Presupuesto Comunas de la Región de Coquimbo y Metropolitana');"
      ],
      "execution_count": 133,
      "outputs": [
        {
          "output_type": "display_data",
          "data": {
            "image/png": "[encoded data removed]",
            "text/plain": [
              "<Figure size 432x288 with 1 Axes>"
            ]
          },
          "metadata": {}
        }
      ]
    },
    {
      "cell_type": "markdown",
      "metadata": {
        "id": "A1YbEzHpFTRj"
      },
      "source": [
        "En el gráfico no se puede apreciar cada región correctamente por lo que utilizaremos la versión con escala logaritmica en ambas y analizaremos"
      ]
    },
    {
      "cell_type": "code",
      "metadata": {
        "id": "yGaWYn7XF3Gi"
      },
      "source": [
        "santiago_log= santiago.copy()\n",
        "santiago_log['PRESUPUESTO'] = np.log(santiago_log['PRESUPUESTO'] + 1)"
      ],
      "execution_count": 134,
      "outputs": []
    },
    {
      "cell_type": "markdown",
      "metadata": {
        "id": "RjcQ5gVHF-MW"
      },
      "source": [
        "Luego mostraremos los histogramas"
      ]
    },
    {
      "cell_type": "code",
      "metadata": {
        "colab": {
          "base_uri": "https://localhost:8080/",
          "height": 301
        },
        "id": "i7tPvPb1GBAT",
        "outputId": "afe847b9-fa1e-434d-d5fc-d7e577ff374d"
      },
      "source": [
        "sns.set_theme()\n",
        "sns.histplot(data=coquimbo_log, x=\"PRESUPUESTO\",  color=\"blue\", alpha=0.5,bins=10)\n",
        "sns.histplot(data=santiago_log, x=\"PRESUPUESTO\",  color=\"red\", alpha=0.5,bins=10)\n",
        "plt.title('Histograma Presupuesto Comunas de la Región de Coquimbo y Metropolitana');"
      ],
      "execution_count": 135,
      "outputs": [
        {
          "output_type": "display_data",
          "data": {
            "image/png": "[encoded data removed]",
            "text/plain": [
              "<Figure size 432x288 with 1 Axes>"
            ]
          },
          "metadata": {}
        }
      ]
    },
    {
      "cell_type": "markdown",
      "metadata": {
        "id": "C2fn_gxHGGYd"
      },
      "source": [
        "Hay mejoría pero vale la pena analizar como se verían por separado cada histograma"
      ]
    },
    {
      "cell_type": "code",
      "metadata": {
        "colab": {
          "base_uri": "https://localhost:8080/",
          "height": 301
        },
        "id": "PV7uL_XEGMZY",
        "outputId": "b5a9cfbb-4f07-490a-aa2d-a6bb2d7afafb"
      },
      "source": [
        "sns.set_theme()\n",
        "#sns.histplot(data=coquimbo_log, x=\"PRESUPUESTO\",  color=\"blue\", alpha=0.5,bins=10)\n",
        "sns.histplot(data=santiago_log, x=\"PRESUPUESTO\",  color=\"red\", alpha=0.5,bins=10)\n",
        "plt.title('Histograma Presupuesto Comunas de la Región de Coquimbo y Metropolitana');"
      ],
      "execution_count": 136,
      "outputs": [
        {
          "output_type": "display_data",
          "data": {
            "image/png": "[encoded data removed]",
            "text/plain": [
              "<Figure size 432x288 with 1 Axes>"
            ]
          },
          "metadata": {}
        }
      ]
    },
    {
      "cell_type": "markdown",
      "metadata": {
        "id": "oTWHRwA8nW05"
      },
      "source": [
        "## Scatter plot\n",
        "Haremos un scatter plot entre el presupuesto y la población por comunas de Chile"
      ]
    },
    {
      "cell_type": "markdown",
      "metadata": {
        "id": "0ssVy59D4E4j"
      },
      "source": [
        "Primero pasamos la escala a logaritmo tanto del presupuesto como de la población para mejorar la visualización"
      ]
    },
    {
      "cell_type": "code",
      "metadata": {
        "id": "AKwrTjkW37mo"
      },
      "source": [
        "df_extended['PRESUPUESTO'] = np.log(df_extended['PRESUPUESTO'] + 1)\n",
        "df_extended['POBLACIÓN'] = np.log(df_extended['POBLACIÓN'] + 1)"
      ],
      "execution_count": 137,
      "outputs": []
    },
    {
      "cell_type": "markdown",
      "metadata": {
        "id": "Ae9ke6z14MId"
      },
      "source": [
        "Luego pasamos al código del gráfico con Sea Born"
      ]
    },
    {
      "cell_type": "code",
      "metadata": {
        "colab": {
          "base_uri": "https://localhost:8080/",
          "height": 302
        },
        "id": "erAib7Rz4Rym",
        "outputId": "eb539a3f-285f-4de1-feac-99f3883cfa2e"
      },
      "source": [
        "sns.scatterplot(x=\"POBLACIÓN\", y=\"PRESUPUESTO\", data=df_extended)"
      ],
      "execution_count": 138,
      "outputs": [
        {
          "output_type": "execute_result",
          "data": {
            "text/plain": [
              "<matplotlib.axes._subplots.AxesSubplot at 0x7f9f84300190>"
            ]
          },
          "metadata": {},
          "execution_count": 138
        },
        {
          "output_type": "display_data",
          "data": {
            "image/png": "[encoded data removed]",
            "text/plain": [
              "<Figure size 432x288 with 1 Axes>"
            ]
          },
          "metadata": {}
        }
      ]
    },
    {
      "cell_type": "markdown",
      "metadata": {
        "id": "5pxqL2kbIk3h"
      },
      "source": [
        "Se puede utilizar hue para marcar lo que queramos como por ejemplo el nombre de la región"
      ]
    },
    {
      "cell_type": "code",
      "metadata": {
        "colab": {
          "base_uri": "https://localhost:8080/",
          "height": 954
        },
        "id": "EVCbuknZIsCf",
        "outputId": "2f984019-4a13-43df-8897-40e246b65bf7"
      },
      "source": [
        "plt.figure(figsize=(16, 16))\n",
        "sns.scatterplot(x=\"POBLACIÓN\", y=\"PRESUPUESTO\", data=df_extended, hue='Nombre Región')"
      ],
      "execution_count": 139,
      "outputs": [
        {
          "output_type": "execute_result",
          "data": {
            "text/plain": [
              "<matplotlib.axes._subplots.AxesSubplot at 0x7f9f84357f50>"
            ]
          },
          "metadata": {},
          "execution_count": 139
        },
        {
          "output_type": "display_data",
          "data": {
            "image/png": "[encoded data removed]",
            "text/plain": [
              "<Figure size 1152x1152 with 1 Axes>"
            ]
          },
          "metadata": {}
        }
      ]
    },
    {
      "cell_type": "markdown",
      "metadata": {
        "id": "_j2kzucLJQny"
      },
      "source": [
        "No hace mucho sentido ya que con tanta región los colores no se aprecian, pero podemos hacer otro tipo de filtro como dividir por si son de la región Metropolitana o no"
      ]
    },
    {
      "cell_type": "markdown",
      "metadata": {
        "id": "7j5AnOjkJZTf"
      },
      "source": [
        "Primero se debe crear la columna en que se diga si pertenece o no la capital. Hay varias maneras, en este caso utilicé loc"
      ]
    },
    {
      "cell_type": "code",
      "metadata": {
        "colab": {
          "base_uri": "https://localhost:8080/",
          "height": 634
        },
        "id": "BKY5QnHpJoS5",
        "outputId": "713b17c5-9325-414e-c270-405eae2969d2"
      },
      "source": [
        "df_extended.loc[df_extended['Nombre Región'] != 'Metropolitana de Santiago', 'Capital'] = 'Otra Región'\n",
        "df_extended.loc[df_extended['Nombre Región'] == 'Metropolitana de Santiago', 'Capital'] = 'Metropolitana' \n",
        "df_extended"
      ],
      "execution_count": 140,
      "outputs": [
        {
          "output_type": "execute_result",
          "data": {
            "text/html": [
              "<div>\n",
              "<style scoped>\n",
              "    .dataframe tbody tr th:only-of-type {\n",
              "        vertical-align: middle;\n",
              "    }\n",
              "\n",
              "    .dataframe tbody tr th {\n",
              "        vertical-align: top;\n",
              "    }\n",
              "\n",
              "    .dataframe thead th {\n",
              "        text-align: right;\n",
              "    }\n",
              "</style>\n",
              "<table border=\"1\" class=\"dataframe\">\n",
              "  <thead>\n",
              "    <tr style=\"text-align: right;\">\n",
              "      <th></th>\n",
              "      <th>Nombre Región</th>\n",
              "      <th>Abreviatura Región</th>\n",
              "      <th>Nombre Provincia</th>\n",
              "      <th>Nombre Comuna</th>\n",
              "      <th>PRESUPUESTO</th>\n",
              "      <th>POBLACIÓN</th>\n",
              "      <th>MUNICIPALES_PRIMERA</th>\n",
              "      <th>PARTICULARES_PRIMERA</th>\n",
              "      <th>SUBVENCIONADOS_PRIMERA</th>\n",
              "      <th>450_MUNICIPALES</th>\n",
              "      <th>450_PARTICULARES</th>\n",
              "      <th>450_SUBVENCIONADOS</th>\n",
              "      <th>Capital</th>\n",
              "    </tr>\n",
              "  </thead>\n",
              "  <tbody>\n",
              "    <tr>\n",
              "      <th>0</th>\n",
              "      <td>Tarapacá</td>\n",
              "      <td>TPCA</td>\n",
              "      <td>Iquique</td>\n",
              "      <td>Iquique</td>\n",
              "      <td>17.894272</td>\n",
              "      <td>12.285415</td>\n",
              "      <td>482</td>\n",
              "      <td>149</td>\n",
              "      <td>1177</td>\n",
              "      <td>153</td>\n",
              "      <td>142</td>\n",
              "      <td>843</td>\n",
              "      <td>Otra Región</td>\n",
              "    </tr>\n",
              "    <tr>\n",
              "      <th>1</th>\n",
              "      <td>Tarapacá</td>\n",
              "      <td>TPCA</td>\n",
              "      <td>Iquique</td>\n",
              "      <td>Alto Hospicio</td>\n",
              "      <td>16.453454</td>\n",
              "      <td>11.729254</td>\n",
              "      <td>79</td>\n",
              "      <td>0</td>\n",
              "      <td>1012</td>\n",
              "      <td>48</td>\n",
              "      <td>0</td>\n",
              "      <td>483</td>\n",
              "      <td>Otra Región</td>\n",
              "    </tr>\n",
              "    <tr>\n",
              "      <th>2</th>\n",
              "      <td>Tarapacá</td>\n",
              "      <td>TPCA</td>\n",
              "      <td>Tamarugal</td>\n",
              "      <td>Pozo Almonte</td>\n",
              "      <td>15.845494</td>\n",
              "      <td>9.722205</td>\n",
              "      <td>159</td>\n",
              "      <td>0</td>\n",
              "      <td>0</td>\n",
              "      <td>43</td>\n",
              "      <td>0</td>\n",
              "      <td>0</td>\n",
              "      <td>Otra Región</td>\n",
              "    </tr>\n",
              "    <tr>\n",
              "      <th>3</th>\n",
              "      <td>Tarapacá</td>\n",
              "      <td>TPCA</td>\n",
              "      <td>Tamarugal</td>\n",
              "      <td>Camiña</td>\n",
              "      <td>14.275470</td>\n",
              "      <td>7.204893</td>\n",
              "      <td>8</td>\n",
              "      <td>0</td>\n",
              "      <td>0</td>\n",
              "      <td>1</td>\n",
              "      <td>0</td>\n",
              "      <td>0</td>\n",
              "      <td>Otra Región</td>\n",
              "    </tr>\n",
              "    <tr>\n",
              "      <th>4</th>\n",
              "      <td>Tarapacá</td>\n",
              "      <td>TPCA</td>\n",
              "      <td>Tamarugal</td>\n",
              "      <td>Colchane</td>\n",
              "      <td>14.731802</td>\n",
              "      <td>7.350516</td>\n",
              "      <td>5</td>\n",
              "      <td>0</td>\n",
              "      <td>0</td>\n",
              "      <td>1</td>\n",
              "      <td>0</td>\n",
              "      <td>0</td>\n",
              "      <td>Otra Región</td>\n",
              "    </tr>\n",
              "    <tr>\n",
              "      <th>...</th>\n",
              "      <td>...</td>\n",
              "      <td>...</td>\n",
              "      <td>...</td>\n",
              "      <td>...</td>\n",
              "      <td>...</td>\n",
              "      <td>...</td>\n",
              "      <td>...</td>\n",
              "      <td>...</td>\n",
              "      <td>...</td>\n",
              "      <td>...</td>\n",
              "      <td>...</td>\n",
              "      <td>...</td>\n",
              "      <td>...</td>\n",
              "    </tr>\n",
              "    <tr>\n",
              "      <th>340</th>\n",
              "      <td>Ñuble</td>\n",
              "      <td>NUBLE</td>\n",
              "      <td>Punilla</td>\n",
              "      <td>San Carlos</td>\n",
              "      <td>16.163040</td>\n",
              "      <td>10.931963</td>\n",
              "      <td>156</td>\n",
              "      <td>0</td>\n",
              "      <td>395</td>\n",
              "      <td>62</td>\n",
              "      <td>0</td>\n",
              "      <td>297</td>\n",
              "      <td>Otra Región</td>\n",
              "    </tr>\n",
              "    <tr>\n",
              "      <th>341</th>\n",
              "      <td>Ñuble</td>\n",
              "      <td>NUBLE</td>\n",
              "      <td>Punilla</td>\n",
              "      <td>Coihueco</td>\n",
              "      <td>15.425187</td>\n",
              "      <td>10.245232</td>\n",
              "      <td>66</td>\n",
              "      <td>0</td>\n",
              "      <td>63</td>\n",
              "      <td>32</td>\n",
              "      <td>0</td>\n",
              "      <td>36</td>\n",
              "      <td>Otra Región</td>\n",
              "    </tr>\n",
              "    <tr>\n",
              "      <th>342</th>\n",
              "      <td>Ñuble</td>\n",
              "      <td>NUBLE</td>\n",
              "      <td>Punilla</td>\n",
              "      <td>Ñiquén</td>\n",
              "      <td>15.035366</td>\n",
              "      <td>9.355047</td>\n",
              "      <td>44</td>\n",
              "      <td>0</td>\n",
              "      <td>0</td>\n",
              "      <td>15</td>\n",
              "      <td>0</td>\n",
              "      <td>0</td>\n",
              "      <td>Otra Región</td>\n",
              "    </tr>\n",
              "    <tr>\n",
              "      <th>343</th>\n",
              "      <td>Ñuble</td>\n",
              "      <td>NUBLE</td>\n",
              "      <td>Punilla</td>\n",
              "      <td>San Fabián</td>\n",
              "      <td>14.402464</td>\n",
              "      <td>8.435549</td>\n",
              "      <td>40</td>\n",
              "      <td>0</td>\n",
              "      <td>0</td>\n",
              "      <td>23</td>\n",
              "      <td>0</td>\n",
              "      <td>0</td>\n",
              "      <td>Otra Región</td>\n",
              "    </tr>\n",
              "    <tr>\n",
              "      <th>344</th>\n",
              "      <td>Ñuble</td>\n",
              "      <td>NUBLE</td>\n",
              "      <td>Punilla</td>\n",
              "      <td>San Nicolás</td>\n",
              "      <td>15.196717</td>\n",
              "      <td>9.398395</td>\n",
              "      <td>250</td>\n",
              "      <td>0</td>\n",
              "      <td>0</td>\n",
              "      <td>223</td>\n",
              "      <td>0</td>\n",
              "      <td>0</td>\n",
              "      <td>Otra Región</td>\n",
              "    </tr>\n",
              "  </tbody>\n",
              "</table>\n",
              "<p>345 rows × 13 columns</p>\n",
              "</div>"
            ],
            "text/plain": [
              "    Nombre Región Abreviatura Región  ... 450_SUBVENCIONADOS      Capital\n",
              "0        Tarapacá               TPCA  ...                843  Otra Región\n",
              "1        Tarapacá               TPCA  ...                483  Otra Región\n",
              "2        Tarapacá               TPCA  ...                  0  Otra Región\n",
              "3        Tarapacá               TPCA  ...                  0  Otra Región\n",
              "4        Tarapacá               TPCA  ...                  0  Otra Región\n",
              "..            ...                ...  ...                ...          ...\n",
              "340         Ñuble              NUBLE  ...                297  Otra Región\n",
              "341         Ñuble              NUBLE  ...                 36  Otra Región\n",
              "342         Ñuble              NUBLE  ...                  0  Otra Región\n",
              "343         Ñuble              NUBLE  ...                  0  Otra Región\n",
              "344         Ñuble              NUBLE  ...                  0  Otra Región\n",
              "\n",
              "[345 rows x 13 columns]"
            ]
          },
          "metadata": {},
          "execution_count": 140
        }
      ]
    },
    {
      "cell_type": "markdown",
      "metadata": {
        "id": "pOht3Ye5Jvge"
      },
      "source": [
        "Luego podemos pasar directamente al gráfico y utilizar hue para dividir por nuestra nueva columna Capital"
      ]
    },
    {
      "cell_type": "code",
      "metadata": {
        "colab": {
          "base_uri": "https://localhost:8080/",
          "height": 302
        },
        "id": "amFYdxU0J5Lr",
        "outputId": "900cd93a-9817-4d1b-9bab-e3c5917865d1"
      },
      "source": [
        "sns.scatterplot(x=\"POBLACIÓN\", y=\"PRESUPUESTO\", data=df_extended, hue=\"Capital\")"
      ],
      "execution_count": 141,
      "outputs": [
        {
          "output_type": "execute_result",
          "data": {
            "text/plain": [
              "<matplotlib.axes._subplots.AxesSubplot at 0x7f9f842ef3d0>"
            ]
          },
          "metadata": {},
          "execution_count": 141
        },
        {
          "output_type": "display_data",
          "data": {
            "image/png": "[encoded data removed]",
            "text/plain": [
              "<Figure size 432x288 with 1 Axes>"
            ]
          },
          "metadata": {}
        }
      ]
    },
    {
      "cell_type": "markdown",
      "metadata": {
        "id": "7EIobTkcGZjB"
      },
      "source": [
        "## Boxplot\n",
        "Para aprender a crear boxplots haremos uno múltiple sobre la proporción de alumnos que dan la psu por primera vez y los que obtuvieron menos de 450 puntos"
      ]
    },
    {
      "cell_type": "markdown",
      "metadata": {
        "id": "1pt1zyZgOIAF"
      },
      "source": [
        "Primero creamos las columnas necesarias"
      ]
    },
    {
      "cell_type": "code",
      "metadata": {
        "id": "DDnwadyjOMrb"
      },
      "source": [
        "df_extended['p_municipal']=1- df_extended['450_MUNICIPALES']/df_extended['MUNICIPALES_PRIMERA']\n",
        "df_extended['p_particular']=1- df_extended['450_PARTICULARES']/df_extended['PARTICULARES_PRIMERA']\n",
        "df_extended['p_subvencionados']=1- df_extended['450_SUBVENCIONADOS']/df_extended['SUBVENCIONADOS_PRIMERA']"
      ],
      "execution_count": 142,
      "outputs": []
    },
    {
      "cell_type": "markdown",
      "metadata": {
        "id": "O99UVrkTOSz0"
      },
      "source": [
        "Luego nos quedamos solo con las que vamos a utilizar para graficar. Eliminamos los valores nulos para que no interfieran con la distribución "
      ]
    },
    {
      "cell_type": "code",
      "metadata": {
        "id": "6Ppyxb2aOV7b"
      },
      "source": [
        "df_p=df_extended[['Nombre Comuna','p_municipal','p_particular','p_subvencionados']]\n",
        "df_p=df_p.dropna(axis=0)"
      ],
      "execution_count": 144,
      "outputs": []
    },
    {
      "cell_type": "markdown",
      "metadata": {
        "id": "WZ_Db9BFO-8y"
      },
      "source": [
        "Luego con el comando melt podemos dejar solo una columna que contenga la información de las proporciones calculadas y de esta manera graficar más facilmente"
      ]
    },
    {
      "cell_type": "code",
      "metadata": {
        "colab": {
          "base_uri": "https://localhost:8080/",
          "height": 424
        },
        "id": "yKTRhIGDPHfi",
        "outputId": "1129cd9c-1a9f-41f7-827a-5b8090605a0b"
      },
      "source": [
        "df_melt = df_p.melt(\n",
        "    id_vars=[\"Nombre Comuna\"], \n",
        "    var_name=\"Proporción\", \n",
        "    value_name=\"Valores\"\n",
        ")\n",
        "df_melt"
      ],
      "execution_count": 145,
      "outputs": [
        {
          "output_type": "execute_result",
          "data": {
            "text/html": [
              "<div>\n",
              "<style scoped>\n",
              "    .dataframe tbody tr th:only-of-type {\n",
              "        vertical-align: middle;\n",
              "    }\n",
              "\n",
              "    .dataframe tbody tr th {\n",
              "        vertical-align: top;\n",
              "    }\n",
              "\n",
              "    .dataframe thead th {\n",
              "        text-align: right;\n",
              "    }\n",
              "</style>\n",
              "<table border=\"1\" class=\"dataframe\">\n",
              "  <thead>\n",
              "    <tr style=\"text-align: right;\">\n",
              "      <th></th>\n",
              "      <th>Nombre Comuna</th>\n",
              "      <th>Proporción</th>\n",
              "      <th>Valores</th>\n",
              "    </tr>\n",
              "  </thead>\n",
              "  <tbody>\n",
              "    <tr>\n",
              "      <th>0</th>\n",
              "      <td>Iquique</td>\n",
              "      <td>p_municipal</td>\n",
              "      <td>0.682573</td>\n",
              "    </tr>\n",
              "    <tr>\n",
              "      <th>1</th>\n",
              "      <td>Antofagasta</td>\n",
              "      <td>p_municipal</td>\n",
              "      <td>0.582683</td>\n",
              "    </tr>\n",
              "    <tr>\n",
              "      <th>2</th>\n",
              "      <td>Calama</td>\n",
              "      <td>p_municipal</td>\n",
              "      <td>0.407357</td>\n",
              "    </tr>\n",
              "    <tr>\n",
              "      <th>3</th>\n",
              "      <td>Copiapó</td>\n",
              "      <td>p_municipal</td>\n",
              "      <td>0.588146</td>\n",
              "    </tr>\n",
              "    <tr>\n",
              "      <th>4</th>\n",
              "      <td>Vallenar</td>\n",
              "      <td>p_municipal</td>\n",
              "      <td>0.560000</td>\n",
              "    </tr>\n",
              "    <tr>\n",
              "      <th>...</th>\n",
              "      <td>...</td>\n",
              "      <td>...</td>\n",
              "      <td>...</td>\n",
              "    </tr>\n",
              "    <tr>\n",
              "      <th>229</th>\n",
              "      <td>Peñaflor</td>\n",
              "      <td>p_subvencionados</td>\n",
              "      <td>0.482633</td>\n",
              "    </tr>\n",
              "    <tr>\n",
              "      <th>230</th>\n",
              "      <td>Valdivia</td>\n",
              "      <td>p_subvencionados</td>\n",
              "      <td>0.278589</td>\n",
              "    </tr>\n",
              "    <tr>\n",
              "      <th>231</th>\n",
              "      <td>La Unión</td>\n",
              "      <td>p_subvencionados</td>\n",
              "      <td>0.508130</td>\n",
              "    </tr>\n",
              "    <tr>\n",
              "      <th>232</th>\n",
              "      <td>Arica</td>\n",
              "      <td>p_subvencionados</td>\n",
              "      <td>0.378134</td>\n",
              "    </tr>\n",
              "    <tr>\n",
              "      <th>233</th>\n",
              "      <td>Chillán</td>\n",
              "      <td>p_subvencionados</td>\n",
              "      <td>0.261406</td>\n",
              "    </tr>\n",
              "  </tbody>\n",
              "</table>\n",
              "<p>234 rows × 3 columns</p>\n",
              "</div>"
            ],
            "text/plain": [
              "    Nombre Comuna        Proporción   Valores\n",
              "0         Iquique       p_municipal  0.682573\n",
              "1     Antofagasta       p_municipal  0.582683\n",
              "2          Calama       p_municipal  0.407357\n",
              "3         Copiapó       p_municipal  0.588146\n",
              "4        Vallenar       p_municipal  0.560000\n",
              "..            ...               ...       ...\n",
              "229      Peñaflor  p_subvencionados  0.482633\n",
              "230      Valdivia  p_subvencionados  0.278589\n",
              "231      La Unión  p_subvencionados  0.508130\n",
              "232         Arica  p_subvencionados  0.378134\n",
              "233       Chillán  p_subvencionados  0.261406\n",
              "\n",
              "[234 rows x 3 columns]"
            ]
          },
          "metadata": {},
          "execution_count": 145
        }
      ]
    },
    {
      "cell_type": "markdown",
      "metadata": {
        "id": "owk_a2BEPNZ5"
      },
      "source": [
        "Finalmente graficamos con seaborn"
      ]
    },
    {
      "cell_type": "code",
      "metadata": {
        "colab": {
          "base_uri": "https://localhost:8080/",
          "height": 302
        },
        "id": "6Zw3lTB8PPXQ",
        "outputId": "2ab0b16e-55a6-4047-bb03-391866f923b1"
      },
      "source": [
        "ax = sns.boxplot(\n",
        "    x=\"Proporción\", y=\"Valores\", data=df_melt, hue=\"Proporción\",\n",
        "    palette=sns.color_palette(\"hls\", 8), linewidth=1, fliersize=3\n",
        ")\n",
        "plt.legend([],[], frameon=False)"
      ],
      "execution_count": 146,
      "outputs": [
        {
          "output_type": "execute_result",
          "data": {
            "text/plain": [
              "<matplotlib.legend.Legend at 0x7f9f841032d0>"
            ]
          },
          "metadata": {},
          "execution_count": 146
        },
        {
          "output_type": "display_data",
          "data": {
            "image/png": "[encoded data removed]",
            "text/plain": [
              "<Figure size 432x288 with 1 Axes>"
            ]
          },
          "metadata": {}
        }
      ]
    }
  ]
}