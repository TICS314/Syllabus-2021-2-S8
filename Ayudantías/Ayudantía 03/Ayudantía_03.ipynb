{
  "nbformat": 4,
  "nbformat_minor": 0,
  "metadata": {
    "kernelspec": {
      "display_name": "Python 3",
      "language": "python",
      "name": "python3"
    },
    "language_info": {
      "codemirror_mode": {
        "name": "ipython",
        "version": 3
      },
      "file_extension": ".py",
      "mimetype": "text/x-python",
      "name": "python",
      "nbconvert_exporter": "python",
      "pygments_lexer": "ipython3",
      "version": "3.9.5"
    },
    "colab": {
      "name": "Ayudantía 03 .ipynb",
      "provenance": []
    }
  },
  "cells": [
    {
      "cell_type": "markdown",
      "metadata": {
        "id": "dWTYI__r1SqE"
      },
      "source": [
        "# Ayudantía 03 - Introducción a Machine Learning\n",
        "\n",
        "En esta ayudantía aplicaremos conceptos básicos de Machine Learning, entenderemos cómo medir el desempeño de los algoritmos y por último aprendemos cuáles herramientas de Python pueden ayudarnos."
      ]
    },
    {
      "cell_type": "markdown",
      "metadata": {
        "id": "6PscoyQ21SqL"
      },
      "source": [
        "## Entrenando un algoritmo de regresión lineal \n",
        "\n",
        "Utilizaremos los datos municipales para crear un modelo de regresión que prediga la población la comuna en función de la variable que consideremos más apropiada dentro de los siguientes candidatos:\n",
        "- Metros Parque\n",
        "- Personas que Trabajan en el Municipio\n",
        "- Presupuesto"
      ]
    },
    {
      "cell_type": "markdown",
      "metadata": {
        "id": "5S0ma9t1e8Jp"
      },
      "source": [
        "Importamos lo que vamos a utilizar"
      ]
    },
    {
      "cell_type": "code",
      "metadata": {
        "id": "fE13QYxf1SqM"
      },
      "source": [
        "import pandas as pd\n",
        "import matplotlib.pyplot as plt\n",
        "import seaborn as sns\n",
        "import numpy as np\n",
        "from sklearn import datasets\n",
        "import copy"
      ],
      "execution_count": 2,
      "outputs": []
    },
    {
      "cell_type": "markdown",
      "metadata": {
        "id": "sUq1fyzDfDcw"
      },
      "source": [
        "Llamamos a los datasets necesarios y los convertimos en dataframes"
      ]
    },
    {
      "cell_type": "code",
      "metadata": {
        "id": "91F6H38YfAu8"
      },
      "source": [
        "df_codigos=pd.read_csv(\"codigos.csv\",sep=\";\")\n",
        "df_comunas=pd.read_csv(\"datos_comunas.csv\")\n",
        "df_presupuesto=pd.read_csv(\"presupuesto_2019.csv\",sep=\";\")\n",
        "df_poblacion=pd.read_csv(\"poblacion.csv\",sep=\";\")"
      ],
      "execution_count": 3,
      "outputs": []
    },
    {
      "cell_type": "markdown",
      "metadata": {
        "id": "P7vwZz5lfILo"
      },
      "source": [
        "Luego hacemos la limpieza apropiada según los problemas con la variable presupuesto"
      ]
    },
    {
      "cell_type": "code",
      "metadata": {
        "colab": {
          "base_uri": "https://localhost:8080/"
        },
        "id": "Hpj0q5CkG8ev",
        "outputId": "cfde13ae-d3ee-49df-8d30-39cb5e181b67"
      },
      "source": [
        "df_presupuesto[df_presupuesto['PRESUPUESTO'] == 'No Recepcionado']\n",
        "# Reemplazamos todos los \"No Recepcionado\" por un 0\n",
        "df_presupuesto = df_presupuesto.replace('No Recepcionado', 0)\n",
        "# Estamos sobreescribiendo la columna, diciendo que trate el tipo como entero\n",
        "df_presupuesto['PRESUPUESTO'] = df_presupuesto['PRESUPUESTO'].astype(int)\n",
        "df_presupuesto.info()"
      ],
      "execution_count": 4,
      "outputs": [
        {
          "output_type": "stream",
          "name": "stdout",
          "text": [
            "<class 'pandas.core.frame.DataFrame'>\n",
            "RangeIndex: 345 entries, 0 to 344\n",
            "Data columns (total 3 columns):\n",
            " #   Column       Non-Null Count  Dtype \n",
            "---  ------       --------------  ----- \n",
            " 0   CODIGO       345 non-null    int64 \n",
            " 1   MUNICIPIO    345 non-null    object\n",
            " 2   PRESUPUESTO  345 non-null    int64 \n",
            "dtypes: int64(2), object(1)\n",
            "memory usage: 8.2+ KB\n"
          ]
        }
      ]
    },
    {
      "cell_type": "markdown",
      "metadata": {
        "id": "3Up5hN6kgT1g"
      },
      "source": [
        "Generamos el merge necesario para utilizar el dataset de mejor manera"
      ]
    },
    {
      "cell_type": "code",
      "metadata": {
        "colab": {
          "base_uri": "https://localhost:8080/",
          "height": 206
        },
        "id": "tMzlHiBhgJ6f",
        "outputId": "47561756-ff13-4898-da3a-a06833698857"
      },
      "source": [
        "#1)Hacemos un merge de df_codigos y df_comunas \n",
        "df_final=pd.merge(df_codigos,df_comunas,left_on=\"Código Comuna 2018\",right_on=\"id\",how=\"outer\")\n",
        "#2)Hacemos un merge de df_final y df_presupuesto\n",
        "df_final=pd.merge(df_final,df_presupuesto,left_on=\"Código Comuna 2018\",right_on=\"CODIGO\",how=\"outer\")\n",
        "#2)Hacemos un merge de df_final y df_población\n",
        "df_final=pd.merge(df_final,df_poblacion,left_on=\"Código Comuna 2018\",right_on=\"CODIGO\",how=\"outer\")\n",
        "\n",
        "df_final=df_final[[\"Nombre Región\",\"Nombre Provincia\",\"Nombre Comuna\",\"metros_plaza\",\"metros_parque\",\"personas_trabaja\",\"PRESUPUESTO\",\"POBLACIÓN\"]]\n",
        "df_final.head()\n"
      ],
      "execution_count": 8,
      "outputs": [
        {
          "output_type": "execute_result",
          "data": {
            "text/html": [
              "<div>\n",
              "<style scoped>\n",
              "    .dataframe tbody tr th:only-of-type {\n",
              "        vertical-align: middle;\n",
              "    }\n",
              "\n",
              "    .dataframe tbody tr th {\n",
              "        vertical-align: top;\n",
              "    }\n",
              "\n",
              "    .dataframe thead th {\n",
              "        text-align: right;\n",
              "    }\n",
              "</style>\n",
              "<table border=\"1\" class=\"dataframe\">\n",
              "  <thead>\n",
              "    <tr style=\"text-align: right;\">\n",
              "      <th></th>\n",
              "      <th>Nombre Región</th>\n",
              "      <th>Nombre Provincia</th>\n",
              "      <th>Nombre Comuna</th>\n",
              "      <th>metros_plaza</th>\n",
              "      <th>metros_parque</th>\n",
              "      <th>personas_trabaja</th>\n",
              "      <th>PRESUPUESTO</th>\n",
              "      <th>POBLACIÓN</th>\n",
              "    </tr>\n",
              "  </thead>\n",
              "  <tbody>\n",
              "    <tr>\n",
              "      <th>0</th>\n",
              "      <td>Tarapacá</td>\n",
              "      <td>Iquique</td>\n",
              "      <td>Iquique</td>\n",
              "      <td>58460.0</td>\n",
              "      <td>94824.0</td>\n",
              "      <td>271.0</td>\n",
              "      <td>59072234.0</td>\n",
              "      <td>216514.0</td>\n",
              "    </tr>\n",
              "    <tr>\n",
              "      <th>1</th>\n",
              "      <td>Tarapacá</td>\n",
              "      <td>Iquique</td>\n",
              "      <td>Alto Hospicio</td>\n",
              "      <td>130316.0</td>\n",
              "      <td>0.0</td>\n",
              "      <td>55.0</td>\n",
              "      <td>13984411.0</td>\n",
              "      <td>124150.0</td>\n",
              "    </tr>\n",
              "    <tr>\n",
              "      <th>2</th>\n",
              "      <td>Tarapacá</td>\n",
              "      <td>Tamarugal</td>\n",
              "      <td>Pozo Almonte</td>\n",
              "      <td>NaN</td>\n",
              "      <td>NaN</td>\n",
              "      <td>NaN</td>\n",
              "      <td>7613962.0</td>\n",
              "      <td>16683.0</td>\n",
              "    </tr>\n",
              "    <tr>\n",
              "      <th>3</th>\n",
              "      <td>Tarapacá</td>\n",
              "      <td>Tamarugal</td>\n",
              "      <td>Camiña</td>\n",
              "      <td>4050.0</td>\n",
              "      <td>0.0</td>\n",
              "      <td>8.0</td>\n",
              "      <td>1584008.0</td>\n",
              "      <td>1345.0</td>\n",
              "    </tr>\n",
              "    <tr>\n",
              "      <th>4</th>\n",
              "      <td>Tarapacá</td>\n",
              "      <td>Tamarugal</td>\n",
              "      <td>Colchane</td>\n",
              "      <td>2532.0</td>\n",
              "      <td>NaN</td>\n",
              "      <td>NaN</td>\n",
              "      <td>2500000.0</td>\n",
              "      <td>1556.0</td>\n",
              "    </tr>\n",
              "  </tbody>\n",
              "</table>\n",
              "</div>"
            ],
            "text/plain": [
              "  Nombre Región Nombre Provincia  ... PRESUPUESTO  POBLACIÓN\n",
              "0      Tarapacá          Iquique  ...  59072234.0   216514.0\n",
              "1      Tarapacá          Iquique  ...  13984411.0   124150.0\n",
              "2      Tarapacá        Tamarugal  ...   7613962.0    16683.0\n",
              "3      Tarapacá        Tamarugal  ...   1584008.0     1345.0\n",
              "4      Tarapacá        Tamarugal  ...   2500000.0     1556.0\n",
              "\n",
              "[5 rows x 8 columns]"
            ]
          },
          "metadata": {},
          "execution_count": 8
        }
      ]
    },
    {
      "cell_type": "markdown",
      "metadata": {
        "id": "s54u1nS31Sqe"
      },
      "source": [
        "### Escoger variable a utilizar\n",
        "\n",
        "Para escoger la variable dentro de los candidatos, utilizaremos la medida de correlación y visualizaciones para apoyarnos en la toma de decisión "
      ]
    },
    {
      "cell_type": "markdown",
      "metadata": {
        "id": "Q2fkB8TFg_KH"
      },
      "source": [
        "Primero observamos las correlaciones, se puede ver que con la variable población, las mayores correlaciones se dan con persona_trabaja y con presupuesto, por lo que serán nuestros principales candidatos."
      ]
    },
    {
      "cell_type": "code",
      "metadata": {
        "colab": {
          "base_uri": "https://localhost:8080/",
          "height": 206
        },
        "id": "E0_wjP3F1Sql",
        "outputId": "5f40664d-0905-4f6e-e18e-bde6058212ac"
      },
      "source": [
        "df_final.corr()\n"
      ],
      "execution_count": 9,
      "outputs": [
        {
          "output_type": "execute_result",
          "data": {
            "text/html": [
              "<div>\n",
              "<style scoped>\n",
              "    .dataframe tbody tr th:only-of-type {\n",
              "        vertical-align: middle;\n",
              "    }\n",
              "\n",
              "    .dataframe tbody tr th {\n",
              "        vertical-align: top;\n",
              "    }\n",
              "\n",
              "    .dataframe thead th {\n",
              "        text-align: right;\n",
              "    }\n",
              "</style>\n",
              "<table border=\"1\" class=\"dataframe\">\n",
              "  <thead>\n",
              "    <tr style=\"text-align: right;\">\n",
              "      <th></th>\n",
              "      <th>metros_plaza</th>\n",
              "      <th>metros_parque</th>\n",
              "      <th>personas_trabaja</th>\n",
              "      <th>PRESUPUESTO</th>\n",
              "      <th>POBLACIÓN</th>\n",
              "    </tr>\n",
              "  </thead>\n",
              "  <tbody>\n",
              "    <tr>\n",
              "      <th>metros_plaza</th>\n",
              "      <td>1.000000</td>\n",
              "      <td>-0.005430</td>\n",
              "      <td>0.065125</td>\n",
              "      <td>0.089088</td>\n",
              "      <td>0.106234</td>\n",
              "    </tr>\n",
              "    <tr>\n",
              "      <th>metros_parque</th>\n",
              "      <td>-0.005430</td>\n",
              "      <td>1.000000</td>\n",
              "      <td>-0.008201</td>\n",
              "      <td>-0.007577</td>\n",
              "      <td>-0.017666</td>\n",
              "    </tr>\n",
              "    <tr>\n",
              "      <th>personas_trabaja</th>\n",
              "      <td>0.065125</td>\n",
              "      <td>-0.008201</td>\n",
              "      <td>1.000000</td>\n",
              "      <td>0.835009</td>\n",
              "      <td>0.843984</td>\n",
              "    </tr>\n",
              "    <tr>\n",
              "      <th>PRESUPUESTO</th>\n",
              "      <td>0.089088</td>\n",
              "      <td>-0.007577</td>\n",
              "      <td>0.835009</td>\n",
              "      <td>1.000000</td>\n",
              "      <td>0.777995</td>\n",
              "    </tr>\n",
              "    <tr>\n",
              "      <th>POBLACIÓN</th>\n",
              "      <td>0.106234</td>\n",
              "      <td>-0.017666</td>\n",
              "      <td>0.843984</td>\n",
              "      <td>0.777995</td>\n",
              "      <td>1.000000</td>\n",
              "    </tr>\n",
              "  </tbody>\n",
              "</table>\n",
              "</div>"
            ],
            "text/plain": [
              "                  metros_plaza  metros_parque  ...  PRESUPUESTO  POBLACIÓN\n",
              "metros_plaza          1.000000      -0.005430  ...     0.089088   0.106234\n",
              "metros_parque        -0.005430       1.000000  ...    -0.007577  -0.017666\n",
              "personas_trabaja      0.065125      -0.008201  ...     0.835009   0.843984\n",
              "PRESUPUESTO           0.089088      -0.007577  ...     1.000000   0.777995\n",
              "POBLACIÓN             0.106234      -0.017666  ...     0.777995   1.000000\n",
              "\n",
              "[5 rows x 5 columns]"
            ]
          },
          "metadata": {},
          "execution_count": 9
        }
      ]
    },
    {
      "cell_type": "markdown",
      "metadata": {
        "id": "gphe5pKMhM_z"
      },
      "source": [
        "Luego realizamos gráficos de scatterplot para ver posibles relaciones"
      ]
    },
    {
      "cell_type": "code",
      "metadata": {
        "colab": {
          "base_uri": "https://localhost:8080/",
          "height": 289
        },
        "id": "hd0lKQ3c1Sqp",
        "outputId": "5208b039-aa85-4ae2-96c0-bc7dfa9306e7"
      },
      "source": [
        "sns.scatterplot(data=df_final, x=\"POBLACIÓN\", y=\"metros_parque\")\n",
        "plt.xlabel(\"Población\")\n",
        "plt.ylabel(\"Metros Parque\")\n",
        "plt.show()"
      ],
      "execution_count": 10,
      "outputs": [
        {
          "output_type": "display_data",
          "data": {
            "image/png": "[encoded data removed]",
            "text/plain": [
              "<Figure size 432x288 with 1 Axes>"
            ]
          },
          "metadata": {
            "needs_background": "light"
          }
        }
      ]
    },
    {
      "cell_type": "code",
      "metadata": {
        "colab": {
          "base_uri": "https://localhost:8080/",
          "height": 280
        },
        "id": "1dFhyVDgiJ4B",
        "outputId": "1454e750-bf35-4ded-9043-87a01da91b9e"
      },
      "source": [
        "sns.scatterplot(data=df_final, x=\"POBLACIÓN\", y=\"personas_trabaja\")\n",
        "plt.xlabel(\"Población\")\n",
        "plt.ylabel(\"personas_trabaja\")\n",
        "plt.show()"
      ],
      "execution_count": 11,
      "outputs": [
        {
          "output_type": "display_data",
          "data": {
            "image/png": "[encoded data removed]",
            "text/plain": [
              "<Figure size 432x288 with 1 Axes>"
            ]
          },
          "metadata": {
            "needs_background": "light"
          }
        }
      ]
    },
    {
      "cell_type": "code",
      "metadata": {
        "colab": {
          "base_uri": "https://localhost:8080/",
          "height": 289
        },
        "id": "476zv8BIi44g",
        "outputId": "9e4da952-e3e2-4452-e7d6-94c18e776c0e"
      },
      "source": [
        "sns.scatterplot(data=df_final, x=\"POBLACIÓN\", y=\"PRESUPUESTO\")\n",
        "plt.xlabel(\"Población\")\n",
        "plt.ylabel(\"Presupuesto\")\n",
        "plt.show()"
      ],
      "execution_count": 12,
      "outputs": [
        {
          "output_type": "display_data",
          "data": {
            "image/png": "[encoded data removed]",
            "text/plain": [
              "<Figure size 432x288 with 1 Axes>"
            ]
          },
          "metadata": {
            "needs_background": "light"
          }
        }
      ]
    },
    {
      "cell_type": "markdown",
      "metadata": {
        "id": "i0IKdiuojGho"
      },
      "source": [
        "De los gráficos podemos concluir cosas similares a la correlación, por lo que escogeré a persona_trabaja como variable para realizar la regresión."
      ]
    },
    {
      "cell_type": "markdown",
      "metadata": {
        "id": "QO0v37BrjSap"
      },
      "source": [
        "### Entrenar modelo\n",
        "- Dividimos en dos partes el dataset: entrenamiento y prueba\n",
        "- Eliminamos las filas con valores nulos ya que impiden el correcto funcionamiento del modelo"
      ]
    },
    {
      "cell_type": "code",
      "metadata": {
        "id": "jKn3HVuGjZSr"
      },
      "source": [
        "from sklearn.model_selection import train_test_split\n",
        "\n",
        "df_modelo=df_final[[\"personas_trabaja\",\"POBLACIÓN\"]]\n",
        "\n",
        "df_modelo=df_modelo.dropna(axis=0)\n",
        "train_set, test_set = train_test_split(df_modelo, test_size=0.3)"
      ],
      "execution_count": 16,
      "outputs": []
    },
    {
      "cell_type": "markdown",
      "metadata": {
        "id": "d6Ejhe2ajya3"
      },
      "source": [
        "Seleccionamos cuáles serán nuestras variables X e y para luego entrenar el modelo SOLO con el dataset de entrenamiento"
      ]
    },
    {
      "cell_type": "code",
      "metadata": {
        "colab": {
          "base_uri": "https://localhost:8080/"
        },
        "id": "yEGwc7hwjxpF",
        "outputId": "7091f7ca-4019-497f-932a-a3faeb340d3e"
      },
      "source": [
        "from sklearn.linear_model import LinearRegression\n",
        "\n",
        "X_train = train_set[[\"personas_trabaja\"]]\n",
        "y_train = train_set[[\"POBLACIÓN\"]]\n",
        "\n",
        "lin_reg = LinearRegression()\n",
        "\n",
        "lin_reg.fit(X_train, y_train)"
      ],
      "execution_count": 17,
      "outputs": [
        {
          "output_type": "execute_result",
          "data": {
            "text/plain": [
              "LinearRegression(copy_X=True, fit_intercept=True, n_jobs=None, normalize=False)"
            ]
          },
          "metadata": {},
          "execution_count": 17
        }
      ]
    },
    {
      "cell_type": "markdown",
      "metadata": {
        "id": "FQLQsMVrk44q"
      },
      "source": [
        "Luego podemos probar el modelo evaluando en valores aleatorios. Entregamos cantidades de personas que trabajan en la municipalidad y nos entrega una predicción de la cantidad de poblacóin que tiene esta misma."
      ]
    },
    {
      "cell_type": "code",
      "metadata": {
        "colab": {
          "base_uri": "https://localhost:8080/"
        },
        "id": "e2VbeiI-lBqA",
        "outputId": "ec977e61-86f9-4ed2-ff9d-6d2ab7ff46bd"
      },
      "source": [
        "lin_reg.predict([[100], [200], [300]])"
      ],
      "execution_count": 18,
      "outputs": [
        {
          "output_type": "execute_result",
          "data": {
            "text/plain": [
              "array([[ 66022.69486669],\n",
              "       [139595.9478452 ],\n",
              "       [213169.20082372]])"
            ]
          },
          "metadata": {},
          "execution_count": 18
        }
      ]
    },
    {
      "cell_type": "markdown",
      "metadata": {
        "id": "zgINLlA4lSsg"
      },
      "source": [
        "### Evaluar el modelo\n",
        "Para evaluar el modelo podemos utilizar cross validation y R cuadrado."
      ]
    },
    {
      "cell_type": "markdown",
      "metadata": {
        "id": "lAZoXygRneMh"
      },
      "source": [
        "Cross validation:"
      ]
    },
    {
      "cell_type": "code",
      "metadata": {
        "colab": {
          "base_uri": "https://localhost:8080/"
        },
        "id": "ylwGeZaWmZqU",
        "outputId": "f8ed7d1a-274d-48df-dd54-d40898c341e4"
      },
      "source": [
        "from sklearn.model_selection import cross_val_score\n",
        "\n",
        "lin_reg = LinearRegression()\n",
        "\n",
        "X = df_modelo[[\"personas_trabaja\"]]\n",
        "y = df_modelo[[\"POBLACIÓN\"]]\n",
        "\n",
        "scores = cross_val_score(lin_reg, X, y, scoring='neg_mean_squared_error', cv=8)\n",
        "\n",
        "lin_rmse_scores = np.sqrt(-scores)\n",
        "print(lin_rmse_scores)\n",
        "\n",
        "print(lin_rmse_scores.mean())\n",
        "print(lin_rmse_scores.std())"
      ],
      "execution_count": 21,
      "outputs": [
        {
          "output_type": "stream",
          "name": "stdout",
          "text": [
            "[ 47951.33238839  24793.27521682  21908.31882231  17574.45353181\n",
            "  23166.44533393  63154.13627169 110800.35298081  20980.28895513]\n",
            "41291.07543761164\n",
            "30218.51502173633\n"
          ]
        }
      ]
    },
    {
      "cell_type": "markdown",
      "metadata": {
        "id": "mtOgjt4Fn7LO"
      },
      "source": [
        "R cuadrado"
      ]
    },
    {
      "cell_type": "code",
      "metadata": {
        "colab": {
          "base_uri": "https://localhost:8080/"
        },
        "id": "2jjrx6bKn8JB",
        "outputId": "3df07cd4-a83f-435e-8a52-28deca371b55"
      },
      "source": [
        "from sklearn.metrics import r2_score\n",
        "\n",
        "lin_reg = LinearRegression()\n",
        "lin_reg.fit(X, y)\n",
        "y_pred = lin_reg.predict(X)\n",
        "r2_score(y, y_pred)"
      ],
      "execution_count": 22,
      "outputs": [
        {
          "output_type": "execute_result",
          "data": {
            "text/plain": [
              "0.7123096702725062"
            ]
          },
          "metadata": {},
          "execution_count": 22
        }
      ]
    },
    {
      "cell_type": "markdown",
      "metadata": {
        "id": "OZVqIcr8oXdw"
      },
      "source": [
        "Se puede ver que el modelo explica en un 71%"
      ]
    },
    {
      "cell_type": "markdown",
      "metadata": {
        "id": "Gm8NO5q9o1_W"
      },
      "source": [
        "Por último también se puede predecir el dataset de test completo"
      ]
    },
    {
      "cell_type": "code",
      "metadata": {
        "colab": {
          "base_uri": "https://localhost:8080/"
        },
        "id": "WIPYV30jo6FS",
        "outputId": "2734ff53-6af8-4e9c-991b-fffc11811cda"
      },
      "source": [
        "X_test = test_set[[\"personas_trabaja\"]]\n",
        "y_test = test_set[[\"POBLACIÓN\"]]\n",
        "\n",
        "lin_reg = LinearRegression()\n",
        "\n",
        "lin_reg.fit(X_train, y_train)\n",
        "\n",
        "y_pred2 = lin_reg.predict(X_test)\n",
        "\n",
        "y_pred2"
      ],
      "execution_count": 23,
      "outputs": [
        {
          "output_type": "execute_result",
          "data": {
            "text/plain": [
              "array([[ 2.08754806e+05],\n",
              "       [ 2.33502081e+04],\n",
              "       [ 1.24145565e+05],\n",
              "       [ 7.16409248e+03],\n",
              "       [ 2.99718009e+04],\n",
              "       [ 1.15784877e+04],\n",
              "       [ 2.92628314e+05],\n",
              "       [ 4.46864515e+04],\n",
              "       [ 2.26144756e+04],\n",
              "       [ 4.46864515e+04],\n",
              "       [ 2.62931383e+04],\n",
              "       [ 2.70288708e+04],\n",
              "       [ 7.89982501e+03],\n",
              "       [ 4.76293816e+04],\n",
              "       [ 9.37129007e+03],\n",
              "       [ 2.70288708e+04],\n",
              "       [ 2.48216732e+04],\n",
              "       [-1.66469787e+03],\n",
              "       [ 1.59928828e+04],\n",
              "       [ 8.63555754e+03],\n",
              "       [ 5.42499716e+02],\n",
              "       [ 4.10077889e+04],\n",
              "       [ 4.02720563e+04],\n",
              "       [ 9.03018683e+04],\n",
              "       [ 1.82000804e+04],\n",
              "       [ 1.30499527e+04],\n",
              "       [ 7.16409248e+03],\n",
              "       [ 8.63555754e+03],\n",
              "       [ 2.62931383e+04],\n",
              "       [ 9.90102752e+05],\n",
              "       [ 2.48216732e+04],\n",
              "       [ 6.74941599e+04],\n",
              "       [ 1.94040155e+05],\n",
              "       [ 1.08427551e+04],\n",
              "       [ 2.89685384e+05],\n",
              "       [ 2.40859407e+04],\n",
              "       [ 1.45214178e+04],\n",
              "       [ 8.63555754e+03],\n",
              "       [ 6.01368346e+04],\n",
              "       [ 4.22116236e+03],\n",
              "       [ 5.49867069e+04],\n",
              "       [ 3.21789985e+04],\n",
              "       [ 2.40859407e+04],\n",
              "       [ 1.59928828e+04],\n",
              "       [ 5.13080443e+04],\n",
              "       [ 4.69939854e+05],\n",
              "       [ 1.27824227e+05],\n",
              "       [ 4.95689489e+03],\n",
              "       [ 1.15316774e+05],\n",
              "       [ 5.69262742e+03],\n",
              "       [ 4.22116236e+03],\n",
              "       [ 5.86653696e+04],\n",
              "       [ 5.69262742e+03],\n",
              "       [ 2.48216732e+04],\n",
              "       [ 5.19233933e+05],\n",
              "       [ 2.18787431e+04],\n",
              "       [ 4.54221840e+04],\n",
              "       [ 7.16409248e+03],\n",
              "       [ 5.42509744e+04],\n",
              "       [ 7.16409248e+03],\n",
              "       [-1.66469787e+03],\n",
              "       [ 1.45214178e+04],\n",
              "       [ 2.58048885e+05],\n",
              "       [ 1.89358130e+04],\n",
              "       [ 1.89358130e+04],\n",
              "       [ 1.76382574e+05],\n",
              "       [ 1.52571503e+04],\n",
              "       [ 2.26144756e+04],\n",
              "       [ 2.18319329e+05],\n",
              "       [ 6.82298925e+04],\n",
              "       [ 1.82000804e+04],\n",
              "       [ 4.24792539e+04],\n",
              "       [ 2.48216732e+04],\n",
              "       [ 1.33710088e+05],\n",
              "       [ 1.37856853e+04],\n",
              "       [ 1.15784877e+04],\n",
              "       [ 6.45512298e+04],\n",
              "       [ 1.01337856e+05],\n",
              "       [ 1.66082319e+05],\n",
              "       [ 9.37129007e+03],\n",
              "       [ 1.15784877e+04],\n",
              "       [ 3.43861961e+04],\n",
              "       [ 1.01070226e+04],\n",
              "       [ 2.41862769e+05],\n",
              "       [ 1.60932191e+05],\n",
              "       [ 1.27088495e+05],\n",
              "       [ 2.92360684e+04],\n",
              "       [-1.93232814e+02],\n",
              "       [ 4.82447307e+05],\n",
              "       [ 3.51219286e+04],\n",
              "       [ 2.70288708e+04],\n",
              "       [ 1.52571503e+04],\n",
              "       [ 2.55574057e+04],\n",
              "       [ 4.39507190e+04],\n",
              "       [ 1.52839133e+05],\n",
              "       [ 2.57313153e+05]])"
            ]
          },
          "metadata": {},
          "execution_count": 23
        }
      ]
    },
    {
      "cell_type": "markdown",
      "metadata": {
        "id": "5-JaSrIZpLlV"
      },
      "source": [
        "## Entrenando un clasificador\n",
        "Para este caso utilizaremos un nuevo dataset: Estudiantes. Este dataset muestra los puntajes que obtuvieron los alumnos en sus pruebas de lectura, escritura, matemáticas y por último el tipo de almuerzo que comen: los que no comen o comen poco y los que comen uno estándar.\n",
        "Vamos a pedir que clasifique el tipo de almuerzo del alumno."
      ]
    },
    {
      "cell_type": "markdown",
      "metadata": {
        "id": "EQP6wNiwrn-L"
      },
      "source": [
        "Primero llamamos al dataset y observamos. La columna de almuerzo está en dos formatos: int y object, por lo que podemos escoger la que más nos acomode para realizar la clasificación"
      ]
    },
    {
      "cell_type": "code",
      "metadata": {
        "colab": {
          "base_uri": "https://localhost:8080/",
          "height": 424
        },
        "id": "dfrLY1cQsDik",
        "outputId": "08d69e31-530b-43f2-e62d-a27057f820e0"
      },
      "source": [
        "df_estudiantes=pd.read_csv(\"Estudiantes.csv\")\n",
        "df_estudiantes"
      ],
      "execution_count": 28,
      "outputs": [
        {
          "output_type": "execute_result",
          "data": {
            "text/html": [
              "<div>\n",
              "<style scoped>\n",
              "    .dataframe tbody tr th:only-of-type {\n",
              "        vertical-align: middle;\n",
              "    }\n",
              "\n",
              "    .dataframe tbody tr th {\n",
              "        vertical-align: top;\n",
              "    }\n",
              "\n",
              "    .dataframe thead th {\n",
              "        text-align: right;\n",
              "    }\n",
              "</style>\n",
              "<table border=\"1\" class=\"dataframe\">\n",
              "  <thead>\n",
              "    <tr style=\"text-align: right;\">\n",
              "      <th></th>\n",
              "      <th>Unnamed: 0</th>\n",
              "      <th>math_score</th>\n",
              "      <th>reading_score</th>\n",
              "      <th>writing_score</th>\n",
              "      <th>lunch</th>\n",
              "      <th>lunch_encoded</th>\n",
              "    </tr>\n",
              "  </thead>\n",
              "  <tbody>\n",
              "    <tr>\n",
              "      <th>0</th>\n",
              "      <td>0</td>\n",
              "      <td>72</td>\n",
              "      <td>72</td>\n",
              "      <td>74</td>\n",
              "      <td>standard</td>\n",
              "      <td>1.0</td>\n",
              "    </tr>\n",
              "    <tr>\n",
              "      <th>1</th>\n",
              "      <td>1</td>\n",
              "      <td>69</td>\n",
              "      <td>90</td>\n",
              "      <td>88</td>\n",
              "      <td>standard</td>\n",
              "      <td>1.0</td>\n",
              "    </tr>\n",
              "    <tr>\n",
              "      <th>2</th>\n",
              "      <td>2</td>\n",
              "      <td>90</td>\n",
              "      <td>95</td>\n",
              "      <td>93</td>\n",
              "      <td>standard</td>\n",
              "      <td>1.0</td>\n",
              "    </tr>\n",
              "    <tr>\n",
              "      <th>3</th>\n",
              "      <td>3</td>\n",
              "      <td>47</td>\n",
              "      <td>57</td>\n",
              "      <td>44</td>\n",
              "      <td>free/reduced</td>\n",
              "      <td>0.0</td>\n",
              "    </tr>\n",
              "    <tr>\n",
              "      <th>4</th>\n",
              "      <td>4</td>\n",
              "      <td>76</td>\n",
              "      <td>78</td>\n",
              "      <td>75</td>\n",
              "      <td>standard</td>\n",
              "      <td>1.0</td>\n",
              "    </tr>\n",
              "    <tr>\n",
              "      <th>...</th>\n",
              "      <td>...</td>\n",
              "      <td>...</td>\n",
              "      <td>...</td>\n",
              "      <td>...</td>\n",
              "      <td>...</td>\n",
              "      <td>...</td>\n",
              "    </tr>\n",
              "    <tr>\n",
              "      <th>995</th>\n",
              "      <td>995</td>\n",
              "      <td>88</td>\n",
              "      <td>99</td>\n",
              "      <td>95</td>\n",
              "      <td>standard</td>\n",
              "      <td>1.0</td>\n",
              "    </tr>\n",
              "    <tr>\n",
              "      <th>996</th>\n",
              "      <td>996</td>\n",
              "      <td>62</td>\n",
              "      <td>55</td>\n",
              "      <td>55</td>\n",
              "      <td>free/reduced</td>\n",
              "      <td>0.0</td>\n",
              "    </tr>\n",
              "    <tr>\n",
              "      <th>997</th>\n",
              "      <td>997</td>\n",
              "      <td>59</td>\n",
              "      <td>71</td>\n",
              "      <td>65</td>\n",
              "      <td>free/reduced</td>\n",
              "      <td>0.0</td>\n",
              "    </tr>\n",
              "    <tr>\n",
              "      <th>998</th>\n",
              "      <td>998</td>\n",
              "      <td>68</td>\n",
              "      <td>78</td>\n",
              "      <td>77</td>\n",
              "      <td>standard</td>\n",
              "      <td>1.0</td>\n",
              "    </tr>\n",
              "    <tr>\n",
              "      <th>999</th>\n",
              "      <td>999</td>\n",
              "      <td>77</td>\n",
              "      <td>86</td>\n",
              "      <td>86</td>\n",
              "      <td>free/reduced</td>\n",
              "      <td>0.0</td>\n",
              "    </tr>\n",
              "  </tbody>\n",
              "</table>\n",
              "<p>1000 rows × 6 columns</p>\n",
              "</div>"
            ],
            "text/plain": [
              "     Unnamed: 0  math_score  ...         lunch  lunch_encoded\n",
              "0             0          72  ...      standard            1.0\n",
              "1             1          69  ...      standard            1.0\n",
              "2             2          90  ...      standard            1.0\n",
              "3             3          47  ...  free/reduced            0.0\n",
              "4             4          76  ...      standard            1.0\n",
              "..          ...         ...  ...           ...            ...\n",
              "995         995          88  ...      standard            1.0\n",
              "996         996          62  ...  free/reduced            0.0\n",
              "997         997          59  ...  free/reduced            0.0\n",
              "998         998          68  ...      standard            1.0\n",
              "999         999          77  ...  free/reduced            0.0\n",
              "\n",
              "[1000 rows x 6 columns]"
            ]
          },
          "metadata": {},
          "execution_count": 28
        }
      ]
    },
    {
      "cell_type": "code",
      "metadata": {
        "id": "QT-F53w1tM7p"
      },
      "source": [
        "#Nos quedamos con las columnas que vamos a utilizar\n",
        "df_estudiantes=df_estudiantes[['math_score','reading_score','writing_score','lunch_encoded']]\n",
        "\n",
        "#Divimos en X e y\n",
        "X, y = df_estudiantes[['math_score','reading_score','writing_score']], df_estudiantes['lunch_encoded']\n",
        "\n",
        "#Luego en entrenamiento y prueba\n",
        "X_train, X_test, y_train, y_test = train_test_split(X, y, test_size=0.3)"
      ],
      "execution_count": 37,
      "outputs": []
    },
    {
      "cell_type": "markdown",
      "metadata": {
        "id": "aNU-l5JpwD1n"
      },
      "source": [
        "### Entrenamos el modelo"
      ]
    },
    {
      "cell_type": "code",
      "metadata": {
        "colab": {
          "base_uri": "https://localhost:8080/"
        },
        "id": "I_jHA-dAuFXt",
        "outputId": "89e6c111-7553-409a-fb85-0902fd51b3f7"
      },
      "source": [
        "from sklearn.linear_model import SGDClassifier\n",
        "\n",
        "# Modelo que vamos a entrenar\n",
        "sgd_clf = SGDClassifier()\n",
        "sgd_clf.fit(X_train, y_train)\n",
        "\n",
        "\n",
        "#Predecimos\n",
        "y_pred = sgd_clf.predict(X_test)\n",
        "y_pred"
      ],
      "execution_count": 50,
      "outputs": [
        {
          "output_type": "execute_result",
          "data": {
            "text/plain": [
              "array([1., 1., 1., 1., 1., 1., 1., 1., 1., 1., 1., 1., 1., 1., 1., 1., 1.,\n",
              "       1., 1., 1., 1., 1., 1., 1., 1., 1., 1., 1., 1., 1., 1., 1., 1., 1.,\n",
              "       1., 1., 1., 1., 1., 1., 1., 1., 1., 1., 1., 1., 1., 0., 1., 1., 1.,\n",
              "       1., 1., 1., 1., 1., 1., 1., 1., 1., 1., 1., 1., 1., 1., 1., 1., 1.,\n",
              "       1., 1., 1., 1., 1., 1., 1., 1., 1., 1., 1., 1., 1., 1., 1., 1., 1.,\n",
              "       1., 1., 1., 1., 1., 1., 1., 1., 1., 1., 1., 1., 1., 1., 1., 1., 1.,\n",
              "       1., 1., 1., 1., 1., 1., 1., 1., 1., 1., 1., 1., 1., 1., 1., 1., 1.,\n",
              "       1., 1., 1., 1., 1., 1., 1., 1., 1., 1., 1., 1., 1., 1., 1., 1., 1.,\n",
              "       1., 1., 1., 1., 1., 1., 1., 1., 1., 1., 1., 1., 1., 1., 1., 1., 1.,\n",
              "       1., 1., 1., 1., 1., 1., 1., 1., 1., 1., 1., 1., 1., 0., 1., 1., 1.,\n",
              "       1., 1., 1., 1., 1., 1., 1., 1., 1., 1., 1., 1., 1., 1., 1., 1., 1.,\n",
              "       1., 1., 1., 1., 1., 1., 1., 1., 1., 1., 1., 1., 1., 1., 1., 1., 1.,\n",
              "       1., 1., 1., 1., 1., 1., 1., 1., 1., 1., 1., 1., 1., 1., 1., 1., 1.,\n",
              "       1., 1., 1., 1., 1., 1., 1., 1., 1., 1., 1., 1., 1., 1., 1., 1., 1.,\n",
              "       1., 1., 1., 1., 1., 1., 1., 1., 1., 1., 1., 1., 1., 1., 1., 1., 1.,\n",
              "       1., 1., 1., 1., 1., 1., 1., 1., 1., 1., 1., 1., 1., 1., 1., 1., 1.,\n",
              "       1., 1., 1., 1., 1., 1., 1., 1., 1., 1., 1., 1., 1., 1., 1., 1., 1.,\n",
              "       1., 1., 1., 1., 1., 1., 1., 1., 1., 1., 1.])"
            ]
          },
          "metadata": {},
          "execution_count": 50
        }
      ]
    },
    {
      "cell_type": "markdown",
      "metadata": {
        "id": "F8cL9ymDwiUK"
      },
      "source": [
        "### Evaluamos el modelo generado"
      ]
    },
    {
      "cell_type": "code",
      "metadata": {
        "colab": {
          "base_uri": "https://localhost:8080/"
        },
        "id": "SSoyQXffxU10",
        "outputId": "a647d163-cd70-4a6d-eccc-b32281026582"
      },
      "source": [
        "#Calculamos matriz de confusión\n",
        "from sklearn.metrics import confusion_matrix\n",
        "\n",
        "print(confusion_matrix(y_test, y_pred))"
      ],
      "execution_count": 46,
      "outputs": [
        {
          "output_type": "stream",
          "name": "stdout",
          "text": [
            "[[ 14  89]\n",
            " [  3 194]]\n"
          ]
        }
      ]
    },
    {
      "cell_type": "code",
      "metadata": {
        "colab": {
          "base_uri": "https://localhost:8080/"
        },
        "id": "Mo57de6twmiF",
        "outputId": "74da3028-db31-46bd-e52f-e727a078f604"
      },
      "source": [
        "#Calculamos accuracy\n",
        "from sklearn.metrics import accuracy_score\n",
        "\n",
        "print(accuracy_score(y_test, y_pred))"
      ],
      "execution_count": 44,
      "outputs": [
        {
          "output_type": "stream",
          "name": "stdout",
          "text": [
            "0.6933333333333334\n"
          ]
        }
      ]
    },
    {
      "cell_type": "code",
      "metadata": {
        "colab": {
          "base_uri": "https://localhost:8080/"
        },
        "id": "4ULJa_AqxivA",
        "outputId": "5b947bf8-cbd6-407d-c840-a33dc46225e9"
      },
      "source": [
        "from sklearn.metrics import precision_score, recall_score, f1_score\n",
        "\n",
        "#Calculamos precision\n",
        "print(precision_score(y_test, y_pred))"
      ],
      "execution_count": 48,
      "outputs": [
        {
          "output_type": "stream",
          "name": "stdout",
          "text": [
            "0.6855123674911661\n"
          ]
        }
      ]
    },
    {
      "cell_type": "code",
      "metadata": {
        "colab": {
          "base_uri": "https://localhost:8080/"
        },
        "id": "OokMXRrtxrsH",
        "outputId": "7e230d61-1f67-43bd-b59c-a136bcae7af7"
      },
      "source": [
        "#Calculamos recall\n",
        "print(recall_score(y_test, y_pred))"
      ],
      "execution_count": 49,
      "outputs": [
        {
          "output_type": "stream",
          "name": "stdout",
          "text": [
            "0.9847715736040609\n"
          ]
        }
      ]
    },
    {
      "cell_type": "markdown",
      "metadata": {
        "id": "1wzDzII-yLuh"
      },
      "source": [
        "¿Qué se puede decir de estos valores?¿Cómo podrían mejorar?"
      ]
    },
    {
      "cell_type": "markdown",
      "metadata": {
        "id": "fr1FVAyzyPY1"
      },
      "source": [
        "¿En qué situaciones nos convienen mayores valores de precision vs mayores de recall?"
      ]
    }
  ]
}