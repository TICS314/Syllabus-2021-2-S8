{
 "cells": [
  {
   "cell_type": "markdown",
   "metadata": {
    "id": "gjQEpy3Pj-Bn"
   },
   "source": [
    "# Fundamentos de Ciencias de Datos\n",
    "\n",
    "*Esta tarea tiene solamente una parte grupal que se encuentra en el presente cuaderno de Python.*\n",
    "\n",
    "## Tarea 4\n",
    "\n",
    "### Objetivos\n",
    "\n",
    "1. Poner en práctica los conceptos aprendidos de reducción de dimensionalidad.\n",
    "2. Entender cómo las técnicas de reducción de dimensionalidad entran en el flujo de un proyecto de _Machine Learning_.\n",
    "3. Entender el concepto de la varianza acumulada en el contexto de PCA.\n",
    "\n",
    "### Metodología\n",
    "\n",
    "Deberás completar este cuaderno de python, siguiendo las instrucciones contenidas en él. Puedes utilizar contenido que encuentre en internet siempre y cuando lo referencies a través de un comentario. Por ejemplo:\n",
    "\n",
    ">```Python\n",
    "># código para abrir archivo obtenido desde  https://uniwebsidad.com/libros/algoritmos-python/capitulo-11\n",
    ">archivo = open(\"archivo.txt\")\n",
    ">```\n",
    "\n",
    "No olvides poner nombres representativos a tus variables. Caso contrario se verá reflejado en una penalización de tu nota."
   ]
  },
  {
   "cell_type": "markdown",
   "metadata": {
    "id": "FZs3HWKJ3E8q"
   },
   "source": [
    "## Integrantes\n",
    "\n",
    "Por favor, llenar acá el nombre de los integrantes de la pareja, junto a la asignación de las consultas de la sección A y la sección B.\n",
    "\n",
    "- **Integrante 1**:\n",
    "- **Integrante 2**:"
   ]
  },
  {
   "cell_type": "markdown",
   "metadata": {
    "id": "n6ZbtVm5j-Br"
   },
   "source": [
    "## Recomendaciones\n",
    "\n",
    "Primero, deberías importar en la siguiente celda **TODOS** los módulos de Python necesarios para la correcta ejecución de su tarea."
   ]
  },
  {
   "cell_type": "code",
   "execution_count": null,
   "metadata": {
    "id": "FHgxHVAGj-Bs"
   },
   "outputs": [],
   "source": [
    "#Escriba su código aquí"
   ]
  },
  {
   "cell_type": "markdown",
   "metadata": {
    "id": "wKqzJDO7j-Bt"
   },
   "source": [
    "Luego, deberías guardar en una (o varias) variable(s) TODOS los sets de datos que utilizarás en la tarea."
   ]
  },
  {
   "cell_type": "code",
   "execution_count": null,
   "metadata": {
    "id": "cfqGDbGyj-Bu"
   },
   "outputs": [],
   "source": [
    "#Escriba su código aquí"
   ]
  },
  {
   "cell_type": "markdown",
   "metadata": {
    "id": "wAw8r7Oaj-Bu"
   },
   "source": [
    "Utilice las variables previamente guardadas para mostrar parte de la información de todos los conjuntos de datos. Vale decir, si usted creó dos variables, cada una con un conjunto de datos diferente, muestre parte de los dos conjuntos de datos. Esto te ayudará a entender mejor lo que contiene cada fuente de datos."
   ]
  },
  {
   "cell_type": "code",
   "execution_count": null,
   "metadata": {
    "id": "jjuZtQEBj-Bu"
   },
   "outputs": [],
   "source": [
    "#Escriba su código aquí"
   ]
  },
  {
   "cell_type": "markdown",
   "metadata": {
    "id": "sMS6UG3Tj-Bv"
   },
   "source": [
    "Además, si necesitas hacer algún pre-procesamiento **COMÚN** a todas sus futuras respuestas, deberías hacerlo en la siguiente celda"
   ]
  },
  {
   "cell_type": "code",
   "execution_count": null,
   "metadata": {
    "id": "D1Vi9aDgj-Bw"
   },
   "outputs": [],
   "source": [
    "#Escriba su código aquí"
   ]
  },
  {
   "cell_type": "markdown",
   "metadata": {
    "id": "EygTQ9kxj-Bw"
   },
   "source": [
    "## Actividad\n",
    "\n",
    "El principal objetivo de esta actividad es evaluar la capacidad de utilizar técnicas de reducción de dimensionalidad en el contexto de un proyecto de _Machine Learning_. Además, queremos comprobar que entiendas los conceptos fundamentales del algoritmo PCA.\n",
    "\n",
    "### Parte 01 - PCA y Clasificación \\[3 ptos\\]\n",
    "\n",
    "En esta parte de la tarea vamos a entrenar un clasificador multiclase tras haber aplicado técnicas de reducción de dimensionalidad. Para esto vamos a utilizar el _dataset_ de las **Flores Iris** visto en clase (lo importamos en la celda correspondiente a esta pregunta). Para esto, queremos que entrenes tres clasificadores:\n",
    "\n",
    "- Uno que aprende sobre el _dataset_ Iris reducido a una dimensión con PCA.\n",
    "- Uno que aprende sobre el _dataset_ Iris reducido a dos dimensiones con PCA.\n",
    "- Uno que aprende sobre el _dataset_ completo.\n",
    "\n",
    "\n",
    "Para esto debes dividir el _dataset_ con la función `train_test_split` en una parte de entrenamiento, cuyo tamaño debe ser 70% del _dataset_, y otra de prueba, que corresponde al 30% restante del _dataset_. El modelo que tienes usar es el mismo de la tarea pasada, `SGDClassifier`, pero esta vez debe predecir el tipo de flor (es decir, tienes que hacer clasificación multiclase).\n",
    "\n",
    "**Importante**: la reducción de dimensionalidad la debes entrenar solamente con los datos de entrenamiento, y luego debes aplicar solamente la función `transform` a los datos de prueba para reducir la dimensión de esa parte. Además, cada modelo debe recibir las mismas instancias de flores. Es decir, el 70% de entrenamiento base debe ser el mismo que reduces primero a una dimensión, después a dos dimensiones y finalmente lo usas sin hacer reducción de dimensiones.\n",
    "\n",
    "Para cada clasificador debes calcular el _accuracy_, _precision_ y _recall_ de tu clasificador. En base a estas métricas, debes discutir qué tanto perdiste al aplicar una técnica de reducción de dimensionalidad. Debes además relacionarlo con la cantidad de varianza acumulada que guarda cada una de las tres versiones del _dataset_.\n",
    "\n",
    "---\n",
    "\n",
    "La distribución de puntaje de esta pregunta es la siguiente:\n",
    "\n",
    "- **0.5 pto**. Dividir correctamente el _dataset en prueba y entrenamiento.\n",
    "- **1 pto**. Aplicar correctamente PCA para reducir dimensionalidad.\n",
    "- **0.5 pts**. Entrenar correctamente los modelos.\n",
    "- **1 pto**. Hacer un análisis correcto en base a tus resultados.\n",
    "\n",
    "### Parte 02 - Utilizando T-SNE \\[1 pto\\]\n",
    "\n",
    "En esta parte de la tarea, queremos que apliques reducción de dimensionalidad con el algoritmo T-SNE sobre el _dataset_ de las **Flores Iris**. Para esto, usa el _dataset_ original y redúcelo a dos dimensiones. Luego compara esta versión con la que resulta de usar PCA para dos dimensiones. Comenta la diferencia entre ambas reducciones de dimensionalidad. ¿Con cuál te quedas en este caso?\n",
    "\n",
    "### Parte 03 - Varianza acumulada \\[2 ptos\\]\n",
    "\n",
    "En esta parte vamos a trabajar con el _dataset_ MNIST, de los números escritos a mano y vamos a tomar los últimos 10,000 dígitos (esto ya está en la celda correspondiente a esta pregunta). Luego, aplica PCA con un número de componentes que guarda el 95% de la varianza del _dataset_.\n",
    "\n",
    "Una vez hecho esto, inspecciona la varianza que guarda cada una de las componentes (`explained_variance_ratio_`); luego, grafica la **varianza acumulada** en función del número de componentes, partiendo desde dos componentes. Esto es, graficar la suma de las varianzas de las primeras 2, 3, 4, ..., $n$ componentes. En vez de graficar cada punto, también puedes ir de 5 en 5, partiendo 2. Esto es graficar la suma de las varianzas de las primeras 2, 7, 12, 17, y así.\n",
    "\n",
    "¿Qué puedes concluir de esto? ¿Crees que la varianza acumulada aumenta de forma lineal a medida que tomamos más componentes?\n",
    "\n",
    "## Detalles académicos\n",
    "\n",
    "La nota de cada integrante de la pareja será calculada como la suma de los puntos obtenidos en la tarea más un punto base. **La tarea debe ser subida al buzón correspondiente de Webcursos hasta el 22 de noviembre a las 23:59 horas**."
   ]
  },
  {
   "cell_type": "markdown",
   "metadata": {
    "id": "TPWvysF2j-By"
   },
   "source": [
    "## Pregunta 1"
   ]
  },
  {
   "cell_type": "code",
   "execution_count": 1,
   "metadata": {
    "id": "ntCapyaPj-By"
   },
   "outputs": [
    {
     "data": {
      "text/html": [
       "<div>\n",
       "<style scoped>\n",
       "    .dataframe tbody tr th:only-of-type {\n",
       "        vertical-align: middle;\n",
       "    }\n",
       "\n",
       "    .dataframe tbody tr th {\n",
       "        vertical-align: top;\n",
       "    }\n",
       "\n",
       "    .dataframe thead th {\n",
       "        text-align: right;\n",
       "    }\n",
       "</style>\n",
       "<table border=\"1\" class=\"dataframe\">\n",
       "  <thead>\n",
       "    <tr style=\"text-align: right;\">\n",
       "      <th></th>\n",
       "      <th>sepal length (cm)</th>\n",
       "      <th>sepal width (cm)</th>\n",
       "      <th>petal length (cm)</th>\n",
       "      <th>petal width (cm)</th>\n",
       "    </tr>\n",
       "  </thead>\n",
       "  <tbody>\n",
       "    <tr>\n",
       "      <th>0</th>\n",
       "      <td>5.1</td>\n",
       "      <td>3.5</td>\n",
       "      <td>1.4</td>\n",
       "      <td>0.2</td>\n",
       "    </tr>\n",
       "    <tr>\n",
       "      <th>1</th>\n",
       "      <td>4.9</td>\n",
       "      <td>3.0</td>\n",
       "      <td>1.4</td>\n",
       "      <td>0.2</td>\n",
       "    </tr>\n",
       "    <tr>\n",
       "      <th>2</th>\n",
       "      <td>4.7</td>\n",
       "      <td>3.2</td>\n",
       "      <td>1.3</td>\n",
       "      <td>0.2</td>\n",
       "    </tr>\n",
       "    <tr>\n",
       "      <th>3</th>\n",
       "      <td>4.6</td>\n",
       "      <td>3.1</td>\n",
       "      <td>1.5</td>\n",
       "      <td>0.2</td>\n",
       "    </tr>\n",
       "    <tr>\n",
       "      <th>4</th>\n",
       "      <td>5.0</td>\n",
       "      <td>3.6</td>\n",
       "      <td>1.4</td>\n",
       "      <td>0.2</td>\n",
       "    </tr>\n",
       "    <tr>\n",
       "      <th>...</th>\n",
       "      <td>...</td>\n",
       "      <td>...</td>\n",
       "      <td>...</td>\n",
       "      <td>...</td>\n",
       "    </tr>\n",
       "    <tr>\n",
       "      <th>145</th>\n",
       "      <td>6.7</td>\n",
       "      <td>3.0</td>\n",
       "      <td>5.2</td>\n",
       "      <td>2.3</td>\n",
       "    </tr>\n",
       "    <tr>\n",
       "      <th>146</th>\n",
       "      <td>6.3</td>\n",
       "      <td>2.5</td>\n",
       "      <td>5.0</td>\n",
       "      <td>1.9</td>\n",
       "    </tr>\n",
       "    <tr>\n",
       "      <th>147</th>\n",
       "      <td>6.5</td>\n",
       "      <td>3.0</td>\n",
       "      <td>5.2</td>\n",
       "      <td>2.0</td>\n",
       "    </tr>\n",
       "    <tr>\n",
       "      <th>148</th>\n",
       "      <td>6.2</td>\n",
       "      <td>3.4</td>\n",
       "      <td>5.4</td>\n",
       "      <td>2.3</td>\n",
       "    </tr>\n",
       "    <tr>\n",
       "      <th>149</th>\n",
       "      <td>5.9</td>\n",
       "      <td>3.0</td>\n",
       "      <td>5.1</td>\n",
       "      <td>1.8</td>\n",
       "    </tr>\n",
       "  </tbody>\n",
       "</table>\n",
       "<p>150 rows × 4 columns</p>\n",
       "</div>"
      ],
      "text/plain": [
       "     sepal length (cm)  sepal width (cm)  petal length (cm)  petal width (cm)\n",
       "0                  5.1               3.5                1.4               0.2\n",
       "1                  4.9               3.0                1.4               0.2\n",
       "2                  4.7               3.2                1.3               0.2\n",
       "3                  4.6               3.1                1.5               0.2\n",
       "4                  5.0               3.6                1.4               0.2\n",
       "..                 ...               ...                ...               ...\n",
       "145                6.7               3.0                5.2               2.3\n",
       "146                6.3               2.5                5.0               1.9\n",
       "147                6.5               3.0                5.2               2.0\n",
       "148                6.2               3.4                5.4               2.3\n",
       "149                5.9               3.0                5.1               1.8\n",
       "\n",
       "[150 rows x 4 columns]"
      ]
     },
     "execution_count": 1,
     "metadata": {},
     "output_type": "execute_result"
    }
   ],
   "source": [
    "from sklearn import datasets\n",
    "import pandas as pd\n",
    "\n",
    "iris = datasets.load_iris()\n",
    "iris.keys()\n",
    "df = pd.DataFrame(iris['data'])\n",
    "df.columns = iris.feature_names\n",
    "df"
   ]
  },
  {
   "cell_type": "code",
   "execution_count": 5,
   "metadata": {},
   "outputs": [
    {
     "data": {
      "text/plain": [
       "array([0, 0, 0, 0, 0, 0, 0, 0, 0, 0, 0, 0, 0, 0, 0, 0, 0, 0, 0, 0, 0, 0,\n",
       "       0, 0, 0, 0, 0, 0, 0, 0, 0, 0, 0, 0, 0, 0, 0, 0, 0, 0, 0, 0, 0, 0,\n",
       "       0, 0, 0, 0, 0, 0, 1, 1, 1, 1, 1, 1, 1, 1, 1, 1, 1, 1, 1, 1, 1, 1,\n",
       "       1, 1, 1, 1, 1, 1, 1, 1, 1, 1, 1, 1, 1, 1, 1, 1, 1, 1, 1, 1, 1, 1,\n",
       "       1, 1, 1, 1, 1, 1, 1, 1, 1, 1, 1, 1, 2, 2, 2, 2, 2, 2, 2, 2, 2, 2,\n",
       "       2, 2, 2, 2, 2, 2, 2, 2, 2, 2, 2, 2, 2, 2, 2, 2, 2, 2, 2, 2, 2, 2,\n",
       "       2, 2, 2, 2, 2, 2, 2, 2, 2, 2, 2, 2, 2, 2, 2, 2, 2, 2])"
      ]
     },
     "execution_count": 5,
     "metadata": {},
     "output_type": "execute_result"
    }
   ],
   "source": [
    "# Recuerda que las flores Virgínica son las de tipo 2\n",
    "iris['target']"
   ]
  },
  {
   "cell_type": "code",
   "execution_count": null,
   "metadata": {},
   "outputs": [],
   "source": [
    "# Continúa la solución acá"
   ]
  },
  {
   "cell_type": "markdown",
   "metadata": {},
   "source": [
    "## Pregunta 2"
   ]
  },
  {
   "cell_type": "code",
   "execution_count": 4,
   "metadata": {},
   "outputs": [],
   "source": [
    "# Continúa la solución acá"
   ]
  },
  {
   "cell_type": "markdown",
   "metadata": {},
   "source": [
    "## Pregunta 3"
   ]
  },
  {
   "cell_type": "code",
   "execution_count": null,
   "metadata": {},
   "outputs": [],
   "source": [
    "from sklearn.datasets import fetch_openml\n",
    "\n",
    "mnist = fetch_openml('mnist_784', version=1, as_frame=True)\n",
    "X, y = mnist['data'], mnist['target']\n",
    "y = y.astype(np.uint8)\n",
    "\n",
    "# Tomamos los primeros 2000 elementos para que tome menos tiempo.\n",
    "X, y = X[60000:], y[60000:]"
   ]
  },
  {
   "cell_type": "code",
   "execution_count": null,
   "metadata": {},
   "outputs": [],
   "source": [
    "# Continúa la solución acá"
   ]
  }
 ],
 "metadata": {
  "colab": {
   "collapsed_sections": [],
   "name": "tarea_02.ipynb",
   "provenance": []
  },
  "kernelspec": {
   "display_name": "Python 3",
   "language": "python",
   "name": "python3"
  },
  "language_info": {
   "codemirror_mode": {
    "name": "ipython",
    "version": 3
   },
   "file_extension": ".py",
   "mimetype": "text/x-python",
   "name": "python",
   "nbconvert_exporter": "python",
   "pygments_lexer": "ipython3",
   "version": "3.9.5"
  }
 },
 "nbformat": 4,
 "nbformat_minor": 1
}
