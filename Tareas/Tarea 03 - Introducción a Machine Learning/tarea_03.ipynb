{
 "cells": [
  {
   "cell_type": "markdown",
   "metadata": {
    "id": "gjQEpy3Pj-Bn"
   },
   "source": [
    "# Fundamentos de Ciencias de Datos\n",
    "\n",
    "*Esta tarea tiene solamente una parte grupal que se encuentra en el presente cuaderno de Python.*\n",
    "\n",
    "## Tarea 3\n",
    "\n",
    "### Objetivos\n",
    "\n",
    "1. Entender los conceptos básicos del área de _Machine Learning_.\n",
    "2. Entender cómo medir el desempeño de un algoritmo de regresión y de un algoritmo de clasificación.\n",
    "3. Familiarización con las herramientas de Python para entrenar y usar algoritmos de _Machine Learning_.\n",
    "\n",
    "### Metodología\n",
    "\n",
    "Deberás completar este cuaderno de python, siguiendo las instrucciones contenidas en él. Puedes utilizar contenido que encuentre en internet siempre y cuando lo referencies a través de un comentario. Por ejemplo:\n",
    "\n",
    ">```Python\n",
    "># código para abrir archivo obtenido desde  https://uniwebsidad.com/libros/algoritmos-python/capitulo-11\n",
    ">archivo = open(\"archivo.txt\")\n",
    ">```\n",
    "\n",
    "No olvides poner nombres representativos a tus variables. Caso contrario se verá reflejado en una penalización de tu nota.\n",
    "\n",
    "### Conjuntos de Datos\n",
    "\n",
    "Se le entregan 4 conjuntos de datos: codigos.csv, psu_2019.csv, presupuesto_2019.csv y poblacion.csv. \n",
    "\n",
    "#### codigos.csv\n",
    "\n",
    " | columna | descripción |\n",
    " | --- | :---: |\n",
    " | Código Región | **Entero**: Identificador único para cada región. |\n",
    " | Nombre Región | **String**: Nombre de la región. |\n",
    " | Abreviatura Región | **String**: Abreviatura (en letras) o nombre corto de la región.  |\n",
    " | Código Provincia | **Entero**: Identificador único para cada provincia. |\n",
    " | Nombre Provincia | **String**: Nombre de la provincia. |\n",
    " | Código Comuna 2018 | **Entero**: Identificador único para cada comuna. |\n",
    " | Nombre Comuna | **String**: Nombre de la comuna. |\n",
    "\n",
    " #### datos_comunas.csv\n",
    "\n",
    " | columna | descripción |\n",
    " | --- | :---: |\n",
    " | id | **Entero**: Identificador único para cada comuna. Mismo identificador que en **codigos.csv**. |\n",
    " | metros_plaza | **Entero**: Cantidad de metros de plaza que tiene la comuna. |\n",
    " | metros_parque | **Entero**: Cantidad de metros de parque que tiene la comuna.  |\n",
    " | personas_trabaja | **Entero**: Número de personas que trabaja en la municipalidad de la comuna. |\n",
    "\n",
    " #### presupuesto_2019.csv\n",
    "\n",
    " | columna | descripción |\n",
    " | --- | :---: |\n",
    " | CODIGO | **Entero**: Identificador único para cada comuna. Mismo identificador que en **codigos.csv**. |\n",
    " | MUNICIPIO | **String**: Nombre de la comuna. |\n",
    " | PRESUPUESTO | **Entero**: Presupuesto destinado a la comuna.  |\n",
    "\n",
    " **Observación**: en la columna `PRESUPUESTO`, hay datos que están como \"no recepcionados. Eso puede producir que los análisis fallen, por lo que se recomienda limpiar los datos antes.\n",
    "\n",
    " #### poblacion.csv\n",
    "\n",
    " | columna | descripción |\n",
    " | --- | :---: |\n",
    " | CODIGO | **Entero**: Identificador único para cada comuna. Mismo identificador que en **codigos.csv**. |\n",
    " | MUNICIPIO | **String**: Nombre de la comuna. |\n",
    " | POBLACIÓN | **Entero**: Número de personas que vive en la comuna.  |\n",
    "\n"
   ]
  },
  {
   "cell_type": "markdown",
   "metadata": {
    "id": "FZs3HWKJ3E8q"
   },
   "source": [
    "## Integrantes\n",
    "\n",
    "Por favor, llenar acá el nombre de los integrantes de la pareja, junto a la asignación de las consultas de la sección A y la sección B.\n",
    "\n",
    "- **Integrante 1**:\n",
    "- **Integrante 2**:"
   ]
  },
  {
   "cell_type": "markdown",
   "metadata": {
    "id": "n6ZbtVm5j-Br"
   },
   "source": [
    "## Recomendaciones\n",
    "\n",
    "Primero, deberías importar en la siguiente celda **TODOS** los módulos de Python necesarios para la correcta ejecución de su tarea."
   ]
  },
  {
   "cell_type": "code",
   "execution_count": null,
   "metadata": {
    "id": "FHgxHVAGj-Bs"
   },
   "outputs": [],
   "source": [
    "#Escriba su código aquí"
   ]
  },
  {
   "cell_type": "markdown",
   "metadata": {
    "id": "wKqzJDO7j-Bt"
   },
   "source": [
    "Luego, deberías guardar en una (o varias) variable(s) TODOS los sets de datos que utilizarás en la tarea."
   ]
  },
  {
   "cell_type": "code",
   "execution_count": null,
   "metadata": {
    "id": "cfqGDbGyj-Bu"
   },
   "outputs": [],
   "source": [
    "#Escriba su código aquí"
   ]
  },
  {
   "cell_type": "markdown",
   "metadata": {
    "id": "wAw8r7Oaj-Bu"
   },
   "source": [
    "Utilice las variables previamente guardadas para mostrar parte de la información de todos los conjuntos de datos. Vale decir, si usted creó dos variables, cada una con un conjunto de datos diferente, muestre parte de los dos conjuntos de datos. Esto te ayudará a entender mejor lo que contiene cada fuente de datos."
   ]
  },
  {
   "cell_type": "code",
   "execution_count": null,
   "metadata": {
    "id": "jjuZtQEBj-Bu"
   },
   "outputs": [],
   "source": [
    "#Escriba su código aquí"
   ]
  },
  {
   "cell_type": "markdown",
   "metadata": {
    "id": "sMS6UG3Tj-Bv"
   },
   "source": [
    "Además, si necesitas hacer algún pre-procesamiento **COMÚN** a todas sus futuras respuestas, deberías hacerlo en la siguiente celda"
   ]
  },
  {
   "cell_type": "code",
   "execution_count": null,
   "metadata": {
    "id": "D1Vi9aDgj-Bw"
   },
   "outputs": [],
   "source": [
    "#Escriba su código aquí"
   ]
  },
  {
   "cell_type": "markdown",
   "metadata": {
    "id": "EygTQ9kxj-Bw"
   },
   "source": [
    "## Actividad\n",
    "\n",
    "El principal objetivo de esta actividad es evaluar la capacidad de entrenar y usar algoritmos del área de _Machine Learning_. Además, vamos a evaluar que entiendas diferentes medidas de desempeño que se utilizan tanto en contextos de regresión como en contextos de clasificación.\n",
    "\n",
    "### Parte 01 (3.5 pts) - Entrenando un algoritmo de regresión\n",
    "\n",
    "En la primera parte de la tarea queremos que entrenes un modelo de regresión. Para esto, considera los datos municipales con los que ya has trabajado antes. Lo que tienes que hacer es un modelo de regresión lineal para predecir el presupuesto de una comuna en función de alguna de las siguientes variables:\n",
    "\n",
    "- Metros Plaza\n",
    "- Metros Parque\n",
    "- Personas que Trabajan en el Municipio\n",
    "- Población\n",
    "\n",
    "Para esto, tienes que decidir tú mismo la variable con la que vas a entrenar tu modelo. **Debes justificar la elección de la variable**, para esto te tienes apoyar en las técnicas vistas en clase (ej. visualización de los datos, cálculo de correlación, etc.). Luego de eso, debes medir el desempeño de dos formas: \n",
    "\n",
    "- Primero, mide el desempeño del regresor usando _cross-validation_, considerando `cv=5`. Utiliza la métrica `neg_mean_squared_error`.\n",
    "- Segundo, computa la predicción sobre todo el _dataset_ y luego calcula la métrica $R^2$. Puedes ver cómo importar y usar esta métrica [aquí](https://scikit-learn.org/stable/modules/generated/sklearn.metrics.r2_score.html).\n",
    "\n",
    "En base a las métricas de desempeño calculadas, discute qué tan bueno es tu modelo y cómo crees que podría mejorar.\n",
    "\n",
    "---\n",
    "\n",
    "La distribución de puntaje de esta pregunta es la siguiente:\n",
    "\n",
    "- **0.75 pto**. Escoger la variable con la que se va a predecir el presupuesto comunal.\n",
    "- **0.75 pto**. Entrenar la regresión en Scikit-Learn.\n",
    "- **1 pto**. Cálcular las medidas de desempeño solicitadas.\n",
    "- **1 pto**. Análisis de los resultados.\n",
    "\n",
    "### Parte 02 - Entrenando un clasificador\n",
    "\n",
    "En esta parte de la tarea vamos a entrenar un clasificador binario. Para esto vamos a utilizar el _dataset_ de las **Flores Iris** visto en clase (lo importamos en la celda correspondiente a esta pregunta). La idea es que utilizando la clase `SGDClassifier` entrenes un clasificador que prediga si una flor es o no una **Iris Virginica** en función de las cuatro _features_ del _dataset_ (largo y ancho del pétalo y sépalo). Para esto debes dividir el _dataset_ en una parte de entrenamiento, cuyo tamaño debe ser 70% del _dataset_, y otra de prueba, que corresponde al 30% restante del _dataset_. \n",
    "\n",
    "Luego, debes calcular el _accuracy_, _precision_ y _recall_ de tu clasificador. En base a estas métricas debes discutir qué tan bueno es tu clasificador y cómo crees que puede mejorar. Además, se pide que describas dos situaciones ficticias, una en la que el clasificador debería privilegiar la precisión por sobre el _recall_ y otra situación en donde se debería privilegiar el _recall_ por sobre la precisión.\n",
    "\n",
    "---\n",
    "\n",
    "La distribución de puntaje de esta pregunta es la siguiente:\n",
    "\n",
    "- **1 pto**. Entrenar el clasificador.\n",
    "- **1 pto**. Cálculo de las medidas de desempeño y la discusión de los resultados.\n",
    "- **0.5 pts**. Descripción de las situaciones ficticias.\n",
    "\n",
    "## Detalles académicos\n",
    "\n",
    "La nota de cada integrante de la pareja será calculada como la suma de los puntos obtenidos en la tarea más un punto base. **La tarea debe ser subida al buzón correspondiente de Webcursos hasta el 03 de noviembre a las 23:59 horas**."
   ]
  },
  {
   "cell_type": "markdown",
   "metadata": {
    "id": "E8t9AzJQj-Bx"
   },
   "source": [
    "## Pregunta 1"
   ]
  },
  {
   "cell_type": "code",
   "execution_count": null,
   "metadata": {
    "id": "x_9UaZ_jj-By"
   },
   "outputs": [],
   "source": [
    "# Continúa la solución acá"
   ]
  },
  {
   "cell_type": "markdown",
   "metadata": {
    "id": "TPWvysF2j-By"
   },
   "source": [
    "## Pregunta 2"
   ]
  },
  {
   "cell_type": "code",
   "execution_count": 1,
   "metadata": {
    "id": "ntCapyaPj-By"
   },
   "outputs": [
    {
     "data": {
      "text/html": [
       "<div>\n",
       "<style scoped>\n",
       "    .dataframe tbody tr th:only-of-type {\n",
       "        vertical-align: middle;\n",
       "    }\n",
       "\n",
       "    .dataframe tbody tr th {\n",
       "        vertical-align: top;\n",
       "    }\n",
       "\n",
       "    .dataframe thead th {\n",
       "        text-align: right;\n",
       "    }\n",
       "</style>\n",
       "<table border=\"1\" class=\"dataframe\">\n",
       "  <thead>\n",
       "    <tr style=\"text-align: right;\">\n",
       "      <th></th>\n",
       "      <th>sepal length (cm)</th>\n",
       "      <th>sepal width (cm)</th>\n",
       "      <th>petal length (cm)</th>\n",
       "      <th>petal width (cm)</th>\n",
       "    </tr>\n",
       "  </thead>\n",
       "  <tbody>\n",
       "    <tr>\n",
       "      <th>0</th>\n",
       "      <td>5.1</td>\n",
       "      <td>3.5</td>\n",
       "      <td>1.4</td>\n",
       "      <td>0.2</td>\n",
       "    </tr>\n",
       "    <tr>\n",
       "      <th>1</th>\n",
       "      <td>4.9</td>\n",
       "      <td>3.0</td>\n",
       "      <td>1.4</td>\n",
       "      <td>0.2</td>\n",
       "    </tr>\n",
       "    <tr>\n",
       "      <th>2</th>\n",
       "      <td>4.7</td>\n",
       "      <td>3.2</td>\n",
       "      <td>1.3</td>\n",
       "      <td>0.2</td>\n",
       "    </tr>\n",
       "    <tr>\n",
       "      <th>3</th>\n",
       "      <td>4.6</td>\n",
       "      <td>3.1</td>\n",
       "      <td>1.5</td>\n",
       "      <td>0.2</td>\n",
       "    </tr>\n",
       "    <tr>\n",
       "      <th>4</th>\n",
       "      <td>5.0</td>\n",
       "      <td>3.6</td>\n",
       "      <td>1.4</td>\n",
       "      <td>0.2</td>\n",
       "    </tr>\n",
       "    <tr>\n",
       "      <th>...</th>\n",
       "      <td>...</td>\n",
       "      <td>...</td>\n",
       "      <td>...</td>\n",
       "      <td>...</td>\n",
       "    </tr>\n",
       "    <tr>\n",
       "      <th>145</th>\n",
       "      <td>6.7</td>\n",
       "      <td>3.0</td>\n",
       "      <td>5.2</td>\n",
       "      <td>2.3</td>\n",
       "    </tr>\n",
       "    <tr>\n",
       "      <th>146</th>\n",
       "      <td>6.3</td>\n",
       "      <td>2.5</td>\n",
       "      <td>5.0</td>\n",
       "      <td>1.9</td>\n",
       "    </tr>\n",
       "    <tr>\n",
       "      <th>147</th>\n",
       "      <td>6.5</td>\n",
       "      <td>3.0</td>\n",
       "      <td>5.2</td>\n",
       "      <td>2.0</td>\n",
       "    </tr>\n",
       "    <tr>\n",
       "      <th>148</th>\n",
       "      <td>6.2</td>\n",
       "      <td>3.4</td>\n",
       "      <td>5.4</td>\n",
       "      <td>2.3</td>\n",
       "    </tr>\n",
       "    <tr>\n",
       "      <th>149</th>\n",
       "      <td>5.9</td>\n",
       "      <td>3.0</td>\n",
       "      <td>5.1</td>\n",
       "      <td>1.8</td>\n",
       "    </tr>\n",
       "  </tbody>\n",
       "</table>\n",
       "<p>150 rows × 4 columns</p>\n",
       "</div>"
      ],
      "text/plain": [
       "     sepal length (cm)  sepal width (cm)  petal length (cm)  petal width (cm)\n",
       "0                  5.1               3.5                1.4               0.2\n",
       "1                  4.9               3.0                1.4               0.2\n",
       "2                  4.7               3.2                1.3               0.2\n",
       "3                  4.6               3.1                1.5               0.2\n",
       "4                  5.0               3.6                1.4               0.2\n",
       "..                 ...               ...                ...               ...\n",
       "145                6.7               3.0                5.2               2.3\n",
       "146                6.3               2.5                5.0               1.9\n",
       "147                6.5               3.0                5.2               2.0\n",
       "148                6.2               3.4                5.4               2.3\n",
       "149                5.9               3.0                5.1               1.8\n",
       "\n",
       "[150 rows x 4 columns]"
      ]
     },
     "execution_count": 1,
     "metadata": {},
     "output_type": "execute_result"
    }
   ],
   "source": [
    "from sklearn import datasets\n",
    "import pandas as pd\n",
    "\n",
    "iris = datasets.load_iris()\n",
    "iris.keys()\n",
    "df = pd.DataFrame(iris['data'])\n",
    "df.columns = iris.feature_names\n",
    "df"
   ]
  },
  {
   "cell_type": "code",
   "execution_count": 5,
   "metadata": {},
   "outputs": [
    {
     "data": {
      "text/plain": [
       "array([0, 0, 0, 0, 0, 0, 0, 0, 0, 0, 0, 0, 0, 0, 0, 0, 0, 0, 0, 0, 0, 0,\n",
       "       0, 0, 0, 0, 0, 0, 0, 0, 0, 0, 0, 0, 0, 0, 0, 0, 0, 0, 0, 0, 0, 0,\n",
       "       0, 0, 0, 0, 0, 0, 1, 1, 1, 1, 1, 1, 1, 1, 1, 1, 1, 1, 1, 1, 1, 1,\n",
       "       1, 1, 1, 1, 1, 1, 1, 1, 1, 1, 1, 1, 1, 1, 1, 1, 1, 1, 1, 1, 1, 1,\n",
       "       1, 1, 1, 1, 1, 1, 1, 1, 1, 1, 1, 1, 2, 2, 2, 2, 2, 2, 2, 2, 2, 2,\n",
       "       2, 2, 2, 2, 2, 2, 2, 2, 2, 2, 2, 2, 2, 2, 2, 2, 2, 2, 2, 2, 2, 2,\n",
       "       2, 2, 2, 2, 2, 2, 2, 2, 2, 2, 2, 2, 2, 2, 2, 2, 2, 2])"
      ]
     },
     "execution_count": 5,
     "metadata": {},
     "output_type": "execute_result"
    }
   ],
   "source": [
    "# Recuerda que las flores Virgínica son las de tipo 2\n",
    "iris['target']"
   ]
  },
  {
   "cell_type": "code",
   "execution_count": null,
   "metadata": {},
   "outputs": [],
   "source": [
    "# Continúa la solución acá"
   ]
  }
 ],
 "metadata": {
  "colab": {
   "collapsed_sections": [],
   "name": "tarea_02.ipynb",
   "provenance": []
  },
  "kernelspec": {
   "display_name": "Python 3",
   "language": "python",
   "name": "python3"
  },
  "language_info": {
   "codemirror_mode": {
    "name": "ipython",
    "version": 3
   },
   "file_extension": ".py",
   "mimetype": "text/x-python",
   "name": "python",
   "nbconvert_exporter": "python",
   "pygments_lexer": "ipython3",
   "version": "3.9.5"
  }
 },
 "nbformat": 4,
 "nbformat_minor": 1
}
