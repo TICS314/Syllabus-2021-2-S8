{
  "nbformat": 4,
  "nbformat_minor": 0,
  "metadata": {
    "colab": {
      "name": "tarea_02.ipynb",
      "provenance": [],
      "collapsed_sections": []
    },
    "kernelspec": {
      "display_name": "Python 3",
      "language": "python",
      "name": "python3"
    },
    "language_info": {
      "codemirror_mode": {
        "name": "ipython",
        "version": 3
      },
      "file_extension": ".py",
      "mimetype": "text/x-python",
      "name": "python",
      "nbconvert_exporter": "python",
      "pygments_lexer": "ipython3",
      "version": "3.9.5"
    }
  },
  "cells": [
    {
      "cell_type": "markdown",
      "metadata": {
        "id": "gjQEpy3Pj-Bn"
      },
      "source": [
        "# Fundamentos de Ciencias de Datos\n",
        "\n",
        "*Esta tarea tiene dos partes. Una parte en parejas y otra individual. La parte en parejas se encuentra en este cuaderno de Python. Luego, cada uno de los integrantes de la pareja debe tomar la sección A o la sección B, y cada integrante debe realizar solamente la sección de la tarea que escogió. Estas secciones se encuentran en los archivos **tarea_01-A.ipynb** y **tarea_01-B.ipynb**, respectivamente.*\n",
        "\n",
        "## Tarea 1 (Parte Grupal)\n",
        "\n",
        "### Objetivos\n",
        "\n",
        "1. Familiarización con las herramientas de Python en el contexto de visualización de datos\n",
        "2. Manejo de los elementos de un gráfico utilizando un lenguaje de programación\n",
        "3. Manejo de las buenas prácticas en visualización de datos.\n",
        "\n",
        "### Metodología\n",
        "\n",
        "Deberás completar este cuaderno de python, siguiendo las instrucciones contenidas en él. Puedes utilizar contenido que encuentre en internet siempre y cuando lo referencies a través de un comentario. Por ejemplo:\n",
        "\n",
        ">```Python\n",
        "># código para abrir archivo obtenido desde  https://uniwebsidad.com/libros/algoritmos-python/capitulo-11\n",
        ">archivo = open(\"archivo.txt\")\n",
        ">```\n",
        "\n",
        "No olvides poner nombres representativos a tus variables. Caso contrario se verá reflejado en una penalización de tu nota.\n",
        "\n",
        "### Conjuntos de Datos\n",
        "\n",
        "Se le entregan 4 conjuntos de datos: codigos.csv, psu_2019.csv, presupuesto_2019.csv y poblacion.csv. \n",
        "\n",
        "#### codigos.csv\n",
        "\n",
        " | columna | descripción |\n",
        " | --- | :---: |\n",
        " | Código Región | **Entero**: Identificador único para cada región. |\n",
        " | Nombre Región | **String**: Nombre de la región. |\n",
        " | Abreviatura Región | **String**: Abreviatura (en letras) o nombre corto de la región.  |\n",
        " | Código Provincia | **Entero**: Identificador único para cada provincia. |\n",
        " | Nombre Provincia | **String**: Nombre de la provincia. |\n",
        " | Código Comuna 2018 | **Entero**: Identificador único para cada comuna. |\n",
        " | Nombre Comuna | **String**: Nombre de la comuna. |\n",
        "\n",
        " #### psu_2019.csv\n",
        "\n",
        " | columna | descripción |\n",
        " | --- | :---: |\n",
        " | CODIGO | **Entero**: Identificador único para cada comuna. Mismo identificador que en **codigos.csv**. |\n",
        " | MUNICIPALES_PRIMERA | **Entero**: Cantidad de alumnos de colegios municipales que da la PSU por primera vez en el año 2019. |\n",
        " | PARTICULARES_PRIMERA | **Entero**: Cantidad de alumnos de colegios particulares que da la PSU por primera vez en el año 2019. |\n",
        " | SUBVENCIONADOS_PRIMERA | **Entero**: Cantidad de alumnos de colegios subvencionados que da la PSU por primera vez en el año 2019. |\n",
        " | 450_MUNICIPALES | **Entero**: Cantidad de alumnos de colegios municipales que da la PSU por primera vez en el año 2019 y obtiene más de 450 puntos promediados entre las pruebas de Lenguaje y Matemáticas. |\n",
        " | 450_PARTICULARES | **Entero**: Cantidad de alumnos de colegios particulares que da la PSU por primera vez en el año 2019 y obtiene más de 450 puntos promediados entre las pruebas de Lenguaje y Matemáticas. |\n",
        " | 450_SUBVENCIONADOS | **Entero**: Cantidad de alumnos de colegios municipales que da la PSU por primera vez en el año 2019 y obtiene más de 450 puntos promediados entre las pruebas de Lenguaje y Matemáticas. |\n",
        "\n",
        " #### presupuesto_2019.csv\n",
        "\n",
        " | columna | descripción |\n",
        " | --- | :---: |\n",
        " | CODIGO | **Entero**: Identificador único para cada comuna. Mismo identificador que en **codigos.csv**. |\n",
        " | MUNICIPIO | **String**: Nombre de la comuna. |\n",
        " | PRESUPUESTO | **Entero**: Presupuesto destinado a la comuna.  |\n",
        "\n",
        " **Observación**: en la columna `PRESUPUESTO`, hay datos que están como \"no recepcionados. Eso puede producir que los análisis fallen, por lo que se recomienda limpiar los datos antes.\n",
        "\n",
        " #### poblacion.csv\n",
        "\n",
        " | columna | descripción |\n",
        " | --- | :---: |\n",
        " | CODIGO | **Entero**: Identificador único para cada comuna. Mismo identificador que en **codigos.csv**. |\n",
        " | MUNICIPIO | **String**: Nombre de la comuna. |\n",
        " | POBLACIÓN | **Entero**: Número de personas que vive en la comuna.  |\n",
        "\n"
      ]
    },
    {
      "cell_type": "markdown",
      "metadata": {
        "id": "FZs3HWKJ3E8q"
      },
      "source": [
        "## Integrantes\n",
        "\n",
        "Por favor, llenar acá el nombre de los integrantes de la pareja, junto a la asignación de las consultas de la sección A y la sección B.\n",
        "\n",
        "- **Integrante 1**:\n",
        "- **Integrante 2**:\n",
        "- **Integrante que realiza la sección A**:\n",
        "- **Integrante que realiza la sección B**:"
      ]
    },
    {
      "cell_type": "markdown",
      "metadata": {
        "id": "n6ZbtVm5j-Br"
      },
      "source": [
        "## Recomendaciones\n",
        "\n",
        "Primero, deberías importar en la siguiente celda **TODOS** los módulos de Python necesarios para la correcta ejecución de su tarea."
      ]
    },
    {
      "cell_type": "code",
      "metadata": {
        "id": "FHgxHVAGj-Bs"
      },
      "source": [
        "#Escriba su código aquí"
      ],
      "execution_count": null,
      "outputs": []
    },
    {
      "cell_type": "markdown",
      "metadata": {
        "id": "wKqzJDO7j-Bt"
      },
      "source": [
        "Luego, deberías guardar en una (o varias) variable(s) TODOS los sets de datos que utilizarás en la tarea."
      ]
    },
    {
      "cell_type": "code",
      "metadata": {
        "id": "cfqGDbGyj-Bu"
      },
      "source": [
        "#Escriba su código aquí"
      ],
      "execution_count": null,
      "outputs": []
    },
    {
      "cell_type": "markdown",
      "metadata": {
        "id": "wAw8r7Oaj-Bu"
      },
      "source": [
        "Utilice las variables previamente guardadas para mostrar parte de la información de todos los conjuntos de datos. Vale decir, si usted creó dos variables, cada una con un conjunto de datos diferente, muestre parte de los dos conjuntos de datos. Esto te ayudará a entender mejor lo que contiene cada fuente de datos."
      ]
    },
    {
      "cell_type": "code",
      "metadata": {
        "id": "jjuZtQEBj-Bu"
      },
      "source": [
        "#Escriba su código aquí"
      ],
      "execution_count": null,
      "outputs": []
    },
    {
      "cell_type": "markdown",
      "metadata": {
        "id": "sMS6UG3Tj-Bv"
      },
      "source": [
        "Además, si necesitas hacer algún pre-procesamiento **COMÚN** a todas sus futuras respuestas, deberías hacerlo en la siguiente celda"
      ]
    },
    {
      "cell_type": "code",
      "metadata": {
        "id": "D1Vi9aDgj-Bw"
      },
      "source": [
        "#Escriba su código aquí"
      ],
      "execution_count": null,
      "outputs": []
    },
    {
      "cell_type": "markdown",
      "metadata": {
        "id": "EygTQ9kxj-Bw"
      },
      "source": [
        "## Actividad\n",
        "\n",
        "El principal objetivo de esta actividad es evaluar la capacidad de crear buenas visualizaciones, por lo que si tienen que tomar decisiones/supuestos para crear una mejor visualización, puede hacerlo y dejarlo anotado. Por ejemplo, si existe alguna visualización que no se aprecia por  algún o algunos _outliers_, puede eliminarlo o bien aplicar alguna transformación a la columna.\n",
        "\n",
        "### Parte grupal \n",
        "\n",
        "Utilizando los datos previamente guardados en variables, y el lenguaje de programación Python junto con la librería Plotnine o Matplotlib, genere las siguientes visualizaciones:\n",
        "\n",
        "1. **\\[0.5 pto\\]** Genere una visualización que muestre la población en cada región del país\n",
        "2. **\\[1.5 pto\\]** Genere una visualización que muestre la distribución de los presupuestos comunales de la Región de Valparaiso junto con la distribución de presupuestos comunales de la Región Metropolitana. ¿Qué puede comentar de este gráfico?\n",
        "3. **\\[1.5 pto\\]** Genere una visualización que muestre cómo se relaciona el presupuesto comunal y la población de las comunas en Chile. Además, incluya en el mismo gráfico, la información correspondiente a si la comuna pertenece o no a la región metropolitana. ¿Qué puede comentar de la relación entre estas dos variables? ¿Se observan diferencias entre la región metropolitana vs otras regiones del país?\n",
        "\n",
        "**Hint:** En las preguntas 2 y 3 use una transformación logaritmica del presupuesto y la población para mejorar la visualización de sus gráficos.\n",
        "\n",
        "### Parte Individual\n",
        "\n",
        "**Completar en los archivos correspondientes. Cada integrante del grupo resolverá uno de los archivos.**\n",
        "\n",
        "## Detalles académicos\n",
        "\n",
        "La nota de cada integrante de la pareja será calculado como la suma de los puntos de la parte grupal e individual (más un punto base), donde la Parte Grupal corresponde a las 2 primeras visualizaciones, y la Parte Individual a la sección respectiva elegida por cada integrante. **La tarea debe ser subida al buzón correspondiente de Webcursos hasta el 13 de septiembre a las 23:59 horas**."
      ]
    },
    {
      "cell_type": "markdown",
      "metadata": {
        "id": "E8t9AzJQj-Bx"
      },
      "source": [
        "## Pregunta 1"
      ]
    },
    {
      "cell_type": "code",
      "metadata": {
        "id": "x_9UaZ_jj-By"
      },
      "source": [
        "# Escriba su código aquí"
      ],
      "execution_count": null,
      "outputs": []
    },
    {
      "cell_type": "markdown",
      "metadata": {
        "id": "TPWvysF2j-By"
      },
      "source": [
        "## Pregunta 2"
      ]
    },
    {
      "cell_type": "code",
      "metadata": {
        "id": "ntCapyaPj-By"
      },
      "source": [
        "# Escriba su código aquí"
      ],
      "execution_count": null,
      "outputs": []
    },
    {
      "cell_type": "markdown",
      "metadata": {
        "id": "188lay5xJlaK"
      },
      "source": [
        "## Pregunta 3"
      ]
    },
    {
      "cell_type": "code",
      "metadata": {
        "id": "m9IauDaKJnxY"
      },
      "source": [
        "# Escriba su código aquí"
      ],
      "execution_count": null,
      "outputs": []
    }
  ]
}