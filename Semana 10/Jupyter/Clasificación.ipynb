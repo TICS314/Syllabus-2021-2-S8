{
 "cells": [
  {
   "cell_type": "markdown",
   "metadata": {},
   "source": [
    "# Clasificación\n",
    "\n",
    "En esta clase vamos a aprender que es _clasificar_ en el área de _Machine Learning_ y las diferencias de esta tarea respecto a otros posibles escenarios. Además, vamos a aprender cómo medir el desempeño de un modelo clasificador. Los contenidos de esta clase son:\n",
    "\n",
    "- Posibles escenarios en el área de _Machine Learning_\n",
    "- Clasificación binaria\n",
    "- Medidas de desempeño\n",
    "- Clasificación multiclase\n",
    "\n",
    "Además, en este notebook encontrarás dos contenidos bonus:\n",
    "\n",
    "- Curva _Precision vs Recall_.\n",
    "- Curva ROC."
   ]
  },
  {
   "cell_type": "markdown",
   "metadata": {},
   "source": [
    "## Escenarios en el área de _Machine Learning_\n",
    "\n",
    "Hasta ahora hemos tenido una noción de cómo funcionan los modelos supervisados. Tenemos datos que corresponden a un determinado dominio y estos datos tienen una cantidad determinada de _features_. Podemos definir una _feature_ como una medida de una propiedad para una instancia. En general las _features_ son números en el dominio de los reales. \n",
    "\n",
    "Para explicar mejor este concepto vamos a analizar un ejemplo clásico: un clasificador de números escritos a mano. Si lo vemos como imagen, los datos son los siguientes:\n",
    "\n",
    "<img src=\"fig/mnist.png\" style=\"width: 400px;\"/>\n",
    "\n",
    "Tenemos un conjunto de varios números escritos a mano, cada uno de $28\\times28$ pixeles. Si nos paramos en un número en particular, por ejemplo un 7, lo que tenemos es lo siguiente:\n",
    "\n",
    "<img src=\"fig/mnist7.png\" style=\"width: 200px;\"/>\n",
    "\n",
    "Si pensamos en términos de _features_ o columnas de un _dataset_, cada pixel es una columna con un valor asociado que representa un número en la escala de grises (0 es blanco, 1 es negro, los valores entre ellos son grises). \n",
    "\n",
    "Vamos a decir que cada uno de los números del dataset es una observación, y como en general no nos gusta trabajar con objetos de dos dimensiones, vamos a \"estirar\" cada uno de los números a una lista de 784 elementos (recordemos que $28\\times28=784$). Entonces, si vamos a entrenar con un dataset de 100 números, decimos que hay 100 observaciones, cada una con 784 features. Podemos pensar entonces en nuestro _dataset_ como una matrix $X$ de 100 filas y 784 columnas, donde las columnas son las features y las filas son las observaciones.\n",
    "\n",
    "Recordemos que cada observación viene etiquetada con su respuesta, en una lista $y$ de 100 elementos. Por ejemplo:\n",
    "\n",
    "- Si estamos clasificando una imagen como \"es un 7\" o \"no es un 7\", tenemos una lista de 100 elementos, que en la posición $i$ tiene el valor `True` si la $i$-ésima observación es un 7 y un `False` en caso contrario.\n",
    "- Si queremos clasificar una imagen como uno de los posibles 9 dígitos, entonces en la posición $i$ tenemos el número que representa dicha observación. Podemos pensar esto como 10 posibles etiquetas.\n",
    "\n",
    "Ahora bien, sabemos que existen otras tareas, como por ejemplo hacer una regresión. Esto es, predecir un valor numérico en vez de una clase. Ahora vamos a definir cada una de estas tareas en el área de _Machine Learning_.\n",
    "\n",
    "### Posibles escenarios\n",
    "\n",
    "Primero vamos a introducir un poco de notación. Consideremos que queremos aprender un dataset que contiene $n$ _features_. Decimos que a cada _feature_ le corresponde un dominio $\\mathcal{F}_i$. Entonces, todo posible _input_ de nuestro modelo pertenecerá al conjunto $\\mathcal{X} = \\mathcal{F}_1 \\times \\dots \\times \\mathcal{F}_n$ conocido como _Input Space_ (espacio de _input_). Así, podemos afirmar que todas nuestras observaciones pertenecen a $\\mathcal{X}$, y las instancias desconocidas que vamos a querer predecir, también. **Ojo**, es importante notar que cada fila de algún supuesto dataset $X$ pertenece a $\\mathcal{X}$.\n",
    "\n",
    "En el ejemplo anterior, todas las features tenían un dominio $\\mathcal{F}_i$ que correspondía al conjunto de los reales en el intervalo $[0,1]$, y nuestro _Input Space_ serían todas las listas de largo 784 en donde en cada posición había un número real entre 0 y 1. Nosotros además sabemos que nuestros _inputs_ los podemos representar como imágenes.\n",
    "\n",
    "Ahora bien, nuestro espacio de _output_ (_Output Space_) corresponde a las posibles respuestas que podemos obtener con nuestro modelo. Por ejemplo en clasificación, si en nuestro dataset tenemos la lista $y$ de etiquetas, llamaremos $\\mathcal{C}$ al conjunto de todas las etiquetas. Así, sabemos que la respuesta para una instancia desconocida para el modelo, es alguna de las etiquetas en $\\mathcal{C}$.\n",
    "\n",
    "Ahora, como esta notación puede ser un poco confusa, recapitulemos los conceptos:\n",
    "\n",
    "- Tenemos un dataset que es una matriz $X$. Cada fila es una observación y cada columna es una _feature_.\n",
    "- Tenemos la etiqueta para cada observación en una lista $y$. El número de filas de $X$ es igual al largo de $y$.\n",
    "- El conjunto de las posibles clases se llama $\\mathcal{C}$. En clasificación este es el _Ouput Space_, pero veremos que para otras tareas no lo es.\n",
    "- Cada instancia de nuestro problema (sea una observación o una instancia desconocida) viene de un _Input Space_ llamado $\\mathcal{X}$.\n",
    "\n",
    "Como ya tenemos la notación, ahora vamos por los posibles escenarios a los que nos enfrentaremos."
   ]
  },
  {
   "cell_type": "markdown",
   "metadata": {},
   "source": [
    "La siguiente tabla resume los posibles escenarios (o tipos de problemas) más típicos del área.\n",
    "\n",
    "| Tarea | _Output Space_ | Problema de aprendizaje |\n",
    "|---|---|---|\n",
    "| Clasificación | Una clase perteneciente a $\\mathcal{C}$ | Encontrar una función $\\hat{c}: \\mathcal{X} \\rightarrow \\mathcal{C}$ que para una instancia desconocida, nos prediga su clase. |\n",
    "| Estimar probabilidad | Un vector $[0,1]^{\\mathcal{C}}$ en que la suma de sus elementos es 1 | Aprender una función que para una instancia desconocida, nos entregue una probabilidad asociada a cada clase |\n",
    "| Regresión | $\\mathbb{R}$ | Aprender una aproximación $f: \\mathcal{X} \\rightarrow \\mathbb{R}$ que para una instancia desconocida, nos prediga un número asociado.\n",
    "\n",
    "Quizás esta notación es un poco compleja, pero vamos a aterrizarla con un ejemplo. Considera el ejemplo de los dígitos escritos a mano. \n",
    "\n",
    "- Si hacemos un programa que reciba una imagen y nos dice que número es, estamos en el escenario de **clasificación**. - Si hacemos un programa que reciba una imagen y nos da la probabilidad de que sea 0, 1, 2, ..., 9, estamos en el escenario de **Estimar probabilidad**. Ojo que la suma de todas las probabilidades debe ser 1.\n",
    "\n",
    "En cuanto a la regresión, corresponde al escenario visto anteriormente: por ejemplo, predecir el valor de una vivienda en base a los metros cuadrados de la misma. Ojo que para la Regresión, la respuesta proviene de los números reales $\\mathbb{R}$ y no un conjunto de clases $\\mathcal{C}$."
   ]
  },
  {
   "cell_type": "markdown",
   "metadata": {},
   "source": [
    "## Clasificación binaria\n",
    "\n",
    "En el problema de clasificación binaria, nuestro espacio de output son dos clases, generalmente conocidas como positiva ($\\oplus$) y negativa ($\\ominus$). Entonces, vamos a retormar el ejemplo de la clase introductoria. Vamos a hacer un programa que clasifique una imagen del _dataset_ MNIST en \"es un 7\" (clase $\\oplus$) o en \"no es un 7\" (clase $\\ominus$)."
   ]
  },
  {
   "cell_type": "code",
   "execution_count": 2,
   "metadata": {},
   "outputs": [
    {
     "data": {
      "text/plain": [
       "dict_keys(['data', 'target', 'frame', 'categories', 'feature_names', 'target_names', 'DESCR', 'details', 'url'])"
      ]
     },
     "execution_count": 2,
     "metadata": {},
     "output_type": "execute_result"
    }
   ],
   "source": [
    "from sklearn.datasets import fetch_openml\n",
    "\n",
    "mnist = fetch_openml('mnist_784', version=1, as_frame=True)\n",
    "mnist.keys()"
   ]
  },
  {
   "cell_type": "code",
   "execution_count": 3,
   "metadata": {},
   "outputs": [],
   "source": [
    "X, y = mnist['data'], mnist['target']"
   ]
  },
  {
   "cell_type": "markdown",
   "metadata": {},
   "source": [
    "En la celda anterior cargamos los datos y las respuestas:"
   ]
  },
  {
   "cell_type": "code",
   "execution_count": 4,
   "metadata": {},
   "outputs": [
    {
     "data": {
      "text/html": [
       "<div>\n",
       "<style scoped>\n",
       "    .dataframe tbody tr th:only-of-type {\n",
       "        vertical-align: middle;\n",
       "    }\n",
       "\n",
       "    .dataframe tbody tr th {\n",
       "        vertical-align: top;\n",
       "    }\n",
       "\n",
       "    .dataframe thead th {\n",
       "        text-align: right;\n",
       "    }\n",
       "</style>\n",
       "<table border=\"1\" class=\"dataframe\">\n",
       "  <thead>\n",
       "    <tr style=\"text-align: right;\">\n",
       "      <th></th>\n",
       "      <th>pixel1</th>\n",
       "      <th>pixel2</th>\n",
       "      <th>pixel3</th>\n",
       "      <th>pixel4</th>\n",
       "      <th>pixel5</th>\n",
       "      <th>pixel6</th>\n",
       "      <th>pixel7</th>\n",
       "      <th>pixel8</th>\n",
       "      <th>pixel9</th>\n",
       "      <th>pixel10</th>\n",
       "      <th>...</th>\n",
       "      <th>pixel775</th>\n",
       "      <th>pixel776</th>\n",
       "      <th>pixel777</th>\n",
       "      <th>pixel778</th>\n",
       "      <th>pixel779</th>\n",
       "      <th>pixel780</th>\n",
       "      <th>pixel781</th>\n",
       "      <th>pixel782</th>\n",
       "      <th>pixel783</th>\n",
       "      <th>pixel784</th>\n",
       "    </tr>\n",
       "  </thead>\n",
       "  <tbody>\n",
       "    <tr>\n",
       "      <th>0</th>\n",
       "      <td>0.0</td>\n",
       "      <td>0.0</td>\n",
       "      <td>0.0</td>\n",
       "      <td>0.0</td>\n",
       "      <td>0.0</td>\n",
       "      <td>0.0</td>\n",
       "      <td>0.0</td>\n",
       "      <td>0.0</td>\n",
       "      <td>0.0</td>\n",
       "      <td>0.0</td>\n",
       "      <td>...</td>\n",
       "      <td>0.0</td>\n",
       "      <td>0.0</td>\n",
       "      <td>0.0</td>\n",
       "      <td>0.0</td>\n",
       "      <td>0.0</td>\n",
       "      <td>0.0</td>\n",
       "      <td>0.0</td>\n",
       "      <td>0.0</td>\n",
       "      <td>0.0</td>\n",
       "      <td>0.0</td>\n",
       "    </tr>\n",
       "    <tr>\n",
       "      <th>1</th>\n",
       "      <td>0.0</td>\n",
       "      <td>0.0</td>\n",
       "      <td>0.0</td>\n",
       "      <td>0.0</td>\n",
       "      <td>0.0</td>\n",
       "      <td>0.0</td>\n",
       "      <td>0.0</td>\n",
       "      <td>0.0</td>\n",
       "      <td>0.0</td>\n",
       "      <td>0.0</td>\n",
       "      <td>...</td>\n",
       "      <td>0.0</td>\n",
       "      <td>0.0</td>\n",
       "      <td>0.0</td>\n",
       "      <td>0.0</td>\n",
       "      <td>0.0</td>\n",
       "      <td>0.0</td>\n",
       "      <td>0.0</td>\n",
       "      <td>0.0</td>\n",
       "      <td>0.0</td>\n",
       "      <td>0.0</td>\n",
       "    </tr>\n",
       "    <tr>\n",
       "      <th>2</th>\n",
       "      <td>0.0</td>\n",
       "      <td>0.0</td>\n",
       "      <td>0.0</td>\n",
       "      <td>0.0</td>\n",
       "      <td>0.0</td>\n",
       "      <td>0.0</td>\n",
       "      <td>0.0</td>\n",
       "      <td>0.0</td>\n",
       "      <td>0.0</td>\n",
       "      <td>0.0</td>\n",
       "      <td>...</td>\n",
       "      <td>0.0</td>\n",
       "      <td>0.0</td>\n",
       "      <td>0.0</td>\n",
       "      <td>0.0</td>\n",
       "      <td>0.0</td>\n",
       "      <td>0.0</td>\n",
       "      <td>0.0</td>\n",
       "      <td>0.0</td>\n",
       "      <td>0.0</td>\n",
       "      <td>0.0</td>\n",
       "    </tr>\n",
       "    <tr>\n",
       "      <th>3</th>\n",
       "      <td>0.0</td>\n",
       "      <td>0.0</td>\n",
       "      <td>0.0</td>\n",
       "      <td>0.0</td>\n",
       "      <td>0.0</td>\n",
       "      <td>0.0</td>\n",
       "      <td>0.0</td>\n",
       "      <td>0.0</td>\n",
       "      <td>0.0</td>\n",
       "      <td>0.0</td>\n",
       "      <td>...</td>\n",
       "      <td>0.0</td>\n",
       "      <td>0.0</td>\n",
       "      <td>0.0</td>\n",
       "      <td>0.0</td>\n",
       "      <td>0.0</td>\n",
       "      <td>0.0</td>\n",
       "      <td>0.0</td>\n",
       "      <td>0.0</td>\n",
       "      <td>0.0</td>\n",
       "      <td>0.0</td>\n",
       "    </tr>\n",
       "    <tr>\n",
       "      <th>4</th>\n",
       "      <td>0.0</td>\n",
       "      <td>0.0</td>\n",
       "      <td>0.0</td>\n",
       "      <td>0.0</td>\n",
       "      <td>0.0</td>\n",
       "      <td>0.0</td>\n",
       "      <td>0.0</td>\n",
       "      <td>0.0</td>\n",
       "      <td>0.0</td>\n",
       "      <td>0.0</td>\n",
       "      <td>...</td>\n",
       "      <td>0.0</td>\n",
       "      <td>0.0</td>\n",
       "      <td>0.0</td>\n",
       "      <td>0.0</td>\n",
       "      <td>0.0</td>\n",
       "      <td>0.0</td>\n",
       "      <td>0.0</td>\n",
       "      <td>0.0</td>\n",
       "      <td>0.0</td>\n",
       "      <td>0.0</td>\n",
       "    </tr>\n",
       "    <tr>\n",
       "      <th>...</th>\n",
       "      <td>...</td>\n",
       "      <td>...</td>\n",
       "      <td>...</td>\n",
       "      <td>...</td>\n",
       "      <td>...</td>\n",
       "      <td>...</td>\n",
       "      <td>...</td>\n",
       "      <td>...</td>\n",
       "      <td>...</td>\n",
       "      <td>...</td>\n",
       "      <td>...</td>\n",
       "      <td>...</td>\n",
       "      <td>...</td>\n",
       "      <td>...</td>\n",
       "      <td>...</td>\n",
       "      <td>...</td>\n",
       "      <td>...</td>\n",
       "      <td>...</td>\n",
       "      <td>...</td>\n",
       "      <td>...</td>\n",
       "      <td>...</td>\n",
       "    </tr>\n",
       "    <tr>\n",
       "      <th>69995</th>\n",
       "      <td>0.0</td>\n",
       "      <td>0.0</td>\n",
       "      <td>0.0</td>\n",
       "      <td>0.0</td>\n",
       "      <td>0.0</td>\n",
       "      <td>0.0</td>\n",
       "      <td>0.0</td>\n",
       "      <td>0.0</td>\n",
       "      <td>0.0</td>\n",
       "      <td>0.0</td>\n",
       "      <td>...</td>\n",
       "      <td>0.0</td>\n",
       "      <td>0.0</td>\n",
       "      <td>0.0</td>\n",
       "      <td>0.0</td>\n",
       "      <td>0.0</td>\n",
       "      <td>0.0</td>\n",
       "      <td>0.0</td>\n",
       "      <td>0.0</td>\n",
       "      <td>0.0</td>\n",
       "      <td>0.0</td>\n",
       "    </tr>\n",
       "    <tr>\n",
       "      <th>69996</th>\n",
       "      <td>0.0</td>\n",
       "      <td>0.0</td>\n",
       "      <td>0.0</td>\n",
       "      <td>0.0</td>\n",
       "      <td>0.0</td>\n",
       "      <td>0.0</td>\n",
       "      <td>0.0</td>\n",
       "      <td>0.0</td>\n",
       "      <td>0.0</td>\n",
       "      <td>0.0</td>\n",
       "      <td>...</td>\n",
       "      <td>0.0</td>\n",
       "      <td>0.0</td>\n",
       "      <td>0.0</td>\n",
       "      <td>0.0</td>\n",
       "      <td>0.0</td>\n",
       "      <td>0.0</td>\n",
       "      <td>0.0</td>\n",
       "      <td>0.0</td>\n",
       "      <td>0.0</td>\n",
       "      <td>0.0</td>\n",
       "    </tr>\n",
       "    <tr>\n",
       "      <th>69997</th>\n",
       "      <td>0.0</td>\n",
       "      <td>0.0</td>\n",
       "      <td>0.0</td>\n",
       "      <td>0.0</td>\n",
       "      <td>0.0</td>\n",
       "      <td>0.0</td>\n",
       "      <td>0.0</td>\n",
       "      <td>0.0</td>\n",
       "      <td>0.0</td>\n",
       "      <td>0.0</td>\n",
       "      <td>...</td>\n",
       "      <td>0.0</td>\n",
       "      <td>0.0</td>\n",
       "      <td>0.0</td>\n",
       "      <td>0.0</td>\n",
       "      <td>0.0</td>\n",
       "      <td>0.0</td>\n",
       "      <td>0.0</td>\n",
       "      <td>0.0</td>\n",
       "      <td>0.0</td>\n",
       "      <td>0.0</td>\n",
       "    </tr>\n",
       "    <tr>\n",
       "      <th>69998</th>\n",
       "      <td>0.0</td>\n",
       "      <td>0.0</td>\n",
       "      <td>0.0</td>\n",
       "      <td>0.0</td>\n",
       "      <td>0.0</td>\n",
       "      <td>0.0</td>\n",
       "      <td>0.0</td>\n",
       "      <td>0.0</td>\n",
       "      <td>0.0</td>\n",
       "      <td>0.0</td>\n",
       "      <td>...</td>\n",
       "      <td>0.0</td>\n",
       "      <td>0.0</td>\n",
       "      <td>0.0</td>\n",
       "      <td>0.0</td>\n",
       "      <td>0.0</td>\n",
       "      <td>0.0</td>\n",
       "      <td>0.0</td>\n",
       "      <td>0.0</td>\n",
       "      <td>0.0</td>\n",
       "      <td>0.0</td>\n",
       "    </tr>\n",
       "    <tr>\n",
       "      <th>69999</th>\n",
       "      <td>0.0</td>\n",
       "      <td>0.0</td>\n",
       "      <td>0.0</td>\n",
       "      <td>0.0</td>\n",
       "      <td>0.0</td>\n",
       "      <td>0.0</td>\n",
       "      <td>0.0</td>\n",
       "      <td>0.0</td>\n",
       "      <td>0.0</td>\n",
       "      <td>0.0</td>\n",
       "      <td>...</td>\n",
       "      <td>0.0</td>\n",
       "      <td>0.0</td>\n",
       "      <td>0.0</td>\n",
       "      <td>0.0</td>\n",
       "      <td>0.0</td>\n",
       "      <td>0.0</td>\n",
       "      <td>0.0</td>\n",
       "      <td>0.0</td>\n",
       "      <td>0.0</td>\n",
       "      <td>0.0</td>\n",
       "    </tr>\n",
       "  </tbody>\n",
       "</table>\n",
       "<p>70000 rows × 784 columns</p>\n",
       "</div>"
      ],
      "text/plain": [
       "       pixel1  pixel2  pixel3  pixel4  pixel5  pixel6  pixel7  pixel8  pixel9  \\\n",
       "0         0.0     0.0     0.0     0.0     0.0     0.0     0.0     0.0     0.0   \n",
       "1         0.0     0.0     0.0     0.0     0.0     0.0     0.0     0.0     0.0   \n",
       "2         0.0     0.0     0.0     0.0     0.0     0.0     0.0     0.0     0.0   \n",
       "3         0.0     0.0     0.0     0.0     0.0     0.0     0.0     0.0     0.0   \n",
       "4         0.0     0.0     0.0     0.0     0.0     0.0     0.0     0.0     0.0   \n",
       "...       ...     ...     ...     ...     ...     ...     ...     ...     ...   \n",
       "69995     0.0     0.0     0.0     0.0     0.0     0.0     0.0     0.0     0.0   \n",
       "69996     0.0     0.0     0.0     0.0     0.0     0.0     0.0     0.0     0.0   \n",
       "69997     0.0     0.0     0.0     0.0     0.0     0.0     0.0     0.0     0.0   \n",
       "69998     0.0     0.0     0.0     0.0     0.0     0.0     0.0     0.0     0.0   \n",
       "69999     0.0     0.0     0.0     0.0     0.0     0.0     0.0     0.0     0.0   \n",
       "\n",
       "       pixel10  ...  pixel775  pixel776  pixel777  pixel778  pixel779  \\\n",
       "0          0.0  ...       0.0       0.0       0.0       0.0       0.0   \n",
       "1          0.0  ...       0.0       0.0       0.0       0.0       0.0   \n",
       "2          0.0  ...       0.0       0.0       0.0       0.0       0.0   \n",
       "3          0.0  ...       0.0       0.0       0.0       0.0       0.0   \n",
       "4          0.0  ...       0.0       0.0       0.0       0.0       0.0   \n",
       "...        ...  ...       ...       ...       ...       ...       ...   \n",
       "69995      0.0  ...       0.0       0.0       0.0       0.0       0.0   \n",
       "69996      0.0  ...       0.0       0.0       0.0       0.0       0.0   \n",
       "69997      0.0  ...       0.0       0.0       0.0       0.0       0.0   \n",
       "69998      0.0  ...       0.0       0.0       0.0       0.0       0.0   \n",
       "69999      0.0  ...       0.0       0.0       0.0       0.0       0.0   \n",
       "\n",
       "       pixel780  pixel781  pixel782  pixel783  pixel784  \n",
       "0           0.0       0.0       0.0       0.0       0.0  \n",
       "1           0.0       0.0       0.0       0.0       0.0  \n",
       "2           0.0       0.0       0.0       0.0       0.0  \n",
       "3           0.0       0.0       0.0       0.0       0.0  \n",
       "4           0.0       0.0       0.0       0.0       0.0  \n",
       "...         ...       ...       ...       ...       ...  \n",
       "69995       0.0       0.0       0.0       0.0       0.0  \n",
       "69996       0.0       0.0       0.0       0.0       0.0  \n",
       "69997       0.0       0.0       0.0       0.0       0.0  \n",
       "69998       0.0       0.0       0.0       0.0       0.0  \n",
       "69999       0.0       0.0       0.0       0.0       0.0  \n",
       "\n",
       "[70000 rows x 784 columns]"
      ]
     },
     "execution_count": 4,
     "metadata": {},
     "output_type": "execute_result"
    }
   ],
   "source": [
    "X"
   ]
  },
  {
   "cell_type": "code",
   "execution_count": 5,
   "metadata": {},
   "outputs": [
    {
     "data": {
      "text/plain": [
       "0        5\n",
       "1        0\n",
       "2        4\n",
       "3        1\n",
       "4        9\n",
       "        ..\n",
       "69995    2\n",
       "69996    3\n",
       "69997    4\n",
       "69998    5\n",
       "69999    6\n",
       "Name: class, Length: 70000, dtype: category\n",
       "Categories (10, object): ['0', '1', '2', '3', ..., '6', '7', '8', '9']"
      ]
     },
     "execution_count": 5,
     "metadata": {},
     "output_type": "execute_result"
    }
   ],
   "source": [
    "y"
   ]
  },
  {
   "cell_type": "markdown",
   "metadata": {},
   "source": [
    "Ahora vamos a importar un modelo para hacer clasificación. No entraremos en detalles de como funciona, pero tienes que saber que sigue el mismo patrón de lo que hicimos la clase pasada. Vamos a pasar los datos y las respuestas a la función `fit` para que el modelo aprenda y esté listo para predecir."
   ]
  },
  {
   "cell_type": "code",
   "execution_count": 6,
   "metadata": {},
   "outputs": [
    {
     "data": {
      "text/plain": [
       "SGDClassifier()"
      ]
     },
     "execution_count": 6,
     "metadata": {},
     "output_type": "execute_result"
    }
   ],
   "source": [
    "import numpy as np\n",
    "from sklearn.linear_model import SGDClassifier\n",
    "\n",
    "y = y.astype(np.uint8)\n",
    "\n",
    "# Por defecto en el dataset MNIST los primeros 60000 registros son de entrenamiento\n",
    "# Y lo que queda hacia adelante es de prueba\n",
    "X_train, X_test, y_train, y_test = X[:60000], X[60000:], y[:60000], y[60000:]\n",
    "\n",
    "# Generamos arreglos que sean True en las posiciones donde hay un 7\n",
    "y_train_7 = (y_train == 7)\n",
    "y_test_7 = (y_test == 7)\n",
    "\n",
    "# Modelo que vamos a entrenar\n",
    "sgd_clf = SGDClassifier()\n",
    "sgd_clf.fit(X_train, y_train_7)"
   ]
  },
  {
   "cell_type": "markdown",
   "metadata": {},
   "source": [
    "Aquí tenemos entrenado nuestro clasificador. Este está almacenado en la variable `sgd_clf`. Ahora bien, ¿qué tan bueno es nuestro clasificador? Primero mediremos el desempeño sobre el _dataset_ de prueba, para luego utilizar la técnica que aprendimos la clase pasada para medir el desempeño: cross-validation."
   ]
  },
  {
   "cell_type": "code",
   "execution_count": 15,
   "metadata": {},
   "outputs": [
    {
     "data": {
      "text/plain": [
       "0.9773"
      ]
     },
     "execution_count": 15,
     "metadata": {},
     "output_type": "execute_result"
    }
   ],
   "source": [
    "from sklearn.metrics import accuracy_score\n",
    "\n",
    "y_pred_7 = sgd_clf.predict(X_test)\n",
    "accuracy_score(y_test_7, y_pred_7)"
   ]
  },
  {
   "cell_type": "markdown",
   "metadata": {},
   "source": [
    "Recordemos que en la celda anterior estamos prediciendo con nuestro clasificador entrenado sobre el _dataset_ de prueba. Luego, estamos utilizando la función `accuracy_score`, a la que le pasamos las respuestas reales y nuestras predicciones. Luego nos dice el porcentaje de respuestas correctas en nuestras predicciones. Ahora vamos con _cross-validation_."
   ]
  },
  {
   "cell_type": "code",
   "execution_count": 16,
   "metadata": {},
   "outputs": [
    {
     "data": {
      "text/plain": [
       "array([0.9633, 0.979 , 0.975 ])"
      ]
     },
     "execution_count": 16,
     "metadata": {},
     "output_type": "execute_result"
    }
   ],
   "source": [
    "from sklearn.model_selection import cross_val_score\n",
    "\n",
    "cross_val_score(sgd_clf, X_train, y_train_7, cv=3, scoring='accuracy')"
   ]
  },
  {
   "cell_type": "markdown",
   "metadata": {},
   "source": [
    "Aquí estamos calculando cross-validation dividiendo el dataset en 3 partes. Cuando hicimos una regresión anteriormente, el valor era en base del error medio cuadrado. Ahora que estamos haciendo clasificación, esto no hace mucho sentido, por lo que lo que calculamos es el porcentaje de respuestas correctas. El valor es muy alto, ¡deberíamos estar felices!, pero ¿esta es realmente una buena medida para entender nuestro modelo? Vamos a discutir esto en la siguiente sección."
   ]
  },
  {
   "cell_type": "markdown",
   "metadata": {},
   "source": [
    "## Medidas de desempeño\n",
    "\n",
    "Vamos a hacer un ejercicio bastante sencillo. Vamos a hacer un clasificador que siempre nos diga que **no estamos viendo un 7** y vamos a medir su desempeño."
   ]
  },
  {
   "cell_type": "code",
   "execution_count": 10,
   "metadata": {},
   "outputs": [],
   "source": [
    "from sklearn.base import BaseEstimator\n",
    "\n",
    "# Aquí estamos creando nuestro propio predictor\n",
    "class Never7Classifier(BaseEstimator):\n",
    "    def fit(self, X, y=None):\n",
    "        pass\n",
    "    def predict(self, X):\n",
    "        return np.zeros((len(X), 1), dtype=bool)"
   ]
  },
  {
   "cell_type": "markdown",
   "metadata": {},
   "source": [
    "En el ejemplo anterior estamos definiendo nuestro propio modelo, que contesta `False` siempre. Vemos además que es muy fácil hacer nuestros propios clasificadores. \n",
    "\n",
    "Ahora bien, antes de continuar, ¿puedes adivinar el desempeño que va a tener este clasificador?"
   ]
  },
  {
   "cell_type": "code",
   "execution_count": 17,
   "metadata": {},
   "outputs": [
    {
     "data": {
      "text/plain": [
       "0.8972"
      ]
     },
     "execution_count": 17,
     "metadata": {},
     "output_type": "execute_result"
    }
   ],
   "source": [
    "n7_clf = Never7Classifier()\n",
    "n7_clf.fit(X_train, y_train_7)\n",
    "\n",
    "y_pred_n7 = n7_clf.predict(X_test)\n",
    "\n",
    "accuracy_score(y_test_7, y_pred_n7)"
   ]
  },
  {
   "cell_type": "markdown",
   "metadata": {},
   "source": [
    "Así es, cerca de 90% para un muy mal clasificador. Esto no nos sorprende, porque cerca del 10% de los elementos del dataset son un 7. Esto nos muestra por qué _Accuracy_ no es una buena medida de desempeño, especialmente cuando algunas clases aparecen poco: un clasificador que nunca prediga esas clases se debería comportar siempre relativamente bien. Por lo mismo, vamos a medir el desempeño de una mucho mejor forma: la matriz de confusión (_Confusion Matrix_).\n",
    "\n",
    "### Matriz de confusión\n",
    "\n",
    "En una matriz de confusión tenemos una fila que representa la clase que estamos analizando y una columna para cada clase predicha para las instancias de la fila. Veamos cómo se ve en nuestro ejemplo."
   ]
  },
  {
   "cell_type": "markdown",
   "metadata": {},
   "source": [
    "Vamos ahora por la matriz de confusión."
   ]
  },
  {
   "cell_type": "code",
   "execution_count": 19,
   "metadata": {},
   "outputs": [
    {
     "data": {
      "text/plain": [
       "array([[8816,  156],\n",
       "       [  71,  957]])"
      ]
     },
     "execution_count": 19,
     "metadata": {},
     "output_type": "execute_result"
    }
   ],
   "source": [
    "from sklearn.metrics import confusion_matrix\n",
    "\n",
    "confusion_matrix(y_test_7, y_pred_7)"
   ]
  },
  {
   "cell_type": "markdown",
   "metadata": {},
   "source": [
    "¿Cómo se le esta matriz? La podemos leer como indica la siguiente tabla:\n",
    "\n",
    "| | **Predije que no era 7** (Predije Clase Negativa)| **Predije que era un 7** (Predije Clase Positiva)|\n",
    "|---|---|---|\n",
    "| **No era un 7** (Clase Negativa) | _True Negative_ | _False Positive_ |\n",
    "| **Era un 7** (Clase Positiva) | _False Negative_ | _True Positive_ | "
   ]
  },
  {
   "cell_type": "markdown",
   "metadata": {},
   "source": [
    "Recordemos que la clase 0 significa \"no es 7\", y la clase 1 significa \"es un 7\". Así que la fila 0 nos dice que 8816 instancias que tenían la clase 0, fueron clasificadas como clase 0, mientras que 156 instancias de clase 0 fueron clasificadas como clase 1. Mientras tanto, la fila 1 nos dice que 71 instancias que eran de la clase 1 fueron clasificadas como clase 0 y 957 instancias de clase 1 fueron clasificadas correctamente. Vamos ahora cómo se comporta nuestro clasificador que siempre responde **No es un 7**."
   ]
  },
  {
   "cell_type": "code",
   "execution_count": 22,
   "metadata": {},
   "outputs": [
    {
     "data": {
      "text/plain": [
       "array([[8972,    0],\n",
       "       [1028,    0]])"
      ]
     },
     "execution_count": 22,
     "metadata": {},
     "output_type": "execute_result"
    }
   ],
   "source": [
    "confusion_matrix(y_test_7, y_pred_n7)"
   ]
  },
  {
   "cell_type": "markdown",
   "metadata": {},
   "source": [
    "Como es de esperar, acerto en todos las instancias que no son 7, y se equivocó en todas las que son 7. Así, un clasificador perfecto tiene números  solamente en la diagonal, y en todos los demás casilleros hay 0s. Gracias a la matriz de confusión, tenemos una medida objetiva de que este modelo es malo, a pesar de su buen _accuracy_."
   ]
  },
  {
   "cell_type": "markdown",
   "metadata": {},
   "source": [
    "### _Precision_ y _Recall_\n",
    "\n",
    "Si bien la matriz de confusión nos entrega varios valores (si tenemos más clases son muchas más filas y columnas!) a veces queremos algo más concreto. Dos medidas bastante famosas son _Precision_ y _Recall_. Vamos a presentarlas a continuación.\n",
    "\n",
    "\n",
    "$$\n",
    "\\text{precision} = \\frac{TP}{TP + FP}\n",
    "$$\n",
    "\n",
    "$$\n",
    "\\text{recall} = \\frac{TP}{TP + FN}\n",
    "$$\n",
    "\n",
    "En donde $TP$ son los verdaderos positivos (_True Possitive_), $FP$ son los falsos positivos (_False Possitives_) y $FN$ los falsos negativos (_False Negatives_).\n",
    "\n",
    "Para entender mejor de que se trata esto, centrémonos en el ejemplo:\n",
    "\n",
    "- Un modelo de alta precisión está seguro de sus respuestas. En nuestro ejemplo, cada vez que el modelo diga que una imagen es un 7, si su precisión es alta, es porque está muy seguro de esto. Es decir, cada vez que clasifica algo de clase positiva, hay una alta probabilidad de que esté en lo correcto.\n",
    "- Un modelo de alto _recall_ tiende a capturar la mayoría de los elementos de la clase positiva. En nuestro ejemplo, un modelo de alto _recall_ tendería a encontrar la mayoría de las imágenes que representan al número 7.\n",
    "\n",
    "¿Por qué necesitamos dos valores? La respuesta la podemos entender con el siguiente ejemplo: supón que tenemos un modelo que solamente clasifica un elemento de forma correcta, pero está muy seguro de lo que hace. Así, los falsos positivos serán 0 y la precisión será $1/1$, que equivale al 100%. Así podemos entender la precisión como **cuando digo que algo es de una clase, qué porcentaje de las veces estoy en lo correcto** y el _recall_ como **de los positivos que existen, cuantos estoy detectando**. Veamos esta medida en nuestro clasificador de 7s."
   ]
  },
  {
   "cell_type": "code",
   "execution_count": 25,
   "metadata": {},
   "outputs": [
    {
     "data": {
      "text/plain": [
       "0.8598382749326146"
      ]
     },
     "execution_count": 25,
     "metadata": {},
     "output_type": "execute_result"
    }
   ],
   "source": [
    "from sklearn.metrics import precision_score, recall_score, f1_score\n",
    "\n",
    "precision_score(y_test_7, y_pred_7)"
   ]
  },
  {
   "cell_type": "code",
   "execution_count": 26,
   "metadata": {},
   "outputs": [
    {
     "data": {
      "text/plain": [
       "0.9309338521400778"
      ]
     },
     "execution_count": 26,
     "metadata": {},
     "output_type": "execute_result"
    }
   ],
   "source": [
    "recall_score(y_test_7, y_pred_7)"
   ]
  },
  {
   "cell_type": "markdown",
   "metadata": {},
   "source": [
    "Así, vemos que nuestro clasificador no está \"realmente seguro\" cuando dice que algo es un 7, mientras que sí detecta la mayoría de los 7. También existe otro puntaje en el que no vamos a hacer énfasis, pero es el $F_1$ _score_, que es la media armónica entre _Precision_ y _Recall_:\n",
    "\n",
    "$$\n",
    "F_1 = 2 \\times \\frac{\\text{precision} \\times \\text{recall}}{\\text{precision} + \\text{recall}}\n",
    "$$"
   ]
  },
  {
   "cell_type": "code",
   "execution_count": 27,
   "metadata": {},
   "outputs": [
    {
     "data": {
      "text/plain": [
       "0.8939747781410555"
      ]
     },
     "execution_count": 27,
     "metadata": {},
     "output_type": "execute_result"
    }
   ],
   "source": [
    "f1_score(y_test_7, y_pred_7)"
   ]
  },
  {
   "cell_type": "markdown",
   "metadata": {},
   "source": [
    "Que es una medida que beneficia a modelos con precisión y _recall_ similares. Pero a veces queremos modelos que beneficien la precisión o el _recall_. Pensemos en los siguientes casos:\n",
    "\n",
    "- Queremos hacer un modelo que nos diga si ciertos medicamentos son seguros para la salud. Aquí nos interesa estar realmente seguros de si un medicamento es clasificado como seguro (positivo), a pesar de que podamos tener muchos falsos negativos. Aquí queremos altra precisión, a un costo de bajo _recall_.\n",
    "- Queremos hacer un modelo que recomiende canciones a alguien. Quizás no nos importa equivocarnos a cambio de que todas las posibles canciones que le gustan a la persona sean recomendadas. Aquí tendremos varios falsos positivos, por lo que habrá una baja precisión, pero tendremos un alto _recall_, porque el objetivo era tener pocos falsos negativos."
   ]
  },
  {
   "cell_type": "markdown",
   "metadata": {},
   "source": [
    "## Clasificación multiclase\n",
    "\n",
    "Supongamos que ahora no queremos saber si algo es o no es un 7, sino que queremos saber qué número es. Con lo que sabemos hasta ahora, ¿cómo lo podemos hacer?\n",
    "\n",
    "Una opción es crear un clasificador de 0s, de 1s, ..., de 8s y de 9s. Luego para clasificar, nos quedamos con el número representado por el clasificador que como output entregue el mayor puntaje. Esta estrategia se llama _one-versus-the-rest_ (OvR).\n",
    "\n",
    "La otra opción es entrenar un clasificador binario para cada par de dígitos. Esto sería, un comparador de 0s con 1s, de 1s con 2s, y así sucesivamente. Luego nos quedamos con el dígito que haya ganado la mayor cantidad de \"duelos\". Esta estrategia, si tenemos $N$ clases, implica entrenar $N \\times (N - 1) / 2$. Esto para MNIST implica entrenar ¡45 clasificadores! aunque a su vez, cada clasificador se entrena con el subconjunto de imágenes que se enfrentan.\n",
    "\n",
    "Igual es importante saber que hay modelos que son multiclase de forma nativa y la estrategia anterior es solo para los modelos que no la soportan nativamente. En general, preferimos OvR cuando cuando el modelo escala bien respecto al tamaño del conjunto de entrenamiento, mientras que el OvO se utiliza cuando el entrenamiento no funciona bien para muchos datos.\n",
    "\n",
    "La librería `Scikit Learn` entiende cuando uno quiere hacer una clasificación multiclase y por debajo toma la mejor decisión. Vamos a ver un ejemplo con el _dataset_ MNIST. En este caso usaremos un modelo llamado `Support Vector Machine` para clasificar. Si bien no explicaremos cómo funciona en detalle, basta con que sepas que la interfaz `fit` y `predict` no cambia."
   ]
  },
  {
   "cell_type": "code",
   "execution_count": 28,
   "metadata": {},
   "outputs": [
    {
     "data": {
      "text/plain": [
       "SVC()"
      ]
     },
     "execution_count": 28,
     "metadata": {},
     "output_type": "execute_result"
    }
   ],
   "source": [
    "from sklearn.svm import SVC\n",
    "\n",
    "# Ojo, esto puede demorarse un poco\n",
    "svm_clf = SVC()\n",
    "svm_clf.fit(X_train, y_train)"
   ]
  },
  {
   "cell_type": "markdown",
   "metadata": {},
   "source": [
    "Vamos a tomar el primer dígito el _dataset_ de prueba."
   ]
  },
  {
   "cell_type": "code",
   "execution_count": 29,
   "metadata": {},
   "outputs": [
    {
     "data": {
      "image/png": "[encoded data removed]",
      "text/plain": [
       "<Figure size 432x288 with 1 Axes>"
      ]
     },
     "metadata": {
      "needs_background": "light"
     },
     "output_type": "display_data"
    }
   ],
   "source": [
    "import matplotlib as mpl\n",
    "import matplotlib.pyplot as plt\n",
    "\n",
    "some_digit = X_test.iloc[0]\n",
    "some_digit_image = some_digit.values.reshape(28, 28)\n",
    "\n",
    "plt.imshow(some_digit_image, cmap='binary')\n",
    "plt.axis('off')\n",
    "plt.show()"
   ]
  },
  {
   "cell_type": "code",
   "execution_count": 30,
   "metadata": {},
   "outputs": [
    {
     "data": {
      "text/plain": [
       "array([7], dtype=uint8)"
      ]
     },
     "execution_count": 30,
     "metadata": {},
     "output_type": "execute_result"
    }
   ],
   "source": [
    "svm_clf.predict([some_digit])"
   ]
  },
  {
   "cell_type": "markdown",
   "metadata": {},
   "source": [
    "Veamos las clases que detectó el modelo"
   ]
  },
  {
   "cell_type": "code",
   "execution_count": 31,
   "metadata": {},
   "outputs": [
    {
     "data": {
      "text/plain": [
       "array([0, 1, 2, 3, 4, 5, 6, 7, 8, 9], dtype=uint8)"
      ]
     },
     "execution_count": 31,
     "metadata": {},
     "output_type": "execute_result"
    }
   ],
   "source": [
    "svm_clf.classes_"
   ]
  },
  {
   "cell_type": "markdown",
   "metadata": {},
   "source": [
    "**Ojo**: si queremos entrenar un `SGDClassifier`, podemos hacerlo de la misma forma."
   ]
  },
  {
   "cell_type": "code",
   "execution_count": 32,
   "metadata": {},
   "outputs": [
    {
     "data": {
      "text/plain": [
       "array([7], dtype=uint8)"
      ]
     },
     "execution_count": 32,
     "metadata": {},
     "output_type": "execute_result"
    }
   ],
   "source": [
    "sgd_clf.fit(X_train, y_train)\n",
    "sgd_clf.predict([some_digit])"
   ]
  },
  {
   "cell_type": "markdown",
   "metadata": {},
   "source": [
    "Ahora vamos a evaluar nuestro modelo con _cross-validation_. Es un buen ejercicio que te detengas y pienses que significa hacer _cross-validation_ en este caso."
   ]
  },
  {
   "cell_type": "code",
   "execution_count": 33,
   "metadata": {},
   "outputs": [
    {
     "data": {
      "text/plain": [
       "array([0.85150424, 0.87669824, 0.84558351])"
      ]
     },
     "execution_count": 33,
     "metadata": {},
     "output_type": "execute_result"
    }
   ],
   "source": [
    "cross_val_score(sgd_clf, X, y, cv=3, scoring='accuracy')"
   ]
  },
  {
   "cell_type": "markdown",
   "metadata": {},
   "source": [
    "Estos son muy buenos puntajes, porque en este caso un clasificador _random_ tendría cerca del 10% de _accuracy_. Sin embargo, es una buena idea revisar la matriz de confusión para este escenario."
   ]
  },
  {
   "cell_type": "code",
   "execution_count": 36,
   "metadata": {},
   "outputs": [
    {
     "data": {
      "text/plain": [
       "array([[6605,    1,   95,   14,   13,   44,   26,   10,   77,   18],\n",
       "       [   2, 7483,  145,   36,    8,   63,   12,   25,   91,   12],\n",
       "       [  39,   37, 6385,   87,   67,   49,   54,   90,  170,   12],\n",
       "       [  35,   14,  490, 5908,   14,  234,   26,   82,  248,   90],\n",
       "       [  14,   19,   89,   20, 6106,   30,   30,   44,   99,  373],\n",
       "       [  88,   19,  122,  364,  101, 5005,  101,   28,  358,  127],\n",
       "       [  66,   10,  278,   11,   55,  194, 6139,    5,  113,    5],\n",
       "       [  31,   20,  187,   37,   82,   22,    4, 6432,   41,  437],\n",
       "       [  53,   78,  508,  240,   79,  362,   45,   65, 5203,  192],\n",
       "       [  46,   22,   80,  124,  362,  112,    1,  629,  182, 5400]])"
      ]
     },
     "execution_count": 36,
     "metadata": {},
     "output_type": "execute_result"
    }
   ],
   "source": [
    "from sklearn.model_selection import cross_val_predict\n",
    "\n",
    "y_train_pred = cross_val_predict(sgd_clf, X, y, cv=3)\n",
    "conf_mx = confusion_matrix(y, y_train_pred)\n",
    "conf_mx"
   ]
  },
  {
   "cell_type": "markdown",
   "metadata": {},
   "source": [
    "Ahora bien, dado que tenemos muchos números, lo mejor es ver esto como una imagen. En esta imagen en escala de grises veremos para cada fila el número de instancias que son del número representado por esa clasificadas en cada columna. Mientras más instancias caen en un determinado casillero, más blanco el casillero. El casillero con el menor valor se lleva el color negro, y el de mayor valor el color blanco."
   ]
  },
  {
   "cell_type": "code",
   "execution_count": 37,
   "metadata": {},
   "outputs": [
    {
     "data": {
      "image/png": "[encoded data removed]",
      "text/plain": [
       "<Figure size 288x288 with 1 Axes>"
      ]
     },
     "metadata": {
      "needs_background": "light"
     },
     "output_type": "display_data"
    }
   ],
   "source": [
    "plt.matshow(conf_mx, cmap=plt.cm.gray)\n",
    "plt.show()"
   ]
  },
  {
   "cell_type": "markdown",
   "metadata": {},
   "source": [
    "Ahora nos queremos concentrar en los errores, así que vamos a hacer lo siguiente:\n",
    "\n",
    "- Primero, vamos a setear en 0 la diagonal para que no nos entregue ruido.\n",
    "- Segundo, vamos a normalizar cada fila. Esto es sumar los valores de cada fila, y dividir todos los elementos de esa fila por el valor. Esto se hace porque una clase muy grande se puede ver mal en comparación a otras, pero si lo miramos como _ratio_, puede no ser así."
   ]
  },
  {
   "cell_type": "code",
   "execution_count": 38,
   "metadata": {},
   "outputs": [],
   "source": [
    "row_sums = conf_mx.sum(axis=1, keepdims=True)\n",
    "norm_conf_mx = conf_mx / row_sums"
   ]
  },
  {
   "cell_type": "code",
   "execution_count": 39,
   "metadata": {},
   "outputs": [
    {
     "data": {
      "image/png": "[encoded data removed]",
      "text/plain": [
       "<Figure size 288x288 with 1 Axes>"
      ]
     },
     "metadata": {
      "needs_background": "light"
     },
     "output_type": "display_data"
    }
   ],
   "source": [
    "np.fill_diagonal(norm_conf_mx, 0)\n",
    "plt.matshow(norm_conf_mx, cmap=plt.cm.gray)\n",
    "plt.show()"
   ]
  },
  {
   "cell_type": "markdown",
   "metadata": {},
   "source": [
    "Aquí podemos ver que la principal fuente de errores es el número 8. El hecho de que esta columna esté más clara es que muchas instancias de otros números caen clasificadas erróneamentes ahí, principalmente instancias del número 5."
   ]
  },
  {
   "cell_type": "markdown",
   "metadata": {},
   "source": [
    "## Bonus: más sobre medidas de desempeño\n",
    "\n",
    "### _Trade-off_ entre precisión y _recall_\n",
    "\n",
    "Para esta parte volvamos al ejemplo original: el clasificador de 7s. Primero, vamos a tomar de nuevo la primera imagen de nuestro dataset, porque vamos a hacer unas pruebas con ella."
   ]
  },
  {
   "cell_type": "code",
   "execution_count": 40,
   "metadata": {},
   "outputs": [
    {
     "data": {
      "image/png": "[encoded data removed]",
      "text/plain": [
       "<Figure size 432x288 with 1 Axes>"
      ]
     },
     "metadata": {
      "needs_background": "light"
     },
     "output_type": "display_data"
    }
   ],
   "source": [
    "import matplotlib as mpl\n",
    "import matplotlib.pyplot as plt\n",
    "\n",
    "some_digit = X_test.iloc[0]\n",
    "some_digit_image = some_digit.values.reshape(28, 28)\n",
    "\n",
    "plt.imshow(some_digit_image, cmap='binary')\n",
    "plt.axis('off')\n",
    "plt.show()"
   ]
  },
  {
   "cell_type": "code",
   "execution_count": 56,
   "metadata": {},
   "outputs": [
    {
     "data": {
      "text/plain": [
       "SGDClassifier()"
      ]
     },
     "execution_count": 56,
     "metadata": {},
     "output_type": "execute_result"
    }
   ],
   "source": [
    "import numpy as np\n",
    "from sklearn.linear_model import SGDClassifier\n",
    "\n",
    "y_7 = (y == 7)\n",
    "\n",
    "# Modelo que vamos a entrenar\n",
    "sgd_clf = SGDClassifier()\n",
    "sgd_clf.fit(X_train, y_train_7)"
   ]
  },
  {
   "cell_type": "markdown",
   "metadata": {},
   "source": [
    "Tenemos una imagen que es un 7. Ahora vamos a entender cómo clasifica por debajo nuestro modelo `sgd_clf`. En realidad, lo que hacemos es tener una función de decisión que nos da un puntaje, y si el puntaje es mayor que 0, entonces se clasifica como positiva, y negativa en caso contrario."
   ]
  },
  {
   "cell_type": "code",
   "execution_count": 57,
   "metadata": {},
   "outputs": [
    {
     "data": {
      "text/plain": [
       "array([6404.55302549])"
      ]
     },
     "execution_count": 57,
     "metadata": {},
     "output_type": "execute_result"
    }
   ],
   "source": [
    "y_scores = sgd_clf.decision_function([some_digit])\n",
    "y_scores"
   ]
  },
  {
   "cell_type": "markdown",
   "metadata": {},
   "source": [
    "Ahora vamos a ver cómo varía nuestra decisión a medida que cambiamos el treeshold, originalmente en 0."
   ]
  },
  {
   "cell_type": "code",
   "execution_count": 58,
   "metadata": {},
   "outputs": [
    {
     "data": {
      "application/vnd.jupyter.widget-view+json": {
       "model_id": "024c621bb09f49c7a8d3511315fde0ec",
       "version_major": 2,
       "version_minor": 0
      },
      "text/plain": [
       "IntSlider(value=0, max=10000)"
      ]
     },
     "metadata": {},
     "output_type": "display_data"
    }
   ],
   "source": [
    "import ipywidgets as widgets\n",
    "from IPython.display import display\n",
    "\n",
    "# Para hacerlo más elegante, lo haremos con un widget\n",
    "threshold = widgets.IntSlider(min=0, max=10000)\n",
    "display(threshold)"
   ]
  },
  {
   "cell_type": "code",
   "execution_count": 59,
   "metadata": {},
   "outputs": [
    {
     "data": {
      "text/plain": [
       "array([ True])"
      ]
     },
     "execution_count": 59,
     "metadata": {},
     "output_type": "execute_result"
    }
   ],
   "source": [
    "y_some_digit_pred = (y_scores > threshold.value)\n",
    "y_some_digit_pred"
   ]
  },
  {
   "cell_type": "markdown",
   "metadata": {},
   "source": [
    "Como vemos, al superar un dígito relativamente elevado, vamos a predecir que nuestra imagen no es un 7. Por ende, estamos reduciendo el _recall_ cuando aumentamos el threshold porque de los 7s existentes, capturamos menos de ellos. A cambio, el modelo \"está más seguro de lo que dice\", por ende se aumenta la precisión.\n",
    "\n",
    "Ahora lo que haremos será generar una curva que nos muestra la precisión y el _recall_ a medida que variamos el threshold."
   ]
  },
  {
   "cell_type": "code",
   "execution_count": 60,
   "metadata": {},
   "outputs": [],
   "source": [
    "from sklearn.metrics import precision_recall_curve\n",
    "\n",
    "# Ahora retornamos nuestra función de decisión que asigna el puntaje\n",
    "y_scores = cross_val_predict(sgd_clf, X, y_7, cv=3, method='decision_function')\n",
    "\n",
    "# Thresholds tiene un casillero menos que precisions y recalls\n",
    "precisions, recalls, thresholds = precision_recall_curve(y_7, y_scores)\n",
    "\n",
    "def plot_precision_recall_vs_threshold(precisions, recalls, thresholds):\n",
    "    plt.plot(thresholds, precisions[:-1], 'b--', label='Precision')\n",
    "    plt.plot(thresholds, recalls[:-1], 'g-', label='Recall')\n",
    "    plt.legend(loc=\"center right\", fontsize=16) # Not shown in the book"
   ]
  },
  {
   "cell_type": "code",
   "execution_count": 61,
   "metadata": {},
   "outputs": [
    {
     "data": {
      "image/png": "[encoded data removed]",
      "text/plain": [
       "<Figure size 432x288 with 1 Axes>"
      ]
     },
     "metadata": {
      "needs_background": "light"
     },
     "output_type": "display_data"
    }
   ],
   "source": [
    "plot_precision_recall_vs_threshold(precisions, recalls, thresholds)\n",
    "plt.show()"
   ]
  },
  {
   "cell_type": "markdown",
   "metadata": {},
   "source": [
    "Así podemos entender cómo cambia la evaluación a medida que cambia el threshold. Es un buen ejercicio entender cómo es esta curva para otros de los dígitos. ¿Se comportarán todos iguales?\n",
    "\n",
    "Además, esta curva nos permite saber cuál es el valor del threshold para obtener determinada precisión o _recall_. Por ejemplo, si queremos una precisión del 90%, nos gustaría tener el mínimo valor del threshold para lograr esto. Esto lo podemos hacer con la función `np.argmax`, a la que le pasamos una lista con una condición y nos entrega el primer índice que cumple esa condición."
   ]
  },
  {
   "cell_type": "code",
   "execution_count": 62,
   "metadata": {},
   "outputs": [
    {
     "data": {
      "text/plain": [
       "55105"
      ]
     },
     "execution_count": 62,
     "metadata": {},
     "output_type": "execute_result"
    }
   ],
   "source": [
    "np.argmax(precisions >= 0.9)"
   ]
  },
  {
   "cell_type": "markdown",
   "metadata": {},
   "source": [
    "Así, en esta posición, se comienza a cumplir el criterio, ahora vamos a buscar al arreglo de thresholds el valor en esta posición."
   ]
  },
  {
   "cell_type": "code",
   "execution_count": 63,
   "metadata": {},
   "outputs": [
    {
     "data": {
      "text/plain": [
       "-1391.7067033800583"
      ]
     },
     "execution_count": 63,
     "metadata": {},
     "output_type": "execute_result"
    }
   ],
   "source": [
    "thresholds[np.argmax(precisions >= 0.9)]"
   ]
  },
  {
   "cell_type": "markdown",
   "metadata": {},
   "source": [
    "Aquí tenemos el threshold que buscábamos. Ahora para predecir con precisión >= 90% podemos hacer lo siguiente:"
   ]
  },
  {
   "cell_type": "code",
   "execution_count": 64,
   "metadata": {},
   "outputs": [],
   "source": [
    "thresholds_90 = thresholds[np.argmax(precisions >= 0.9)]\n",
    "y_pred_90 = y_scores >= thresholds_90"
   ]
  },
  {
   "cell_type": "markdown",
   "metadata": {},
   "source": [
    "Veamos la precisión y el _recall_ en estos casos."
   ]
  },
  {
   "cell_type": "code",
   "execution_count": 67,
   "metadata": {},
   "outputs": [
    {
     "data": {
      "text/plain": [
       "0.9000563856780378"
      ]
     },
     "execution_count": 67,
     "metadata": {},
     "output_type": "execute_result"
    }
   ],
   "source": [
    "precision_score(y_7, y_pred_90)"
   ]
  },
  {
   "cell_type": "code",
   "execution_count": 69,
   "metadata": {},
   "outputs": [
    {
     "data": {
      "text/plain": [
       "0.8754970519676402"
      ]
     },
     "execution_count": 69,
     "metadata": {},
     "output_type": "execute_result"
    }
   ],
   "source": [
    "recall_score(y_7, y_pred_90)"
   ]
  },
  {
   "cell_type": "markdown",
   "metadata": {},
   "source": [
    "Lo que acabamos de hacer es muy importante: podemos ajustar nuestros modelos según nuestras necesidades. Distintos problemas requieren poner atención a ciertas partes por sobre otras. Ahora vamos a medir una última medida de desempeño, que es la curva ROC."
   ]
  },
  {
   "cell_type": "markdown",
   "metadata": {},
   "source": [
    "### La curva ROC\n",
    "\n",
    "La curva ROC (por sus siglas en inglés, _receiver operating characteristic_) es una herramientra utilizada para medir el desempeño de clasificadores binarios. Esta curva grafica la tasa de verdaderos positivos (que vendría a ser el _recall_) en función de la tasa de falsos positivos ($FPR$ de _False Positive rate_). Esto vendría a ser:\n",
    "\n",
    "$$\n",
    "FPR = \\frac{FP}{TN + FP}\n",
    "$$\n",
    "\n",
    "Y recordemos que:\n",
    "\n",
    "$$\n",
    "\\text{recall} = TPR = \\frac{TP}{TP + FN}\n",
    "$$\n",
    "\n",
    "Donde $FP$ son los falsos positivos y $TN$ vendrían a ser los falsos negativos. Intuitivamente, si el _recall_ incrementa, el costo es tener más falsos positivos. Si lo pensamos de una nueva forma tenemos que:\n",
    "\n",
    "- La tasa de verdaderos positivos es el porcentaje de las instancias realmente positivas en las que yo digo (correctamente) que son positivas.\n",
    "- La tasa de falsos positivos es el porcentaje de las instancias realmente negativas en las que yo digo (incorrectamente) que son positivas.\n",
    "\n",
    "Vamos ahora a graficar la curva."
   ]
  },
  {
   "cell_type": "code",
   "execution_count": 71,
   "metadata": {},
   "outputs": [
    {
     "data": {
      "image/png": "[encoded data removed]",
      "text/plain": [
       "<Figure size 432x288 with 1 Axes>"
      ]
     },
     "metadata": {
      "needs_background": "light"
     },
     "output_type": "display_data"
    }
   ],
   "source": [
    "from sklearn.metrics import roc_curve\n",
    "\n",
    "fpr, tpr, thresholds = roc_curve(y_7, y_scores)\n",
    "\n",
    "def plot_roc_curve(fpr, tpr, label=None):\n",
    "    plt.plot(fpr, tpr, linewidth=2, label=label)\n",
    "    plt.plot([0, 1], [0, 1], 'k--')\n",
    "    plt.xlabel('FPR', fontsize=16)\n",
    "    plt.ylabel('TPR', fontsize=16) \n",
    "    \n",
    "plot_roc_curve(fpr, tpr)\n",
    "plt.show()"
   ]
  },
  {
   "cell_type": "markdown",
   "metadata": {},
   "source": [
    "Aquí por debajo lo que está variando es el treshold, entonces para cada treshold, vamos viendo los puntos $(FPR, TPR)$. Una buena forma de entender esto es que nos interesa tener un clasificador que para una baja tasa de falsos positivos, tenga una alta tasa de verdaderos positivos. Así, si el área bajo la curva es cercana a uno, tendremos un buen clasificador. Podemos calcular esto rápido con `scikit_learn`. **Observación**: un clasificador puramente aleatorio, debería tener un área bajo la curva de 0.5."
   ]
  },
  {
   "cell_type": "code",
   "execution_count": 73,
   "metadata": {},
   "outputs": [
    {
     "data": {
      "text/plain": [
       "0.9854333471811209"
      ]
     },
     "execution_count": 73,
     "metadata": {},
     "output_type": "execute_result"
    }
   ],
   "source": [
    "from sklearn.metrics import roc_auc_score\n",
    "\n",
    "# AUC = Area under the curve\n",
    "roc_auc_score(y_7, y_scores)"
   ]
  },
  {
   "cell_type": "markdown",
   "metadata": {},
   "source": [
    "Con esto, sabemos que es un buen clasificador."
   ]
  },
  {
   "cell_type": "markdown",
   "metadata": {},
   "source": [
    "## Palabras al cierre\n",
    "\n",
    "En este _notebook_ aprendimos a utilizar y evaluar modelos de clasificación. Recuerda que para tener un mejor entendimiento, tienes que entender cómo funciona cada modelo y también entender cada una de las métricas. Es importante entender bien si el modelo está funcionando bien o mal, ya que muchas veces uno puede caer en la tentación de creer que algo funciona bien porque el _accuracy_ era alto. Sin embargo, debemos ir más allá para estar realmente seguros de que nuestro modelo se comporta como esperamos."
   ]
  },
  {
   "cell_type": "code",
   "execution_count": null,
   "metadata": {},
   "outputs": [],
   "source": []
  }
 ],
 "metadata": {
  "kernelspec": {
   "display_name": "Python 3",
   "language": "python",
   "name": "python3"
  },
  "language_info": {
   "codemirror_mode": {
    "name": "ipython",
    "version": 3
   },
   "file_extension": ".py",
   "mimetype": "text/x-python",
   "name": "python",
   "nbconvert_exporter": "python",
   "pygments_lexer": "ipython3",
   "version": "3.9.5"
  }
 },
 "nbformat": 4,
 "nbformat_minor": 4
}
